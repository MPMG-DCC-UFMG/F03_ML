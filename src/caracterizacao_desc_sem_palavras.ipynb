{
 "cells": [
  {
   "cell_type": "code",
   "execution_count": 42,
   "metadata": {},
   "outputs": [],
   "source": [
    "import ast\n",
    "import pandas as pd\n",
    "import json\n",
    "import numpy as np\n",
    "from collections import defaultdict\n",
    "from item.item_list import (ItemList, Item)\n",
    "from wordcloud import WordCloud, STOPWORDS, ImageColorGenerator\n",
    "import matplotlib.pyplot as plt\n",
    "from nlp.preprocessing import (get_canonical_words, get_stopwords, preprocess_document, spellcheck_document)\n",
    "from IPython.display import display"
   ]
  },
  {
   "cell_type": "markdown",
   "metadata": {},
   "source": [
    "### Files reading"
   ]
  },
  {
   "cell_type": "code",
   "execution_count": 2,
   "metadata": {},
   "outputs": [],
   "source": [
    "jfile =  open('../dados/palavras/right_words_nilc.json', \"r\")\n",
    "right_word = json.load(jfile)\n",
    "jfile.close()"
   ]
  },
  {
   "cell_type": "code",
   "execution_count": 3,
   "metadata": {},
   "outputs": [],
   "source": [
    "jfile =  open('../dados/palavras/right_words_nilc.json', \"r\")\n",
    "right_word = json.load(jfile)\n",
    "jfile.close()\n",
    "\n",
    "itemList = ItemList()\n",
    "itemList.load_items_from_file('items_preprocessed_complete_druid.csv.zip')\n",
    "itemsDf = itemList.items_df"
   ]
  },
  {
   "cell_type": "markdown",
   "metadata": {},
   "source": [
    "### Useful data"
   ]
  },
  {
   "cell_type": "code",
   "execution_count": 4,
   "metadata": {},
   "outputs": [],
   "source": [
    "categories = ['palavras', 'unidades_medida', 'numeros', 'cores', 'materiais', 'tamanho', 'quantidade']\n",
    "canonicalForm = get_canonical_words()\n",
    "stopwords_ = get_stopwords()\n",
    "relevantStopwords = {'para', 'com', 'nao', 'mais', 'muito', 'so', 'sem', \\\n",
    "                          'mesmo', 'mesma', 'ha', 'haja', 'hajam', 'houver', \\\n",
    "                          'houvera', 'seja', 'sejam', 'fosse', 'fossem', 'forem', \\\n",
    "                          'sera', 'serao', 'seria', 'seriam', 'tem', 'tinha', \\\n",
    "                          'teve', 'tinham', 'tenha', 'tiver', 'tiverem', 'tera', \\\n",
    "                          'terao', 'teria', 'teriam', 'uma', 'mais', 'entre', \\\n",
    "                          'te'}\n",
    "stopwords_ = stopwords_ - relevantStopwords"
   ]
  },
  {
   "cell_type": "markdown",
   "metadata": {},
   "source": [
    "### Analysis Methods"
   ]
  },
  {
   "cell_type": "code",
   "execution_count": 5,
   "metadata": {},
   "outputs": [],
   "source": [
    "def word_cloud2(frequencies, title, prefer_horizontal=0.90):\n",
    "    wordcloud = WordCloud(prefer_horizontal=prefer_horizontal, collocations=False, width=1600, height=800).generate_from_frequencies(frequencies)\n",
    "#     fig, ax = plt.subplots(figsize=(16,8))            \n",
    "#     ax.imshow(wordcloud)\n",
    "#     ax.set_axis_off()\n",
    "#     plt.imshow(wordcloud)\n",
    "#     plt.title(title)\n",
    "    return wordcloud"
   ]
  },
  {
   "cell_type": "code",
   "execution_count": 6,
   "metadata": {},
   "outputs": [],
   "source": [
    "def word_cloud(frequencies, title, prefer_horizontal=0.90):\n",
    "    wordcloud = WordCloud(prefer_horizontal=prefer_horizontal, collocations=False, width=1600, height=800).generate_from_frequencies(frequencies)\n",
    "    fig, ax = plt.subplots(figsize=(16,8))            \n",
    "    ax.imshow(wordcloud)\n",
    "    ax.set_axis_off()\n",
    "    plt.imshow(wordcloud)\n",
    "    plt.title(title)\n",
    "    return wordcloud"
   ]
  },
  {
   "cell_type": "code",
   "execution_count": 7,
   "metadata": {},
   "outputs": [],
   "source": [
    "def get_items_without_first_token(itemsDf):\n",
    "    # Filtering items without first token\n",
    "    noWordsTokensFreq = defaultdict(int)\n",
    "    tokensDescriptions = defaultdict(list)\n",
    "    firstTokenFreq = defaultdict(int)\n",
    "    secondTokenFreq = defaultdict(int)\n",
    "    thirdTokenFreq = defaultdict(int)\n",
    "    noWords = itemsDf.loc[itemsDf.palavras == '[]']\n",
    "    noWordsFreq = round((len(noWords)/itemsDf.size)*100, 2)\n",
    "    \n",
    "    print(str(f'Quantidade de items sem palavras: {len(noWords)} ({noWordsFreq}%)'))\n",
    "    \n",
    "    for item in noWords['original_prep']:\n",
    "        tokens = ast.literal_eval(item)\n",
    "        if len(tokens) >= 3:\n",
    "            firstTokenFreq[tokens[0]] += 1\n",
    "            secondTokenFreq[tokens[1]] += 1\n",
    "            thirdTokenFreq[tokens[2]] += 1\n",
    "        elif len(tokens) >= 2:\n",
    "            firstTokenFreq[tokens[0]] += 1\n",
    "            secondTokenFreq[tokens[1]] += 1\n",
    "        elif len(tokens) == 1:\n",
    "            firstTokenFreq[tokens[0]] += 1\n",
    "        else:\n",
    "            print('*****', tokens)\n",
    "        for token in tokens:\n",
    "            tokensDescriptions[token].append(' '.join(tokens))\n",
    "            noWordsTokensFreq[token] += 1\n",
    "    \n",
    "    noWordsTokensFreq = dict(sorted(noWordsTokensFreq.items(), key=lambda x: x[1], reverse=True))\n",
    "    firstTokenFreq = dict(sorted(firstTokenFreq.items(), key=lambda x: x[1], reverse=True))\n",
    "    secondTokenFreq = dict(sorted(secondTokenFreq.items(), key=lambda x: x[1], reverse=True))\n",
    "    thirdTokenFreq = dict(sorted(thirdTokenFreq.items(), key=lambda x: x[1], reverse=True))\n",
    "    \n",
    "    return noWords, noWordsTokensFreq, tokensDescriptions, firstTokenFreq, secondTokenFreq, thirdTokenFreq"
   ]
  },
  {
   "cell_type": "code",
   "execution_count": 8,
   "metadata": {},
   "outputs": [],
   "source": [
    "def proprocess_dataframe(itemsDf):\n",
    "    removedTokens = defaultdict(int)\n",
    "    changedTokens = defaultdict(int)\n",
    "    corrections = defaultdict(str)\n",
    "    correctionPairs = defaultdict(int)\n",
    "    for index,row in itemsDf.iterrows():\n",
    "        original = row['original'].lower().strip()\n",
    "        preprocessed = preprocess_document(row['original'], remove_numbers=False, stopwords=stopwords_).strip()\n",
    "        if(original != preprocessed):\n",
    "            print('** ORIGINAL DESCRIPTION:', original)\n",
    "            print('** PREPROCESSED DESCRIPTION:', preprocessed)\n",
    "            removed = list(set(original).difference(set(preprocessed)))\n",
    "            for token in removed:\n",
    "                removedTokens[token] += 1\n",
    "        corrected = ' '.join(spellcheck_document(preprocessed.split(' '), right_word)).strip()\n",
    "        if(preprocessed != corrected):\n",
    "            print('** CORRECTED DESCRIPTION:', preprocessed)\n",
    "            preprocessed = preprocessed.split(' ')\n",
    "            corrected = corrected.split(' ')\n",
    "            for i in range(len(preprocessed)):\n",
    "                if preprocessed[i] != corrected[i]:\n",
    "                    pair = preprocessed[i] + '(' + corrected[i] + ')'\n",
    "                    corrections[preprocessed[i]] = corrected[i]\n",
    "                    correctionPairs[pair] += 1\n",
    "                    changedTokens[preprocessed[i]] += 1\n",
    "        print('-'*40)\n",
    "    return [removedTokens, changedTokens, corrections, correctionPairs]"
   ]
  },
  {
   "cell_type": "code",
   "execution_count": 9,
   "metadata": {},
   "outputs": [],
   "source": [
    "def get_category_tokens_frequency(df, category):\n",
    "    category_tokens = defaultdict(int)\n",
    "    for label, row in df.iterrows():\n",
    "        for token in ast.literal_eval(row[category]):\n",
    "            category_tokens[token] += 1\n",
    "    return dict(sorted(category_tokens.items(), key=lambda x: x[1], reverse=True))"
   ]
  },
  {
   "cell_type": "code",
   "execution_count": 10,
   "metadata": {},
   "outputs": [],
   "source": [
    "def get_desc_category_frequency(df, category):\n",
    "    desc_category_freq = defaultdict(int)\n",
    "    for label, row in df.iterrows():\n",
    "        tokens = ast.literal_eval(row[category])\n",
    "        desc_category_freq[len(tokens)] += 1\n",
    "    return dict(sorted(desc_category_freq.items(), key=lambda x: x[1], reverse=True))"
   ]
  },
  {
   "cell_type": "code",
   "execution_count": 11,
   "metadata": {},
   "outputs": [],
   "source": [
    "def get_description_lenght_frequency(df):\n",
    "    original = defaultdict(int)\n",
    "    prep = defaultdict(int)\n",
    "    for label, row in df.iterrows():\n",
    "        original_lenght = len(row['original'].split(' '))\n",
    "        prep_lenght = len(ast.literal_eval(row['original_prep']))\n",
    "        original[original_lenght] += 1\n",
    "        prep[prep_lenght] += 1\n",
    "    return [original, prep]"
   ]
  },
  {
   "cell_type": "code",
   "execution_count": 12,
   "metadata": {},
   "outputs": [],
   "source": [
    "def plot_hist_from_dict(data, title, text, customInterval=False):\n",
    "    interval = np.arange(0, 10, 1)\n",
    "    labels, values = zip(*data.items())\n",
    "    plt.rcParams[\"figure.figsize\"] = (16,8)\n",
    "    plt.title(title)\n",
    "    plt.figtext(0.7,0.5,text)\n",
    "    if(max(data.keys()) > 10 and customInterval):\n",
    "        interval = np.arange(0, max(data.keys()), 5)\n",
    "        plt.xticks(interval)\n",
    "    plt.xlim(0, max(data.keys()))\n",
    "    plt.bar(labels, values)\n",
    "    plt.show()"
   ]
  },
  {
   "cell_type": "markdown",
   "metadata": {},
   "source": [
    "### Analysis"
   ]
  },
  {
   "cell_type": "code",
   "execution_count": 13,
   "metadata": {},
   "outputs": [
    {
     "data": {
      "text/html": [
       "<div>\n",
       "<style scoped>\n",
       "    .dataframe tbody tr th:only-of-type {\n",
       "        vertical-align: middle;\n",
       "    }\n",
       "\n",
       "    .dataframe tbody tr th {\n",
       "        vertical-align: top;\n",
       "    }\n",
       "\n",
       "    .dataframe thead th {\n",
       "        text-align: right;\n",
       "    }\n",
       "</style>\n",
       "<table border=\"1\" class=\"dataframe\">\n",
       "  <thead>\n",
       "    <tr style=\"text-align: right;\">\n",
       "      <th></th>\n",
       "      <th>palavras</th>\n",
       "      <th>unidades_medida</th>\n",
       "      <th>numeros</th>\n",
       "      <th>cores</th>\n",
       "      <th>materiais</th>\n",
       "      <th>tamanho</th>\n",
       "      <th>quantidade</th>\n",
       "      <th>preco</th>\n",
       "      <th>dsc_unidade_medida</th>\n",
       "      <th>original</th>\n",
       "      <th>licitacao</th>\n",
       "      <th>original_prep</th>\n",
       "      <th>funcao</th>\n",
       "      <th>ano</th>\n",
       "    </tr>\n",
       "  </thead>\n",
       "  <tbody>\n",
       "    <tr>\n",
       "      <th>0</th>\n",
       "      <td>['medroxiprogesterona']</td>\n",
       "      <td>['mg', 'ml']</td>\n",
       "      <td>['150', '1']</td>\n",
       "      <td>[]</td>\n",
       "      <td>[]</td>\n",
       "      <td>[]</td>\n",
       "      <td>[]</td>\n",
       "      <td>25.6350</td>\n",
       "      <td>ampola</td>\n",
       "      <td>MEDROXIPROGESTERONA 150 MG/ML 1 ML</td>\n",
       "      <td>297107</td>\n",
       "      <td>['medroxiprogesterona', '150', 'mg', 'ml', '1']</td>\n",
       "      <td>NaN</td>\n",
       "      <td>2014</td>\n",
       "    </tr>\n",
       "    <tr>\n",
       "      <th>1</th>\n",
       "      <td>['amiodarona', 'com']</td>\n",
       "      <td>['mg']</td>\n",
       "      <td>['200']</td>\n",
       "      <td>[]</td>\n",
       "      <td>[]</td>\n",
       "      <td>[]</td>\n",
       "      <td>['cx', 'comprimido']</td>\n",
       "      <td>74.0000</td>\n",
       "      <td>cx</td>\n",
       "      <td>AMIODARONA 200 MG CX COM 200 COMPRIMIDOS</td>\n",
       "      <td>297107</td>\n",
       "      <td>['amiodarona', '200', 'mg', 'cx', 'com', 'comp...</td>\n",
       "      <td>NaN</td>\n",
       "      <td>2014</td>\n",
       "    </tr>\n",
       "    <tr>\n",
       "      <th>2</th>\n",
       "      <td>['aerolin', 'spray']</td>\n",
       "      <td>[]</td>\n",
       "      <td>[]</td>\n",
       "      <td>[]</td>\n",
       "      <td>[]</td>\n",
       "      <td>[]</td>\n",
       "      <td>[]</td>\n",
       "      <td>22.7225</td>\n",
       "      <td>frasco</td>\n",
       "      <td>AEROLIN SPRAY</td>\n",
       "      <td>297107</td>\n",
       "      <td>['aerolin', 'spray']</td>\n",
       "      <td>NaN</td>\n",
       "      <td>2014</td>\n",
       "    </tr>\n",
       "    <tr>\n",
       "      <th>3</th>\n",
       "      <td>['microhbrida', 'a30', 'reposicao']</td>\n",
       "      <td>[]</td>\n",
       "      <td>[]</td>\n",
       "      <td>[]</td>\n",
       "      <td>['resina']</td>\n",
       "      <td>[]</td>\n",
       "      <td>[]</td>\n",
       "      <td>69.8000</td>\n",
       "      <td>unid</td>\n",
       "      <td>RESINA MICROHBRIDA COR A30 REPOSICAO</td>\n",
       "      <td>297110</td>\n",
       "      <td>['resina', 'microhbrida', 'cor', 'a30', 'repos...</td>\n",
       "      <td>NaN</td>\n",
       "      <td>2014</td>\n",
       "    </tr>\n",
       "    <tr>\n",
       "      <th>4</th>\n",
       "      <td>['broca', 'diamantado', 'cilindrico', 'plano']</td>\n",
       "      <td>[]</td>\n",
       "      <td>['10']</td>\n",
       "      <td>[]</td>\n",
       "      <td>[]</td>\n",
       "      <td>[]</td>\n",
       "      <td>[]</td>\n",
       "      <td>3.3333</td>\n",
       "      <td>und</td>\n",
       "      <td>10 BROCA DIAMANTADA CILINDRICA PLANA:</td>\n",
       "      <td>297110</td>\n",
       "      <td>['broca', 'diamantado', 'cilindrico', 'plano',...</td>\n",
       "      <td>NaN</td>\n",
       "      <td>2014</td>\n",
       "    </tr>\n",
       "  </tbody>\n",
       "</table>\n",
       "</div>"
      ],
      "text/plain": [
       "                                         palavras unidades_medida  \\\n",
       "0                         ['medroxiprogesterona']    ['mg', 'ml']   \n",
       "1                           ['amiodarona', 'com']          ['mg']   \n",
       "2                            ['aerolin', 'spray']              []   \n",
       "3             ['microhbrida', 'a30', 'reposicao']              []   \n",
       "4  ['broca', 'diamantado', 'cilindrico', 'plano']              []   \n",
       "\n",
       "        numeros cores   materiais tamanho            quantidade    preco  \\\n",
       "0  ['150', '1']    []          []      []                    []  25.6350   \n",
       "1       ['200']    []          []      []  ['cx', 'comprimido']  74.0000   \n",
       "2            []    []          []      []                    []  22.7225   \n",
       "3            []    []  ['resina']      []                    []  69.8000   \n",
       "4        ['10']    []          []      []                    []   3.3333   \n",
       "\n",
       "  dsc_unidade_medida                                  original licitacao  \\\n",
       "0             ampola        MEDROXIPROGESTERONA 150 MG/ML 1 ML    297107   \n",
       "1                 cx  AMIODARONA 200 MG CX COM 200 COMPRIMIDOS    297107   \n",
       "2             frasco                             AEROLIN SPRAY    297107   \n",
       "3               unid      RESINA MICROHBRIDA COR A30 REPOSICAO    297110   \n",
       "4                und     10 BROCA DIAMANTADA CILINDRICA PLANA:    297110   \n",
       "\n",
       "                                       original_prep  funcao   ano  \n",
       "0    ['medroxiprogesterona', '150', 'mg', 'ml', '1']     NaN  2014  \n",
       "1  ['amiodarona', '200', 'mg', 'cx', 'com', 'comp...     NaN  2014  \n",
       "2                               ['aerolin', 'spray']     NaN  2014  \n",
       "3  ['resina', 'microhbrida', 'cor', 'a30', 'repos...     NaN  2014  \n",
       "4  ['broca', 'diamantado', 'cilindrico', 'plano',...     NaN  2014  "
      ]
     },
     "execution_count": 13,
     "metadata": {},
     "output_type": "execute_result"
    }
   ],
   "source": [
    "itemsDf.head()"
   ]
  },
  {
   "cell_type": "code",
   "execution_count": 14,
   "metadata": {},
   "outputs": [
    {
     "name": "stdout",
     "output_type": "stream",
     "text": [
      "Quantidade de items sem palavras: 32163 (0.02%)\n"
     ]
    }
   ],
   "source": [
    "noWordsDf, noWordsTokensFreq, tokensDescriptions, firstTokenFreq, secondTokenFreq, thirdTokenFreq = get_items_without_first_token(itemsDf)"
   ]
  },
  {
   "cell_type": "code",
   "execution_count": 17,
   "metadata": {},
   "outputs": [
    {
     "data": {
      "text/html": [
       "<div>\n",
       "<style scoped>\n",
       "    .dataframe tbody tr th:only-of-type {\n",
       "        vertical-align: middle;\n",
       "    }\n",
       "\n",
       "    .dataframe tbody tr th {\n",
       "        vertical-align: top;\n",
       "    }\n",
       "\n",
       "    .dataframe thead th {\n",
       "        text-align: right;\n",
       "    }\n",
       "</style>\n",
       "<table border=\"1\" class=\"dataframe\">\n",
       "  <thead>\n",
       "    <tr style=\"text-align: right;\">\n",
       "      <th></th>\n",
       "      <th>palavras</th>\n",
       "      <th>unidades_medida</th>\n",
       "      <th>numeros</th>\n",
       "      <th>cores</th>\n",
       "      <th>materiais</th>\n",
       "      <th>tamanho</th>\n",
       "      <th>quantidade</th>\n",
       "      <th>preco</th>\n",
       "      <th>dsc_unidade_medida</th>\n",
       "      <th>original</th>\n",
       "      <th>licitacao</th>\n",
       "      <th>original_prep</th>\n",
       "      <th>funcao</th>\n",
       "      <th>ano</th>\n",
       "    </tr>\n",
       "  </thead>\n",
       "  <tbody>\n",
       "    <tr>\n",
       "      <th>299</th>\n",
       "      <td>[]</td>\n",
       "      <td>['cm']</td>\n",
       "      <td>['8', '16', '23']</td>\n",
       "      <td>[]</td>\n",
       "      <td>['espuma']</td>\n",
       "      <td>[]</td>\n",
       "      <td>['bloco']</td>\n",
       "      <td>6.2125</td>\n",
       "      <td>unidade</td>\n",
       "      <td>ESPUMA EM BLOCO 8 X 16X23CM</td>\n",
       "      <td>35800</td>\n",
       "      <td>['espuma', 'bloco', '8', 'x', '16', '23', 'cm']</td>\n",
       "      <td>NaN</td>\n",
       "      <td>2014</td>\n",
       "    </tr>\n",
       "    <tr>\n",
       "      <th>319</th>\n",
       "      <td>[]</td>\n",
       "      <td>['mm']</td>\n",
       "      <td>['8', '0', '5', '16', '635']</td>\n",
       "      <td>[]</td>\n",
       "      <td>['aco']</td>\n",
       "      <td>[]</td>\n",
       "      <td>[]</td>\n",
       "      <td>19.5000</td>\n",
       "      <td>unidade</td>\n",
       "      <td>00000635  ACO 8.0MM (5/16)</td>\n",
       "      <td>347067</td>\n",
       "      <td>['aco', '8', '0', 'mm', '5', '16', '635']</td>\n",
       "      <td>NaN</td>\n",
       "      <td>2014</td>\n",
       "    </tr>\n",
       "    <tr>\n",
       "      <th>913</th>\n",
       "      <td>[]</td>\n",
       "      <td>['mm']</td>\n",
       "      <td>['42', '60', '2']</td>\n",
       "      <td>['amarelo']</td>\n",
       "      <td>[]</td>\n",
       "      <td>[]</td>\n",
       "      <td>[]</td>\n",
       "      <td>0.9000</td>\n",
       "      <td>unidade</td>\n",
       "      <td>E.V.A. AMARELO-42X60X2MM</td>\n",
       "      <td>38375</td>\n",
       "      <td>['v', 'amarelo', '42', 'x', '60', '2', 'mm']</td>\n",
       "      <td>NaN</td>\n",
       "      <td>2014</td>\n",
       "    </tr>\n",
       "    <tr>\n",
       "      <th>1113</th>\n",
       "      <td>[]</td>\n",
       "      <td>['mt']</td>\n",
       "      <td>['4', '100']</td>\n",
       "      <td>['preto']</td>\n",
       "      <td>['lona']</td>\n",
       "      <td>[]</td>\n",
       "      <td>[]</td>\n",
       "      <td>0.0000</td>\n",
       "      <td>m</td>\n",
       "      <td>LONA PRETA 4X100 MT</td>\n",
       "      <td>378463</td>\n",
       "      <td>['lona', 'preto', '4', 'x', '100', 'mt']</td>\n",
       "      <td>NaN</td>\n",
       "      <td>2014</td>\n",
       "    </tr>\n",
       "    <tr>\n",
       "      <th>1330</th>\n",
       "      <td>[]</td>\n",
       "      <td>[]</td>\n",
       "      <td>['7', '8']</td>\n",
       "      <td>[]</td>\n",
       "      <td>['ferro']</td>\n",
       "      <td>[]</td>\n",
       "      <td>[]</td>\n",
       "      <td>18.7750</td>\n",
       "      <td>kg</td>\n",
       "      <td>FERRO T 7/8</td>\n",
       "      <td>40069</td>\n",
       "      <td>['ferro', 't', '7', '8']</td>\n",
       "      <td>NaN</td>\n",
       "      <td>2014</td>\n",
       "    </tr>\n",
       "  </tbody>\n",
       "</table>\n",
       "</div>"
      ],
      "text/plain": [
       "     palavras unidades_medida                       numeros        cores  \\\n",
       "299        []          ['cm']             ['8', '16', '23']           []   \n",
       "319        []          ['mm']  ['8', '0', '5', '16', '635']           []   \n",
       "913        []          ['mm']             ['42', '60', '2']  ['amarelo']   \n",
       "1113       []          ['mt']                  ['4', '100']    ['preto']   \n",
       "1330       []              []                    ['7', '8']           []   \n",
       "\n",
       "       materiais tamanho quantidade    preco dsc_unidade_medida  \\\n",
       "299   ['espuma']      []  ['bloco']   6.2125            unidade   \n",
       "319      ['aco']      []         []  19.5000            unidade   \n",
       "913           []      []         []   0.9000            unidade   \n",
       "1113    ['lona']      []         []   0.0000                  m   \n",
       "1330   ['ferro']      []         []  18.7750                 kg   \n",
       "\n",
       "                         original licitacao  \\\n",
       "299   ESPUMA EM BLOCO 8 X 16X23CM     35800   \n",
       "319    00000635  ACO 8.0MM (5/16)    347067   \n",
       "913      E.V.A. AMARELO-42X60X2MM     38375   \n",
       "1113          LONA PRETA 4X100 MT    378463   \n",
       "1330                  FERRO T 7/8     40069   \n",
       "\n",
       "                                        original_prep  funcao   ano  \n",
       "299   ['espuma', 'bloco', '8', 'x', '16', '23', 'cm']     NaN  2014  \n",
       "319         ['aco', '8', '0', 'mm', '5', '16', '635']     NaN  2014  \n",
       "913      ['v', 'amarelo', '42', 'x', '60', '2', 'mm']     NaN  2014  \n",
       "1113         ['lona', 'preto', '4', 'x', '100', 'mt']     NaN  2014  \n",
       "1330                         ['ferro', 't', '7', '8']     NaN  2014  "
      ]
     },
     "execution_count": 17,
     "metadata": {},
     "output_type": "execute_result"
    }
   ],
   "source": [
    "noWordsDf.head()"
   ]
  },
  {
   "cell_type": "code",
   "execution_count": 20,
   "metadata": {},
   "outputs": [
    {
     "data": {
      "text/plain": [
       "pandas.core.frame.DataFrame"
      ]
     },
     "execution_count": 20,
     "metadata": {},
     "output_type": "execute_result"
    }
   ],
   "source": [
    "noWordsDf[noWordsDf['original_prep'].str.contains(\"x\")][['palavras']]"
   ]
  },
  {
   "cell_type": "code",
   "execution_count": 87,
   "metadata": {},
   "outputs": [],
   "source": [
    "tokens_category_df = pd.DataFrame(columns=[\"unidades_medida\",\"numeros\",\"cores\",\"materiais\", \"tamanho\",\"quantidade\", \"original_prep\"])"
   ]
  },
  {
   "cell_type": "code",
   "execution_count": 91,
   "metadata": {},
   "outputs": [],
   "source": [
    "tokens_category_df.to_csv('../dados/categoria_tokens_sem_palavras.csv')"
   ]
  },
  {
   "cell_type": "code",
   "execution_count": 89,
   "metadata": {},
   "outputs": [
    {
     "name": "stdout",
     "output_type": "stream",
     "text": [
      "token x\n",
      "token cm\n",
      "token rolo\n",
      "token 1\n",
      "token espuma\n",
      "token lona\n",
      "token 4\n",
      "token 5\n",
      "token preto\n",
      "token aco\n"
     ]
    }
   ],
   "source": [
    "for token in tokens_desc.keys():\n",
    "    print('token', token)\n",
    "    for desc in tokens_desc[token].keys():\n",
    "        tokenDf = noWordsDf[noWordsDf['original_prep'] == ( str(desc.split(' ')))][[\"unidades_medida\",\"numeros\",\"cores\",\"materiais\", \"tamanho\",\"quantidade\", \"original_prep\"]]\n",
    "#         display(tokenDf)\n",
    "        tokens_category_df = pd.concat([tokens_category_df,tokenDf[:1]])"
   ]
  },
  {
   "cell_type": "code",
   "execution_count": null,
   "metadata": {},
   "outputs": [],
   "source": [
    "word_cloud(firstTokenFreq, 'Primeiro token das descrições sem token')"
   ]
  },
  {
   "cell_type": "code",
   "execution_count": null,
   "metadata": {},
   "outputs": [],
   "source": [
    "word_cloud(secondTokenFreq, 'Segundo token das descrições sem token')"
   ]
  },
  {
   "cell_type": "code",
   "execution_count": null,
   "metadata": {},
   "outputs": [],
   "source": [
    "word_cloud(thirdTokenFreq, 'Terceiro token das descrições sem token')"
   ]
  },
  {
   "cell_type": "code",
   "execution_count": 22,
   "metadata": {},
   "outputs": [],
   "source": [
    "tokens_desc = defaultdict(lambda: defaultdict(int))\n",
    "\n",
    "for token in list(noWordsTokensFreq.keys())[:10]:\n",
    "#     print(f'#### {token} ####')\n",
    "    for desc in tokensDescriptions[token]:\n",
    "        tokens_desc[token][desc] +=1\n",
    "#         print(f' - {desc}')\n",
    "    tokens_desc[token] = dict(sorted(tokens_desc[token].items(), key=lambda x: x[1], reverse=True)[:10])"
   ]
  },
  {
   "cell_type": "code",
   "execution_count": null,
   "metadata": {},
   "outputs": [],
   "source": [
    "for token in tokens_desc:\n",
    "    print(f'# 10 descrições mais frequentes para o token {token}')\n",
    "    for desc in tokens_desc[token]:\n",
    "        print(f'- {desc}')"
   ]
  },
  {
   "cell_type": "code",
   "execution_count": null,
   "metadata": {
    "scrolled": false
   },
   "outputs": [],
   "source": [
    "removedTokens, changedTokens, corrections, correctionPairs = proprocess_dataframe(noWordsDf)"
   ]
  },
  {
   "cell_type": "code",
   "execution_count": null,
   "metadata": {},
   "outputs": [],
   "source": [
    "for i in range(len(categories)):\n",
    "    freq = []\n",
    "    freq = get_category_tokens_frequency(noWordsDf, categories[i])\n",
    "    if len(freq) > 0:\n",
    "        word_cloud(freq, str(f'Tokens de descrições sem tokens em {categories[i].upper()}'))\n",
    "    else:\n",
    "        print(f'Categoria {categories[i].upper()} não possui tokens')"
   ]
  },
  {
   "cell_type": "code",
   "execution_count": null,
   "metadata": {},
   "outputs": [],
   "source": [
    "for i in range(len(categories)):\n",
    "    freq = []\n",
    "    freq = get_desc_category_frequency(noWordsDf, categories[i])\n",
    "    title = str(f'Distribuição de frequência dos tokens em {categories[i].upper()}')\n",
    "    text = str(f'Média: {str(round(sum([k*v for k,v in freq.items()])/sum(v for v in freq.values()), 2))}')\n",
    "    if len(freq) > 0:\n",
    "        plot_hist_from_dict(freq, title, text, customInterval=True)\n",
    "    else:\n",
    "        print(f'Categoria {categories[i].upper()} não possui tokens')"
   ]
  },
  {
   "cell_type": "code",
   "execution_count": null,
   "metadata": {},
   "outputs": [],
   "source": [
    "original, prep = get_description_lenght_frequency(noWordsDf)"
   ]
  },
  {
   "cell_type": "code",
   "execution_count": null,
   "metadata": {},
   "outputs": [],
   "source": [
    "title = str('Quantidade de tokens do texto original')\n",
    "text = str(f'Média: {str(round(sum([k*v for k,v in original.items()])/sum(v for v in original.values()), 2))}')\n",
    "plot_hist_from_dict(original, title, text)"
   ]
  },
  {
   "cell_type": "code",
   "execution_count": null,
   "metadata": {},
   "outputs": [],
   "source": [
    "title = str('Quantidade de tokens do texto original')\n",
    "text = str(f'Média: {str(round(sum([k*v for k,v in prep.items()])/sum(v for v in prep.values()), 2))}')\n",
    "plot_hist_from_dict(prep, title, text)"
   ]
  },
  {
   "cell_type": "markdown",
   "metadata": {},
   "source": [
    "### Anslysis Result"
   ]
  },
  {
   "cell_type": "code",
   "execution_count": null,
   "metadata": {},
   "outputs": [],
   "source": [
    "word_cloud(noWordsTokensFreq, 'Tokens de descrições sem primeiro token')\n",
    "## Tokens de descrições sem primeiro token excluindo tokens classificados"
   ]
  },
  {
   "cell_type": "code",
   "execution_count": null,
   "metadata": {},
   "outputs": [],
   "source": [
    "word_cloud(removedTokens, 'Tokens removidos no pré-processamento', prefer_horizontal=1)"
   ]
  },
  {
   "cell_type": "code",
   "execution_count": null,
   "metadata": {},
   "outputs": [],
   "source": [
    "word_cloud(correctionPairs, 'Correções mais frequentes')"
   ]
  },
  {
   "cell_type": "code",
   "execution_count": null,
   "metadata": {},
   "outputs": [],
   "source": [
    "word_cloud(changedTokens, 'Palavras mais corrigidas')"
   ]
  },
  {
   "cell_type": "markdown",
   "metadata": {},
   "source": [
    "### Old"
   ]
  },
  {
   "cell_type": "code",
   "execution_count": null,
   "metadata": {},
   "outputs": [],
   "source": [
    "fig = plt.figure()\n",
    "for i in range(len(categories[:2])):\n",
    "    freq = []\n",
    "    freq = get_category_tokens_frequency(itemsDf, categories[i])\n",
    "    ax = fig.add_subplot(1,2,i+1)\n",
    "    wordcloud = word_cloud2(freq,  categories[i])\n",
    "    ax.imshow(wordcloud)\n",
    "    ax.axis('off')"
   ]
  },
  {
   "cell_type": "code",
   "execution_count": null,
   "metadata": {
    "scrolled": true
   },
   "outputs": [],
   "source": [
    "noWordsFrequentTokens = dict(sorted(noWordsTokensFreq.items(), key=lambda x: x[1], reverse=True)[:50])\n",
    "for index, row in noWords[['original', 'original_prep']].iterrows():\n",
    "    tokens = ast.literal_eval(row['original_prep'])\n",
    "    for token in tokens:\n",
    "        if token in list(noWordsFrequentTokens.keys()):\n",
    "            print('original:', row['original'])  "
   ]
  },
  {
   "cell_type": "code",
   "execution_count": null,
   "metadata": {},
   "outputs": [],
   "source": []
  }
 ],
 "metadata": {
  "kernelspec": {
   "display_name": "Python 3",
   "language": "python",
   "name": "python3"
  },
  "language_info": {
   "codemirror_mode": {
    "name": "ipython",
    "version": 3
   },
   "file_extension": ".py",
   "mimetype": "text/x-python",
   "name": "python",
   "nbconvert_exporter": "python",
   "pygments_lexer": "ipython3",
   "version": "3.7.6"
  }
 },
 "nbformat": 4,
 "nbformat_minor": 4
}
