{
 "cells": [
  {
   "cell_type": "code",
   "execution_count": 1,
   "metadata": {},
   "outputs": [],
   "source": [
    "import re\n",
    "import pandas as pd\n",
    "import numpy as np\n",
    "import collections\n",
    "import matplotlib.pyplot as plt\n",
    "import time\n",
    "import json\n",
    "from nlp.preprocessing import (\n",
    "    clean_text,\n",
    "    preprocess,\n",
    "    tokenize,\n",
    "    preprocess_document,\n",
    "    tokenize_document,\n",
    "    get_stopwords,\n",
    "    lemmatization,\n",
    "    get_canonical_words\n",
    ")"
   ]
  },
  {
   "cell_type": "markdown",
   "metadata": {},
   "source": [
    "# Corretor ortográfico"
   ]
  },
  {
   "cell_type": "markdown",
   "metadata": {},
   "source": [
    "# Checar as seguintes palavras:\n",
    "\n",
    "- 'espeficicacoes': 'escapula' \n",
    "- 'elanca': 'ceae' \n",
    "- 'cr2032': 'cr253' \n",
    "- 'galv': 'alv'\n",
    "- 'confec': 'concec' \n",
    "- 'mamuxinha': 'maminha'\n",
    "- 'hnn': 'ahnn'\n",
    "- 'c50': 'a50'\n",
    "- 'dijuntor': 'dijuntos'\n",
    "- 'alquilbezeno': 'sulfonato'\n",
    "- 'buchao': 'bichao'\n",
    "- 'flanelado': 'flagelado'\n",
    "- 'metalasse': 'hipoalergico'\n",
    "- 'colorsete': 'colorante'\n",
    "- 'xgg': 'egg'\n",
    "- 'n15': '15'\n",
    "- 'n12': '012'"
   ]
  },
  {
   "cell_type": "code",
   "execution_count": 2,
   "metadata": {},
   "outputs": [],
   "source": [
    "with open('../dados/palavras/right_words_nilc.json', \"r\") as jfile:\n",
    "    right_word = json.load(jfile)\n",
    "jfile.close()"
   ]
  },
  {
   "cell_type": "code",
   "execution_count": 3,
   "metadata": {},
   "outputs": [],
   "source": [
    "words = {\n",
    "    'espeficicacoes': 'escapula' ,\n",
    "    'elanca': 'ceae' ,\n",
    "    'cr2032': 'cr253' ,\n",
    "    'galv': 'alv',\n",
    "    'confec': 'concec' ,\n",
    "    'mamuxinha': 'maminha',\n",
    "    'hnn': 'ahnn',\n",
    "    'c50': 'a50',\n",
    "    'dijuntor': 'dijuntos',\n",
    "    'alquilbezeno': 'sulfonato',\n",
    "    'buchao': 'bichao',\n",
    "    'flanelado': 'flagelado',\n",
    "    'metalasse': 'hipoalergico',\n",
    "    'colorsete': 'colorante',\n",
    "    'xgg': 'egg',\n",
    "    'n15': '15',\n",
    "    'n12': '012'\n",
    "}"
   ]
  },
  {
   "cell_type": "code",
   "execution_count": 8,
   "metadata": {},
   "outputs": [
    {
     "name": "stdout",
     "output_type": "stream",
     "text": [
      "espeficicacoes : escapula\n",
      "elanca : ceae\n",
      "alquilbezeno : sulfonato\n",
      "metalasse : hipoalergico\n"
     ]
    }
   ],
   "source": [
    "for word in words:\n",
    "    if words[word] != right_word[word]:\n",
    "        print(word, \":\", words[word])\n",
    "#         print(word, \"--->\", right_word[word])"
   ]
  },
  {
   "cell_type": "raw",
   "metadata": {},
   "source": []
  },
  {
   "cell_type": "markdown",
   "metadata": {},
   "source": [
    "# Lematização"
   ]
  },
  {
   "cell_type": "code",
   "execution_count": 11,
   "metadata": {},
   "outputs": [],
   "source": [
    "canonical_word = get_canonical_words()"
   ]
  },
  {
   "cell_type": "code",
   "execution_count": 14,
   "metadata": {},
   "outputs": [],
   "source": [
    "canonical_word = canonical_word[0]"
   ]
  },
  {
   "cell_type": "code",
   "execution_count": 17,
   "metadata": {},
   "outputs": [
    {
     "name": "stdout",
     "output_type": "stream",
     "text": [
      "***********************************\n",
      "***********************************\n",
      "***********************************\n",
      "***********************************\n",
      "***********************************\n",
      "mamuxinha ---> maminha ---> mama\n",
      "***********************************\n",
      "***********************************\n",
      "***********************************\n",
      "***********************************\n",
      "***********************************\n",
      "buchao ---> bichao ---> bicho\n",
      "***********************************\n",
      "flanelado ---> flagelado ---> flagelado\n",
      "***********************************\n",
      "metalasse ---> detalhasse ---> detalhar\n",
      "***********************************\n",
      "colorsete ---> colorante ---> colorante\n",
      "***********************************\n",
      "***********************************\n",
      "***********************************\n",
      "***********************************\n"
     ]
    }
   ],
   "source": [
    "for word in words:\n",
    "    if word in canonical_word:\n",
    "        print(word, \"--->\", canonical_word[word])\n",
    "    if right_word[word] in canonical_word:\n",
    "        print(word, \"--->\", right_word[word], \"--->\", canonical_word[right_word[word]])\n",
    "    print(\"***********************************\")"
   ]
  },
  {
   "cell_type": "code",
   "execution_count": null,
   "metadata": {},
   "outputs": [],
   "source": []
  }
 ],
 "metadata": {
  "kernelspec": {
   "display_name": "Python 3",
   "language": "python",
   "name": "python3"
  },
  "language_info": {
   "codemirror_mode": {
    "name": "ipython",
    "version": 3
   },
   "file_extension": ".py",
   "mimetype": "text/x-python",
   "name": "python",
   "nbconvert_exporter": "python",
   "pygments_lexer": "ipython3",
   "version": "3.7.6"
  }
 },
 "nbformat": 4,
 "nbformat_minor": 2
}
