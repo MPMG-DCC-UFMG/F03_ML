{
 "cells": [
  {
   "cell_type": "code",
   "execution_count": 1,
   "metadata": {},
   "outputs": [],
   "source": [
    "import pickle\n",
    "import numpy as np\n",
    "import matplotlib.pyplot as plt\n",
    "import pandas as pd\n",
    "import random\n",
    "import math\n",
    "import multiprocessing\n",
    "import collections\n",
    "from item.item_list import (\n",
    "    ItemList,\n",
    "    Item\n",
    ")\n",
    "from nlp.utils import (\n",
    "    plot_histogram,\n",
    "    get_completetext,\n",
    "    plot_wordcloud,\n",
    "    print_statistics,\n",
    "    groups_frequency_sort)\n",
    "from item.clustering.evaluate import (\n",
    "    get_score_pickle,\n",
    "    evaluate_results_pickle,\n",
    "    evaluate_results,\n",
    "    number_of_outliers_dict,\n",
    "    get_score_baseline_pickle\n",
    ")\n",
    "from item.clustering.utils import (\n",
    "    load_clustering_results_pickle,\n",
    "    load_clustering_results\n",
    ")\n",
    "from item.clustering.item_representation import (\n",
    "    load_items_embeddings\n",
    ")"
   ]
  },
  {
   "cell_type": "markdown",
   "metadata": {},
   "source": [
    "# Evaluate results"
   ]
  },
  {
   "cell_type": "code",
   "execution_count": null,
   "metadata": {},
   "outputs": [],
   "source": [
    "# It gets the descriptions processed:\n",
    "itemlist = ItemList()\n",
    "itemlist.load_items_from_file('items_preprocessed_complete_druid.csv.zip')"
   ]
  },
  {
   "cell_type": "code",
   "execution_count": null,
   "metadata": {},
   "outputs": [],
   "source": [
    "len(itemlist.items_df)"
   ]
  },
  {
   "cell_type": "code",
   "execution_count": null,
   "metadata": {},
   "outputs": [],
   "source": [
    "groups = itemlist.get_first_token_groups()"
   ]
  },
  {
   "cell_type": "code",
   "execution_count": null,
   "metadata": {},
   "outputs": [],
   "source": [
    "len(groups)"
   ]
  },
  {
   "cell_type": "markdown",
   "metadata": {},
   "source": [
    "## Load results and embeddings"
   ]
  },
  {
   "cell_type": "code",
   "execution_count": 2,
   "metadata": {},
   "outputs": [],
   "source": [
    "results, outliers, prices = load_clustering_results_pickle('../dados/output/druid/')"
   ]
  },
  {
   "cell_type": "code",
   "execution_count": 3,
   "metadata": {},
   "outputs": [],
   "source": [
    "embeddings = load_items_embeddings('../dados/output/druid/embeddings.json')"
   ]
  },
  {
   "cell_type": "code",
   "execution_count": 4,
   "metadata": {},
   "outputs": [
    {
     "data": {
      "text/plain": [
       "78566"
      ]
     },
     "execution_count": 4,
     "metadata": {},
     "output_type": "execute_result"
    }
   ],
   "source": [
    "len(results)"
   ]
  },
  {
   "cell_type": "markdown",
   "metadata": {},
   "source": [
    "## Number of outliers"
   ]
  },
  {
   "cell_type": "raw",
   "metadata": {},
   "source": [
    "for group, items in outliers.items():\n",
    "    outliers[group] = []"
   ]
  },
  {
   "cell_type": "code",
   "execution_count": 5,
   "metadata": {},
   "outputs": [],
   "source": [
    "outliers_items, outliers_groups, total = number_of_outliers_dict(results, outliers, baseline=True, total_cov=True)"
   ]
  },
  {
   "cell_type": "code",
   "execution_count": 6,
   "metadata": {},
   "outputs": [
    {
     "data": {
      "text/plain": [
       "38934"
      ]
     },
     "execution_count": 6,
     "metadata": {},
     "output_type": "execute_result"
    }
   ],
   "source": [
    "outliers_groups"
   ]
  },
  {
   "cell_type": "code",
   "execution_count": 7,
   "metadata": {},
   "outputs": [
    {
     "data": {
      "text/plain": [
       "11099038"
      ]
     },
     "execution_count": 7,
     "metadata": {},
     "output_type": "execute_result"
    }
   ],
   "source": [
    "total"
   ]
  },
  {
   "cell_type": "code",
   "execution_count": 8,
   "metadata": {},
   "outputs": [
    {
     "data": {
      "text/plain": [
       "2168110"
      ]
     },
     "execution_count": 8,
     "metadata": {},
     "output_type": "execute_result"
    }
   ],
   "source": [
    "outliers_items"
   ]
  },
  {
   "cell_type": "code",
   "execution_count": 9,
   "metadata": {},
   "outputs": [
    {
     "data": {
      "text/plain": [
       "19.534215487864802"
      ]
     },
     "execution_count": 9,
     "metadata": {},
     "output_type": "execute_result"
    }
   ],
   "source": [
    "100*(outliers_items/total)"
   ]
  },
  {
   "cell_type": "markdown",
   "metadata": {},
   "source": [
    "## Metrics"
   ]
  },
  {
   "cell_type": "code",
   "execution_count": null,
   "metadata": {},
   "outputs": [],
   "source": [
    "# get_score_pickle(results, embeddings, score='silhouette', metric='cosine', baseline=True, norm=True)\n",
    "get_score_pickle(results, embeddings, score='calinski', baseline=True, norm=True)"
   ]
  },
  {
   "cell_type": "code",
   "execution_count": 17,
   "metadata": {},
   "outputs": [],
   "source": [
    "# scores = get_score_baseline_pickle(results, embeddings, score='silhouette', metric='cosine', sample_size=None, norm=False) \n",
    "scores = get_score_baseline_pickle(results, embeddings, score='calinski', sample_size=None, norm=False)"
   ]
  },
  {
   "cell_type": "code",
   "execution_count": 18,
   "metadata": {},
   "outputs": [
    {
     "data": {
      "text/plain": [
       "137309.03471932435"
      ]
     },
     "execution_count": 18,
     "metadata": {},
     "output_type": "execute_result"
    }
   ],
   "source": [
    "np.mean(scores)"
   ]
  },
  {
   "cell_type": "code",
   "execution_count": null,
   "metadata": {},
   "outputs": [],
   "source": [
    "intracluster_distance = evaluate_results_pickle(results, embeddings, n_threads=32)"
   ]
  },
  {
   "cell_type": "code",
   "execution_count": null,
   "metadata": {},
   "outputs": [],
   "source": [
    "distances = []\n",
    "\n",
    "for group, distance in intracluster_distance.items():\n",
    "    distances.append(distance['mean'])"
   ]
  },
  {
   "cell_type": "code",
   "execution_count": null,
   "metadata": {},
   "outputs": [],
   "source": [
    "np.mean(distances)"
   ]
  },
  {
   "cell_type": "code",
   "execution_count": null,
   "metadata": {},
   "outputs": [],
   "source": []
  },
  {
   "cell_type": "markdown",
   "metadata": {},
   "source": [
    "# Group sizes"
   ]
  },
  {
   "cell_type": "code",
   "execution_count": null,
   "metadata": {},
   "outputs": [],
   "source": [
    "num_subgroups = collections.defaultdict(int)\n",
    "groups = {}\n",
    "groups_sizes_list = []\n",
    "\n",
    "for group, items in results.items():\n",
    "    num_subgroups[group.split('_')[0]] += 1\n",
    "    groups[group] = items + outliers[group]\n",
    "    groups_sizes_list.append(len(items))"
   ]
  },
  {
   "cell_type": "code",
   "execution_count": null,
   "metadata": {},
   "outputs": [],
   "source": [
    "groups_sizes_list.count(1)"
   ]
  },
  {
   "cell_type": "markdown",
   "metadata": {},
   "source": [
    "## Top-10 groups"
   ]
  },
  {
   "cell_type": "code",
   "execution_count": null,
   "metadata": {},
   "outputs": [],
   "source": [
    "group_sample = []\n",
    "\n",
    "for group, items in results.items():\n",
    "    size = len(items)\n",
    "    if size == 1:\n",
    "        group_sample.append(group)\n",
    "\n",
    "group_sample[:10]"
   ]
  },
  {
   "cell_type": "code",
   "execution_count": null,
   "metadata": {},
   "outputs": [],
   "source": [
    "groups_names_size = groups_frequency_sort(groups)"
   ]
  },
  {
   "cell_type": "code",
   "execution_count": null,
   "metadata": {},
   "outputs": [],
   "source": [
    "groups_names_size[:10]"
   ]
  },
  {
   "cell_type": "markdown",
   "metadata": {},
   "source": [
    "## ECDF"
   ]
  },
  {
   "cell_type": "code",
   "execution_count": null,
   "metadata": {},
   "outputs": [],
   "source": [
    "items_group_size = []\n",
    "\n",
    "for group_size in groups_sizes_list:\n",
    "    for i in range(group_size):\n",
    "        items_group_size.append(group_size)"
   ]
  },
  {
   "cell_type": "code",
   "execution_count": null,
   "metadata": {},
   "outputs": [],
   "source": [
    "from statsmodels.distributions.empirical_distribution import ECDF\n",
    "\n",
    "# fit a cdf\n",
    "ecdf = ECDF(items_group_size)\n",
    "\n",
    "fig, (axis1) = plt.subplots(figsize=(10,8))\n",
    "x_label = 'Tamanho de grupo'\n",
    "y_label = 'Nº de itens (%)'\n",
    "\n",
    "\n",
    "# kwargs = {'cumulative': True}\n",
    "# sns.distplot(vlr_recurso, hist_kws=kwargs, kde_kws=kwargs)\n",
    "plt.plot(ecdf.x, ecdf.y)\n",
    "\n",
    "axis1.set_yticks([0.0, 0.1, 0.2, 0.3, 0.4, 0.5, 0.6, 0.7, 0.8, 0.9, 1.0])\n",
    "axis1.set_xticks([30, 250, 500, 750, 1000, 1250, 1500, 1750, 2000])\n",
    "plt.xlim(0, 2000)\n",
    "plt.axvline(x=30, linestyle='--', color='r')\n",
    "\n",
    "axis1.set_xlabel(x_label, fontsize=20, weight='bold')\n",
    "axis1.set_ylabel(y_label, fontsize=20, weight='bold')\n",
    "\n",
    "plt.grid(axis='both', linestyle=':', linewidth=1.0)\n",
    "# axis1.legend(loc='upper right')\n",
    "\n",
    "plt.yticks(fontsize=14)\n",
    "plt.xticks(fontsize=14)\n",
    "\n",
    "plt.show()\n",
    "plt.clf()"
   ]
  },
  {
   "cell_type": "code",
   "execution_count": null,
   "metadata": {},
   "outputs": [],
   "source": [
    "i = 0\n",
    "for v in ecdf.x:\n",
    "    if v > 30.0:\n",
    "        print(100*ecdf.y[i])\n",
    "        break\n",
    "    i += 1"
   ]
  },
  {
   "cell_type": "code",
   "execution_count": null,
   "metadata": {},
   "outputs": [],
   "source": [
    "groups_size = []\n",
    "\n",
    "for group, items in results.items():\n",
    "    groups_size.append(len(items))"
   ]
  },
  {
   "cell_type": "code",
   "execution_count": null,
   "metadata": {},
   "outputs": [],
   "source": [
    "count = 0\n",
    "\n",
    "for size in groups_size:\n",
    "    if size <= 30:\n",
    "        count += size\n",
    "\n",
    "count"
   ]
  },
  {
   "cell_type": "code",
   "execution_count": null,
   "metadata": {},
   "outputs": [],
   "source": [
    "print_statistics(groups_sizes_list)"
   ]
  },
  {
   "cell_type": "markdown",
   "metadata": {},
   "source": [
    "## Distribution of group sizes"
   ]
  },
  {
   "cell_type": "code",
   "execution_count": null,
   "metadata": {},
   "outputs": [],
   "source": [
    "plot_histogram(groups_sizes_list, 500, 'Nº de objetos', 'Nº de grupos', log=True)"
   ]
  },
  {
   "cell_type": "code",
   "execution_count": null,
   "metadata": {},
   "outputs": [],
   "source": [
    "count_interval = {}\n",
    "count_interval['1'] = 0\n",
    "count_interval['(1,5]'] = 0\n",
    "count_interval['(5,10]'] = 0\n",
    "count_interval['(10,100]'] = 0\n",
    "count_interval['(100,1000]'] = 0\n",
    "count_interval['(1000,5000]'] = 0\n",
    "count_interval['(5000,10000]'] = 0\n",
    "count_interval['>10000'] = 0"
   ]
  },
  {
   "cell_type": "code",
   "execution_count": null,
   "metadata": {},
   "outputs": [],
   "source": [
    "for p in groups_sizes_list:\n",
    "\n",
    "    if p == 1:\n",
    "        count_interval['1'] += 1\n",
    "    elif p > 1 and p <= 5:\n",
    "        count_interval['(1,5]'] += 1\n",
    "    elif p > 5 and p <= 10:\n",
    "        count_interval['(5,10]'] += 1\n",
    "    elif p > 10 and p <= 100:\n",
    "        count_interval['(10,100]'] += 1\n",
    "    elif p > 100 and p <= 1000:\n",
    "        count_interval['(100,1000]'] += 1\n",
    "    elif p > 1000 and p <= 5000:\n",
    "        count_interval['(1000,5000]'] += 1\n",
    "    elif p > 5000 and p <= 10000:\n",
    "        count_interval['(5000,10000]'] += 1\n",
    "    else:\n",
    "        count_interval['>10000'] += 1"
   ]
  },
  {
   "cell_type": "code",
   "execution_count": null,
   "metadata": {},
   "outputs": [],
   "source": [
    "total = 0\n",
    "lines = []\n",
    "aux = 0\n",
    "for interval, value in count_interval.items():\n",
    "    print(interval, ':', value)\n",
    "    for i in range(0, value):\n",
    "        lines.append([interval])\n",
    "        aux += 1\n",
    "    total += value"
   ]
  },
  {
   "cell_type": "code",
   "execution_count": null,
   "metadata": {},
   "outputs": [],
   "source": [
    "intervals_df = pd.DataFrame(lines, columns=[\"size\"])\n",
    "intervals_df.info()"
   ]
  },
  {
   "cell_type": "code",
   "execution_count": null,
   "metadata": {},
   "outputs": [],
   "source": [
    "import seaborn as sns\n",
    "sns.set_style(\"white\")\n",
    "\n",
    "fig, (axis1) = plt.subplots(figsize=(12,8))\n",
    "\n",
    "sns.countplot(y=\"size\", data=intervals_df, color='dodgerblue')\n",
    "\n",
    "axis1.set_xlabel(\"Nº de grupos\", fontsize=20, weight='bold')\n",
    "axis1.set_ylabel(\"Nº de objetos\", fontsize=20, weight='bold')\n",
    "plt.grid(False)\n",
    "\n",
    "total = len(intervals_df)\n",
    "for p in axis1.patches:\n",
    "    width = p.get_width()\n",
    "    axis1.text(width, p.get_y()+0.7, '(%d)'%(width), fontsize=15)\n",
    "    axis1.text(width, p.get_y()+0.4, '%.2f%%'%(100*float(width)/total), fontsize=15)\n",
    "\n",
    "plt.yticks(fontsize=16)\n",
    "plt.xticks(fontsize=16)\n",
    "\n",
    "plt.show()\n",
    "plt.clf()"
   ]
  },
  {
   "cell_type": "markdown",
   "metadata": {},
   "source": [
    "## Number of subgroups"
   ]
  },
  {
   "cell_type": "code",
   "execution_count": null,
   "metadata": {},
   "outputs": [],
   "source": [
    "subgroups = [num for group, num in num_subgroups.items()]\n",
    "plot_histogram(subgroups, 80, 'Nº de grupos', 'Nº de subgrupos', log=True)"
   ]
  },
  {
   "cell_type": "markdown",
   "metadata": {},
   "source": [
    "## Examples"
   ]
  },
  {
   "cell_type": "code",
   "execution_count": null,
   "metadata": {
    "scrolled": true
   },
   "outputs": [],
   "source": [
    "size = 100\n",
    "\n",
    "for group, items in results.items():\n",
    "    if len(items) == size:\n",
    "        print(group)"
   ]
  },
  {
   "cell_type": "code",
   "execution_count": null,
   "metadata": {},
   "outputs": [],
   "source": [
    "groups_sample = {}\n",
    "\n",
    "for group, items in results.items():\n",
    "    first_token = group.split('_')\n",
    "    if first_token[0] == 'sabao':\n",
    "        groups_sample[group] = items"
   ]
  },
  {
   "cell_type": "code",
   "execution_count": null,
   "metadata": {},
   "outputs": [],
   "source": [
    "len(groups_sample)"
   ]
  },
  {
   "cell_type": "code",
   "execution_count": null,
   "metadata": {
    "scrolled": true
   },
   "outputs": [],
   "source": [
    "total = 0\n",
    "sample_size = 5\n",
    "\n",
    "for group, items in groups_sample.items():\n",
    "    total += len(items)\n",
    "    descs = []\n",
    "    for id_ in items:\n",
    "        descs.append(' '.join(eval(itemlist.items_df.iloc[id_]['original_prep'])))\n",
    "    print('*********************')\n",
    "    print(group)\n",
    "    print(len(descs))\n",
    "    descs = list(set(descs))\n",
    "    print(len(descs))\n",
    "    if len(descs) <= sample_size:\n",
    "        sample = descs\n",
    "    else:\n",
    "        sample = random.sample(descs, sample_size)\n",
    "    for d in descs:\n",
    "        print(d)"
   ]
  },
  {
   "cell_type": "code",
   "execution_count": null,
   "metadata": {},
   "outputs": [],
   "source": [
    "total"
   ]
  },
  {
   "cell_type": "code",
   "execution_count": null,
   "metadata": {},
   "outputs": [],
   "source": [
    "num_subgroups['pneu']"
   ]
  },
  {
   "cell_type": "code",
   "execution_count": null,
   "metadata": {},
   "outputs": [],
   "source": [
    "itemlist.get_group_items(results['pneu_0'])"
   ]
  },
  {
   "cell_type": "code",
   "execution_count": null,
   "metadata": {},
   "outputs": [],
   "source": []
  }
 ],
 "metadata": {
  "kernelspec": {
   "display_name": "Python 3",
   "language": "python",
   "name": "python3"
  },
  "language_info": {
   "codemirror_mode": {
    "name": "ipython",
    "version": 3
   },
   "file_extension": ".py",
   "mimetype": "text/x-python",
   "name": "python",
   "nbconvert_exporter": "python",
   "pygments_lexer": "ipython3",
   "version": "3.7.6"
  }
 },
 "nbformat": 4,
 "nbformat_minor": 4
}
