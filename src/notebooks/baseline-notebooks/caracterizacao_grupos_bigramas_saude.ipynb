{
 "cells": [
  {
   "cell_type": "code",
   "execution_count": 1,
   "metadata": {},
   "outputs": [],
   "source": [
    "import pandas as pd\n",
    "import numpy as np\n",
    "import collections\n",
    "import copy\n",
    "import matplotlib.pyplot as plt\n",
    "from nlp.preprocessing import (\n",
    "    clean_text,\n",
    "    preprocess,\n",
    "    tokenize,\n",
    "    preprocess_document,\n",
    "    tokenize_document,\n",
    "    get_stopwords)\n",
    "from nlp.text_statistics import (\n",
    "    number_tokens,\n",
    "    tokens_length,\n",
    "    unique_tokens,\n",
    "    count_numbers,\n",
    "    number_stopwords,\n",
    "    print_statistics,\n",
    "    count_bigrams)\n",
    "from nlp.grouping import (\n",
    "    get_groups,\n",
    "    get_groups_size,\n",
    "    get_bigram_groups,\n",
    "    get_first_two_groups,\n",
    "    groups_frequency_sort\n",
    ")\n",
    "from item.item_list import (\n",
    "    ItemList,\n",
    "    Item)\n",
    "from nlp.utils import (\n",
    "    plot_histogram)\n",
    "from gensim.parsing.preprocessing import (\n",
    "    strip_multiple_whitespaces,\n",
    "    strip_non_alphanum,\n",
    "    strip_punctuation2,\n",
    "    strip_short)"
   ]
  },
  {
   "cell_type": "code",
   "execution_count": 2,
   "metadata": {},
   "outputs": [],
   "source": [
    "itemlist = ItemList()\n",
    "itemlist.load_items_from_file('../dados/items_preprocessed.zip')"
   ]
  },
  {
   "cell_type": "code",
   "execution_count": 3,
   "metadata": {},
   "outputs": [
    {
     "data": {
      "text/plain": [
       "1508992"
      ]
     },
     "execution_count": 3,
     "metadata": {},
     "output_type": "execute_result"
    }
   ],
   "source": [
    "len(itemlist.items_list)"
   ]
  },
  {
   "cell_type": "code",
   "execution_count": 4,
   "metadata": {},
   "outputs": [],
   "source": [
    "items_list = itemlist.items_list"
   ]
  },
  {
   "cell_type": "code",
   "execution_count": 5,
   "metadata": {},
   "outputs": [
    {
     "name": "stdout",
     "output_type": "stream",
     "text": [
      "{'palavras': ['peca', 'ripa', 'linear'], 'unidades_medida': [], 'números': [], 'cores': [], 'materiais': ['madeira'], 'tamanho': [], 'quantidade': [], 'preço': 2.3, 'dsc_unidade_medida': 'metro'}\n"
     ]
    }
   ],
   "source": [
    "items_list[691656].print_item()"
   ]
  },
  {
   "cell_type": "code",
   "execution_count": 6,
   "metadata": {},
   "outputs": [],
   "source": [
    "items_words = []\n",
    "\n",
    "for item in items_list:\n",
    "    item_dict = item.get_item_dict()\n",
    "    items_words.append(item_dict['palavras'])\n",
    "    \n",
    "items_descriptions = items_words"
   ]
  },
  {
   "cell_type": "code",
   "execution_count": 4,
   "metadata": {},
   "outputs": [],
   "source": [
    "file_recurso = '/Users/Pedro/Desktop/projeto-mp/dados/licitacao_vlr_recurso_funcao.csv'\n",
    "data_recurso = pd.read_csv(file_recurso, sep=';')"
   ]
  },
  {
   "cell_type": "code",
   "execution_count": 5,
   "metadata": {},
   "outputs": [
    {
     "name": "stdout",
     "output_type": "stream",
     "text": [
      "<class 'pandas.core.frame.DataFrame'>\n",
      "RangeIndex: 256084 entries, 0 to 256083\n",
      "Data columns (total 6 columns):\n",
      "seq_dim_licitacao         256084 non-null int64\n",
      "vlr_licitacao             249743 non-null float64\n",
      "nom_funcao                256084 non-null object\n",
      "sum_vlr_recurso_funcao    256084 non-null float64\n",
      "sum_vlr_recurso           256084 non-null float64\n",
      "proporcao_vlr             256084 non-null float64\n",
      "dtypes: float64(4), int64(1), object(1)\n",
      "memory usage: 11.7+ MB\n"
     ]
    }
   ],
   "source": [
    "data_recurso.info()"
   ]
  },
  {
   "cell_type": "code",
   "execution_count": 6,
   "metadata": {},
   "outputs": [],
   "source": [
    "licitacoes_saude = data_recurso.loc[(data_recurso['nom_funcao'] == 'Saúde') & (data_recurso['proporcao_vlr'] >= 5.0)]"
   ]
  },
  {
   "cell_type": "code",
   "execution_count": 7,
   "metadata": {},
   "outputs": [],
   "source": [
    "seq_dim_licitacao_list = list(licitacoes_saude['seq_dim_licitacao'])"
   ]
  },
  {
   "cell_type": "code",
   "execution_count": 8,
   "metadata": {},
   "outputs": [
    {
     "data": {
      "text/plain": [
       "47566"
      ]
     },
     "execution_count": 8,
     "metadata": {},
     "output_type": "execute_result"
    }
   ],
   "source": [
    "len(set(seq_dim_licitacao_list))"
   ]
  },
  {
   "cell_type": "code",
   "execution_count": 9,
   "metadata": {},
   "outputs": [
    {
     "name": "stdout",
     "output_type": "stream",
     "text": [
      "<class 'pandas.core.frame.DataFrame'>\n",
      "RangeIndex: 1728629 entries, 0 to 1728628\n",
      "Data columns (total 11 columns):\n",
      "seq_dim_licitacao          int64\n",
      "num_exercicio              int64\n",
      "nom_entidade               object\n",
      "seq_dim_item               int64\n",
      "nom_item                   object\n",
      "dsc_unidade_medida         object\n",
      "nom_item_busca             object\n",
      "vlr_quantidade             float64\n",
      "vlr_unitario_homologado    float64\n",
      "nom_funcao                 object\n",
      "vlr_licitacao              float64\n",
      "dtypes: float64(3), int64(3), object(5)\n",
      "memory usage: 145.1+ MB\n"
     ]
    }
   ],
   "source": [
    "file = '/Users/Pedro/Desktop/projeto-mp/dados/itens_pregao_pitem_saude.csv'\n",
    "data = pd.read_csv(file, sep=';')\n",
    "\n",
    "data.info()"
   ]
  },
  {
   "cell_type": "code",
   "execution_count": 10,
   "metadata": {},
   "outputs": [],
   "source": [
    "data = data.loc[data['seq_dim_licitacao'].isin(seq_dim_licitacao_list)]"
   ]
  },
  {
   "cell_type": "code",
   "execution_count": 11,
   "metadata": {},
   "outputs": [
    {
     "data": {
      "text/plain": [
       "34795"
      ]
     },
     "execution_count": 11,
     "metadata": {},
     "output_type": "execute_result"
    }
   ],
   "source": [
    "len(set(list(data['seq_dim_licitacao'])))"
   ]
  },
  {
   "cell_type": "code",
   "execution_count": 12,
   "metadata": {},
   "outputs": [
    {
     "data": {
      "text/plain": [
       "1530592"
      ]
     },
     "execution_count": 12,
     "metadata": {},
     "output_type": "execute_result"
    }
   ],
   "source": [
    "items = list(data['nom_item'])\n",
    "len(items)"
   ]
  },
  {
   "cell_type": "code",
   "execution_count": 13,
   "metadata": {},
   "outputs": [
    {
     "data": {
      "text/plain": [
       "894693"
      ]
     },
     "execution_count": 13,
     "metadata": {},
     "output_type": "execute_result"
    }
   ],
   "source": [
    "len(set(items))"
   ]
  },
  {
   "cell_type": "code",
   "execution_count": 14,
   "metadata": {},
   "outputs": [],
   "source": [
    "items_descriptions = preprocess(items, True, False, True)"
   ]
  },
  {
   "cell_type": "code",
   "execution_count": 15,
   "metadata": {},
   "outputs": [
    {
     "data": {
      "text/plain": [
       "1530592"
      ]
     },
     "execution_count": 15,
     "metadata": {},
     "output_type": "execute_result"
    }
   ],
   "source": [
    "len(items_descriptions)"
   ]
  },
  {
   "cell_type": "code",
   "execution_count": 8,
   "metadata": {},
   "outputs": [],
   "source": [
    "bigrams_count = count_bigrams(items_descriptions)"
   ]
  },
  {
   "cell_type": "code",
   "execution_count": 9,
   "metadata": {},
   "outputs": [],
   "source": [
    "bigrams = get_bigram_groups(items_descriptions, bigrams_count)"
   ]
  },
  {
   "cell_type": "code",
   "execution_count": 10,
   "metadata": {},
   "outputs": [],
   "source": [
    "bigrams_groups = get_groups(bigrams)"
   ]
  },
  {
   "cell_type": "code",
   "execution_count": 11,
   "metadata": {},
   "outputs": [
    {
     "data": {
      "text/plain": [
       "97973"
      ]
     },
     "execution_count": 11,
     "metadata": {},
     "output_type": "execute_result"
    }
   ],
   "source": [
    "len(bigrams_groups)"
   ]
  },
  {
   "cell_type": "code",
   "execution_count": 32,
   "metadata": {},
   "outputs": [
    {
     "data": {
      "text/plain": [
       "[('alto', 'rotacao'),\n",
       " ('solucao', 'injetavel'),\n",
       " ('saco', 'lixo'),\n",
       " ('materia', 'primo'),\n",
       " ('data', 'fabricacao'),\n",
       " ('filtro', 'ar'),\n",
       " ('camara', 'ar')]"
      ]
     },
     "execution_count": 32,
     "metadata": {},
     "output_type": "execute_result"
    }
   ],
   "source": [
    "group_sample = []\n",
    "\n",
    "for group, size in bigrams_groups.items():\n",
    "    if size > 5000:\n",
    "        group_sample.append(group)\n",
    "        \n",
    "group_sample[:10]"
   ]
  },
  {
   "cell_type": "code",
   "execution_count": 13,
   "metadata": {},
   "outputs": [],
   "source": [
    "bigrams_groups_size = get_groups_size(bigrams_groups)"
   ]
  },
  {
   "cell_type": "code",
   "execution_count": 14,
   "metadata": {},
   "outputs": [
    {
     "data": {
      "text/plain": [
       "38508"
      ]
     },
     "execution_count": 14,
     "metadata": {},
     "output_type": "execute_result"
    }
   ],
   "source": [
    "bigrams_groups_size.count(1)"
   ]
  },
  {
   "cell_type": "code",
   "execution_count": 15,
   "metadata": {},
   "outputs": [],
   "source": [
    "bigrams_groups_names_size = groups_frequency_sort(bigrams_groups)"
   ]
  },
  {
   "cell_type": "code",
   "execution_count": 16,
   "metadata": {},
   "outputs": [
    {
     "data": {
      "text/plain": [
       "[(('filtro', 'ar'), 6594),\n",
       " (('materia', 'primo'), 6485),\n",
       " (('camara', 'ar'), 6022),\n",
       " (('saco', 'lixo'), 5925),\n",
       " (('data', 'fabricacao'), 5796),\n",
       " (('solucao', 'injetavel'), 5251),\n",
       " (('alto', 'rotacao'), 5106),\n",
       " (('fita', 'adesivo'), 4749),\n",
       " ('pneu', 4741),\n",
       " (('luva', 'procedimento'), 4660)]"
      ]
     },
     "execution_count": 16,
     "metadata": {},
     "output_type": "execute_result"
    }
   ],
   "source": [
    "bigrams_groups_names_size[:10]"
   ]
  },
  {
   "cell_type": "code",
   "execution_count": 17,
   "metadata": {},
   "outputs": [
    {
     "name": "stdout",
     "output_type": "stream",
     "text": [
      "Mean: 15.38866830657426\n",
      "First quartile: 1.0\n",
      "Median: 2.0\n",
      "Third quartile: 5.0\n",
      "Std: 105.98660226342031\n",
      "Var: 11233.159859344452\n",
      "Max: 6594\n",
      "Min: 1.0\n"
     ]
    }
   ],
   "source": [
    "print_statistics(bigrams_groups_size)"
   ]
  },
  {
   "cell_type": "code",
   "execution_count": 18,
   "metadata": {},
   "outputs": [
    {
     "data": {
      "image/png": "[encoded data removed]",
      "text/plain": [
       "<Figure size 720x576 with 1 Axes>"
      ]
     },
     "metadata": {
      "needs_background": "light"
     },
     "output_type": "display_data"
    },
    {
     "data": {
      "text/plain": [
       "<Figure size 432x288 with 0 Axes>"
      ]
     },
     "metadata": {},
     "output_type": "display_data"
    }
   ],
   "source": [
    "plot_histogram(bigrams_groups_size, 100, 'Nº de objetos', 'Nº de grupos', log=True)"
   ]
  },
  {
   "cell_type": "code",
   "execution_count": 19,
   "metadata": {},
   "outputs": [],
   "source": [
    "count_interval = {}\n",
    "count_interval['1'] = 0\n",
    "count_interval['(1,5]'] = 0\n",
    "count_interval['(5,10]'] = 0\n",
    "count_interval['(10,100]'] = 0\n",
    "count_interval['(100,1000]'] = 0\n",
    "count_interval['(1000,5000]'] = 0\n",
    "count_interval['>5000'] = 0"
   ]
  },
  {
   "cell_type": "code",
   "execution_count": 20,
   "metadata": {},
   "outputs": [],
   "source": [
    "for p in bigrams_groups_size:\n",
    "\n",
    "    if p == 1:\n",
    "        count_interval['1'] += 1\n",
    "    elif p > 1 and p <= 5:\n",
    "        count_interval['(1,5]'] += 1\n",
    "    elif p > 5 and p <= 10:\n",
    "        count_interval['(5,10]'] += 1\n",
    "    elif p > 10 and p <= 100:\n",
    "        count_interval['(10,100]'] += 1\n",
    "    elif p > 100 and p <= 1000:\n",
    "        count_interval['(100,1000]'] += 1\n",
    "    elif p > 1000 and p <= 5000:\n",
    "        count_interval['(1000,5000]'] += 1\n",
    "    else:\n",
    "        count_interval['>5000'] += 1"
   ]
  },
  {
   "cell_type": "code",
   "execution_count": 21,
   "metadata": {},
   "outputs": [
    {
     "name": "stdout",
     "output_type": "stream",
     "text": [
      "1 : 38508 39.30470639870168\n",
      "(1,5] : 36796 37.55728619109347\n",
      "(5,10] : 8587 8.764659651128373\n",
      "(10,100] : 11609 11.849182938156432\n",
      "(100,1000] : 2311 2.3588131423963743\n",
      "(1000,5000] : 155 0.15820685290845438\n",
      ">5000 : 7 0.00714482561522052\n"
     ]
    }
   ],
   "source": [
    "total = 0\n",
    "lines = []\n",
    "aux = 0\n",
    "for interval, value in count_interval.items():\n",
    "    print(interval, ':', value, 100*float(value)/len(bigrams_groups))\n",
    "    for i in range(0, value):\n",
    "        lines.append([interval])\n",
    "        aux += 1\n",
    "    total += value"
   ]
  },
  {
   "cell_type": "code",
   "execution_count": 22,
   "metadata": {},
   "outputs": [
    {
     "name": "stdout",
     "output_type": "stream",
     "text": [
      "<class 'pandas.core.frame.DataFrame'>\n",
      "RangeIndex: 97973 entries, 0 to 97972\n",
      "Data columns (total 1 columns):\n",
      "Preço    97973 non-null object\n",
      "dtypes: object(1)\n",
      "memory usage: 765.5+ KB\n"
     ]
    }
   ],
   "source": [
    "intervals_df = pd.DataFrame(lines, columns=[\"Preço\"])\n",
    "intervals_df.info()"
   ]
  },
  {
   "cell_type": "code",
   "execution_count": 23,
   "metadata": {},
   "outputs": [
    {
     "data": {
      "image/png": "[encoded data removed]",
      "text/plain": [
       "<Figure size 864x576 with 1 Axes>"
      ]
     },
     "metadata": {},
     "output_type": "display_data"
    },
    {
     "data": {
      "text/plain": [
       "<Figure size 432x288 with 0 Axes>"
      ]
     },
     "metadata": {},
     "output_type": "display_data"
    }
   ],
   "source": [
    "import seaborn as sns\n",
    "sns.set_style(\"white\")\n",
    "\n",
    "fig, (axis1) = plt.subplots(figsize=(12,8))\n",
    "\n",
    "sns.countplot(y=\"Preço\", data=intervals_df, color='dodgerblue')\n",
    "\n",
    "axis1.set_xlabel(\"Nº de grupos\", fontsize=20, weight='bold')\n",
    "axis1.set_ylabel(\"Nº de objetos\", fontsize=20, weight='bold')\n",
    "plt.grid(False)\n",
    "\n",
    "total = len(intervals_df)\n",
    "for p in axis1.patches:\n",
    "    width = p.get_width()\n",
    "    axis1.text(width, p.get_y()+0.7, '(%d)'%(width), fontsize=15)\n",
    "    axis1.text(width, p.get_y()+0.4, '%.2f%%'%(100*float(width)/total), fontsize=15)\n",
    "\n",
    "plt.yticks(fontsize=16)\n",
    "plt.xticks(fontsize=16)\n",
    "\n",
    "plt.show()\n",
    "plt.clf()"
   ]
  },
  {
   "cell_type": "code",
   "execution_count": 33,
   "metadata": {},
   "outputs": [],
   "source": [
    "two_tokens = get_first_two_groups(items_descriptions)"
   ]
  },
  {
   "cell_type": "code",
   "execution_count": 34,
   "metadata": {},
   "outputs": [],
   "source": [
    "two_tokens_groups = get_groups(two_tokens)"
   ]
  },
  {
   "cell_type": "code",
   "execution_count": 35,
   "metadata": {},
   "outputs": [
    {
     "data": {
      "text/plain": [
       "121469"
      ]
     },
     "execution_count": 35,
     "metadata": {},
     "output_type": "execute_result"
    }
   ],
   "source": [
    "len(two_tokens_groups)"
   ]
  },
  {
   "cell_type": "code",
   "execution_count": 55,
   "metadata": {},
   "outputs": [
    {
     "data": {
      "text/plain": [
       "[('broca', 'diamantado'), ('saco', 'lixo'), ('filtro', 'ar'), ('camara', 'ar')]"
      ]
     },
     "execution_count": 55,
     "metadata": {},
     "output_type": "execute_result"
    }
   ],
   "source": [
    "group_sample = []\n",
    "\n",
    "for group, size in two_tokens_groups.items():\n",
    "    if size > 5000:\n",
    "        group_sample.append(group)\n",
    "\n",
    "group_sample[:10]"
   ]
  },
  {
   "cell_type": "code",
   "execution_count": 51,
   "metadata": {},
   "outputs": [],
   "source": [
    "twot_groups_size = get_groups_size(two_tokens_groups)"
   ]
  },
  {
   "cell_type": "code",
   "execution_count": 38,
   "metadata": {},
   "outputs": [
    {
     "data": {
      "text/plain": [
       "49318"
      ]
     },
     "execution_count": 38,
     "metadata": {},
     "output_type": "execute_result"
    }
   ],
   "source": [
    "twot_groups_size.count(1)"
   ]
  },
  {
   "cell_type": "code",
   "execution_count": 39,
   "metadata": {},
   "outputs": [],
   "source": [
    "twot_groups_names_size = groups_frequency_sort(two_tokens_groups)"
   ]
  },
  {
   "cell_type": "code",
   "execution_count": 40,
   "metadata": {
    "scrolled": true
   },
   "outputs": [
    {
     "data": {
      "text/plain": [
       "[(('filtro', 'ar'), 6236),\n",
       " (('saco', 'lixo'), 5867),\n",
       " (('camara', 'ar'), 5498),\n",
       " (('broca', 'diamantado'), 5332),\n",
       " (('luva', 'procedimento'), 4907),\n",
       " ('pneu', 4741),\n",
       " (('fita', 'adesivo'), 4182),\n",
       " (('sonda', 'uretral'), 4174),\n",
       " (('lamina', 'bisturi'), 3869),\n",
       " (('tubo', 'endotraqueal'), 3740)]"
      ]
     },
     "execution_count": 40,
     "metadata": {},
     "output_type": "execute_result"
    }
   ],
   "source": [
    "twot_groups_names_size[:10]"
   ]
  },
  {
   "cell_type": "code",
   "execution_count": 41,
   "metadata": {},
   "outputs": [
    {
     "name": "stdout",
     "output_type": "stream",
     "text": [
      "Mean: 12.412006355531041\n",
      "First quartile: 1.0\n",
      "Median: 2.0\n",
      "Third quartile: 5.0\n",
      "Std: 80.93585448300799\n",
      "Var: 6550.612540894644\n",
      "Max: 6236\n",
      "Min: 1.0\n"
     ]
    }
   ],
   "source": [
    "print_statistics(twot_groups_size)"
   ]
  },
  {
   "cell_type": "code",
   "execution_count": 42,
   "metadata": {},
   "outputs": [
    {
     "data": {
      "image/png": "[encoded data removed]",
      "text/plain": [
       "<Figure size 720x576 with 1 Axes>"
      ]
     },
     "metadata": {},
     "output_type": "display_data"
    },
    {
     "data": {
      "text/plain": [
       "<Figure size 432x288 with 0 Axes>"
      ]
     },
     "metadata": {},
     "output_type": "display_data"
    }
   ],
   "source": [
    "plot_histogram(twot_groups_size, 100, 'Nº de objetos', 'Nº de grupos', log=True)"
   ]
  },
  {
   "cell_type": "code",
   "execution_count": 43,
   "metadata": {},
   "outputs": [],
   "source": [
    "count_interval = {}\n",
    "count_interval['1'] = 0\n",
    "count_interval['(1,5]'] = 0\n",
    "count_interval['(5,10]'] = 0\n",
    "count_interval['(10,100]'] = 0\n",
    "count_interval['(100,1000]'] = 0\n",
    "count_interval['(1000,5000]'] = 0\n",
    "count_interval['>5000'] = 0"
   ]
  },
  {
   "cell_type": "code",
   "execution_count": 44,
   "metadata": {},
   "outputs": [],
   "source": [
    "for p in twot_groups_size:\n",
    "\n",
    "    if p == 1:\n",
    "        count_interval['1'] += 1\n",
    "    elif p > 1 and p <= 5:\n",
    "        count_interval['(1,5]'] += 1\n",
    "    elif p > 5 and p <= 10:\n",
    "        count_interval['(5,10]'] += 1\n",
    "    elif p > 10 and p <= 100:\n",
    "        count_interval['(10,100]'] += 1\n",
    "    elif p > 100 and p <= 1000:\n",
    "        count_interval['(100,1000]'] += 1\n",
    "    elif p > 1000 and p <= 5000:\n",
    "        count_interval['(1000,5000]'] += 1\n",
    "    else:\n",
    "        count_interval['>5000'] += 1"
   ]
  },
  {
   "cell_type": "code",
   "execution_count": 45,
   "metadata": {},
   "outputs": [
    {
     "name": "stdout",
     "output_type": "stream",
     "text": [
      "1 : 49318 40.60130568293145\n",
      "(1,5] : 45511 37.467172694267674\n",
      "(5,10] : 10629 8.750380755583729\n",
      "(10,100] : 13538 11.145230470325762\n",
      "(100,1000] : 2344 1.9297104611053026\n",
      "(1000,5000] : 125 0.10290691452140052\n",
      ">5000 : 4 0.0032930212646848167\n"
     ]
    }
   ],
   "source": [
    "total = 0\n",
    "lines = []\n",
    "aux = 0\n",
    "for interval, value in count_interval.items():\n",
    "    print(interval, ':', value, 100*float(value)/len(two_tokens_groups))\n",
    "    for i in range(0, value):\n",
    "        lines.append([interval])\n",
    "        aux += 1\n",
    "    total += value"
   ]
  },
  {
   "cell_type": "code",
   "execution_count": 46,
   "metadata": {},
   "outputs": [
    {
     "name": "stdout",
     "output_type": "stream",
     "text": [
      "<class 'pandas.core.frame.DataFrame'>\n",
      "RangeIndex: 121469 entries, 0 to 121468\n",
      "Data columns (total 1 columns):\n",
      "Preço    121469 non-null object\n",
      "dtypes: object(1)\n",
      "memory usage: 949.1+ KB\n"
     ]
    }
   ],
   "source": [
    "intervals_df = pd.DataFrame(lines, columns=[\"Preço\"])\n",
    "intervals_df.info()"
   ]
  },
  {
   "cell_type": "code",
   "execution_count": 47,
   "metadata": {},
   "outputs": [
    {
     "data": {
      "image/png": "[encoded data removed]",
      "text/plain": [
       "<Figure size 864x576 with 1 Axes>"
      ]
     },
     "metadata": {},
     "output_type": "display_data"
    },
    {
     "data": {
      "text/plain": [
       "<Figure size 432x288 with 0 Axes>"
      ]
     },
     "metadata": {},
     "output_type": "display_data"
    }
   ],
   "source": [
    "import seaborn as sns\n",
    "sns.set_style(\"white\")\n",
    "\n",
    "fig, (axis1) = plt.subplots(figsize=(12,8))\n",
    "\n",
    "sns.countplot(y=\"Preço\", data=intervals_df, color='dodgerblue')\n",
    "\n",
    "axis1.set_xlabel(\"Nº de grupos\", fontsize=20, weight='bold')\n",
    "axis1.set_ylabel(\"Nº de objetos\", fontsize=20, weight='bold')\n",
    "plt.grid(False)\n",
    "\n",
    "total = len(intervals_df)\n",
    "for p in axis1.patches:\n",
    "    width = p.get_width()\n",
    "    axis1.text(width, p.get_y()+0.7, '(%d)'%(width), fontsize=15)\n",
    "    axis1.text(width, p.get_y()+0.4, '%.2f%%'%(100*float(width)/total), fontsize=15)\n",
    "\n",
    "plt.yticks(fontsize=16)\n",
    "plt.xticks(fontsize=16)\n",
    "\n",
    "plt.show()\n",
    "plt.clf()"
   ]
  },
  {
   "cell_type": "code",
   "execution_count": null,
   "metadata": {},
   "outputs": [],
   "source": [
    "data2 = data[['nom_item', 'vlr_unitario_homologado']]\n",
    "data2.info()"
   ]
  },
  {
   "cell_type": "code",
   "execution_count": null,
   "metadata": {},
   "outputs": [],
   "source": [
    "items_prices = data2.values.tolist()"
   ]
  },
  {
   "cell_type": "code",
   "execution_count": null,
   "metadata": {},
   "outputs": [],
   "source": [
    "tuples = []\n",
    "\n",
    "for l in items_prices :\n",
    "    tuples.append((l[0], l[1]))"
   ]
  },
  {
   "cell_type": "code",
   "execution_count": null,
   "metadata": {},
   "outputs": [],
   "source": [
    "items_prices = list(tuples)"
   ]
  },
  {
   "cell_type": "code",
   "execution_count": null,
   "metadata": {},
   "outputs": [],
   "source": [
    "len(items_prices)"
   ]
  },
  {
   "cell_type": "code",
   "execution_count": null,
   "metadata": {},
   "outputs": [],
   "source": [
    "items_descriptions_prices = []\n",
    "\n",
    "for i in range(0, len(items_prices)):\n",
    "    items_descriptions_prices.append((items_descriptions[i], items_prices[i][1]))"
   ]
  },
  {
   "cell_type": "code",
   "execution_count": null,
   "metadata": {},
   "outputs": [],
   "source": [
    "len(items_descriptions_prices)"
   ]
  },
  {
   "cell_type": "code",
   "execution_count": null,
   "metadata": {},
   "outputs": [],
   "source": [
    "groups_prices = collections.defaultdict(list)\n",
    "\n",
    "for description, price in items_descriptions_prices:\n",
    "    doc_tokenized = description\n",
    "    if len(doc_tokenized) == 1 and price != 0:\n",
    "        groups_prices[doc_tokenized[0]].append(price)\n",
    "    elif len(doc_tokenized) >= 2 and price != 0:\n",
    "        groups_prices[(doc_tokenized[0], doc_tokenized[1])].append(price)"
   ]
  },
  {
   "cell_type": "code",
   "execution_count": null,
   "metadata": {},
   "outputs": [],
   "source": [
    "len(groups_prices)"
   ]
  },
  {
   "cell_type": "code",
   "execution_count": null,
   "metadata": {},
   "outputs": [],
   "source": [
    "twot_groups_names_size[:10]"
   ]
  },
  {
   "cell_type": "code",
   "execution_count": null,
   "metadata": {},
   "outputs": [],
   "source": [
    "for group in twot_groups_names_size[:10]:\n",
    "    print(group[0], \":\", len(groups_prices[group[0]]))"
   ]
  },
  {
   "cell_type": "code",
   "execution_count": null,
   "metadata": {},
   "outputs": [],
   "source": [
    "for group in twot_groups_names_size[:10]:\n",
    "    print(group[0])\n",
    "    print_statistics(groups_prices[group[0]])"
   ]
  },
  {
   "cell_type": "code",
   "execution_count": null,
   "metadata": {},
   "outputs": [],
   "source": []
  }
 ],
 "metadata": {
  "kernelspec": {
   "display_name": "Python 3",
   "language": "python",
   "name": "python3"
  },
  "language_info": {
   "codemirror_mode": {
    "name": "ipython",
    "version": 3
   },
   "file_extension": ".py",
   "mimetype": "text/x-python",
   "name": "python",
   "nbconvert_exporter": "python",
   "pygments_lexer": "ipython3",
   "version": "3.7.4"
  }
 },
 "nbformat": 4,
 "nbformat_minor": 2
}
