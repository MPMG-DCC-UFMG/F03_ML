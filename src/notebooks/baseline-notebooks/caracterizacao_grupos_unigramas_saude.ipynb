{
 "cells": [
  {
   "cell_type": "code",
   "execution_count": 110,
   "metadata": {},
   "outputs": [],
   "source": [
    "import pandas as pd\n",
    "import numpy as np\n",
    "import collections\n",
    "import copy\n",
    "import matplotlib.pyplot as plt\n",
    "from nlp.preprocessing import (\n",
    "    clean_text,\n",
    "    preprocess,\n",
    "    tokenize,\n",
    "    preprocess_document,\n",
    "    tokenize_document,\n",
    "    get_stopwords)\n",
    "from nlp.text_statistics import (\n",
    "    number_tokens,\n",
    "    tokens_length,\n",
    "    unique_tokens,\n",
    "    count_numbers,\n",
    "    number_stopwords,\n",
    "    print_statistics,\n",
    "    count_tokens,\n",
    "    sort_frequency_tokens)\n",
    "from nlp.grouping import (\n",
    "    get_groups,\n",
    "    get_groups_size,\n",
    "    get_unigram_groups,\n",
    "    get_two_tokens_groups,\n",
    "    get_first_token_groups,\n",
    "    groups_frequency_sort\n",
    ")\n",
    "from nlp.utils import (\n",
    "    plot_histogram)\n",
    "from item.item_list import (\n",
    "    ItemList,\n",
    "    Item)\n",
    "from gensim.parsing.preprocessing import (\n",
    "    strip_multiple_whitespaces,\n",
    "    strip_non_alphanum,\n",
    "    strip_punctuation2,\n",
    "    strip_short)"
   ]
  },
  {
   "cell_type": "code",
   "execution_count": 2,
   "metadata": {},
   "outputs": [],
   "source": [
    "itemlist = ItemList()\n",
    "itemlist.load_items_from_file('../dados/items_preprocessed.zip')"
   ]
  },
  {
   "cell_type": "code",
   "execution_count": 111,
   "metadata": {},
   "outputs": [
    {
     "data": {
      "text/plain": [
       "1508992"
      ]
     },
     "execution_count": 111,
     "metadata": {},
     "output_type": "execute_result"
    }
   ],
   "source": [
    "len(itemlist.items_list)"
   ]
  },
  {
   "cell_type": "code",
   "execution_count": 4,
   "metadata": {},
   "outputs": [],
   "source": [
    "items_list = itemlist.items_list"
   ]
  },
  {
   "cell_type": "code",
   "execution_count": 5,
   "metadata": {},
   "outputs": [
    {
     "name": "stdout",
     "output_type": "stream",
     "text": [
      "{'palavras': ['peca', 'ripa', 'linear'], 'unidades_medida': [], 'números': [], 'cores': [], 'materiais': ['madeira'], 'tamanho': [], 'quantidade': [], 'preço': 2.3, 'dsc_unidade_medida': 'metro'}\n"
     ]
    }
   ],
   "source": [
    "items_list[691656].print_item()"
   ]
  },
  {
   "cell_type": "code",
   "execution_count": 6,
   "metadata": {},
   "outputs": [],
   "source": [
    "items_words = []\n",
    "\n",
    "for item in items_list:\n",
    "    item_dict = item.get_item_dict()\n",
    "    items_words.append(item_dict['palavras'])\n",
    "    \n",
    "items_descriptions = items_words"
   ]
  },
  {
   "cell_type": "markdown",
   "metadata": {},
   "source": [
    "file_recurso = '/Users/Pedro/Desktop/projeto-mp/dados/licitacao_vplr_recurso_funcao.csv'\n",
    "data_recurso = pd.read_csv(file_recurso, sep=';')"
   ]
  },
  {
   "cell_type": "markdown",
   "metadata": {},
   "source": [
    "data_recurso.info()"
   ]
  },
  {
   "cell_type": "markdown",
   "metadata": {},
   "source": [
    "licitacoes_saude = data_recurso.loc[(data_recurso['nom_funcao'] == 'Saúde') & (data_recurso['proporcao_vlr'] >= 5.0)]"
   ]
  },
  {
   "cell_type": "markdown",
   "metadata": {},
   "source": [
    "seq_dim_licitacao_list = list(licitacoes_saude['seq_dim_licitacao'])"
   ]
  },
  {
   "cell_type": "markdown",
   "metadata": {},
   "source": [
    "len(set(seq_dim_licitacao_list))"
   ]
  },
  {
   "cell_type": "markdown",
   "metadata": {},
   "source": [
    "file = '/Users/Pedro/Desktop/projeto-mp/dados/itens_pregao_pitem_saude.csv'\n",
    "data = pd.read_csv(file, sep=';')\n",
    "\n",
    "data.info()"
   ]
  },
  {
   "cell_type": "markdown",
   "metadata": {},
   "source": [
    "data = data.loc[data['seq_dim_licitacao'].isin(seq_dim_licitacao_list)]"
   ]
  },
  {
   "cell_type": "markdown",
   "metadata": {},
   "source": [
    "len(set(list(data['seq_dim_licitacao'])))"
   ]
  },
  {
   "cell_type": "markdown",
   "metadata": {},
   "source": [
    "items = list(data['nom_item'])\n",
    "len(items)"
   ]
  },
  {
   "cell_type": "markdown",
   "metadata": {},
   "source": [
    "len(set(items))"
   ]
  },
  {
   "cell_type": "markdown",
   "metadata": {
    "scrolled": true
   },
   "source": [
    "items_descriptions = preprocess(items, True, False, True)"
   ]
  },
  {
   "cell_type": "code",
   "execution_count": 7,
   "metadata": {},
   "outputs": [
    {
     "data": {
      "text/plain": [
       "1318"
      ]
     },
     "execution_count": 7,
     "metadata": {},
     "output_type": "execute_result"
    }
   ],
   "source": [
    "items_descriptions.count([])"
   ]
  },
  {
   "cell_type": "code",
   "execution_count": 8,
   "metadata": {},
   "outputs": [
    {
     "data": {
      "text/plain": [
       "1508992"
      ]
     },
     "execution_count": 8,
     "metadata": {},
     "output_type": "execute_result"
    }
   ],
   "source": [
    "len(items_descriptions)"
   ]
  },
  {
   "cell_type": "code",
   "execution_count": 9,
   "metadata": {},
   "outputs": [
    {
     "data": {
      "text/plain": [
       "[['creme',\n",
       "  'protetor',\n",
       "  'pele',\n",
       "  'contra',\n",
       "  'oleo',\n",
       "  'graxo',\n",
       "  'bng',\n",
       "  'constar',\n",
       "  'ca'],\n",
       " ['leucograma'],\n",
       " ['ranitidina', 'cloridrato', 'apresentacao', 'comprimido', 'dosagem'],\n",
       " ['enalapril', 'maleato', 'comprimido'],\n",
       " ['filtro', 'diesel', 'trator', 'massey', 'ferguson', 'ano'],\n",
       " ['ficha', 'clinica', 'odontologico'],\n",
       " ['matriz'],\n",
       " ['ficha', 'individual', 'aluno'],\n",
       " ['liquido', 'turck', 'diluicao', 'contagem', 'leucocito', 'frasco'],\n",
       " ['cadarco', 'algodao', 'rolo'],\n",
       " ['cabo', 'bisturi'],\n",
       " ['clorpromazina', 'cloridrato', 'comprimido'],\n",
       " ['papel', 'seda'],\n",
       " ['luva', 'procedimento', 'c100'],\n",
       " ['capinar', 'manual'],\n",
       " ['dolamin', 'flex', 'cp', 'similar'],\n",
       " ['fio',\n",
       "  'cirurgico',\n",
       "  'catgut',\n",
       "  'simples',\n",
       "  'diametro',\n",
       "  'agulha',\n",
       "  'circular',\n",
       "  'cilindrico'],\n",
       " ['filtro',\n",
       "  'oleo',\n",
       "  'diesel',\n",
       "  'wk1040',\n",
       "  'motor',\n",
       "  'om904',\n",
       "  'ano',\n",
       "  'veiculo',\n",
       "  'marca',\n",
       "  'mb'],\n",
       " ['box', 'arquivo', 'morto', 'x13', 'confeccionada'],\n",
       " ['fita', 'adir', 'dup', 'face', 'fixo', 'forte'],\n",
       " ['adaptador', 'auto', 'ajustavel', 'soldavel'],\n",
       " ['mano', 'armado'],\n",
       " ['luva', 'soldavel'],\n",
       " ['tubo', 'esgoto', 'classe'],\n",
       " ['oleo',\n",
       "  'diferencial',\n",
       "  'onibus',\n",
       "  'mercedes',\n",
       "  'benz',\n",
       "  'ano',\n",
       "  'atendar',\n",
       "  'especificacao',\n",
       "  'fabricante',\n",
       "  'produto',\n",
       "  'primeiro',\n",
       "  'linha'],\n",
       " ['cola', 'gliter', 'liquido', 'brilhante', 'atoxicar', 'variar', 'frsacos'],\n",
       " ['hollembach', 'ss', 'ref'],\n",
       " ['agua'],\n",
       " ['mesa', 'exame', 'clinico', 'maca'],\n",
       " ['reator', 'lampada'],\n",
       " ['fralda', 'descartavel', 'infantil'],\n",
       " ['gelatina', 'po', 'sabor', 'limao'],\n",
       " ['espatula'],\n",
       " ['macarrao', 'picado'],\n",
       " ['toner', 'impressor', 'sansung'],\n",
       " ['soja',\n",
       "  'grao',\n",
       "  'otimo',\n",
       "  'sabor',\n",
       "  'aroma',\n",
       "  'caracteristico',\n",
       "  'produto',\n",
       "  'integro',\n",
       "  'dever',\n",
       "  'constar',\n",
       "  'data',\n",
       "  'fabricacao',\n",
       "  'validade',\n",
       "  'numero',\n",
       "  'lote',\n",
       "  'minimo',\n",
       "  'mes',\n",
       "  'entrega'],\n",
       " ['resina', 'compost', 'microhibrica'],\n",
       " ['luva', 'limpeza'],\n",
       " ['luva',\n",
       "  'cirurgico',\n",
       "  'desc',\n",
       "  'esteril',\n",
       "  'par',\n",
       "  'conf',\n",
       "  'natural',\n",
       "  'formato',\n",
       "  'anatomico',\n",
       "  'minimo',\n",
       "  'comp',\n",
       "  'punho',\n",
       "  'ajustavel',\n",
       "  'bainha',\n",
       "  'friso',\n",
       "  'excelente',\n",
       "  'sensibilidade',\n",
       "  'tatil',\n",
       "  'resistente',\n",
       "  'tracao',\n",
       "  'cirurgico',\n",
       "  'descartavel',\n",
       "  'po',\n",
       "  'bioabsorvivel',\n",
       "  'textura',\n",
       "  'uniforme',\n",
       "  'espessura',\n",
       "  'comprimento',\n",
       "  'ajuste',\n",
       "  'conforto',\n",
       "  'uso',\n",
       "  'bom',\n",
       "  'elasticidade',\n",
       "  'resistencia',\n",
       "  'alto',\n",
       "  'acabamento',\n",
       "  'friso',\n",
       "  'numeracao',\n",
       "  'acordo',\n",
       "  'padrao',\n",
       "  'nacional',\n",
       "  'numero',\n",
       "  'impresso',\n",
       "  'lubrificar',\n",
       "  'inerte',\n",
       "  'embalado',\n",
       "  'envelope',\n",
       "  'marcar',\n",
       "  'mao',\n",
       "  'direito',\n",
       "  'esquerda',\n",
       "  'sobrar',\n",
       "  'sobre',\n",
       "  'ele',\n",
       "  'esterilizado',\n",
       "  'papel',\n",
       "  'grau',\n",
       "  'abertura',\n",
       "  'registro',\n",
       "  'ms'],\n",
       " ['matriz', 'poliester'],\n",
       " ['clorpromazina'],\n",
       " ['alimento', 'achocolatar', 'po', 'instantaneo', 'vitamina'],\n",
       " ['filtro', 'ar', 'caminhao', 'mercedes', 'benz', 'modelo', 'atron'],\n",
       " ['salsicha', 'congelado'],\n",
       " ['tira', 'lixa', 'abrasivo'],\n",
       " ['broca', 'diamantado', 'alto', 'rotacao'],\n",
       " ['papel', 'ecg', 'termo', 'grafico', 'tx', 'validade', 'ano'],\n",
       " ['bolsa', 'termico', 'agua', 'quente', 'frio'],\n",
       " ['bandeirola', 'papel', 'seda', 'decorar', 'festa', 'junino'],\n",
       " ['tensor', 'correia', 'citroen', 'aircross'],\n",
       " ['broca'],\n",
       " ['papel', 'fillifold'],\n",
       " ['almotolia', 'plast', 'transparente', 'bico', 'reto'],\n",
       " ['rosuvastatina'],\n",
       " ['luva', 'emborrachar'],\n",
       " ['tesoura', 'spencer', 'retirado', 'ponto'],\n",
       " ['agulha', 'bd'],\n",
       " ['folha', 'papel', 'carbono', 'dupla', 'face'],\n",
       " ['permanganato', 'potassio'],\n",
       " ['pradaxa', 'c30'],\n",
       " ['canhao',\n",
       "  'coleta',\n",
       "  'vacuo',\n",
       "  'suporte',\n",
       "  'agulha',\n",
       "  'multiplo',\n",
       "  'sangue',\n",
       "  'bisel',\n",
       "  'trifacetado',\n",
       "  'siliconizada',\n",
       "  'esterilizado',\n",
       "  'oxido',\n",
       "  'etileno',\n",
       "  'unitario',\n",
       "  'lacre',\n",
       "  'seguranca',\n",
       "  'papel'],\n",
       " ['diario', 'modelo', 'atualizar'],\n",
       " ['prego'],\n",
       " ['caneta', 'marca', 'texto'],\n",
       " ['carregador', 'bateria', 'veiculo', 'automotivo', 'alto', 'selecao'],\n",
       " ['pneu'],\n",
       " ['isoflurano', 'vd', 'solucao', 'injetavel'],\n",
       " ['joelho', 'marrom', 'sold'],\n",
       " ['metoclopramida', 'gota'],\n",
       " ['break', 'computador'],\n",
       " ['lima', 'endo', 'canal', 'kerr'],\n",
       " ['sabonete', 'liquido', 'frasco'],\n",
       " ['rivaroxaban'],\n",
       " ['alcool',\n",
       "  'etilico',\n",
       "  'dado',\n",
       "  'fabricante',\n",
       "  'prazer',\n",
       "  'validade',\n",
       "  'fabricacao',\n",
       "  'registro',\n",
       "  'ministerio',\n",
       "  'saude'],\n",
       " ['tonner', 'ce', 'similar'],\n",
       " ['atadura', 'crepe'],\n",
       " ['dieta',\n",
       "  'enteral',\n",
       "  'nutricionalmente',\n",
       "  'completo',\n",
       "  'especificar',\n",
       "  'paciente',\n",
       "  'dialise',\n",
       "  'insuficiencia',\n",
       "  'renal',\n",
       "  'agudo',\n",
       "  'cronicar',\n",
       "  'hipercalorico',\n",
       "  'kcal',\n",
       "  'normoproteica',\n",
       "  'baixo',\n",
       "  'teor',\n",
       "  'colesterol',\n",
       "  'adicao',\n",
       "  'tcm',\n",
       "  'isentar',\n",
       "  'gluten',\n",
       "  'sacarose',\n",
       "  'lactose',\n",
       "  'isentar',\n",
       "  'sabor',\n",
       "  'sistema',\n",
       "  'fechado',\n",
       "  'equipar',\n",
       "  'compativel',\n",
       "  'bomba',\n",
       "  'infusora',\n",
       "  'adequado',\n",
       "  'consignado',\n",
       "  'emalagem',\n",
       "  'pack'],\n",
       " ['clips'],\n",
       " ['mascara', 'pintura'],\n",
       " ['sulfato', 'ferroso', 'cpr'],\n",
       " ['carne', 'bovino', 'moer'],\n",
       " ['rolamento', 'centro', 'onibus', 'vw'],\n",
       " ['mangueira', 'jardim', 'trancado'],\n",
       " ['pinca', 'hemostatico'],\n",
       " ['joelho', 'soldavel'],\n",
       " ['seringa', 'agulha'],\n",
       " ['broca', 'carbide', 'ar', 'esferico'],\n",
       " ['dicloridrato', 'flunarizina'],\n",
       " ['canaleta', 'instalacao', 'eletrico', 'entrada'],\n",
       " ['joelho', 'roscavel'],\n",
       " ['forceps', 'adulto'],\n",
       " ['dispositivo', 'adaptador', 'conector', 'luer', 'lok'],\n",
       " ['escova', 'robson', 'conico'],\n",
       " ['tela', 'alamb', 'galv', 'alt', 'fio14'],\n",
       " ['porta', 'amalgama'],\n",
       " ['papel', 'a4', 'impressao'],\n",
       " ['lamina', 'bisturi', 'carbono', 'esterilizado'],\n",
       " ['valproato', 'sodio'],\n",
       " ['alavanca', 'seldin', 'esquerda'],\n",
       " ['papel', 'toalha', 'interfolhado', 'folha']]"
      ]
     },
     "execution_count": 9,
     "metadata": {},
     "output_type": "execute_result"
    }
   ],
   "source": [
    "items_descriptions[200:300]"
   ]
  },
  {
   "cell_type": "code",
   "execution_count": 10,
   "metadata": {},
   "outputs": [
    {
     "data": {
      "text/plain": [
       "97241"
      ]
     },
     "execution_count": 10,
     "metadata": {},
     "output_type": "execute_result"
    }
   ],
   "source": [
    "len(unique_tokens(items_descriptions))"
   ]
  },
  {
   "cell_type": "code",
   "execution_count": 11,
   "metadata": {},
   "outputs": [],
   "source": [
    "token_count = count_tokens(items_descriptions)"
   ]
  },
  {
   "cell_type": "code",
   "execution_count": 12,
   "metadata": {},
   "outputs": [],
   "source": [
    "tokens_freq = sort_frequency_tokens(token_count)"
   ]
  },
  {
   "cell_type": "code",
   "execution_count": 13,
   "metadata": {},
   "outputs": [
    {
     "name": "stdout",
     "output_type": "stream",
     "text": [
      "Mean: 72.14352999249287\n",
      "First quartile: 1.0\n",
      "Median: 2.0\n",
      "Third quartile: 6.0\n",
      "Std: 636.198007227241\n",
      "Var: 404747.9043999125\n",
      "Max: 51317\n",
      "Min: 1.0\n"
     ]
    }
   ],
   "source": [
    "print_statistics([count for word, count in tokens_freq])"
   ]
  },
  {
   "cell_type": "code",
   "execution_count": 14,
   "metadata": {},
   "outputs": [],
   "source": [
    "counts = [count for word, count in tokens_freq][:100]"
   ]
  },
  {
   "cell_type": "code",
   "execution_count": 15,
   "metadata": {},
   "outputs": [
    {
     "data": {
      "image/png": "[encoded data removed]",
      "text/plain": [
       "<Figure size 720x576 with 1 Axes>"
      ]
     },
     "metadata": {
      "needs_background": "light"
     },
     "output_type": "display_data"
    },
    {
     "data": {
      "text/plain": [
       "<Figure size 432x288 with 0 Axes>"
      ]
     },
     "metadata": {},
     "output_type": "display_data"
    }
   ],
   "source": [
    "plot_histogram(counts, 25, 'Nº de objetos', 'Palavras', log=False)"
   ]
  },
  {
   "cell_type": "code",
   "execution_count": null,
   "metadata": {
    "scrolled": false
   },
   "outputs": [],
   "source": [
    "top1000 = pd.DataFrame(tokens_freq[:1000], columns=['word', 'count'])"
   ]
  },
  {
   "cell_type": "code",
   "execution_count": null,
   "metadata": {},
   "outputs": [],
   "source": [
    "top1000.to_csv('top1000.csv', sep=',', index=False)"
   ]
  },
  {
   "cell_type": "code",
   "execution_count": 101,
   "metadata": {},
   "outputs": [],
   "source": [
    "token_importance = collections.defaultdict(float)\n",
    "\n",
    "for doc in items_descriptions:\n",
    "    freq_sum = 0\n",
    "    for tok in doc:\n",
    "        freq_sum += token_count[tok]\n",
    "\n",
    "    pos = 1\n",
    "    for tok in doc:\n",
    "        token_importance[tok] += token_count[tok]/(pos*freq_sum)\n",
    "        pos += 1"
   ]
  },
  {
   "cell_type": "code",
   "execution_count": 102,
   "metadata": {},
   "outputs": [],
   "source": [
    "tokens_importances = sort_frequency_tokens(token_importance)"
   ]
  },
  {
   "cell_type": "code",
   "execution_count": 103,
   "metadata": {},
   "outputs": [
    {
     "data": {
      "text/plain": [
       "[('papel', 25567.302401742185),\n",
       " ('pneu', 18989.21729040857),\n",
       " ('broca', 15727.763943387574),\n",
       " ('sonda', 13364.490840253493),\n",
       " ('luva', 13025.282085324918),\n",
       " ('filtro', 12686.0786209589),\n",
       " ('oleo', 12053.036743253262),\n",
       " ('tubo', 10590.03471786131),\n",
       " ('cabo', 10212.618488118605),\n",
       " ('fita', 8998.655322161243),\n",
       " ('fio', 8836.169030953532),\n",
       " ('comprimido', 8809.954370430982),\n",
       " ('cloridrato', 8200.519762620757),\n",
       " ('agulha', 7484.83090252869),\n",
       " ('pasta', 7323.130952314457),\n",
       " ('agua', 7201.332271052824),\n",
       " ('saco', 6917.397745875199),\n",
       " ('descartavel', 6505.610311402131),\n",
       " ('lampada', 6396.806553824517),\n",
       " ('tinta', 6322.944614165861),\n",
       " ('porta', 5736.286386966851),\n",
       " ('pincel', 5184.256800117997),\n",
       " ('envelope', 4807.870094125773),\n",
       " ('cola', 4751.867527308843),\n",
       " ('kit', 4637.313509674808),\n",
       " ('parafuso', 4616.919825615202),\n",
       " ('solucao', 4591.56116240174),\n",
       " ('ficha', 4541.626243710678),\n",
       " ('disjuntor', 4421.085861416931),\n",
       " ('placa', 4405.319016796141),\n",
       " ('ar', 4347.018953968565),\n",
       " ('po', 4271.1623103266065),\n",
       " ('acido', 4162.663907354626),\n",
       " ('resina', 4048.1007306673796),\n",
       " ('mesa', 3961.7068608433055),\n",
       " ('soro', 3940.723475963637),\n",
       " ('lamina', 3867.6090378568038),\n",
       " ('frasco', 3781.995532203292),\n",
       " ('bloco', 3693.7578278278584),\n",
       " ('liquido', 3677.0320342568807),\n",
       " ('alcool', 3646.3819589002223),\n",
       " ('exame', 3623.575447227192),\n",
       " ('folha', 3602.4691719057114),\n",
       " ('cartucho', 3549.5885548623555),\n",
       " ('pinca', 3395.512754820762),\n",
       " ('caneta', 3358.9649639888025),\n",
       " ('comp', 3330.7714776117023),\n",
       " ('registro', 3279.481943488615),\n",
       " ('algodao', 3259.446784660611),\n",
       " ('camara', 3217.4127556956832)]"
      ]
     },
     "execution_count": 103,
     "metadata": {},
     "output_type": "execute_result"
    }
   ],
   "source": [
    "tokens_importances[:50]"
   ]
  },
  {
   "cell_type": "code",
   "execution_count": 69,
   "metadata": {},
   "outputs": [],
   "source": [
    "top1000 = pd.DataFrame(tokens_importances[:1000], columns=['word', 'weight'])"
   ]
  },
  {
   "cell_type": "code",
   "execution_count": 70,
   "metadata": {},
   "outputs": [],
   "source": [
    "top1000.to_csv('top1000_weighted.csv', sep=',', index=False)"
   ]
  },
  {
   "cell_type": "code",
   "execution_count": 19,
   "metadata": {},
   "outputs": [],
   "source": [
    "values = [count for word, count in tokens_importances][:100]\n",
    "sum_values = sum(values[:100])\n",
    "values = [x/sum_values for x in values]"
   ]
  },
  {
   "cell_type": "code",
   "execution_count": 20,
   "metadata": {},
   "outputs": [
    {
     "data": {
      "image/png": "[encoded data removed]",
      "text/plain": [
       "<Figure size 432x288 with 1 Axes>"
      ]
     },
     "metadata": {
      "needs_background": "light"
     },
     "output_type": "display_data"
    }
   ],
   "source": [
    "import seaborn as sns\n",
    "from scipy.stats import norm\n",
    "\n",
    "ax = sns.distplot(values,\n",
    "                  kde=False,\n",
    "                  color='dodgerblue',\n",
    "                  hist_kws={\"linewidth\": 15,'alpha':1},\n",
    "                  fit=norm)\n",
    "ax.set(xlabel='Normal', ylabel='Frequency')\n",
    "plt.show()"
   ]
  },
  {
   "cell_type": "markdown",
   "metadata": {},
   "source": [
    "unigrams = []\n",
    "\n",
    "for doc in items_descriptions:\n",
    "    maxi = 0.0\n",
    "    pos = 1\n",
    "    tok_description_importance = {}\n",
    "    for token in doc:\n",
    "        importance = token_importance[token]/pos\n",
    "        tok_description_importance[token] = importance\n",
    "        pos += 1\n",
    "\n",
    "    unigram = None\n",
    "    for token, importance in tok_description_importance.items():\n",
    "        if importance > maxi:\n",
    "            maxi = importance\n",
    "            unigram = token\n",
    "    unigrams.append(unigram)"
   ]
  },
  {
   "cell_type": "code",
   "execution_count": 104,
   "metadata": {},
   "outputs": [],
   "source": [
    "unigrams = get_unigram_groups(items_descriptions, token_importance)"
   ]
  },
  {
   "cell_type": "code",
   "execution_count": 105,
   "metadata": {},
   "outputs": [
    {
     "data": {
      "text/plain": [
       "['colagenase',\n",
       " 'campo',\n",
       " 'kit',\n",
       " 'tinta',\n",
       " 'digital',\n",
       " 'sodio',\n",
       " 'panfleto',\n",
       " 'uso',\n",
       " 'ciprofloxacino',\n",
       " 'externar',\n",
       " 'po',\n",
       " 'tubo',\n",
       " 'limpo',\n",
       " 'papel',\n",
       " 'vassoura',\n",
       " 'solucao',\n",
       " 'massa',\n",
       " 'sulfadiazina',\n",
       " 'formulario',\n",
       " 'tinta',\n",
       " 'fator',\n",
       " 'suco',\n",
       " 'filtro',\n",
       " 'alavanca',\n",
       " 'cateter',\n",
       " 'cola',\n",
       " 'papel',\n",
       " 'cps',\n",
       " 'fio',\n",
       " 'filtro',\n",
       " 'fixador',\n",
       " 'milhar',\n",
       " 'papel',\n",
       " 'locao',\n",
       " 'cabo',\n",
       " 'borracha',\n",
       " 'padrao',\n",
       " 'calculador',\n",
       " 'saco',\n",
       " 'lenco',\n",
       " 'descartavel',\n",
       " 'reator',\n",
       " 'sulfadiazina',\n",
       " 'oleo',\n",
       " 'ebulidor',\n",
       " 'carne',\n",
       " 'broca',\n",
       " 'topiramato',\n",
       " 'oleo',\n",
       " 'folha']"
      ]
     },
     "execution_count": 105,
     "metadata": {},
     "output_type": "execute_result"
    }
   ],
   "source": [
    "unigrams[:50]"
   ]
  },
  {
   "cell_type": "code",
   "execution_count": 106,
   "metadata": {},
   "outputs": [],
   "source": [
    "groups = get_groups(unigrams)"
   ]
  },
  {
   "cell_type": "code",
   "execution_count": 107,
   "metadata": {},
   "outputs": [
    {
     "data": {
      "text/plain": [
       "10007"
      ]
     },
     "execution_count": 107,
     "metadata": {},
     "output_type": "execute_result"
    }
   ],
   "source": [
    "len(groups)"
   ]
  },
  {
   "cell_type": "code",
   "execution_count": 108,
   "metadata": {},
   "outputs": [],
   "source": [
    "groups_size = get_groups_size(groups)"
   ]
  },
  {
   "cell_type": "code",
   "execution_count": 109,
   "metadata": {
    "scrolled": true
   },
   "outputs": [
    {
     "data": {
      "text/plain": [
       "3007"
      ]
     },
     "execution_count": 109,
     "metadata": {},
     "output_type": "execute_result"
    }
   ],
   "source": [
    "groups_size.count(1)"
   ]
  },
  {
   "cell_type": "code",
   "execution_count": 89,
   "metadata": {},
   "outputs": [
    {
     "data": {
      "text/plain": [
       "['tinta',\n",
       " 'po',\n",
       " 'tubo',\n",
       " 'papel',\n",
       " 'solucao',\n",
       " 'filtro',\n",
       " 'fio',\n",
       " 'cabo',\n",
       " 'saco',\n",
       " 'descartavel']"
      ]
     },
     "execution_count": 89,
     "metadata": {},
     "output_type": "execute_result"
    }
   ],
   "source": [
    "group_sample = []\n",
    "\n",
    "for group, size in groups.items():\n",
    "    if size > 10000:\n",
    "        group_sample.append(group)\n",
    "        \n",
    "group_sample[:10]"
   ]
  },
  {
   "cell_type": "code",
   "execution_count": 90,
   "metadata": {},
   "outputs": [],
   "source": [
    "groups_size.sort(reverse=True)"
   ]
  },
  {
   "cell_type": "code",
   "execution_count": 91,
   "metadata": {},
   "outputs": [
    {
     "data": {
      "text/plain": [
       "[51228, 26924, 24224, 23990, 23152, 23119, 21542, 20965, 20628, 20043]"
      ]
     },
     "execution_count": 91,
     "metadata": {},
     "output_type": "execute_result"
    }
   ],
   "source": [
    "groups_size[:10]"
   ]
  },
  {
   "cell_type": "code",
   "execution_count": 92,
   "metadata": {},
   "outputs": [],
   "source": [
    "groups_names_size = groups_frequency_sort(groups)"
   ]
  },
  {
   "cell_type": "code",
   "execution_count": 93,
   "metadata": {},
   "outputs": [
    {
     "data": {
      "text/plain": [
       "[('papel', 51228),\n",
       " ('pneu', 26924),\n",
       " ('cabo', 24224),\n",
       " ('broca', 23990),\n",
       " ('comprimido', 23152),\n",
       " ('filtro', 23119),\n",
       " ('luva', 21542),\n",
       " ('sonda', 20965),\n",
       " ('tubo', 20628),\n",
       " ('fio', 20043)]"
      ]
     },
     "execution_count": 93,
     "metadata": {},
     "output_type": "execute_result"
    }
   ],
   "source": [
    "groups_names_size[:10]"
   ]
  },
  {
   "cell_type": "code",
   "execution_count": 94,
   "metadata": {
    "scrolled": true
   },
   "outputs": [
    {
     "name": "stdout",
     "output_type": "stream",
     "text": [
      "Mean: 150.8579147488493\n",
      "First quartile: 1.0\n",
      "Median: 3.0\n",
      "Third quartile: 14.0\n",
      "Std: 1164.8859738288156\n",
      "Var: 1356959.3320231081\n",
      "Max: 51228\n",
      "Min: 1.0\n"
     ]
    }
   ],
   "source": [
    "print_statistics(groups_size)"
   ]
  },
  {
   "cell_type": "code",
   "execution_count": 95,
   "metadata": {},
   "outputs": [
    {
     "data": {
      "image/png": "[encoded data removed]",
      "text/plain": [
       "<Figure size 720x576 with 1 Axes>"
      ]
     },
     "metadata": {},
     "output_type": "display_data"
    },
    {
     "data": {
      "text/plain": [
       "<Figure size 432x288 with 0 Axes>"
      ]
     },
     "metadata": {},
     "output_type": "display_data"
    }
   ],
   "source": [
    "plot_histogram(groups_size, 100, 'Nº de objetos', 'Nº de grupos', log=True)"
   ]
  },
  {
   "cell_type": "code",
   "execution_count": 96,
   "metadata": {},
   "outputs": [],
   "source": [
    "count_interval = {}\n",
    "count_interval['1'] = 0\n",
    "count_interval['(1,5]'] = 0\n",
    "count_interval['(5,10]'] = 0\n",
    "count_interval['(10,100]'] = 0\n",
    "count_interval['(100,1000]'] = 0\n",
    "count_interval['(1000,5000]'] = 0\n",
    "count_interval['(5000,10000]'] = 0\n",
    "count_interval['>10000'] = 0"
   ]
  },
  {
   "cell_type": "code",
   "execution_count": 97,
   "metadata": {},
   "outputs": [],
   "source": [
    "for p in groups_size:\n",
    "\n",
    "    if p == 1:\n",
    "        count_interval['1'] += 1\n",
    "    elif p > 1 and p <= 5:\n",
    "        count_interval['(1,5]'] += 1\n",
    "    elif p > 5 and p <= 10:\n",
    "        count_interval['(5,10]'] += 1\n",
    "    elif p > 10 and p <= 100:\n",
    "        count_interval['(10,100]'] += 1\n",
    "    elif p > 100 and p <= 1000:\n",
    "        count_interval['(100,1000]'] += 1\n",
    "    elif p > 1000 and p <= 5000:\n",
    "        count_interval['(1000,5000]'] += 1\n",
    "    elif p > 5000 and p <= 10000:\n",
    "        count_interval['(5000,10000]'] += 1\n",
    "    else:\n",
    "        count_interval['>10000'] += 1"
   ]
  },
  {
   "cell_type": "code",
   "execution_count": 98,
   "metadata": {},
   "outputs": [
    {
     "name": "stdout",
     "output_type": "stream",
     "text": [
      "1 : 3010 30.118070842505503\n",
      "(1,5] : 3287 32.88973384030418\n",
      "(5,10] : 844 8.445067040224135\n",
      "(10,100] : 1765 17.66059635781469\n",
      "(100,1000] : 819 8.194916950170102\n",
      "(1000,5000] : 209 2.091254752851711\n",
      "(5000,10000] : 34 0.3402041224734841\n",
      ">10000 : 26 0.26015609365619374\n"
     ]
    }
   ],
   "source": [
    "total = 0\n",
    "lines = []\n",
    "aux = 0\n",
    "for interval, value in count_interval.items():\n",
    "    print(interval, ':', value, 100*float(value)/len(groups))\n",
    "    for i in range(0, value):\n",
    "        lines.append([interval])\n",
    "        aux += 1\n",
    "    total += value"
   ]
  },
  {
   "cell_type": "code",
   "execution_count": 99,
   "metadata": {},
   "outputs": [
    {
     "name": "stdout",
     "output_type": "stream",
     "text": [
      "<class 'pandas.core.frame.DataFrame'>\n",
      "RangeIndex: 9994 entries, 0 to 9993\n",
      "Data columns (total 1 columns):\n",
      "Preço    9994 non-null object\n",
      "dtypes: object(1)\n",
      "memory usage: 78.2+ KB\n"
     ]
    }
   ],
   "source": [
    "intervals_df = pd.DataFrame(lines, columns=[\"Preço\"])\n",
    "intervals_df.info()"
   ]
  },
  {
   "cell_type": "code",
   "execution_count": 100,
   "metadata": {},
   "outputs": [
    {
     "data": {
      "image/png": "[encoded data removed]",
      "text/plain": [
       "<Figure size 864x576 with 1 Axes>"
      ]
     },
     "metadata": {},
     "output_type": "display_data"
    },
    {
     "data": {
      "text/plain": [
       "<Figure size 432x288 with 0 Axes>"
      ]
     },
     "metadata": {},
     "output_type": "display_data"
    }
   ],
   "source": [
    "import seaborn as sns\n",
    "sns.set_style(\"white\")\n",
    "\n",
    "fig, (axis1) = plt.subplots(figsize=(12,8))\n",
    "\n",
    "sns.countplot(y=\"Preço\", data=intervals_df, color='dodgerblue')\n",
    "\n",
    "axis1.set_xlabel(\"Nº de grupos\", fontsize=20, weight='bold')\n",
    "axis1.set_ylabel(\"Nº de objetos\", fontsize=20, weight='bold')\n",
    "plt.grid(False)\n",
    "\n",
    "total = len(intervals_df)\n",
    "for p in axis1.patches:\n",
    "    width = p.get_width()\n",
    "    axis1.text(width, p.get_y()+0.7, '(%d)'%(width), fontsize=15)\n",
    "    axis1.text(width, p.get_y()+0.4, '%.2f%%'%(100*float(width)/total), fontsize=15)\n",
    "\n",
    "plt.yticks(fontsize=16)\n",
    "plt.xticks(fontsize=16)\n",
    "\n",
    "plt.show()\n",
    "plt.clf()"
   ]
  },
  {
   "cell_type": "code",
   "execution_count": 37,
   "metadata": {},
   "outputs": [],
   "source": [
    "bigrams = get_two_tokens_groups(items_descriptions, token_count)"
   ]
  },
  {
   "cell_type": "code",
   "execution_count": null,
   "metadata": {},
   "outputs": [],
   "source": [
    "bigrams_groups = get_groups(bigrams)"
   ]
  },
  {
   "cell_type": "code",
   "execution_count": null,
   "metadata": {},
   "outputs": [],
   "source": [
    "group_sample = []\n",
    "\n",
    "for group, size in bigrams_groups.items():\n",
    "    if size >= 2000:\n",
    "        group_sample.append(group)\n",
    "        \n",
    "group_sample[:10]"
   ]
  },
  {
   "cell_type": "code",
   "execution_count": null,
   "metadata": {},
   "outputs": [],
   "source": [
    "len(bigrams_groups)"
   ]
  },
  {
   "cell_type": "code",
   "execution_count": null,
   "metadata": {},
   "outputs": [],
   "source": [
    "bigrams_groups_size = get_groups_size(bigrams_groups)"
   ]
  },
  {
   "cell_type": "code",
   "execution_count": null,
   "metadata": {},
   "outputs": [],
   "source": [
    "bigrams_groups_size.count(1)"
   ]
  },
  {
   "cell_type": "code",
   "execution_count": null,
   "metadata": {},
   "outputs": [],
   "source": [
    "bigrams_groups_names_size = groups_frequency_sort(bigrams_groups)"
   ]
  },
  {
   "cell_type": "code",
   "execution_count": null,
   "metadata": {},
   "outputs": [],
   "source": [
    "bigrams_groups_names_size[:10]"
   ]
  },
  {
   "cell_type": "code",
   "execution_count": null,
   "metadata": {},
   "outputs": [],
   "source": [
    "print_statistics(bigrams_groups_size)"
   ]
  },
  {
   "cell_type": "code",
   "execution_count": null,
   "metadata": {},
   "outputs": [],
   "source": [
    "plot_histogram(bigrams_groups_size, 100, 'Nº de objetos', 'Nº de grupos', log=True)"
   ]
  },
  {
   "cell_type": "code",
   "execution_count": null,
   "metadata": {},
   "outputs": [],
   "source": [
    "count_interval = {}\n",
    "count_interval['1'] = 0\n",
    "count_interval['(1,5]'] = 0\n",
    "count_interval['(5,10]'] = 0\n",
    "count_interval['(10,100]'] = 0\n",
    "count_interval['(100,1000]'] = 0\n",
    "count_interval['(1000,2000]'] = 0\n",
    "count_interval['>2000'] = 0"
   ]
  },
  {
   "cell_type": "code",
   "execution_count": null,
   "metadata": {},
   "outputs": [],
   "source": [
    "for p in bigrams_groups_size:\n",
    "\n",
    "    if p == 1:\n",
    "        count_interval['1'] += 1\n",
    "    elif p > 1 and p <= 5:\n",
    "        count_interval['(1,5]'] += 1\n",
    "    elif p > 5 and p <= 10:\n",
    "        count_interval['(5,10]'] += 1\n",
    "    elif p > 10 and p <= 100:\n",
    "        count_interval['(10,100]'] += 1\n",
    "    elif p > 100 and p <= 1000:\n",
    "        count_interval['(100,1000]'] += 1\n",
    "    elif p > 1000 and p <= 2000:\n",
    "        count_interval['(1000,2000]'] += 1\n",
    "    else:\n",
    "        count_interval['>2000'] += 1"
   ]
  },
  {
   "cell_type": "code",
   "execution_count": null,
   "metadata": {},
   "outputs": [],
   "source": [
    "total = 0\n",
    "lines = []\n",
    "aux = 0\n",
    "for interval, value in count_interval.items():\n",
    "    print(interval, ':', value, 100*float(value)/len(bigrams_groups))\n",
    "    for i in range(0, value):\n",
    "        lines.append([interval])\n",
    "        aux += 1\n",
    "    total += value"
   ]
  },
  {
   "cell_type": "code",
   "execution_count": null,
   "metadata": {},
   "outputs": [],
   "source": [
    "intervals_df = pd.DataFrame(lines, columns=[\"Preço\"])\n",
    "intervals_df.info()"
   ]
  },
  {
   "cell_type": "code",
   "execution_count": null,
   "metadata": {},
   "outputs": [],
   "source": [
    "import seaborn as sns\n",
    "sns.set_style(\"white\")\n",
    "\n",
    "fig, (axis1) = plt.subplots(figsize=(12,8))\n",
    "\n",
    "sns.countplot(y=\"Preço\", data=intervals_df, color='dodgerblue')\n",
    "\n",
    "axis1.set_xlabel(\"Nº de grupos\", fontsize=20, weight='bold')\n",
    "axis1.set_ylabel(\"Nº de objetos\", fontsize=20, weight='bold')\n",
    "plt.grid(False)\n",
    "\n",
    "total = len(intervals_df)\n",
    "for p in axis1.patches:\n",
    "    width = p.get_width()\n",
    "    axis1.text(width, p.get_y()+0.7, '(%d)'%(width), fontsize=15)\n",
    "    axis1.text(width, p.get_y()+0.4, '%.2f%%'%(100*float(width)/total), fontsize=15)\n",
    "\n",
    "plt.yticks(fontsize=16)\n",
    "plt.xticks(fontsize=16)\n",
    "\n",
    "plt.show()\n",
    "plt.clf()"
   ]
  },
  {
   "cell_type": "code",
   "execution_count": null,
   "metadata": {},
   "outputs": [],
   "source": [
    "first_tokens = get_first_token_groups(items_descriptions)"
   ]
  },
  {
   "cell_type": "code",
   "execution_count": null,
   "metadata": {},
   "outputs": [],
   "source": [
    "first_tokens_groups = get_groups(first_tokens)"
   ]
  },
  {
   "cell_type": "code",
   "execution_count": null,
   "metadata": {},
   "outputs": [],
   "source": [
    "len(first_tokens_groups)"
   ]
  },
  {
   "cell_type": "code",
   "execution_count": null,
   "metadata": {},
   "outputs": [],
   "source": [
    "firstt_groups_size = get_groups_size(first_tokens_groups)"
   ]
  },
  {
   "cell_type": "code",
   "execution_count": null,
   "metadata": {},
   "outputs": [],
   "source": [
    "firstt_groups_size.count(1)"
   ]
  },
  {
   "cell_type": "code",
   "execution_count": null,
   "metadata": {},
   "outputs": [],
   "source": [
    "group_sample = []\n",
    "\n",
    "for group, size in first_tokens_groups.items():\n",
    "    if size > 5000:\n",
    "        group_sample.append(group)\n",
    "        \n",
    "group_sample[:10]"
   ]
  },
  {
   "cell_type": "code",
   "execution_count": null,
   "metadata": {},
   "outputs": [],
   "source": [
    "print_statistics(firstt_groups_size)"
   ]
  },
  {
   "cell_type": "code",
   "execution_count": null,
   "metadata": {},
   "outputs": [],
   "source": [
    "firstt_groups_names_size = groups_frequency_sort(first_tokens_groups)"
   ]
  },
  {
   "cell_type": "code",
   "execution_count": null,
   "metadata": {},
   "outputs": [],
   "source": [
    "firstt_groups_names_size[:10]"
   ]
  },
  {
   "cell_type": "code",
   "execution_count": null,
   "metadata": {},
   "outputs": [],
   "source": [
    "plot_histogram(firstt_groups_size, 100, 'Nº de objetos', 'Nº de grupos', log=True)"
   ]
  },
  {
   "cell_type": "code",
   "execution_count": null,
   "metadata": {},
   "outputs": [],
   "source": [
    "count_interval = {}\n",
    "count_interval['1'] = 0\n",
    "count_interval['(1,5]'] = 0\n",
    "count_interval['(5,10]'] = 0\n",
    "count_interval['(10,100]'] = 0\n",
    "count_interval['(100,1000]'] = 0\n",
    "count_interval['(1000,5000]'] = 0\n",
    "count_interval['>5000'] = 0"
   ]
  },
  {
   "cell_type": "code",
   "execution_count": null,
   "metadata": {},
   "outputs": [],
   "source": [
    "for p in firstt_groups_size:\n",
    "\n",
    "    if p == 1:\n",
    "        count_interval['1'] += 1\n",
    "    elif p > 1 and p <= 5:\n",
    "        count_interval['(1,5]'] += 1\n",
    "    elif p > 5 and p <= 10:\n",
    "        count_interval['(5,10]'] += 1\n",
    "    elif p > 10 and p <= 100:\n",
    "        count_interval['(10,100]'] += 1\n",
    "    elif p > 100 and p <= 1000:\n",
    "        count_interval['(100,1000]'] += 1\n",
    "    elif p > 1000 and p <= 5000:\n",
    "        count_interval['(1000,5000]'] += 1\n",
    "    else:\n",
    "        count_interval['>5000'] += 1"
   ]
  },
  {
   "cell_type": "code",
   "execution_count": null,
   "metadata": {},
   "outputs": [],
   "source": [
    "total = 0\n",
    "lines = []\n",
    "aux = 0\n",
    "for interval, value in count_interval.items():\n",
    "    print(interval, ':', value, 100*float(value)/len(first_tokens_groups))\n",
    "    for i in range(0, value):\n",
    "        lines.append([interval])\n",
    "        aux += 1\n",
    "    total += value"
   ]
  },
  {
   "cell_type": "code",
   "execution_count": null,
   "metadata": {},
   "outputs": [],
   "source": [
    "intervals_df = pd.DataFrame(lines, columns=[\"Preço\"])\n",
    "intervals_df.info()"
   ]
  },
  {
   "cell_type": "code",
   "execution_count": null,
   "metadata": {},
   "outputs": [],
   "source": [
    "import seaborn as sns\n",
    "sns.set_style(\"white\")\n",
    "\n",
    "fig, (axis1) = plt.subplots(figsize=(12,8))\n",
    "\n",
    "sns.countplot(y=\"Preço\", data=intervals_df, color='dodgerblue')\n",
    "\n",
    "axis1.set_xlabel(\"Nº de grupos\", fontsize=20, weight='bold')\n",
    "axis1.set_ylabel(\"Nº de objetos\", fontsize=20, weight='bold')\n",
    "plt.grid(False)\n",
    "\n",
    "total = len(intervals_df)\n",
    "for p in axis1.patches:\n",
    "    width = p.get_width()\n",
    "    axis1.text(width, p.get_y()+0.7, '(%d)'%(width), fontsize=15)\n",
    "    axis1.text(width, p.get_y()+0.4, '%.2f%%'%(100*float(width)/total), fontsize=15)\n",
    "\n",
    "plt.yticks(fontsize=16)\n",
    "plt.xticks(fontsize=16)\n",
    "\n",
    "plt.show()\n",
    "plt.clf()"
   ]
  },
  {
   "cell_type": "code",
   "execution_count": null,
   "metadata": {},
   "outputs": [],
   "source": [
    "data2 = data[['nom_item', 'vlr_unitario_homologado']]\n",
    "data2.info()"
   ]
  },
  {
   "cell_type": "code",
   "execution_count": null,
   "metadata": {},
   "outputs": [],
   "source": [
    "items_prices = data2.values.tolist()"
   ]
  },
  {
   "cell_type": "code",
   "execution_count": null,
   "metadata": {},
   "outputs": [],
   "source": [
    "tuples = []\n",
    "\n",
    "for l in items_prices :\n",
    "    tuples.append((l[0], l[1]))"
   ]
  },
  {
   "cell_type": "code",
   "execution_count": null,
   "metadata": {},
   "outputs": [],
   "source": [
    "items_prices = list(tuples)"
   ]
  },
  {
   "cell_type": "code",
   "execution_count": null,
   "metadata": {},
   "outputs": [],
   "source": [
    "len(items_prices)"
   ]
  },
  {
   "cell_type": "code",
   "execution_count": null,
   "metadata": {},
   "outputs": [],
   "source": [
    "items_descriptions_prices = []\n",
    "\n",
    "for i in range(0, len(items_prices)):\n",
    "    items_descriptions_prices.append((items_descriptions[i], items_prices[i][1]))"
   ]
  },
  {
   "cell_type": "code",
   "execution_count": null,
   "metadata": {},
   "outputs": [],
   "source": [
    "len(items_descriptions_prices)"
   ]
  },
  {
   "cell_type": "code",
   "execution_count": null,
   "metadata": {},
   "outputs": [],
   "source": [
    "groups_prices = collections.defaultdict(list)\n",
    "stopwords_ = get_stopwords()\n",
    "\n",
    "for description, price in items_descriptions_prices:\n",
    "    doc_tokenized = description\n",
    "    if len(doc_tokenized) != 0 and price != 0:\n",
    "        groups_prices[doc_tokenized[0]].append(price)"
   ]
  },
  {
   "cell_type": "code",
   "execution_count": null,
   "metadata": {},
   "outputs": [],
   "source": [
    "len(groups_prices)"
   ]
  },
  {
   "cell_type": "code",
   "execution_count": null,
   "metadata": {},
   "outputs": [],
   "source": [
    "firstt_groups_names_size[:10]"
   ]
  },
  {
   "cell_type": "code",
   "execution_count": null,
   "metadata": {
    "scrolled": true
   },
   "outputs": [],
   "source": [
    "for group in firstt_groups_names_size[:10]:\n",
    "    print(group[0].upper())\n",
    "    print_statistics(groups_prices[group[0]])"
   ]
  },
  {
   "cell_type": "code",
   "execution_count": null,
   "metadata": {},
   "outputs": [],
   "source": []
  }
 ],
 "metadata": {
  "kernelspec": {
   "display_name": "Python 3",
   "language": "python",
   "name": "python3"
  },
  "language_info": {
   "codemirror_mode": {
    "name": "ipython",
    "version": 3
   },
   "file_extension": ".py",
   "mimetype": "text/x-python",
   "name": "python",
   "nbconvert_exporter": "python",
   "pygments_lexer": "ipython3",
   "version": "3.7.4"
  }
 },
 "nbformat": 4,
 "nbformat_minor": 2
}
