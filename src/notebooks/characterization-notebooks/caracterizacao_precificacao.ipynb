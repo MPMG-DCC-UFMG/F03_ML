{
 "cells": [
  {
   "cell_type": "code",
   "execution_count": null,
   "metadata": {},
   "outputs": [],
   "source": [
    "import pandas as pd\n",
    "import numpy as np\n",
    "import collections\n",
    "import copy\n",
    "import random\n",
    "import re\n",
    "import matplotlib.pyplot as plt\n",
    "from nlp.utils import (\n",
    "    plot_histogram,\n",
    "    get_completetext,\n",
    "    plot_wordcloud,\n",
    "    print_statistics,\n",
    "    groups_frequency_sort)\n",
    "from nlp.text_statistics import (\n",
    "    count_tokens,\n",
    "    unique_tokens\n",
    ")\n",
    "from utils.read_files import (\n",
    "    get_items)\n",
    "from item.item_list import (\n",
    "    ItemList,\n",
    "    Item\n",
    ")\n",
    "from item.utils import get_tokens_set\n",
    "from item.clustering.utils import *"
   ]
  },
  {
   "cell_type": "markdown",
   "metadata": {},
   "source": [
    "# Load price statistics"
   ]
  },
  {
   "cell_type": "code",
   "execution_count": null,
   "metadata": {},
   "outputs": [],
   "source": [
    "prices = pd.read_csv('../data/output/druid_fasttext/cluster_prices_statistics.csv.zip', sep=';')"
   ]
  },
  {
   "cell_type": "code",
   "execution_count": null,
   "metadata": {},
   "outputs": [],
   "source": [
    "prices.info()"
   ]
  },
  {
   "cell_type": "code",
   "execution_count": null,
   "metadata": {},
   "outputs": [],
   "source": [
    "prices[prices.grupo == 'canula_0'].head(200)"
   ]
  },
  {
   "cell_type": "code",
   "execution_count": null,
   "metadata": {},
   "outputs": [],
   "source": [
    "pd.options.display.float_format = '{:,.2f}'.format\n",
    "prices[prices.grupo == 'mascara_28'].set_index(['grupo']).drop(['primeiro_termo'], axis=1)"
   ]
  },
  {
   "cell_type": "code",
   "execution_count": null,
   "metadata": {},
   "outputs": [],
   "source": [
    "len(set(prices[prices.primeiro_termo == 'abobora']['grupo']))"
   ]
  },
  {
   "cell_type": "code",
   "execution_count": null,
   "metadata": {},
   "outputs": [],
   "source": [
    "len(set(prices[\"cluster\"]))"
   ]
  },
  {
   "cell_type": "raw",
   "metadata": {},
   "source": []
  },
  {
   "cell_type": "markdown",
   "metadata": {},
   "source": [
    "# Load train set"
   ]
  },
  {
   "cell_type": "code",
   "execution_count": null,
   "metadata": {},
   "outputs": [],
   "source": [
    "train_prices = pd.read_csv('../data/output/druid_fasttext/items_clusters_train_wo_out.csv.zip', sep=';', low_memory=False)"
   ]
  },
  {
   "cell_type": "code",
   "execution_count": null,
   "metadata": {},
   "outputs": [],
   "source": [
    "train_prices.info()"
   ]
  },
  {
   "cell_type": "code",
   "execution_count": null,
   "metadata": {},
   "outputs": [],
   "source": [
    "len(train_prices[train_prices.grupo == 'gasolina_1'])"
   ]
  },
  {
   "cell_type": "code",
   "execution_count": null,
   "metadata": {},
   "outputs": [],
   "source": [
    "len(train_prices[(train_prices.grupo == 'canula_1')])"
   ]
  },
  {
   "cell_type": "code",
   "execution_count": null,
   "metadata": {
    "scrolled": true
   },
   "outputs": [],
   "source": [
    "pd.set_option('display.max_rows', None)\n",
    "pd.set_option('display.max_columns', None)\n",
    "pd.set_option('display.max_colwidth', None)\n",
    "# train_prices[(train_prices.grupo == 'mascara_28') & (train_prices.dsc_unidade_medida == 'kit')]\n",
    "train_prices[(train_prices.primeiro_termo == 'gasolina') & (train_prices.grupo_ruido == 0)].head(1000)"
   ]
  },
  {
   "cell_type": "code",
   "execution_count": null,
   "metadata": {},
   "outputs": [],
   "source": [
    "train_prices['divided'] = (train_prices['cluster'] != train_prices['first_token'])"
   ]
  },
  {
   "cell_type": "code",
   "execution_count": null,
   "metadata": {},
   "outputs": [],
   "source": [
    "len(set(train_prices[(train_prices.first_token == \"papel\") & (train_prices.outlier == 0)]['cluster']))"
   ]
  },
  {
   "cell_type": "code",
   "execution_count": null,
   "metadata": {},
   "outputs": [],
   "source": [
    "train_prices.head()"
   ]
  },
  {
   "cell_type": "markdown",
   "metadata": {},
   "source": [
    "## Groups"
   ]
  },
  {
   "cell_type": "code",
   "execution_count": null,
   "metadata": {},
   "outputs": [],
   "source": [
    "groups_train = train_prices[['cluster', 'first_token', 'divided', 'outlier']]"
   ]
  },
  {
   "cell_type": "code",
   "execution_count": null,
   "metadata": {},
   "outputs": [],
   "source": [
    "groups_train.head()"
   ]
  },
  {
   "cell_type": "code",
   "execution_count": null,
   "metadata": {},
   "outputs": [],
   "source": [
    "groups_train = groups_train.drop_duplicates()"
   ]
  },
  {
   "cell_type": "code",
   "execution_count": null,
   "metadata": {},
   "outputs": [],
   "source": [
    "groups_train.info()"
   ]
  },
  {
   "cell_type": "code",
   "execution_count": null,
   "metadata": {},
   "outputs": [],
   "source": [
    "groups_train.head()"
   ]
  },
  {
   "cell_type": "code",
   "execution_count": null,
   "metadata": {},
   "outputs": [],
   "source": [
    "groups_train['count'] = groups_train['first_token'].map(groups_train['first_token'].value_counts())"
   ]
  },
  {
   "cell_type": "code",
   "execution_count": null,
   "metadata": {},
   "outputs": [],
   "source": [
    "groups_train['label'] = \"Subdividido\""
   ]
  },
  {
   "cell_type": "code",
   "execution_count": null,
   "metadata": {},
   "outputs": [],
   "source": [
    "groups_train.loc[groups_train['outlier'] == 1, 'label'] = 'Ruído'"
   ]
  },
  {
   "cell_type": "code",
   "execution_count": null,
   "metadata": {},
   "outputs": [],
   "source": [
    "groups_train.loc[groups_train['divided'] == False, 'label'] = 'Não Subdividido'"
   ]
  },
  {
   "cell_type": "code",
   "execution_count": null,
   "metadata": {},
   "outputs": [],
   "source": [
    "groups_train.loc[(groups_train['divided'] == True) & (groups_train['count'] == 1), 'label'] = 'Apenas Ruído'"
   ]
  },
  {
   "cell_type": "code",
   "execution_count": null,
   "metadata": {},
   "outputs": [],
   "source": [
    "groups_train.head()"
   ]
  },
  {
   "cell_type": "code",
   "execution_count": null,
   "metadata": {},
   "outputs": [],
   "source": [
    "import seaborn as sns\n",
    "sns.set_style(\"white\")\n",
    "\n",
    "fig, (axis1) = plt.subplots(figsize=(12,8))\n",
    "\n",
    "sns.countplot(x=\"label\", data=groups_train, color='dodgerblue', order=['Subdividido', 'Não Subdividido', 'Ruído', 'Apenas Ruído'])\n",
    "\n",
    "axis1.set_xlabel(\"Grupo\", fontsize=20, weight='bold')\n",
    "axis1.set_ylabel(\"Nº de grupos\", fontsize=20, weight='bold')\n",
    "plt.grid(False)\n",
    "\n",
    "total = len(groups_train)\n",
    "for p in axis1.patches:\n",
    "    height = p.get_height()\n",
    "    axis1.text(p.get_x()+0.07, height+1, '(%d)'%(height), fontsize=15)\n",
    "    axis1.text(p.get_x()+0.45, height+1, '%.2f%%'%(100*float(height)/total), fontsize=15)\n",
    "\n",
    "plt.yticks(fontsize=16)\n",
    "plt.xticks(fontsize=16)\n",
    "\n",
    "plt.show()\n",
    "plt.clf()"
   ]
  },
  {
   "cell_type": "code",
   "execution_count": null,
   "metadata": {},
   "outputs": [],
   "source": [
    "from nlp.utils import (\n",
    "    plot_histogram,\n",
    "    get_completetext,\n",
    "    plot_wordcloud,\n",
    "    print_statistics,\n",
    "    groups_frequency_sort)"
   ]
  },
  {
   "cell_type": "code",
   "execution_count": null,
   "metadata": {},
   "outputs": [],
   "source": [
    "subgroups = list(groups_train['first_token'].value_counts())\n",
    "plot_histogram(subgroups, 80, 'Nº de grupos', 'Nº de subgrupos (log)', log=True)"
   ]
  },
  {
   "cell_type": "code",
   "execution_count": null,
   "metadata": {},
   "outputs": [],
   "source": [
    "groups_train[['first_token', 'count']].drop_duplicates().sort_values(['count'], ascending=False).head()"
   ]
  },
  {
   "cell_type": "code",
   "execution_count": null,
   "metadata": {},
   "outputs": [],
   "source": [
    "len(groups_train[['first_token', 'label']][groups_train.label == \"Apenas Ruído\"].drop_duplicates())"
   ]
  },
  {
   "cell_type": "code",
   "execution_count": null,
   "metadata": {},
   "outputs": [],
   "source": [
    "len(groups_train[['first_token', 'label']].drop_duplicates())"
   ]
  },
  {
   "cell_type": "markdown",
   "metadata": {},
   "source": [
    "## Get group descriptions"
   ]
  },
  {
   "cell_type": "code",
   "execution_count": null,
   "metadata": {},
   "outputs": [],
   "source": [
    "results_train, outliers_train, prices_train = load_clustering_results_pickle('../data/output/druid/')"
   ]
  },
  {
   "cell_type": "code",
   "execution_count": null,
   "metadata": {},
   "outputs": [],
   "source": [
    "itemlist_train = ItemList()\n",
    "itemlist_train.load_items_from_file('../data/output/druid_fasttext/f03_items.csv.zip')"
   ]
  },
  {
   "cell_type": "code",
   "execution_count": null,
   "metadata": {},
   "outputs": [],
   "source": [
    "items_train = itemlist_train.items_df.copy()"
   ]
  },
  {
   "cell_type": "code",
   "execution_count": null,
   "metadata": {},
   "outputs": [],
   "source": [
    "items_train.head()"
   ]
  },
  {
   "cell_type": "code",
   "execution_count": null,
   "metadata": {},
   "outputs": [],
   "source": [
    "items_train_clusters = pd.merge(left=train_prices[['item_id', 'grupo', 'primeiro_termo', 'grupo_ruido']],\n",
    "                                right=items_train[['item_id', 'original', 'palavras', 'unidades_medida', 'numeros', 'cores', 'materiais', 'tamanho', 'quantidade', 'preco']],\n",
    "                                left_on='item_id', right_on='item_id')"
   ]
  },
  {
   "cell_type": "code",
   "execution_count": null,
   "metadata": {
    "scrolled": true
   },
   "outputs": [],
   "source": [
    "items_train_clusters[(items_train_clusters.primeiro_termo == 'oleo') & (items_train_clusters.numeros != '[]') & (items_train_clusters.grupo_ruido == 0)].head(1000)"
   ]
  },
  {
   "cell_type": "code",
   "execution_count": null,
   "metadata": {
    "scrolled": true
   },
   "outputs": [],
   "source": [
    "results_train['canula_1']"
   ]
  },
  {
   "cell_type": "code",
   "execution_count": null,
   "metadata": {},
   "outputs": [],
   "source": [
    "itemlist_train.items_df['description'] = [' '.join(eval(description)) for description in list(itemlist_train.items_df['original_prep'])]"
   ]
  },
  {
   "cell_type": "code",
   "execution_count": null,
   "metadata": {},
   "outputs": [],
   "source": [
    "itemlist_train.items_df.head()"
   ]
  },
  {
   "cell_type": "code",
   "execution_count": null,
   "metadata": {},
   "outputs": [],
   "source": [
    "len(results_train['canula_36'])"
   ]
  },
  {
   "cell_type": "code",
   "execution_count": null,
   "metadata": {},
   "outputs": [],
   "source": [
    "group_name = 'mascara_17'\n",
    "items = itemlist_train.items_df.iloc[results_train[group_name], :]"
   ]
  },
  {
   "cell_type": "code",
   "execution_count": null,
   "metadata": {
    "scrolled": true
   },
   "outputs": [],
   "source": [
    "pd.set_option('display.max_rows', None)\n",
    "pd.set_option('display.max_columns', None)\n",
    "pd.set_option('display.max_colwidth', None)\n",
    "items"
   ]
  },
  {
   "cell_type": "raw",
   "metadata": {},
   "source": []
  },
  {
   "cell_type": "markdown",
   "metadata": {},
   "source": [
    "# Load test set"
   ]
  },
  {
   "cell_type": "code",
   "execution_count": null,
   "metadata": {},
   "outputs": [],
   "source": [
    "itemlist = ItemList()\n",
    "itemlist.load_items_from_file('../dados/items_preprocessed_v3_complete_test.csv.zip')"
   ]
  },
  {
   "cell_type": "code",
   "execution_count": null,
   "metadata": {},
   "outputs": [],
   "source": [
    "items_test = itemlist.items_df.copy()"
   ]
  },
  {
   "cell_type": "code",
   "execution_count": null,
   "metadata": {},
   "outputs": [],
   "source": [
    "test_prices = pd.read_csv('../dados/precificacao/fasttext_skip100/complete/baseline+embeddings/SUB+MED+unit+num_concat_umap_hdbscan_euclidean/items_clusters_test.csv.zip', sep=';')"
   ]
  },
  {
   "cell_type": "code",
   "execution_count": null,
   "metadata": {},
   "outputs": [],
   "source": [
    "test_prices.info()"
   ]
  },
  {
   "cell_type": "code",
   "execution_count": null,
   "metadata": {},
   "outputs": [],
   "source": [
    "items_test.info()"
   ]
  },
  {
   "cell_type": "code",
   "execution_count": null,
   "metadata": {},
   "outputs": [],
   "source": [
    "len(test_prices)"
   ]
  },
  {
   "cell_type": "code",
   "execution_count": null,
   "metadata": {},
   "outputs": [],
   "source": [
    "test_prices.head()"
   ]
  },
  {
   "cell_type": "code",
   "execution_count": null,
   "metadata": {},
   "outputs": [],
   "source": [
    "100*(float(len(test_prices[test_prices.cluster == '-2']))/len(test_prices))"
   ]
  },
  {
   "cell_type": "code",
   "execution_count": null,
   "metadata": {},
   "outputs": [],
   "source": [
    "100*(float(len(test_prices[(test_prices.outlier == 1) & (test_prices.cluster != '-2')]))/len(test_prices))"
   ]
  },
  {
   "cell_type": "code",
   "execution_count": null,
   "metadata": {},
   "outputs": [],
   "source": [
    "100*(float(len(test_prices[(test_prices.outlier == 0) & (test_prices['count'] == -1.00)]))/len(test_prices))"
   ]
  },
  {
   "cell_type": "code",
   "execution_count": null,
   "metadata": {},
   "outputs": [],
   "source": [
    "100*(float(len(test_prices[(test_prices['count'] != -1.00) & (test_prices['count'] < 20)]))/len(test_prices))"
   ]
  },
  {
   "cell_type": "code",
   "execution_count": null,
   "metadata": {},
   "outputs": [],
   "source": [
    "100*(float(len(test_prices_wonan[(test_prices_wonan.alert == True) & (test_prices_wonan['count'] >= 20)]))/len(test_prices))"
   ]
  },
  {
   "cell_type": "code",
   "execution_count": null,
   "metadata": {},
   "outputs": [],
   "source": [
    "items_test['id'] = range(len(items_test))\n",
    "items_test = items_test[items_test.palavras != '[]']"
   ]
  },
  {
   "cell_type": "code",
   "execution_count": null,
   "metadata": {},
   "outputs": [],
   "source": [
    "test_prices = pd.merge(left=test_prices, right=items_test[['id', 'original']], left_on='item_id', right_on='id')"
   ]
  },
  {
   "cell_type": "code",
   "execution_count": null,
   "metadata": {},
   "outputs": [],
   "source": [
    "test_prices.head()"
   ]
  },
  {
   "cell_type": "code",
   "execution_count": null,
   "metadata": {},
   "outputs": [],
   "source": [
    "test_prices_wonan = test_prices.dropna(axis=0, subset=['std'])"
   ]
  },
  {
   "cell_type": "code",
   "execution_count": null,
   "metadata": {},
   "outputs": [],
   "source": [
    "test_prices_wonan['alert'] = np.where((test_prices_wonan['price'] > test_prices_wonan['mean'] + 2*test_prices_wonan['std']) | (test_prices_wonan['price'] < test_prices_wonan['mean'] - 2*test_prices_wonan['std']), True, False)"
   ]
  },
  {
   "cell_type": "code",
   "execution_count": null,
   "metadata": {},
   "outputs": [],
   "source": [
    "test_prices[test_prices.cluster == 'gasolina_4'].head(200)"
   ]
  },
  {
   "cell_type": "code",
   "execution_count": null,
   "metadata": {},
   "outputs": [],
   "source": [
    "pd.set_option(\"display.max_rows\", None, \"display.max_columns\", None, \"display.max_colwidth\", None)\n",
    "test_prices[test_prices.cluster == 'dea_0'].set_index(['cluster']).drop(['item_id', 'id', 'seq_dim_licitacao', 'outlier', 'cluster_prob', 'areas', 'mean', 'count', 'max', 'min', 'median', 'std', 'var', 'quantile_1', 'quantile_3'], axis=1)"
   ]
  },
  {
   "cell_type": "code",
   "execution_count": null,
   "metadata": {
    "scrolled": true
   },
   "outputs": [],
   "source": [
    "pd.set_option(\"display.max_rows\", None, \"display.max_columns\", None, \"display.max_colwidth\", None)\n",
    "test_prices_wonan[(test_prices_wonan.cluster == 'pneu_1') & (test_prices_wonan.alert == True)].set_index(['cluster']).drop(['id', 'seq_dim_licitacao', 'outlier', 'cluster_prob', 'areas', 'count', 'max', 'min', 'median', 'var', 'quantile_1', 'quantile_3'], axis=1)"
   ]
  },
  {
   "cell_type": "code",
   "execution_count": null,
   "metadata": {},
   "outputs": [],
   "source": [
    "len(test_prices[test_prices.cluster == 'pneu_1'])"
   ]
  },
  {
   "cell_type": "code",
   "execution_count": null,
   "metadata": {},
   "outputs": [],
   "source": [
    "len(test_prices_wonan[(test_prices_wonan.cluster == 'pneu_1') & (test_prices_wonan.alert == True)])"
   ]
  },
  {
   "cell_type": "code",
   "execution_count": null,
   "metadata": {},
   "outputs": [],
   "source": [
    "pd.set_option(\"display.max_rows\", None, \"display.max_columns\", None, \"display.max_colwidth\", None)\n",
    "test_prices_wonan[(test_prices_wonan.cluster == 'pneu_1') & (test_prices_wonan.alert == False)].set_index(['cluster']).drop(['id', 'seq_dim_licitacao', 'outlier', 'cluster_prob', 'areas', 'count', 'max', 'min', 'median', 'var', 'quantile_1', 'quantile_3'], axis=1)"
   ]
  },
  {
   "cell_type": "code",
   "execution_count": null,
   "metadata": {},
   "outputs": [],
   "source": []
  }
 ],
 "metadata": {
  "kernelspec": {
   "display_name": "Python 3",
   "language": "python",
   "name": "python3"
  },
  "language_info": {
   "codemirror_mode": {
    "name": "ipython",
    "version": 3
   },
   "file_extension": ".py",
   "mimetype": "text/x-python",
   "name": "python",
   "nbconvert_exporter": "python",
   "pygments_lexer": "ipython3",
   "version": "3.7.6"
  }
 },
 "nbformat": 4,
 "nbformat_minor": 4
}
