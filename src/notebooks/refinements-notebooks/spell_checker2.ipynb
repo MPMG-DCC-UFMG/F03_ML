{
 "cells": [
  {
   "cell_type": "code",
   "execution_count": null,
   "metadata": {},
   "outputs": [],
   "source": [
    "import glob\n",
    "from symspellpy import SymSpell, Verbosity\n",
    "from symspellpy.editdistance import EditDistance, DistanceAlgorithm\n",
    "import pkg_resources\n",
    "from itertools import islice\n",
    "import re\n",
    "from unidecode import unidecode\n",
    "import pandas as pd\n",
    "from collections import Counter\n",
    "from datetime import datetime\n",
    "import numpy as np\n",
    "import json"
   ]
  },
  {
   "cell_type": "code",
   "execution_count": null,
   "metadata": {},
   "outputs": [],
   "source": [
    "df = pd.read_csv(\"../data/items_druid_original.csv.zip\", sep=\";\")"
   ]
  },
  {
   "cell_type": "code",
   "execution_count": null,
   "metadata": {},
   "outputs": [],
   "source": [
    "df"
   ]
  },
  {
   "cell_type": "code",
   "execution_count": null,
   "metadata": {},
   "outputs": [],
   "source": [
    "temp = df.sort_values(by=\"original\")\n"
   ]
  },
  {
   "cell_type": "code",
   "execution_count": null,
   "metadata": {},
   "outputs": [],
   "source": [
    "exp = re.compile(\"(?:^|\\s)([0-9A-Z])\\1{4,}[A-Z]{5,}\")\n",
    "for i, row in temp.iterrows():\n",
    "    if exp.search(row.original):\n",
    "        print(row.original)"
   ]
  },
  {
   "cell_type": "code",
   "execution_count": null,
   "metadata": {},
   "outputs": [],
   "source": [
    "has_number = re.compile(\"[0-9]\")\n",
    "\n",
    "def normalize(text):\n",
    "    text = text.lower()\n",
    "    text = unidecode(text)\n",
    "    text = re.sub(\"\\d+\\.\\d+(?:.\\d+)+\", \" \", text) # remove numeração de itens em lista, eg, \"5.2.4\" ENCUNHAME...\n",
    "    text = re.sub(\"[^a-z0-9]\", \" \", text)\n",
    "    tokens = text.strip().split()\n",
    "    tokens = [t for t in tokens if not has_number.search(t) and t >= 3]\n",
    "    return tokens"
   ]
  },
  {
   "cell_type": "markdown",
   "metadata": {},
   "source": [
    "# Build the dictionary"
   ]
  },
  {
   "cell_type": "code",
   "execution_count": null,
   "metadata": {},
   "outputs": [],
   "source": [
    "all_tokens = []\n",
    "for i, row in df.iterrows():\n",
    "    all_tokens.extend(normalize(row.original))"
   ]
  },
  {
   "cell_type": "code",
   "execution_count": null,
   "metadata": {},
   "outputs": [],
   "source": [
    "freq = Counter(all_tokens)"
   ]
  },
  {
   "cell_type": "code",
   "execution_count": null,
   "metadata": {},
   "outputs": [],
   "source": [
    "for key, v in freq.most_common():\n",
    "    if key.endswith(\"/\"):\n",
    "        print(key, v)"
   ]
  },
  {
   "cell_type": "code",
   "execution_count": null,
   "metadata": {},
   "outputs": [],
   "source": [
    "with open(\"../data/dicionario/br-words.txt\") as f:\n",
    "    lines = f.readlines()\n",
    "\n",
    "with open(\"../data/dicionario/br-words-preprocessed.txt\", \"wt\", encoding=\"utf-8\") as f:\n",
    "    lines = set([unidecode(l.lower().strip()) for l in lines]) & set(freq.keys())\n",
    "    diff = set(freq.keys()) - set([unidecode(l.lower().strip()) for l in lines])\n",
    "    for l in sorted(lines):\n",
    "        f.write(f\"{l} {freq[l]}\\n\")\n",
    "            "
   ]
  },
  {
   "cell_type": "markdown",
   "metadata": {},
   "source": [
    "# Select valid replacements"
   ]
  },
  {
   "cell_type": "code",
   "execution_count": null,
   "metadata": {},
   "outputs": [],
   "source": [
    "sym_spell = SymSpell()\n",
    "sym_spell.load_dictionary(\"../data/dicionario/br-words-preprocessed.txt\", 0, 1)\n",
    "replacements = {}\n",
    "for word in diff:\n",
    "    suggestions = list(sym_spell.lookup(word, Verbosity.CLOSEST, max_edit_distance=1, ignore_token=r\"\\w+\\d\"))\n",
    "    if len(suggestions) == 1:\n",
    "        suggestion = suggestions[0]\n",
    "        term = suggestion._term\n",
    "        count = suggestion._count\n",
    "        if count > 1000:\n",
    "            print(f\"replace \\\"{word}\\\" by \\\"{term}\\\"\")\n",
    "            replacements[word] = term\n",
    "        \n"
   ]
  },
  {
   "cell_type": "code",
   "execution_count": null,
   "metadata": {},
   "outputs": [],
   "source": [
    "total = 0\n",
    "for word in replacements:\n",
    "    total += freq[word]\n",
    "    \n",
    "100 * total / sum(freq.values())"
   ]
  },
  {
   "cell_type": "code",
   "execution_count": null,
   "metadata": {},
   "outputs": [],
   "source": [
    "with open(\"../data/dicionario/replacement.json\", \"wt\", encoding=\"utf-8\") as f:\n",
    "    json.dump(replacements, f)"
   ]
  }
 ],
 "metadata": {
  "kernelspec": {
   "display_name": "Python 3",
   "language": "python",
   "name": "python3"
  },
  "language_info": {
   "codemirror_mode": {
    "name": "ipython",
    "version": 3
   },
   "file_extension": ".py",
   "mimetype": "text/x-python",
   "name": "python",
   "nbconvert_exporter": "python",
   "pygments_lexer": "ipython3",
   "version": "3.7.6"
  }
 },
 "nbformat": 4,
 "nbformat_minor": 4
}
