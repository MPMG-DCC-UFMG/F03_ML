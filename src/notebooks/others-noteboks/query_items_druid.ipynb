{
 "cells": [
  {
   "cell_type": "code",
   "execution_count": 2,
   "metadata": {},
   "outputs": [],
   "source": [
    "from pydruid.db import connect\n",
    "import pandas as pd"
   ]
  },
  {
   "cell_type": "code",
   "execution_count": 3,
   "metadata": {},
   "outputs": [],
   "source": [
    "conn = connect(host='hadoopmn-gsi-prod03.mpmg.mp.br', port=8888, path='/druid/v2/sql/', scheme='http')"
   ]
  },
  {
   "cell_type": "markdown",
   "metadata": {},
   "source": [
    "# Test "
   ]
  },
  {
   "cell_type": "code",
   "execution_count": 3,
   "metadata": {},
   "outputs": [],
   "source": [
    "query_homologacao_test = \"\"\"\n",
    "    SELECT *\n",
    "    FROM fato_licitacao_homologacao\n",
    "    LIMIT 10\n",
    "\"\"\""
   ]
  },
  {
   "cell_type": "code",
   "execution_count": 4,
   "metadata": {},
   "outputs": [],
   "source": [
    "df_homologacao_test = pd.read_sql_query(query_homologacao_test, con=conn, coerce_float=False)"
   ]
  },
  {
   "cell_type": "code",
   "execution_count": 5,
   "metadata": {},
   "outputs": [
    {
     "name": "stdout",
     "output_type": "stream",
     "text": [
      "<class 'pandas.core.frame.DataFrame'>\n",
      "RangeIndex: 10 entries, 0 to 9\n",
      "Data columns (total 35 columns):\n",
      " #   Column                   Non-Null Count  Dtype \n",
      "---  ------                   --------------  ----- \n",
      " 0   __time                   10 non-null     object\n",
      " 1   ano_exercicio            10 non-null     object\n",
      " 2   cod_entidade             10 non-null     object\n",
      " 3   cod_entidade_entrega     10 non-null     object\n",
      " 4   cod_municipio            10 non-null     object\n",
      " 5   data_cotacao             10 non-null     object\n",
      " 6   data_cotacao_show        10 non-null     object\n",
      " 7   data_homologacao         10 non-null     object\n",
      " 8   data_homologacao_show    10 non-null     object\n",
      " 9   link_contrato            10 non-null     object\n",
      " 10  mes_licitacao            10 non-null     object\n",
      " 11  metadata_data_ingestao   10 non-null     object\n",
      " 12  metadata_id_carga        10 non-null     object\n",
      " 13  nome_entidade_entrega    10 non-null     object\n",
      " 14  nome_homologado          10 non-null     object\n",
      " 15  nome_item                10 non-null     object\n",
      " 16  nome_lote                10 non-null     object\n",
      " 17  num_contrato             10 non-null     object\n",
      " 18  num_cpf_cnpj_homologado  10 non-null     object\n",
      " 19  num_item                 10 non-null     object\n",
      " 20  num_lote                 10 non-null     object\n",
      " 21  percent_referencia       10 non-null     object\n",
      " 22  qtde_item                10 non-null     object\n",
      " 23  qtde_item_cotado         10 non-null     object\n",
      " 24  qtde_item_homologado     10 non-null     object\n",
      " 25  unidade_medida           10 non-null     object\n",
      " 26  uuid_homologacao         10 non-null     object\n",
      " 27  uuid_homologado          10 non-null     object\n",
      " 28  uuid_licitacao           10 non-null     object\n",
      " 29  uuid_licitacao_item      10 non-null     object\n",
      " 30  vlr_homologado_unitario  10 non-null     object\n",
      " 31  vlr_item                 10 non-null     object\n",
      " 32  vlr_item_cotado          10 non-null     object\n",
      " 33  vlr_minimo_global        10 non-null     object\n",
      " 34  vlr_referencia_unitario  10 non-null     object\n",
      "dtypes: object(35)\n",
      "memory usage: 2.9+ KB\n"
     ]
    }
   ],
   "source": [
    "df_homologacao_test.info()"
   ]
  },
  {
   "cell_type": "code",
   "execution_count": 6,
   "metadata": {},
   "outputs": [
    {
     "data": {
      "text/html": [
       "<div>\n",
       "<style scoped>\n",
       "    .dataframe tbody tr th:only-of-type {\n",
       "        vertical-align: middle;\n",
       "    }\n",
       "\n",
       "    .dataframe tbody tr th {\n",
       "        vertical-align: top;\n",
       "    }\n",
       "\n",
       "    .dataframe thead th {\n",
       "        text-align: right;\n",
       "    }\n",
       "</style>\n",
       "<table border=\"1\" class=\"dataframe\">\n",
       "  <thead>\n",
       "    <tr style=\"text-align: right;\">\n",
       "      <th></th>\n",
       "      <th>__time</th>\n",
       "      <th>ano_exercicio</th>\n",
       "      <th>cod_entidade</th>\n",
       "      <th>cod_entidade_entrega</th>\n",
       "      <th>cod_municipio</th>\n",
       "      <th>data_cotacao</th>\n",
       "      <th>data_cotacao_show</th>\n",
       "      <th>data_homologacao</th>\n",
       "      <th>data_homologacao_show</th>\n",
       "      <th>link_contrato</th>\n",
       "      <th>...</th>\n",
       "      <th>unidade_medida</th>\n",
       "      <th>uuid_homologacao</th>\n",
       "      <th>uuid_homologado</th>\n",
       "      <th>uuid_licitacao</th>\n",
       "      <th>uuid_licitacao_item</th>\n",
       "      <th>vlr_homologado_unitario</th>\n",
       "      <th>vlr_item</th>\n",
       "      <th>vlr_item_cotado</th>\n",
       "      <th>vlr_minimo_global</th>\n",
       "      <th>vlr_referencia_unitario</th>\n",
       "    </tr>\n",
       "  </thead>\n",
       "  <tbody>\n",
       "    <tr>\n",
       "      <th>0</th>\n",
       "      <td>2020-07-24T00:00:00.000Z</td>\n",
       "      <td></td>\n",
       "      <td></td>\n",
       "      <td>a</td>\n",
       "      <td></td>\n",
       "      <td>2014-09-22</td>\n",
       "      <td>2014-09-22</td>\n",
       "      <td>a</td>\n",
       "      <td>a</td>\n",
       "      <td>a</td>\n",
       "      <td>...</td>\n",
       "      <td>UNIDADE</td>\n",
       "      <td></td>\n",
       "      <td>a</td>\n",
       "      <td>1e6cef00-21a9-4237-9e22-02e8cb0ea033</td>\n",
       "      <td>0000031d-5604-4675-850f-85831f7f77da</td>\n",
       "      <td></td>\n",
       "      <td>532.5</td>\n",
       "      <td></td>\n",
       "      <td></td>\n",
       "      <td></td>\n",
       "    </tr>\n",
       "    <tr>\n",
       "      <th>1</th>\n",
       "      <td>2020-07-24T00:00:00.000Z</td>\n",
       "      <td></td>\n",
       "      <td></td>\n",
       "      <td>a</td>\n",
       "      <td></td>\n",
       "      <td>2015-01-12</td>\n",
       "      <td>2015-01-12</td>\n",
       "      <td>a</td>\n",
       "      <td>a</td>\n",
       "      <td>a</td>\n",
       "      <td>...</td>\n",
       "      <td>M</td>\n",
       "      <td></td>\n",
       "      <td>a</td>\n",
       "      <td>dc75f186-86e2-4a9e-b685-2e64fe66a457</td>\n",
       "      <td>00000527-b9e1-4a32-8943-24584cfbccbe</td>\n",
       "      <td></td>\n",
       "      <td>19.36</td>\n",
       "      <td></td>\n",
       "      <td></td>\n",
       "      <td></td>\n",
       "    </tr>\n",
       "    <tr>\n",
       "      <th>2</th>\n",
       "      <td>2020-07-24T00:00:00.000Z</td>\n",
       "      <td></td>\n",
       "      <td></td>\n",
       "      <td>a</td>\n",
       "      <td></td>\n",
       "      <td>2016-07-13</td>\n",
       "      <td>2016-07-13</td>\n",
       "      <td>a</td>\n",
       "      <td>a</td>\n",
       "      <td>a</td>\n",
       "      <td>...</td>\n",
       "      <td>MT</td>\n",
       "      <td></td>\n",
       "      <td>a</td>\n",
       "      <td>755008c3-ee4b-4c1a-b3bf-da590f39e605</td>\n",
       "      <td>00000656-f66d-4151-9134-58082148890b</td>\n",
       "      <td></td>\n",
       "      <td>28.76</td>\n",
       "      <td></td>\n",
       "      <td></td>\n",
       "      <td></td>\n",
       "    </tr>\n",
       "    <tr>\n",
       "      <th>3</th>\n",
       "      <td>2020-07-24T00:00:00.000Z</td>\n",
       "      <td></td>\n",
       "      <td></td>\n",
       "      <td>a</td>\n",
       "      <td></td>\n",
       "      <td>2014-02-12</td>\n",
       "      <td>2014-02-12</td>\n",
       "      <td>a</td>\n",
       "      <td>a</td>\n",
       "      <td>a</td>\n",
       "      <td>...</td>\n",
       "      <td>UNIDADE</td>\n",
       "      <td></td>\n",
       "      <td>a</td>\n",
       "      <td>aebce35b-7a41-44cf-9f48-659ece7a87ab</td>\n",
       "      <td>000006a6-3c5c-41ec-a29f-6b722b7ac86b</td>\n",
       "      <td></td>\n",
       "      <td>6.17</td>\n",
       "      <td></td>\n",
       "      <td></td>\n",
       "      <td></td>\n",
       "    </tr>\n",
       "    <tr>\n",
       "      <th>4</th>\n",
       "      <td>2020-07-24T00:00:00.000Z</td>\n",
       "      <td></td>\n",
       "      <td></td>\n",
       "      <td>a</td>\n",
       "      <td></td>\n",
       "      <td>2014-02-13</td>\n",
       "      <td>2014-02-13</td>\n",
       "      <td>a</td>\n",
       "      <td>a</td>\n",
       "      <td>a</td>\n",
       "      <td>...</td>\n",
       "      <td>COMPRIMIDO</td>\n",
       "      <td></td>\n",
       "      <td>a</td>\n",
       "      <td>ea3f2f56-00e1-4da3-9177-014fa6658b45</td>\n",
       "      <td>000006bd-c598-40f6-8935-602bd681faee</td>\n",
       "      <td></td>\n",
       "      <td>0.06</td>\n",
       "      <td></td>\n",
       "      <td></td>\n",
       "      <td></td>\n",
       "    </tr>\n",
       "    <tr>\n",
       "      <th>5</th>\n",
       "      <td>2020-07-24T00:00:00.000Z</td>\n",
       "      <td></td>\n",
       "      <td></td>\n",
       "      <td>a</td>\n",
       "      <td></td>\n",
       "      <td>2014-01-22</td>\n",
       "      <td>2014-01-22</td>\n",
       "      <td>a</td>\n",
       "      <td>a</td>\n",
       "      <td>a</td>\n",
       "      <td>...</td>\n",
       "      <td>UNIDADE</td>\n",
       "      <td></td>\n",
       "      <td>a</td>\n",
       "      <td>7a053c5a-b669-4640-9e43-cbb084e8a82c</td>\n",
       "      <td>000006db-e1ed-4c9c-8db8-48d1fa10a562</td>\n",
       "      <td></td>\n",
       "      <td>43.65</td>\n",
       "      <td></td>\n",
       "      <td></td>\n",
       "      <td></td>\n",
       "    </tr>\n",
       "    <tr>\n",
       "      <th>6</th>\n",
       "      <td>2020-07-24T00:00:00.000Z</td>\n",
       "      <td></td>\n",
       "      <td></td>\n",
       "      <td>a</td>\n",
       "      <td></td>\n",
       "      <td>2014-01-02</td>\n",
       "      <td>2014-01-02</td>\n",
       "      <td>a</td>\n",
       "      <td>a</td>\n",
       "      <td>a</td>\n",
       "      <td>...</td>\n",
       "      <td>UND</td>\n",
       "      <td></td>\n",
       "      <td>a</td>\n",
       "      <td>c4b5e5c9-aa06-4c55-b5de-4c28c702a5ab</td>\n",
       "      <td>000006fc-7516-409d-9cc5-a9eda75ae63e</td>\n",
       "      <td></td>\n",
       "      <td>9.69</td>\n",
       "      <td></td>\n",
       "      <td></td>\n",
       "      <td></td>\n",
       "    </tr>\n",
       "    <tr>\n",
       "      <th>7</th>\n",
       "      <td>2020-07-24T00:00:00.000Z</td>\n",
       "      <td></td>\n",
       "      <td></td>\n",
       "      <td>a</td>\n",
       "      <td></td>\n",
       "      <td>2017-02-08</td>\n",
       "      <td>2017-02-08</td>\n",
       "      <td>a</td>\n",
       "      <td>a</td>\n",
       "      <td>a</td>\n",
       "      <td>...</td>\n",
       "      <td>UND</td>\n",
       "      <td></td>\n",
       "      <td>a</td>\n",
       "      <td>55911f30-9bdb-410b-b400-3c6f701712ac</td>\n",
       "      <td>00000c46-f389-42a4-a0b4-14513d94dd3a</td>\n",
       "      <td></td>\n",
       "      <td>0.24</td>\n",
       "      <td></td>\n",
       "      <td></td>\n",
       "      <td></td>\n",
       "    </tr>\n",
       "    <tr>\n",
       "      <th>8</th>\n",
       "      <td>2020-07-24T00:00:00.000Z</td>\n",
       "      <td></td>\n",
       "      <td></td>\n",
       "      <td>a</td>\n",
       "      <td></td>\n",
       "      <td>2014-06-09</td>\n",
       "      <td>2014-06-09</td>\n",
       "      <td>a</td>\n",
       "      <td>a</td>\n",
       "      <td>a</td>\n",
       "      <td>...</td>\n",
       "      <td>PECA</td>\n",
       "      <td></td>\n",
       "      <td>a</td>\n",
       "      <td>de31f511-4585-4f40-ae7b-a1efab7d845e</td>\n",
       "      <td>00000cb5-7e53-44c8-94dd-4995ae82a231</td>\n",
       "      <td></td>\n",
       "      <td>7.7</td>\n",
       "      <td></td>\n",
       "      <td></td>\n",
       "      <td></td>\n",
       "    </tr>\n",
       "    <tr>\n",
       "      <th>9</th>\n",
       "      <td>2020-07-24T00:00:00.000Z</td>\n",
       "      <td></td>\n",
       "      <td></td>\n",
       "      <td>a</td>\n",
       "      <td></td>\n",
       "      <td>2015-02-25</td>\n",
       "      <td>2015-02-25</td>\n",
       "      <td>a</td>\n",
       "      <td>a</td>\n",
       "      <td>a</td>\n",
       "      <td>...</td>\n",
       "      <td>UNIDADE</td>\n",
       "      <td></td>\n",
       "      <td>a</td>\n",
       "      <td>94352164-e17c-4588-a0f8-7a1c236c5b86</td>\n",
       "      <td>000012ac-13ba-43bb-86aa-178463c7351d</td>\n",
       "      <td></td>\n",
       "      <td>21.0</td>\n",
       "      <td></td>\n",
       "      <td></td>\n",
       "      <td></td>\n",
       "    </tr>\n",
       "  </tbody>\n",
       "</table>\n",
       "<p>10 rows × 35 columns</p>\n",
       "</div>"
      ],
      "text/plain": [
       "                     __time ano_exercicio cod_entidade cod_entidade_entrega  \\\n",
       "0  2020-07-24T00:00:00.000Z                                               a   \n",
       "1  2020-07-24T00:00:00.000Z                                               a   \n",
       "2  2020-07-24T00:00:00.000Z                                               a   \n",
       "3  2020-07-24T00:00:00.000Z                                               a   \n",
       "4  2020-07-24T00:00:00.000Z                                               a   \n",
       "5  2020-07-24T00:00:00.000Z                                               a   \n",
       "6  2020-07-24T00:00:00.000Z                                               a   \n",
       "7  2020-07-24T00:00:00.000Z                                               a   \n",
       "8  2020-07-24T00:00:00.000Z                                               a   \n",
       "9  2020-07-24T00:00:00.000Z                                               a   \n",
       "\n",
       "  cod_municipio data_cotacao data_cotacao_show data_homologacao  \\\n",
       "0                 2014-09-22        2014-09-22                a   \n",
       "1                 2015-01-12        2015-01-12                a   \n",
       "2                 2016-07-13        2016-07-13                a   \n",
       "3                 2014-02-12        2014-02-12                a   \n",
       "4                 2014-02-13        2014-02-13                a   \n",
       "5                 2014-01-22        2014-01-22                a   \n",
       "6                 2014-01-02        2014-01-02                a   \n",
       "7                 2017-02-08        2017-02-08                a   \n",
       "8                 2014-06-09        2014-06-09                a   \n",
       "9                 2015-02-25        2015-02-25                a   \n",
       "\n",
       "  data_homologacao_show link_contrato  ... unidade_medida uuid_homologacao  \\\n",
       "0                     a             a  ...        UNIDADE                    \n",
       "1                     a             a  ...              M                    \n",
       "2                     a             a  ...             MT                    \n",
       "3                     a             a  ...        UNIDADE                    \n",
       "4                     a             a  ...     COMPRIMIDO                    \n",
       "5                     a             a  ...        UNIDADE                    \n",
       "6                     a             a  ...            UND                    \n",
       "7                     a             a  ...            UND                    \n",
       "8                     a             a  ...           PECA                    \n",
       "9                     a             a  ...        UNIDADE                    \n",
       "\n",
       "  uuid_homologado                        uuid_licitacao  \\\n",
       "0               a  1e6cef00-21a9-4237-9e22-02e8cb0ea033   \n",
       "1               a  dc75f186-86e2-4a9e-b685-2e64fe66a457   \n",
       "2               a  755008c3-ee4b-4c1a-b3bf-da590f39e605   \n",
       "3               a  aebce35b-7a41-44cf-9f48-659ece7a87ab   \n",
       "4               a  ea3f2f56-00e1-4da3-9177-014fa6658b45   \n",
       "5               a  7a053c5a-b669-4640-9e43-cbb084e8a82c   \n",
       "6               a  c4b5e5c9-aa06-4c55-b5de-4c28c702a5ab   \n",
       "7               a  55911f30-9bdb-410b-b400-3c6f701712ac   \n",
       "8               a  de31f511-4585-4f40-ae7b-a1efab7d845e   \n",
       "9               a  94352164-e17c-4588-a0f8-7a1c236c5b86   \n",
       "\n",
       "                    uuid_licitacao_item vlr_homologado_unitario vlr_item  \\\n",
       "0  0000031d-5604-4675-850f-85831f7f77da                            532.5   \n",
       "1  00000527-b9e1-4a32-8943-24584cfbccbe                            19.36   \n",
       "2  00000656-f66d-4151-9134-58082148890b                            28.76   \n",
       "3  000006a6-3c5c-41ec-a29f-6b722b7ac86b                             6.17   \n",
       "4  000006bd-c598-40f6-8935-602bd681faee                             0.06   \n",
       "5  000006db-e1ed-4c9c-8db8-48d1fa10a562                            43.65   \n",
       "6  000006fc-7516-409d-9cc5-a9eda75ae63e                             9.69   \n",
       "7  00000c46-f389-42a4-a0b4-14513d94dd3a                             0.24   \n",
       "8  00000cb5-7e53-44c8-94dd-4995ae82a231                              7.7   \n",
       "9  000012ac-13ba-43bb-86aa-178463c7351d                             21.0   \n",
       "\n",
       "  vlr_item_cotado vlr_minimo_global vlr_referencia_unitario  \n",
       "0                                                            \n",
       "1                                                            \n",
       "2                                                            \n",
       "3                                                            \n",
       "4                                                            \n",
       "5                                                            \n",
       "6                                                            \n",
       "7                                                            \n",
       "8                                                            \n",
       "9                                                            \n",
       "\n",
       "[10 rows x 35 columns]"
      ]
     },
     "execution_count": 6,
     "metadata": {},
     "output_type": "execute_result"
    }
   ],
   "source": [
    "df_homologacao_test"
   ]
  },
  {
   "cell_type": "markdown",
   "metadata": {},
   "source": [
    "# Homologacao"
   ]
  },
  {
   "cell_type": "code",
   "execution_count": 4,
   "metadata": {},
   "outputs": [],
   "source": [
    "query_homologacao = \"\"\"\n",
    "    SELECT ALL\n",
    "        uuid_licitacao,\n",
    "        uuid_licitacao_item,\n",
    "        nome_item,\n",
    "        unidade_medida,\n",
    "        vlr_item,\n",
    "        ano_exercicio\n",
    "    FROM fato_licitacao_homologacao\n",
    "    WHERE metadata_id_carga = 75\n",
    "\"\"\""
   ]
  },
  {
   "cell_type": "code",
   "execution_count": 5,
   "metadata": {},
   "outputs": [],
   "source": [
    "df_homologacao = pd.read_sql_query(query_homologacao, con=conn)"
   ]
  },
  {
   "cell_type": "code",
   "execution_count": 6,
   "metadata": {},
   "outputs": [
    {
     "name": "stdout",
     "output_type": "stream",
     "text": [
      "<class 'pandas.core.frame.DataFrame'>\n",
      "RangeIndex: 7826642 entries, 0 to 7826641\n",
      "Data columns (total 6 columns):\n",
      " #   Column               Dtype \n",
      "---  ------               ----- \n",
      " 0   uuid_licitacao       object\n",
      " 1   uuid_licitacao_item  object\n",
      " 2   nome_item            object\n",
      " 3   unidade_medida       object\n",
      " 4   vlr_item             object\n",
      " 5   ano_exercicio        object\n",
      "dtypes: object(6)\n",
      "memory usage: 358.3+ MB\n"
     ]
    }
   ],
   "source": [
    "df_homologacao.info()"
   ]
  },
  {
   "cell_type": "code",
   "execution_count": null,
   "metadata": {},
   "outputs": [],
   "source": [
    "df_homologacao.head()"
   ]
  },
  {
   "cell_type": "code",
   "execution_count": null,
   "metadata": {},
   "outputs": [],
   "source": [
    "set(df_homologacao['ano_exercicio'])"
   ]
  },
  {
   "cell_type": "code",
   "execution_count": null,
   "metadata": {},
   "outputs": [],
   "source": [
    "df_homologacao = df_homologacao.drop('ano_exercicio', axis=1)"
   ]
  },
  {
   "cell_type": "code",
   "execution_count": null,
   "metadata": {},
   "outputs": [],
   "source": [
    "len(set(df_homologacao['uuid_licitacao']))"
   ]
  },
  {
   "cell_type": "markdown",
   "metadata": {},
   "source": [
    "# Licitacao "
   ]
  },
  {
   "cell_type": "code",
   "execution_count": null,
   "metadata": {},
   "outputs": [],
   "source": [
    "query_licitacao = \"\"\"\n",
    "    SELECT ALL\n",
    "        uuid_licitacao,\n",
    "        ano_exercicio\n",
    "    FROM fato_licitacao\n",
    "\"\"\""
   ]
  },
  {
   "cell_type": "code",
   "execution_count": null,
   "metadata": {},
   "outputs": [],
   "source": [
    "df_licitacao = pd.read_sql_query(query_licitacao, con=conn)"
   ]
  },
  {
   "cell_type": "code",
   "execution_count": null,
   "metadata": {},
   "outputs": [],
   "source": [
    "df_licitacao.info()"
   ]
  },
  {
   "cell_type": "code",
   "execution_count": null,
   "metadata": {},
   "outputs": [],
   "source": [
    "set(df_licitacao['ano_exercicio'])"
   ]
  },
  {
   "cell_type": "code",
   "execution_count": null,
   "metadata": {},
   "outputs": [],
   "source": [
    "len(df_licitacao.drop_duplicates())"
   ]
  },
  {
   "cell_type": "code",
   "execution_count": null,
   "metadata": {},
   "outputs": [],
   "source": [
    "df_licitacao = df_licitacao.drop_duplicates(['uuid_licitacao'], keep='last')"
   ]
  },
  {
   "cell_type": "code",
   "execution_count": null,
   "metadata": {},
   "outputs": [],
   "source": [
    "set(df_licitacao['ano_exercicio'])"
   ]
  },
  {
   "cell_type": "code",
   "execution_count": null,
   "metadata": {},
   "outputs": [],
   "source": [
    "df = pd.merge(df_homologacao, df_licitacao, left_on='uuid_licitacao', right_on='uuid_licitacao')"
   ]
  },
  {
   "cell_type": "code",
   "execution_count": null,
   "metadata": {},
   "outputs": [],
   "source": [
    "df = df.rename({'uuid_licitacao': 'seq_dim_licitacao', 'uuid_licitacao_item': 'seq_dim_item', \\\n",
    "                'vlr_item': 'vlr_unitario_homologado', 'nome_item': 'nom_item', 'unidade_medida': 'dsc_unidade_medida', \\\n",
    "                'ano_exercicio': 'num_exercicio'}, axis=1)"
   ]
  },
  {
   "cell_type": "code",
   "execution_count": null,
   "metadata": {},
   "outputs": [],
   "source": [
    "df.head()"
   ]
  },
  {
   "cell_type": "code",
   "execution_count": null,
   "metadata": {},
   "outputs": [],
   "source": [
    "df.info()"
   ]
  },
  {
   "cell_type": "code",
   "execution_count": null,
   "metadata": {},
   "outputs": [],
   "source": [
    "set(df['num_exercicio'])"
   ]
  },
  {
   "cell_type": "code",
   "execution_count": null,
   "metadata": {},
   "outputs": [],
   "source": [
    "len(set(df['seq_dim_licitacao']))"
   ]
  },
  {
   "cell_type": "code",
   "execution_count": null,
   "metadata": {},
   "outputs": [],
   "source": [
    "df['num_exercicio'].isnull().sum()"
   ]
  },
  {
   "cell_type": "code",
   "execution_count": null,
   "metadata": {},
   "outputs": [],
   "source": [
    "df.to_csv('../dados/dataset_item_druid.csv', sep=';')"
   ]
  },
  {
   "cell_type": "raw",
   "metadata": {},
   "source": []
  },
  {
   "cell_type": "markdown",
   "metadata": {},
   "source": [
    "# SQLAlchemy"
   ]
  },
  {
   "cell_type": "code",
   "execution_count": 8,
   "metadata": {},
   "outputs": [],
   "source": [
    "from sqlalchemy import *\n",
    "from sqlalchemy.engine import create_engine\n",
    "from sqlalchemy.schema import *"
   ]
  },
  {
   "cell_type": "code",
   "execution_count": 9,
   "metadata": {},
   "outputs": [],
   "source": [
    "url_to_druid = 'druid://hadoopmn-gsi-prod02.mpmg.mp.br:8888/druid/v2/sql'"
   ]
  },
  {
   "cell_type": "code",
   "execution_count": 10,
   "metadata": {},
   "outputs": [],
   "source": [
    "engine = create_engine(url_to_druid, pool_pre_ping=True)"
   ]
  },
  {
   "cell_type": "raw",
   "metadata": {},
   "source": [
    "engine.connect()"
   ]
  },
  {
   "cell_type": "code",
   "execution_count": 138,
   "metadata": {},
   "outputs": [
    {
     "data": {
      "text/plain": [
       "Engine(druid://hadoopmn-gsi-prod03.mpmg.mp.br:8888/druid/v2/sql)"
      ]
     },
     "execution_count": 138,
     "metadata": {},
     "output_type": "execute_result"
    }
   ],
   "source": [
    "engine"
   ]
  },
  {
   "cell_type": "code",
   "execution_count": 139,
   "metadata": {},
   "outputs": [],
   "source": [
    "table = Table('fato_licitacao_homologacao', MetaData(bind=engine), autoload=True)"
   ]
  },
  {
   "cell_type": "code",
   "execution_count": 140,
   "metadata": {},
   "outputs": [
    {
     "data": {
      "text/plain": [
       "Table('fato_licitacao_homologacao', MetaData(bind=Engine(druid://hadoopmn-gsi-prod03.mpmg.mp.br:8888/druid/v2/sql)), Column('__time', TIMESTAMP(), table=<fato_licitacao_homologacao>, nullable=False), Column('ano_exercicio', String(), table=<fato_licitacao_homologacao>), Column('cod_entidade', String(), table=<fato_licitacao_homologacao>), Column('cod_entidade_entrega', String(), table=<fato_licitacao_homologacao>), Column('cod_municipio', String(), table=<fato_licitacao_homologacao>), Column('data_cotacao', String(), table=<fato_licitacao_homologacao>), Column('data_cotacao_show', String(), table=<fato_licitacao_homologacao>), Column('data_homologacao', String(), table=<fato_licitacao_homologacao>), Column('data_homologacao_show', String(), table=<fato_licitacao_homologacao>), Column('link_contrato', String(), table=<fato_licitacao_homologacao>), Column('mes_licitacao', String(), table=<fato_licitacao_homologacao>), Column('metadata_data_ingestao', String(), table=<fato_licitacao_homologacao>), Column('metadata_id_carga', String(), table=<fato_licitacao_homologacao>), Column('nome_entidade_entrega', String(), table=<fato_licitacao_homologacao>), Column('nome_homologado', String(), table=<fato_licitacao_homologacao>), Column('nome_item', String(), table=<fato_licitacao_homologacao>), Column('nome_lote', String(), table=<fato_licitacao_homologacao>), Column('num_contrato', String(), table=<fato_licitacao_homologacao>), Column('num_cpf_cnpj_homologado', String(), table=<fato_licitacao_homologacao>), Column('num_item', String(), table=<fato_licitacao_homologacao>), Column('num_lote', String(), table=<fato_licitacao_homologacao>), Column('percent_referencia', String(), table=<fato_licitacao_homologacao>), Column('qtde_item', String(), table=<fato_licitacao_homologacao>), Column('qtde_item_cotado', String(), table=<fato_licitacao_homologacao>), Column('qtde_item_homologado', String(), table=<fato_licitacao_homologacao>), Column('unidade_medida', String(), table=<fato_licitacao_homologacao>), Column('uuid_homologacao', String(), table=<fato_licitacao_homologacao>), Column('uuid_homologado', String(), table=<fato_licitacao_homologacao>), Column('uuid_licitacao', String(), table=<fato_licitacao_homologacao>), Column('uuid_licitacao_item', String(), table=<fato_licitacao_homologacao>), Column('vlr_homologado_unitario', String(), table=<fato_licitacao_homologacao>), Column('vlr_item', String(), table=<fato_licitacao_homologacao>), Column('vlr_item_cotado', String(), table=<fato_licitacao_homologacao>), Column('vlr_minimo_global', String(), table=<fato_licitacao_homologacao>), Column('vlr_referencia_unitario', String(), table=<fato_licitacao_homologacao>), schema=None)"
      ]
     },
     "execution_count": 140,
     "metadata": {},
     "output_type": "execute_result"
    }
   ],
   "source": [
    "table"
   ]
  },
  {
   "cell_type": "code",
   "execution_count": 109,
   "metadata": {},
   "outputs": [
    {
     "name": "stdout",
     "output_type": "stream",
     "text": [
      "1194287932\n"
     ]
    }
   ],
   "source": [
    "print(select([func.count('*')], from_obj=table).scalar())"
   ]
  },
  {
   "cell_type": "code",
   "execution_count": 149,
   "metadata": {},
   "outputs": [],
   "source": [
    "# query_result = select([column('uuid_licitacao'), column('nome_item'), column('unidade_medida'), column('vlr_item'), column('ano_exercicio')], from_obj=table).where(table.c.metadata_id_carga == 75)\n",
    "query_result = select([table.c.uuid_licitacao, table.c.nome_item, table.c.unidade_medida, table.c.vlr_item, table.c.ano_exercicio]).where(table.c.metadata_id_carga == 75)"
   ]
  },
  {
   "cell_type": "code",
   "execution_count": 142,
   "metadata": {},
   "outputs": [
    {
     "data": {
      "text/plain": [
       "<sqlalchemy.sql.selectable.Select at 0x7f5b2f781b10; Select object>"
      ]
     },
     "execution_count": 142,
     "metadata": {},
     "output_type": "execute_result"
    }
   ],
   "source": [
    "query_result"
   ]
  },
  {
   "cell_type": "code",
   "execution_count": 119,
   "metadata": {},
   "outputs": [],
   "source": [
    "query_homologacao = \"\"\"\n",
    "    SELECT ALL\n",
    "        uuid_licitacao,\n",
    "        uuid_licitacao_item,\n",
    "        nome_item,\n",
    "        unidade_medida,\n",
    "        vlr_item,\n",
    "        ano_exercicio\n",
    "    FROM fato_licitacao_homologacao\n",
    "    WHERE metadata_id_carga = 75\n",
    "\"\"\""
   ]
  },
  {
   "cell_type": "code",
   "execution_count": 154,
   "metadata": {},
   "outputs": [],
   "source": [
    "df_homologacao = pd.read_sql_query(query_result, con=engine)"
   ]
  },
  {
   "cell_type": "code",
   "execution_count": 155,
   "metadata": {},
   "outputs": [
    {
     "name": "stdout",
     "output_type": "stream",
     "text": [
      "<class 'pandas.core.frame.DataFrame'>\n",
      "RangeIndex: 11363881 entries, 0 to 11363880\n",
      "Data columns (total 5 columns):\n",
      " #   Column          Dtype \n",
      "---  ------          ----- \n",
      " 0   uuid_licitacao  object\n",
      " 1   nome_item       object\n",
      " 2   unidade_medida  object\n",
      " 3   vlr_item        object\n",
      " 4   ano_exercicio   object\n",
      "dtypes: object(5)\n",
      "memory usage: 433.5+ MB\n"
     ]
    }
   ],
   "source": [
    "df_homologacao.info()"
   ]
  },
  {
   "cell_type": "raw",
   "metadata": {},
   "source": []
  },
  {
   "cell_type": "markdown",
   "metadata": {},
   "source": [
    "# DB API"
   ]
  },
  {
   "cell_type": "code",
   "execution_count": 60,
   "metadata": {},
   "outputs": [],
   "source": [
    "curs = conn.cursor()"
   ]
  },
  {
   "cell_type": "code",
   "execution_count": 61,
   "metadata": {},
   "outputs": [],
   "source": [
    "query_homologacao = \"\"\"\n",
    "    SELECT ALL\n",
    "        uuid_licitacao,\n",
    "        uuid_licitacao_item,\n",
    "        nome_item,\n",
    "        unidade_medida,\n",
    "        vlr_item,\n",
    "        ano_exercicio\n",
    "    FROM fato_licitacao_homologacao\n",
    "    WHERE metadata_id_carga = 75\n",
    "\"\"\""
   ]
  },
  {
   "cell_type": "code",
   "execution_count": 62,
   "metadata": {},
   "outputs": [
    {
     "data": {
      "text/plain": [
       "<pydruid.db.api.Cursor at 0x7f5b4a131690>"
      ]
     },
     "execution_count": 62,
     "metadata": {},
     "output_type": "execute_result"
    }
   ],
   "source": [
    "curs.execute(query_homologacao)"
   ]
  },
  {
   "cell_type": "code",
   "execution_count": 63,
   "metadata": {},
   "outputs": [
    {
     "data": {
      "text/plain": [
       "7826642"
      ]
     },
     "execution_count": 63,
     "metadata": {},
     "output_type": "execute_result"
    }
   ],
   "source": [
    "curs.rowcount"
   ]
  },
  {
   "cell_type": "code",
   "execution_count": 64,
   "metadata": {},
   "outputs": [],
   "source": [
    "rows = curs.fetchall()"
   ]
  },
  {
   "cell_type": "code",
   "execution_count": 65,
   "metadata": {},
   "outputs": [
    {
     "data": {
      "text/plain": [
       "7826642"
      ]
     },
     "execution_count": 65,
     "metadata": {},
     "output_type": "execute_result"
    }
   ],
   "source": [
    "len(rows)"
   ]
  },
  {
   "cell_type": "code",
   "execution_count": null,
   "metadata": {},
   "outputs": [],
   "source": []
  }
 ],
 "metadata": {
  "kernelspec": {
   "display_name": "Python 3",
   "language": "python",
   "name": "python3"
  },
  "language_info": {
   "codemirror_mode": {
    "name": "ipython",
    "version": 3
   },
   "file_extension": ".py",
   "mimetype": "text/x-python",
   "name": "python",
   "nbconvert_exporter": "python",
   "pygments_lexer": "ipython3",
   "version": "3.7.6"
  }
 },
 "nbformat": 4,
 "nbformat_minor": 4
}
