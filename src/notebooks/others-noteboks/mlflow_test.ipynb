{
 "cells": [
  {
   "cell_type": "code",
   "execution_count": 1,
   "metadata": {},
   "outputs": [],
   "source": [
    "from item_clustering.item_clustering import ItemClustering\n",
    "from mlflow_model import conda_env\n",
    "import mlflow_model.item_clustering\n",
    "import pandas as pd\n",
    "from utils.read_files import (\n",
    "    get_items\n",
    ")\n",
    "import mlflow"
   ]
  },
  {
   "cell_type": "markdown",
   "metadata": {},
   "source": [
    "#  Train model"
   ]
  },
  {
   "cell_type": "code",
   "execution_count": 2,
   "metadata": {},
   "outputs": [],
   "source": [
    "model = ItemClustering(config={'artifacts_path' : '../data/output/test/'})"
   ]
  },
  {
   "cell_type": "code",
   "execution_count": 3,
   "metadata": {},
   "outputs": [
    {
     "data": {
      "text/plain": [
       "'../data/output/test/'"
      ]
     },
     "execution_count": 3,
     "metadata": {},
     "output_type": "execute_result"
    }
   ],
   "source": [
    "model.config.artifacts_path"
   ]
  },
  {
   "cell_type": "code",
   "execution_count": 4,
   "metadata": {},
   "outputs": [
    {
     "data": {
      "text/plain": [
       "{'word_embeddings_path': '../data/embeddings/fasttext/skip_s100.txt',\n",
       " 'algorithm': 'hdbscan',\n",
       " 'categories': ['unidades_medida', 'numeros'],\n",
       " 'tags': ['N', 'MED'],\n",
       " 'operation': 'concatenate',\n",
       " 'n_process': 4,\n",
       " 'artifacts_path': '../data/output/test/'}"
      ]
     },
     "execution_count": 4,
     "metadata": {},
     "output_type": "execute_result"
    }
   ],
   "source": [
    "model.config.get_config_dict()"
   ]
  },
  {
   "cell_type": "code",
   "execution_count": 5,
   "metadata": {},
   "outputs": [],
   "source": [
    "file = '../data/items_sample.csv.zip'\n",
    "items = get_items(file)"
   ]
  },
  {
   "cell_type": "code",
   "execution_count": 6,
   "metadata": {},
   "outputs": [
    {
     "data": {
      "text/plain": [
       "1000"
      ]
     },
     "execution_count": 6,
     "metadata": {},
     "output_type": "execute_result"
    }
   ],
   "source": [
    "len(items)"
   ]
  },
  {
   "cell_type": "code",
   "execution_count": 7,
   "metadata": {
    "scrolled": true
   },
   "outputs": [
    {
     "data": {
      "text/plain": [
       "[['591 FUCSINA BASICA 0,5% 1000',\n",
       "  3741539,\n",
       "  107368,\n",
       "  39.11,\n",
       "  'FRASCO',\n",
       "  2014,\n",
       "  2,\n",
       "  '2013-12-20',\n",
       "  'IMBE DE MINAS',\n",
       "  'PREFEITURA MUNICIPAL DE IMBE DE MINAS'],\n",
       " ['RECEPTACULO E27',\n",
       "  2214949,\n",
       "  67774,\n",
       "  2.5,\n",
       "  'UNIDADES',\n",
       "  2017,\n",
       "  2,\n",
       "  '2017-01-02',\n",
       "  'COROACI',\n",
       "  'PREFEITURA MUNICIPAL DE COROACI'],\n",
       " ['ROLO DE ESPUMA 23 CM',\n",
       "  6555568,\n",
       "  195354,\n",
       "  7.0,\n",
       "  'UNIDADE',\n",
       "  2014,\n",
       "  7,\n",
       "  '2014-05-14',\n",
       "  'OURO FINO',\n",
       "  'PREFEITURA MUNICIPAL DE OURO FINO'],\n",
       " ['JANELA DE ACO DE CORRER COM GRADE IMOLA E COM BASCULANTE 120A X 150L X 120RQ - 1 LINHA',\n",
       "  1182966,\n",
       "  37446,\n",
       "  282.2,\n",
       "  'UN',\n",
       "  2015,\n",
       "  11,\n",
       "  '2015-11-11',\n",
       "  'CALDAS',\n",
       "  'PREFEITURA MUNICIPAL DE CALDAS'],\n",
       " ['PECA DE MADEIRA PARAJU 8X8',\n",
       "  14212303,\n",
       "  443387,\n",
       "  10.4,\n",
       "  'UN',\n",
       "  2018,\n",
       "  9,\n",
       "  '2018-08-17',\n",
       "  'SAO JOAO DEL REI',\n",
       "  'PREFEITURA MUNICIPAL DE SAO JOAO DEL REI']]"
      ]
     },
     "execution_count": 7,
     "metadata": {},
     "output_type": "execute_result"
    }
   ],
   "source": [
    "items[:5]"
   ]
  },
  {
   "cell_type": "markdown",
   "metadata": {},
   "source": [
    "## Test"
   ]
  },
  {
   "cell_type": "raw",
   "metadata": {},
   "source": [
    "model.fit(items)"
   ]
  },
  {
   "cell_type": "raw",
   "metadata": {},
   "source": [
    "model.clusters"
   ]
  },
  {
   "cell_type": "raw",
   "metadata": {},
   "source": [
    "model.save_model()"
   ]
  },
  {
   "cell_type": "raw",
   "metadata": {},
   "source": []
  },
  {
   "cell_type": "markdown",
   "metadata": {},
   "source": [
    "# Save model"
   ]
  },
  {
   "cell_type": "code",
   "execution_count": 8,
   "metadata": {},
   "outputs": [],
   "source": [
    "from mlflow_model import wrapper"
   ]
  },
  {
   "cell_type": "code",
   "execution_count": 9,
   "metadata": {},
   "outputs": [],
   "source": [
    "mlflow.set_experiment(experiment_name='test')"
   ]
  },
  {
   "cell_type": "code",
   "execution_count": 10,
   "metadata": {},
   "outputs": [],
   "source": [
    "mlflow_pyfunc_model_path = \"item_clustering_mlflow_pyfunc\""
   ]
  },
  {
   "cell_type": "code",
   "execution_count": 11,
   "metadata": {},
   "outputs": [
    {
     "data": {
      "text/plain": [
       "{'channels': ['defaults'],\n",
       " 'dependencies': ['python=3.7.6',\n",
       "  'pip',\n",
       "  {'pip': ['mlflow', 'hdbscan', 'umap-learn']}],\n",
       " 'name': 'item_clustering_env'}"
      ]
     },
     "execution_count": 11,
     "metadata": {},
     "output_type": "execute_result"
    }
   ],
   "source": [
    "conda_env.conda_env"
   ]
  },
  {
   "cell_type": "code",
   "execution_count": 12,
   "metadata": {},
   "outputs": [
    {
     "name": "stdout",
     "output_type": "stream",
     "text": [
      "Read ranges\n",
      "([0, 101, 202, 302, 403, 503, 604, 704, 805, 905], [100, 201, 301, 402, 502, 603, 703, 804, 904, 999])\n",
      "Fri Jun 11 13:53:31 2021 Loading word embeddings\n",
      "Read ranges\n",
      "([0, 132, 264, 395], [131, 263, 394, 525])\n",
      "0\n",
      "\n",
      "12\n",
      "3\n"
     ]
    }
   ],
   "source": [
    "with mlflow.start_run(run_name='test'):\n",
    "    mlflow.log_params(model.config.get_config_dict())\n",
    "    model.fit(items)\n",
    "    model.save_model()\n",
    "    \n",
    "#     metrics = model.evaluate()\n",
    "#     print(metrics)\n",
    "    \n",
    "    # log metrics\n",
    "    mlflow.log_metrics({'avg_calinski': 5000.0, 'avg_davies': 0.20})\n",
    "\n",
    "#     mlflow_model.item_clustering.log_model(model, mlflow_pyfunc_model_path)\n",
    "#     mlflow.log_artifacts(mlflow_pyfunc_model_path + model.config.artifacts_path, \"artifacts\")\n",
    "\n",
    "    artifacts = {\n",
    "        \"artifacts_path\": model.config.artifacts_path\n",
    "    }\n",
    "    mlflow.pyfunc.log_model(artifact_path=mlflow_pyfunc_model_path, python_model=wrapper.ItemClustering(),\n",
    "                            artifacts=artifacts, conda_env=conda_env.conda_env)"
   ]
  },
  {
   "cell_type": "raw",
   "metadata": {},
   "source": [
    "# Save the MLflow Model\n",
    "mlflow.pyfunc.save_model(path='../data/mlflow_models/' + mlflow_pyfunc_model_path, python_model=wrapper.ItemClustering(), artifacts=artifacts, conda_env=conda_env.conda_env)"
   ]
  },
  {
   "cell_type": "raw",
   "metadata": {},
   "source": []
  },
  {
   "cell_type": "markdown",
   "metadata": {},
   "source": [
    "# Load model"
   ]
  },
  {
   "cell_type": "code",
   "execution_count": null,
   "metadata": {},
   "outputs": [],
   "source": [
    "model = ItemClustering.ItemClustering()"
   ]
  },
  {
   "cell_type": "code",
   "execution_count": null,
   "metadata": {},
   "outputs": [],
   "source": [
    "model.config.artifacts_path"
   ]
  },
  {
   "cell_type": "code",
   "execution_count": null,
   "metadata": {},
   "outputs": [],
   "source": [
    "model.load_model('./item_clustering_mlflow_pyfunc/artifacts/')"
   ]
  },
  {
   "cell_type": "code",
   "execution_count": null,
   "metadata": {},
   "outputs": [],
   "source": [
    "# Load the model in `python_function` format\n",
    "loaded_model = mlflow.pyfunc.load_model(mlflow_pyfunc_model_path)"
   ]
  },
  {
   "cell_type": "code",
   "execution_count": null,
   "metadata": {},
   "outputs": [],
   "source": []
  }
 ],
 "metadata": {
  "kernelspec": {
   "display_name": "Python 3",
   "language": "python",
   "name": "python3"
  },
  "language_info": {
   "codemirror_mode": {
    "name": "ipython",
    "version": 3
   },
   "file_extension": ".py",
   "mimetype": "text/x-python",
   "name": "python",
   "nbconvert_exporter": "python",
   "pygments_lexer": "ipython3",
   "version": "3.7.6"
  }
 },
 "nbformat": 4,
 "nbformat_minor": 4
}
