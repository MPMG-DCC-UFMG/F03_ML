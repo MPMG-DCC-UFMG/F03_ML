{
 "cells": [
  {
   "cell_type": "code",
   "execution_count": 1,
   "metadata": {},
   "outputs": [],
   "source": [
    "import pandas as pd\n",
    "import numpy as np\n",
    "import json\n",
    "import collections\n",
    "import copy\n",
    "import random\n",
    "import math\n",
    "import matplotlib.pyplot as plt\n",
    "from nlp.preprocessing import (\n",
    "    clean_text,\n",
    "    preprocess,\n",
    "    tokenize,\n",
    "    preprocess_document,\n",
    "    tokenize_document,\n",
    "    get_stopwords, \n",
    "    lemmatization_document,\n",
    "    get_canonical_words,\n",
    "    spellcheck_document)\n",
    "from nlp.pos_tagging import (\n",
    "    get_tokens_tags\n",
    ")\n",
    "from nlp.utils import (\n",
    "    read_json_file,\n",
    "    plot_histogram,\n",
    "    get_completetext,\n",
    "    plot_wordcloud,\n",
    "    print_statistics,\n",
    "    groups_frequency_sort)\n",
    "from nlp.text_statistics import (\n",
    "    count_tokens,\n",
    "    unique_tokens\n",
    ")\n",
    "from nlp.grouping import (\n",
    "    get_groups,\n",
    "    get_groups_size,\n",
    "    get_unigram_groups,\n",
    "    get_two_tokens_groups,\n",
    "    get_first_token_groups,\n",
    "    get_bigram_groups,\n",
    "    get_first_two_groups,\n",
    "    groups_frequency_sort\n",
    ")\n",
    "from utils.read_files import (\n",
    "    get_items)\n",
    "from item.item_list import (\n",
    "    ItemList,\n",
    "    Item\n",
    ")\n",
    "from item.spellcheckeropt import SpellcheckerOpt\n",
    "from item.utils import get_tokens_set\n",
    "from textpp_ptbr.preprocessing import TextPreProcessing as tpp\n",
    "from gensim.parsing.preprocessing import (\n",
    "    strip_multiple_whitespaces,\n",
    "    strip_non_alphanum,\n",
    "    strip_punctuation2,\n",
    "    strip_short)"
   ]
  },
  {
   "cell_type": "code",
   "execution_count": 19,
   "metadata": {},
   "outputs": [],
   "source": [
    "licitacao_postgres_file = '../dados/dim_licitacao_postgresql.csv'\n",
    "licitacoes_post_df = pd.read_csv(licitacao_postgres_file, sep=';')"
   ]
  },
  {
   "cell_type": "code",
   "execution_count": 21,
   "metadata": {},
   "outputs": [],
   "source": [
    "licitacoes_post_comp = list(licitacoes_post_df['seq_dim_licitacao'])"
   ]
  },
  {
   "cell_type": "code",
   "execution_count": 3,
   "metadata": {},
   "outputs": [],
   "source": [
    "file_hive = '../dados/itens_hive_F02.csv'\n",
    "hive_df = pd.read_csv(file_hive, sep=';')"
   ]
  },
  {
   "cell_type": "code",
   "execution_count": 4,
   "metadata": {},
   "outputs": [],
   "source": [
    "file_postgres = '../dados/itens_postgresql_F02.csv'\n",
    "post_df = pd.read_csv(file_postgres, sep=';')"
   ]
  },
  {
   "cell_type": "code",
   "execution_count": 7,
   "metadata": {},
   "outputs": [],
   "source": [
    "licitacoes_hive = list(hive_df['seq_dim_licitacao'])\n",
    "licitacoes_hive.sort()\n",
    "licitacoes_post = list(post_df['seq_dim_licitacao'])\n",
    "licitacoes_post.sort()"
   ]
  },
  {
   "cell_type": "code",
   "execution_count": 17,
   "metadata": {},
   "outputs": [
    {
     "data": {
      "text/plain": [
       "562"
      ]
     },
     "execution_count": 17,
     "metadata": {},
     "output_type": "execute_result"
    }
   ],
   "source": [
    "len(set(licitacoes_post).intersection(set(licitacoes_hive)))"
   ]
  },
  {
   "cell_type": "code",
   "execution_count": 22,
   "metadata": {},
   "outputs": [
    {
     "data": {
      "text/plain": [
       "1518"
      ]
     },
     "execution_count": 22,
     "metadata": {},
     "output_type": "execute_result"
    }
   ],
   "source": [
    "len(set(licitacoes_post_comp).intersection(set(licitacoes_hive)))"
   ]
  },
  {
   "cell_type": "code",
   "execution_count": 18,
   "metadata": {},
   "outputs": [
    {
     "data": {
      "text/plain": [
       "164699"
      ]
     },
     "execution_count": 18,
     "metadata": {},
     "output_type": "execute_result"
    }
   ],
   "source": [
    "len(set(licitacoes_post))"
   ]
  },
  {
   "cell_type": "code",
   "execution_count": 2,
   "metadata": {},
   "outputs": [],
   "source": [
    "file = '../dados/itens_postgresql_F02.csv'\n",
    "data = pd.read_csv(file, sep=';')"
   ]
  },
  {
   "cell_type": "code",
   "execution_count": 3,
   "metadata": {},
   "outputs": [
    {
     "name": "stdout",
     "output_type": "stream",
     "text": [
      "<class 'pandas.core.frame.DataFrame'>\n",
      "RangeIndex: 5886477 entries, 0 to 5886476\n",
      "Data columns (total 5 columns):\n",
      " #   Column              Dtype \n",
      "---  ------              ----- \n",
      " 0   seq_dim_licitacao   int64 \n",
      " 1   seq_dim_item        int64 \n",
      " 2   nom_item            object\n",
      " 3   dsc_unidade_medida  object\n",
      " 4   nom_item_busca      object\n",
      "dtypes: int64(2), object(3)\n",
      "memory usage: 224.6+ MB\n"
     ]
    }
   ],
   "source": [
    "data.info()"
   ]
  },
  {
   "cell_type": "code",
   "execution_count": 4,
   "metadata": {},
   "outputs": [],
   "source": [
    "items = data[['seq_dim_licitacao', 'seq_dim_item', 'nom_item', 'dsc_unidade_medida', 'nom_item_busca']].values.tolist()"
   ]
  },
  {
   "cell_type": "code",
   "execution_count": 5,
   "metadata": {},
   "outputs": [
    {
     "data": {
      "text/plain": [
       "[[795229,\n",
       "  16661578,\n",
       "  'Ornamentacao em festividades e homenagens',\n",
       "  'srv',\n",
       "  'ORNAMENTACAO EM FESTIVIDADES E HOMENAGENS'],\n",
       " [795229, 16662170, 'Servico de Buffet', 'Un', 'SERVICO DE BUFFET'],\n",
       " [795230,\n",
       "  16662346,\n",
       "  'Estudo do Projeto ref obras de aplicacao de ACM na fachada da Câmara',\n",
       "  'srv',\n",
       "  'ESTUDO DO PROJETO REF OBRAS DE APLICACAO DE ACM NA FACHADA DA CAMARA'],\n",
       " [795230,\n",
       "  16662347,\n",
       "  'Consultoria técnica e acompanhamento de servicos de instalacao de revestimento em painéis de ACM para a fachada frontal e laterais da edificacao da CÂMARA MUNICIPAL DE ITABIRAMG',\n",
       "  'srv',\n",
       "  'CONSULTORIA TECNICA E ACOMPANHAMENTO DE SERVICOS DE INSTALACAO DE REVESTIMENTO EM PAINEIS DE ACM PARA A FACHADA FRONTAL E LATERAIS DA EDIFICACAO DA CAMARA MUNICIPAL DE ITABIRAMG'],\n",
       " [795230,\n",
       "  16662348,\n",
       "  'Estudo do projeto apresentado levantamento de quantitativos especificacoes técnicas de produtos adequados e servicos necessários para reforma dos sanitários e pintura interna da CMIMG',\n",
       "  'srv',\n",
       "  'ESTUDO DO PROJETO APRESENTADO LEVANTAMENTO DE QUANTITATIVOS ESPECIFICACOES TECNICAS DE PRODUTOS ADEQUADOS E SERVICOS NECESSARIOS PARA REFORMA DOS SANITARIOS E PINTURA INTERNA DA CMIMG'],\n",
       " [795230,\n",
       "  16662349,\n",
       "  'Consultoria técnica e acompanhamento dos servicos de reforma dos sanitários e pintura interna da CMIMG',\n",
       "  'srv',\n",
       "  'CONSULTORIA TECNICA E ACOMPANHAMENTO DOS SERVICOS DE REFORMA DOS SANITARIOS E PINTURA INTERNA DA CMIMG'],\n",
       " [795235,\n",
       "  16661709,\n",
       "  'PESSEGO EM CALDAS 500ML',\n",
       "  'Un',\n",
       "  'PESSEGO EM CALDAS 500ML'],\n",
       " [795235, 16662084, 'BOMBOM 1000 GR', 'Pct', 'BOMBOM 1000 GR'],\n",
       " [795235, 16662131, 'KIT DE NATAL', 'Un', 'KIT DE NATAL'],\n",
       " [795235,\n",
       "  16662436,\n",
       "  'Azeitona verde com caroco em conserva em embalagem de vidro com peso drenado de 500g',\n",
       "  'Un',\n",
       "  'AZEITONA VERDE COM CAROCO EM CONSERVA EM EMBALAGEM DE VIDRO COM PESO DRENADO DE 500G']]"
      ]
     },
     "execution_count": 5,
     "metadata": {},
     "output_type": "execute_result"
    }
   ],
   "source": [
    "items[:10]"
   ]
  },
  {
   "cell_type": "code",
   "execution_count": 6,
   "metadata": {},
   "outputs": [],
   "source": [
    "right_word = read_json_file('../dados/palavras/right_words_nilc.json')"
   ]
  },
  {
   "cell_type": "code",
   "execution_count": 7,
   "metadata": {},
   "outputs": [],
   "source": [
    "items_descriptions = []\n",
    "stopwords_ = get_stopwords()\n",
    "relevant_stopwords = {'para', 'com', 'nao', 'mais', 'muito', 'so', 'sem', 'mesmo', 'mesma', 'ha', 'haja', 'hajam', 'houver', 'houvera', 'seja', 'sejam', 'fosse', 'fossem', 'forem', 'sera', 'serao', 'seria', 'seriam', 'tem', 'tinha', 'teve', 'tinham', 'tenha', 'tiver', 'tiverem', 'tera', 'terao', 'teria', 'teriam', 'uma', 'mais', 'entre'}\n",
    "stopwords_ = stopwords_ - relevant_stopwords\n",
    "canonical_form, word_class = get_canonical_words()"
   ]
  },
  {
   "cell_type": "code",
   "execution_count": 8,
   "metadata": {},
   "outputs": [
    {
     "data": {
      "text/plain": [
       "{'a',\n",
       " 'ao',\n",
       " 'aos',\n",
       " 'aquela',\n",
       " 'aquelas',\n",
       " 'aquele',\n",
       " 'aqueles',\n",
       " 'aquilo',\n",
       " 'as',\n",
       " 'ate',\n",
       " 'até',\n",
       " 'como',\n",
       " 'da',\n",
       " 'das',\n",
       " 'de',\n",
       " 'dela',\n",
       " 'delas',\n",
       " 'dele',\n",
       " 'deles',\n",
       " 'depois',\n",
       " 'do',\n",
       " 'dos',\n",
       " 'e',\n",
       " 'ela',\n",
       " 'elas',\n",
       " 'ele',\n",
       " 'eles',\n",
       " 'em',\n",
       " 'era',\n",
       " 'eram',\n",
       " 'eramos',\n",
       " 'essa',\n",
       " 'essas',\n",
       " 'esse',\n",
       " 'esses',\n",
       " 'esta',\n",
       " 'estamos',\n",
       " 'estao',\n",
       " 'estas',\n",
       " 'estava',\n",
       " 'estavam',\n",
       " 'estavamos',\n",
       " 'este',\n",
       " 'esteja',\n",
       " 'estejam',\n",
       " 'estejamos',\n",
       " 'estes',\n",
       " 'esteve',\n",
       " 'estive',\n",
       " 'estivemos',\n",
       " 'estiver',\n",
       " 'estivera',\n",
       " 'estiveram',\n",
       " 'estiveramos',\n",
       " 'estiverem',\n",
       " 'estivermos',\n",
       " 'estivesse',\n",
       " 'estivessem',\n",
       " 'estivessemos',\n",
       " 'estivéramos',\n",
       " 'estivéssemos',\n",
       " 'estou',\n",
       " 'está',\n",
       " 'estávamos',\n",
       " 'estão',\n",
       " 'eu',\n",
       " 'foi',\n",
       " 'fomos',\n",
       " 'for',\n",
       " 'fora',\n",
       " 'foram',\n",
       " 'foramos',\n",
       " 'formos',\n",
       " 'fossemos',\n",
       " 'fui',\n",
       " 'fôramos',\n",
       " 'fôssemos',\n",
       " 'hajamos',\n",
       " 'hao',\n",
       " 'havemos',\n",
       " 'hei',\n",
       " 'houve',\n",
       " 'houvemos',\n",
       " 'houveram',\n",
       " 'houveramos',\n",
       " 'houverao',\n",
       " 'houverei',\n",
       " 'houverem',\n",
       " 'houveremos',\n",
       " 'houveria',\n",
       " 'houveriam',\n",
       " 'houveriamos',\n",
       " 'houvermos',\n",
       " 'houverá',\n",
       " 'houverão',\n",
       " 'houveríamos',\n",
       " 'houvesse',\n",
       " 'houvessem',\n",
       " 'houvessemos',\n",
       " 'houvéramos',\n",
       " 'houvéssemos',\n",
       " 'há',\n",
       " 'hão',\n",
       " 'isso',\n",
       " 'isto',\n",
       " 'ja',\n",
       " 'já',\n",
       " 'lhe',\n",
       " 'lhes',\n",
       " 'mas',\n",
       " 'me',\n",
       " 'meu',\n",
       " 'meus',\n",
       " 'minha',\n",
       " 'minhas',\n",
       " 'na',\n",
       " 'nas',\n",
       " 'nem',\n",
       " 'no',\n",
       " 'nos',\n",
       " 'nossa',\n",
       " 'nossas',\n",
       " 'nosso',\n",
       " 'nossos',\n",
       " 'num',\n",
       " 'numa',\n",
       " 'não',\n",
       " 'nós',\n",
       " 'o',\n",
       " 'os',\n",
       " 'ou',\n",
       " 'pela',\n",
       " 'pelas',\n",
       " 'pelo',\n",
       " 'pelos',\n",
       " 'por',\n",
       " 'qual',\n",
       " 'quando',\n",
       " 'que',\n",
       " 'quem',\n",
       " 'sao',\n",
       " 'se',\n",
       " 'sejamos',\n",
       " 'serei',\n",
       " 'seremos',\n",
       " 'seriamos',\n",
       " 'será',\n",
       " 'serão',\n",
       " 'seríamos',\n",
       " 'seu',\n",
       " 'seus',\n",
       " 'somos',\n",
       " 'sou',\n",
       " 'sua',\n",
       " 'suas',\n",
       " 'são',\n",
       " 'só',\n",
       " 'tambem',\n",
       " 'também',\n",
       " 'te',\n",
       " 'temos',\n",
       " 'tenham',\n",
       " 'tenhamos',\n",
       " 'tenho',\n",
       " 'terei',\n",
       " 'teremos',\n",
       " 'teriamos',\n",
       " 'terá',\n",
       " 'terão',\n",
       " 'teríamos',\n",
       " 'teu',\n",
       " 'teus',\n",
       " 'tinhamos',\n",
       " 'tive',\n",
       " 'tivemos',\n",
       " 'tivera',\n",
       " 'tiveram',\n",
       " 'tiveramos',\n",
       " 'tivermos',\n",
       " 'tivesse',\n",
       " 'tivessem',\n",
       " 'tivessemos',\n",
       " 'tivéramos',\n",
       " 'tivéssemos',\n",
       " 'tu',\n",
       " 'tua',\n",
       " 'tuas',\n",
       " 'tém',\n",
       " 'tínhamos',\n",
       " 'um',\n",
       " 'voce',\n",
       " 'voces',\n",
       " 'você',\n",
       " 'vocês',\n",
       " 'vos',\n",
       " 'à',\n",
       " 'às',\n",
       " 'é',\n",
       " 'éramos'}"
      ]
     },
     "execution_count": 8,
     "metadata": {},
     "output_type": "execute_result"
    }
   ],
   "source": [
    "stopwords_"
   ]
  },
  {
   "cell_type": "markdown",
   "metadata": {},
   "source": [
    "# Preprocessing items descriptions"
   ]
  },
  {
   "cell_type": "code",
   "execution_count": 9,
   "metadata": {},
   "outputs": [],
   "source": [
    "for item in items:\n",
    "    licitacao = item[0]\n",
    "    description = item[2]\n",
    "    dsc_unidade = item[3]\n",
    "    price = 0.0\n",
    "    if type(dsc_unidade) == str:\n",
    "        dsc_unidade = tpp.remove_accents(dsc_unidade.lower())\n",
    "    elif math.isnan(dsc_unidade):\n",
    "        dsc_unidade = \"\"\n",
    "    doc = preprocess_document(description, remove_numbers=False, stopwords=stopwords_)\n",
    "    doc = tokenize_document(doc)\n",
    "    doc = lemmatization_document(doc, canonical_form)\n",
    "    doc = spellcheck_document(doc, right_word)\n",
    "    doc = lemmatization_document(doc, canonical_form)\n",
    "    items_descriptions.append((doc, licitacao, price, dsc_unidade, description))"
   ]
  },
  {
   "cell_type": "code",
   "execution_count": 10,
   "metadata": {},
   "outputs": [
    {
     "data": {
      "text/plain": [
       "5886477"
      ]
     },
     "execution_count": 10,
     "metadata": {},
     "output_type": "execute_result"
    }
   ],
   "source": [
    "len(items_descriptions)"
   ]
  },
  {
   "cell_type": "code",
   "execution_count": 11,
   "metadata": {},
   "outputs": [],
   "source": [
    "itemlist = ItemList()\n",
    "itemlist.load_items_from_list(items_descriptions)"
   ]
  },
  {
   "cell_type": "code",
   "execution_count": 12,
   "metadata": {},
   "outputs": [],
   "source": [
    "itemlist.save_items('../dados/items_postgresql_F02')"
   ]
  },
  {
   "cell_type": "code",
   "execution_count": null,
   "metadata": {},
   "outputs": [],
   "source": []
  }
 ],
 "metadata": {
  "kernelspec": {
   "display_name": "Python 3",
   "language": "python",
   "name": "python3"
  },
  "language_info": {
   "codemirror_mode": {
    "name": "ipython",
    "version": 3
   },
   "file_extension": ".py",
   "mimetype": "text/x-python",
   "name": "python",
   "nbconvert_exporter": "python",
   "pygments_lexer": "ipython3",
   "version": "3.7.6"
  }
 },
 "nbformat": 4,
 "nbformat_minor": 4
}
