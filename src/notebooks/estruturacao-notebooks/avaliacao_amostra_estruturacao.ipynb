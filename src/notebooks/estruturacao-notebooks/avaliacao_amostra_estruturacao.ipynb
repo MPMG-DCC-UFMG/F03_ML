{
 "cells": [
  {
   "cell_type": "code",
   "execution_count": 313,
   "metadata": {},
   "outputs": [],
   "source": [
    "import pandas as pd\n",
    "import numpy as np\n",
    "import json\n",
    "import math"
   ]
  },
  {
   "cell_type": "code",
   "execution_count": 383,
   "metadata": {},
   "outputs": [],
   "source": [
    "amostra_estruturacao_file = \"../dados/amostras_estruturacao/6.csv\""
   ]
  },
  {
   "cell_type": "code",
   "execution_count": 384,
   "metadata": {},
   "outputs": [],
   "source": [
    "items_df = pd.read_csv(amostra_estruturacao_file, sep=',')"
   ]
  },
  {
   "cell_type": "code",
   "execution_count": 385,
   "metadata": {},
   "outputs": [
    {
     "data": {
      "text/html": [
       "<div>\n",
       "<style scoped>\n",
       "    .dataframe tbody tr th:only-of-type {\n",
       "        vertical-align: middle;\n",
       "    }\n",
       "\n",
       "    .dataframe tbody tr th {\n",
       "        vertical-align: top;\n",
       "    }\n",
       "\n",
       "    .dataframe thead th {\n",
       "        text-align: right;\n",
       "    }\n",
       "</style>\n",
       "<table border=\"1\" class=\"dataframe\">\n",
       "  <thead>\n",
       "    <tr style=\"text-align: right;\">\n",
       "      <th></th>\n",
       "      <th>id</th>\n",
       "      <th>descricao_original</th>\n",
       "      <th></th>\n",
       "      <th>palavras_original</th>\n",
       "      <th>palavras_novo</th>\n",
       "      <th>unidades_medida_original</th>\n",
       "      <th>unidades_medida_novo</th>\n",
       "      <th>números_original</th>\n",
       "      <th>números_novo</th>\n",
       "      <th>cores_original</th>\n",
       "      <th>cores_novo</th>\n",
       "      <th>materiais_original</th>\n",
       "      <th>materiais_novo</th>\n",
       "      <th>tamanho_original</th>\n",
       "      <th>tamanho_novo</th>\n",
       "      <th>tipo_quantidade_original</th>\n",
       "      <th>tipo_quantidade_novo</th>\n",
       "    </tr>\n",
       "  </thead>\n",
       "  <tbody>\n",
       "    <tr>\n",
       "      <th>0</th>\n",
       "      <td>1</td>\n",
       "      <td>001626 MELANCIA-</td>\n",
       "      <td></td>\n",
       "      <td>melancia</td>\n",
       "      <td>#</td>\n",
       "      <td>NaN</td>\n",
       "      <td>#</td>\n",
       "      <td>1626</td>\n",
       "      <td>#</td>\n",
       "      <td>NaN</td>\n",
       "      <td>#</td>\n",
       "      <td>NaN</td>\n",
       "      <td>#</td>\n",
       "      <td>NaN</td>\n",
       "      <td>#</td>\n",
       "      <td>NaN</td>\n",
       "      <td>#</td>\n",
       "    </tr>\n",
       "    <tr>\n",
       "      <th>1</th>\n",
       "      <td>2</td>\n",
       "      <td>Esparadrapo impermeável, com boa aderência, hi...</td>\n",
       "      <td></td>\n",
       "      <td>esparadrapo, impermeavel, bom, aderencia, hipo...</td>\n",
       "      <td>esparadrapo, impermeavel, bom, aderencia, hipo...</td>\n",
       "      <td>cm, m</td>\n",
       "      <td>#</td>\n",
       "      <td>10, 4, 2005</td>\n",
       "      <td>10,4,5</td>\n",
       "      <td>branco</td>\n",
       "      <td>#</td>\n",
       "      <td>NaN</td>\n",
       "      <td>algodao, tecido</td>\n",
       "      <td>NaN</td>\n",
       "      <td>#</td>\n",
       "      <td>NaN</td>\n",
       "      <td>rolo</td>\n",
       "    </tr>\n",
       "    <tr>\n",
       "      <th>2</th>\n",
       "      <td>3</td>\n",
       "      <td>REGUA 50 CM.</td>\n",
       "      <td></td>\n",
       "      <td>regua</td>\n",
       "      <td>#</td>\n",
       "      <td>cm</td>\n",
       "      <td>#</td>\n",
       "      <td>50</td>\n",
       "      <td>#</td>\n",
       "      <td>NaN</td>\n",
       "      <td>#</td>\n",
       "      <td>NaN</td>\n",
       "      <td>#</td>\n",
       "      <td>NaN</td>\n",
       "      <td>#</td>\n",
       "      <td>NaN</td>\n",
       "      <td>#</td>\n",
       "    </tr>\n",
       "    <tr>\n",
       "      <th>3</th>\n",
       "      <td>4</td>\n",
       "      <td>ENVELOPE TIPO SACO, SEM TIMBRE, SEM JANELA, EM...</td>\n",
       "      <td></td>\n",
       "      <td>envelope, saco, timbre, janela, papel, kraft, ...</td>\n",
       "      <td>envelope, saco, timbre, janela, kraft, natural...</td>\n",
       "      <td>g, m2, mm</td>\n",
       "      <td>#</td>\n",
       "      <td>80, 180, 240</td>\n",
       "      <td>#</td>\n",
       "      <td>NaN</td>\n",
       "      <td>#</td>\n",
       "      <td>NaN</td>\n",
       "      <td>papel</td>\n",
       "      <td>NaN</td>\n",
       "      <td>#</td>\n",
       "      <td>NaN</td>\n",
       "      <td>#</td>\n",
       "    </tr>\n",
       "    <tr>\n",
       "      <th>4</th>\n",
       "      <td>5</td>\n",
       "      <td>PAPEL PRESENTE</td>\n",
       "      <td></td>\n",
       "      <td>papel, presente</td>\n",
       "      <td>presente</td>\n",
       "      <td>NaN</td>\n",
       "      <td>#</td>\n",
       "      <td>NaN</td>\n",
       "      <td>#</td>\n",
       "      <td>NaN</td>\n",
       "      <td>#</td>\n",
       "      <td>NaN</td>\n",
       "      <td>papel</td>\n",
       "      <td>NaN</td>\n",
       "      <td>#</td>\n",
       "      <td>NaN</td>\n",
       "      <td>#</td>\n",
       "    </tr>\n",
       "    <tr>\n",
       "      <th>...</th>\n",
       "      <td>...</td>\n",
       "      <td>...</td>\n",
       "      <td>...</td>\n",
       "      <td>...</td>\n",
       "      <td>...</td>\n",
       "      <td>...</td>\n",
       "      <td>...</td>\n",
       "      <td>...</td>\n",
       "      <td>...</td>\n",
       "      <td>...</td>\n",
       "      <td>...</td>\n",
       "      <td>...</td>\n",
       "      <td>...</td>\n",
       "      <td>...</td>\n",
       "      <td>...</td>\n",
       "      <td>...</td>\n",
       "      <td>...</td>\n",
       "    </tr>\n",
       "    <tr>\n",
       "      <th>145</th>\n",
       "      <td>146</td>\n",
       "      <td>BRACKETS ROTH SLOT22 2PM.I.ESQ</td>\n",
       "      <td></td>\n",
       "      <td>brackets, roth, slot22, pm, esq</td>\n",
       "      <td>#</td>\n",
       "      <td>NaN</td>\n",
       "      <td>#</td>\n",
       "      <td>2</td>\n",
       "      <td>#</td>\n",
       "      <td>NaN</td>\n",
       "      <td>#</td>\n",
       "      <td>NaN</td>\n",
       "      <td>#</td>\n",
       "      <td>NaN</td>\n",
       "      <td>#</td>\n",
       "      <td>NaN</td>\n",
       "      <td>#</td>\n",
       "    </tr>\n",
       "    <tr>\n",
       "      <th>146</th>\n",
       "      <td>147</td>\n",
       "      <td>CX COL P/MAT PERF CORT 7 LT</td>\n",
       "      <td></td>\n",
       "      <td>col, mat, perf, cort, lt</td>\n",
       "      <td>col, mat, perf, cort</td>\n",
       "      <td>lt</td>\n",
       "      <td>#</td>\n",
       "      <td>7</td>\n",
       "      <td>#</td>\n",
       "      <td>NaN</td>\n",
       "      <td>#</td>\n",
       "      <td>NaN</td>\n",
       "      <td>#</td>\n",
       "      <td>NaN</td>\n",
       "      <td>#</td>\n",
       "      <td>cx</td>\n",
       "      <td>#</td>\n",
       "    </tr>\n",
       "    <tr>\n",
       "      <th>147</th>\n",
       "      <td>148</td>\n",
       "      <td>US ORG E ESTR SUPERF (REG ING)</td>\n",
       "      <td></td>\n",
       "      <td>org, estr, superf, reg, ing</td>\n",
       "      <td>#</td>\n",
       "      <td>NaN</td>\n",
       "      <td>#</td>\n",
       "      <td>NaN</td>\n",
       "      <td>#</td>\n",
       "      <td>NaN</td>\n",
       "      <td>#</td>\n",
       "      <td>NaN</td>\n",
       "      <td>#</td>\n",
       "      <td>NaN</td>\n",
       "      <td>#</td>\n",
       "      <td>NaN</td>\n",
       "      <td>#</td>\n",
       "    </tr>\n",
       "    <tr>\n",
       "      <th>148</th>\n",
       "      <td>149</td>\n",
       "      <td>NIPLE GALVANIZADO 2 - NBR5580M</td>\n",
       "      <td></td>\n",
       "      <td>niple, galvanizar, nbr</td>\n",
       "      <td>#</td>\n",
       "      <td>m</td>\n",
       "      <td>#</td>\n",
       "      <td>2, 5580</td>\n",
       "      <td>#</td>\n",
       "      <td>NaN</td>\n",
       "      <td>#</td>\n",
       "      <td>NaN</td>\n",
       "      <td>#</td>\n",
       "      <td>NaN</td>\n",
       "      <td>#</td>\n",
       "      <td>NaN</td>\n",
       "      <td>#</td>\n",
       "    </tr>\n",
       "    <tr>\n",
       "      <th>149</th>\n",
       "      <td>150</td>\n",
       "      <td>TRE WAY LUER SLIP</td>\n",
       "      <td></td>\n",
       "      <td>tre, way, luer, slip</td>\n",
       "      <td>#</td>\n",
       "      <td>NaN</td>\n",
       "      <td>#</td>\n",
       "      <td>NaN</td>\n",
       "      <td>#</td>\n",
       "      <td>NaN</td>\n",
       "      <td>#</td>\n",
       "      <td>NaN</td>\n",
       "      <td>#</td>\n",
       "      <td>NaN</td>\n",
       "      <td>#</td>\n",
       "      <td>NaN</td>\n",
       "      <td>#</td>\n",
       "    </tr>\n",
       "  </tbody>\n",
       "</table>\n",
       "<p>150 rows × 17 columns</p>\n",
       "</div>"
      ],
      "text/plain": [
       "      id                                 descricao_original     \\\n",
       "0      1                                   001626 MELANCIA-      \n",
       "1      2  Esparadrapo impermeável, com boa aderência, hi...      \n",
       "2      3                                       REGUA 50 CM.      \n",
       "3      4  ENVELOPE TIPO SACO, SEM TIMBRE, SEM JANELA, EM...      \n",
       "4      5                                     PAPEL PRESENTE      \n",
       "..   ...                                                ... ..   \n",
       "145  146                     BRACKETS ROTH SLOT22 2PM.I.ESQ      \n",
       "146  147                        CX COL P/MAT PERF CORT 7 LT      \n",
       "147  148                     US ORG E ESTR SUPERF (REG ING)      \n",
       "148  149                     NIPLE GALVANIZADO 2 - NBR5580M      \n",
       "149  150                                  TRE WAY LUER SLIP      \n",
       "\n",
       "                                     palavras_original  \\\n",
       "0                                             melancia   \n",
       "1    esparadrapo, impermeavel, bom, aderencia, hipo...   \n",
       "2                                                regua   \n",
       "3    envelope, saco, timbre, janela, papel, kraft, ...   \n",
       "4                                      papel, presente   \n",
       "..                                                 ...   \n",
       "145                    brackets, roth, slot22, pm, esq   \n",
       "146                           col, mat, perf, cort, lt   \n",
       "147                        org, estr, superf, reg, ing   \n",
       "148                             niple, galvanizar, nbr   \n",
       "149                               tre, way, luer, slip   \n",
       "\n",
       "                                         palavras_novo  \\\n",
       "0                                                    #   \n",
       "1    esparadrapo, impermeavel, bom, aderencia, hipo...   \n",
       "2                                                    #   \n",
       "3    envelope, saco, timbre, janela, kraft, natural...   \n",
       "4                                             presente   \n",
       "..                                                 ...   \n",
       "145                                                  #   \n",
       "146                               col, mat, perf, cort   \n",
       "147                                                  #   \n",
       "148                                                  #   \n",
       "149                                                  #   \n",
       "\n",
       "    unidades_medida_original unidades_medida_novo números_original  \\\n",
       "0                        NaN                    #             1626   \n",
       "1                      cm, m                    #      10, 4, 2005   \n",
       "2                         cm                    #               50   \n",
       "3                  g, m2, mm                    #     80, 180, 240   \n",
       "4                        NaN                    #              NaN   \n",
       "..                       ...                  ...              ...   \n",
       "145                      NaN                    #                2   \n",
       "146                       lt                    #                7   \n",
       "147                      NaN                    #              NaN   \n",
       "148                        m                    #          2, 5580   \n",
       "149                      NaN                    #              NaN   \n",
       "\n",
       "    números_novo cores_original cores_novo materiais_original  \\\n",
       "0              #            NaN          #                NaN   \n",
       "1         10,4,5         branco          #                NaN   \n",
       "2              #            NaN          #                NaN   \n",
       "3              #            NaN          #                NaN   \n",
       "4              #            NaN          #                NaN   \n",
       "..           ...            ...        ...                ...   \n",
       "145            #            NaN          #                NaN   \n",
       "146            #            NaN          #                NaN   \n",
       "147            #            NaN          #                NaN   \n",
       "148            #            NaN          #                NaN   \n",
       "149            #            NaN          #                NaN   \n",
       "\n",
       "      materiais_novo tamanho_original tamanho_novo tipo_quantidade_original  \\\n",
       "0                  #              NaN            #                      NaN   \n",
       "1    algodao, tecido              NaN            #                      NaN   \n",
       "2                  #              NaN            #                      NaN   \n",
       "3              papel              NaN            #                      NaN   \n",
       "4              papel              NaN            #                      NaN   \n",
       "..               ...              ...          ...                      ...   \n",
       "145                #              NaN            #                      NaN   \n",
       "146                #              NaN            #                       cx   \n",
       "147                #              NaN            #                      NaN   \n",
       "148                #              NaN            #                      NaN   \n",
       "149                #              NaN            #                      NaN   \n",
       "\n",
       "    tipo_quantidade_novo  \n",
       "0                      #  \n",
       "1                   rolo  \n",
       "2                      #  \n",
       "3                      #  \n",
       "4                      #  \n",
       "..                   ...  \n",
       "145                    #  \n",
       "146                    #  \n",
       "147                    #  \n",
       "148                    #  \n",
       "149                    #  \n",
       "\n",
       "[150 rows x 17 columns]"
      ]
     },
     "execution_count": 385,
     "metadata": {},
     "output_type": "execute_result"
    }
   ],
   "source": [
    "items_df"
   ]
  },
  {
   "cell_type": "code",
   "execution_count": 386,
   "metadata": {},
   "outputs": [
    {
     "name": "stdout",
     "output_type": "stream",
     "text": [
      "<class 'pandas.core.frame.DataFrame'>\n",
      "RangeIndex: 150 entries, 0 to 149\n",
      "Data columns (total 17 columns):\n",
      " #   Column                    Non-Null Count  Dtype \n",
      "---  ------                    --------------  ----- \n",
      " 0   id                        150 non-null    int64 \n",
      " 1   descricao_original        150 non-null    object\n",
      " 2                             150 non-null    object\n",
      " 3   palavras_original         150 non-null    object\n",
      " 4   palavras_novo             150 non-null    object\n",
      " 5   unidades_medida_original  72 non-null     object\n",
      " 6   unidades_medida_novo      149 non-null    object\n",
      " 7   números_original          115 non-null    object\n",
      " 8   números_novo              150 non-null    object\n",
      " 9   cores_original            19 non-null     object\n",
      " 10  cores_novo                150 non-null    object\n",
      " 11  materiais_original        22 non-null     object\n",
      " 12  materiais_novo            150 non-null    object\n",
      " 13  tamanho_original          5 non-null      object\n",
      " 14  tamanho_novo              148 non-null    object\n",
      " 15  tipo_quantidade_original  14 non-null     object\n",
      " 16  tipo_quantidade_novo      150 non-null    object\n",
      "dtypes: int64(1), object(16)\n",
      "memory usage: 20.0+ KB\n"
     ]
    }
   ],
   "source": [
    "items_df.info()"
   ]
  },
  {
   "cell_type": "code",
   "execution_count": 387,
   "metadata": {},
   "outputs": [],
   "source": [
    "items = items_df.values.tolist()"
   ]
  },
  {
   "cell_type": "code",
   "execution_count": 388,
   "metadata": {},
   "outputs": [],
   "source": [
    "json_records = json.loads(items_df.to_json(orient ='records'))"
   ]
  },
  {
   "cell_type": "code",
   "execution_count": 389,
   "metadata": {},
   "outputs": [],
   "source": [
    "palavras_added = set()\n",
    "unidades_medida_added = set()\n",
    "numeros_added = set()\n",
    "cores_added = set()\n",
    "materiais_added = set()\n",
    "tamanho_added = set()\n",
    "tipo_quantidade_added = set()\n",
    "\n",
    "palavras_removed = set()\n",
    "unidades_medida_removed = set()\n",
    "numeros_removed = set()\n",
    "cores_removed = set()\n",
    "materiais_removed = set()\n",
    "tamanho_removed = set()\n",
    "tipo_quantidade_removed = set()"
   ]
  },
  {
   "cell_type": "code",
   "execution_count": 390,
   "metadata": {},
   "outputs": [],
   "source": [
    "def get_words(words_original, words_novo):\n",
    "    if str(words_original) == 'nan' or str(words_original) == 'None':\n",
    "        words_original_set = set()\n",
    "    else:\n",
    "        words_original = words_original.split(',')\n",
    "        words_original = [word.strip(' ').strip('\\n') for word in words_original]\n",
    "        words_original_set = set(words_original)\n",
    "    \n",
    "    if str(words_novo) == 'nan' or str(words_novo) == 'None':\n",
    "        words_novo_set = set()\n",
    "    elif '#' in words_novo:\n",
    "        words_novo_set = words_original_set\n",
    "    else:\n",
    "        words_novo = words_novo.split(',')\n",
    "        words_novo = [word.strip(' ').strip('\\n') for word in words_novo]\n",
    "        words_novo_set = set(words_novo)\n",
    "\n",
    "    return words_original_set, words_novo_set"
   ]
  },
  {
   "cell_type": "code",
   "execution_count": 391,
   "metadata": {
    "scrolled": true
   },
   "outputs": [],
   "source": [
    "for item in json_records:\n",
    "    palavras_original, palavras_novo = get_words(item[\"palavras_original\"], item[\"palavras_novo\"])\n",
    "    palavras_added.update(list(palavras_novo - palavras_original))\n",
    "    palavras_removed.update(list(palavras_original - palavras_novo))\n",
    "\n",
    "    unidades_medida_original, unidades_medida_novo = get_words(item[\"unidades_medida_original\"], item[\"unidades_medida_novo\"])\n",
    "    unidades_medida_added.update(list(unidades_medida_novo - unidades_medida_original))\n",
    "    unidades_medida_removed.update(list(unidades_medida_original - unidades_medida_novo))\n",
    "    \n",
    "    numeros_original, numeros_novo = get_words(item[\"números_original\"], item[\"números_novo\"])\n",
    "    numeros_added.update(list(numeros_novo - numeros_original))\n",
    "    numeros_removed.update(list(numeros_original - numeros_novo))\n",
    "    \n",
    "    cores_original, cores_novo = get_words(item[\"cores_original\"], item[\"cores_novo\"])\n",
    "    cores_added.update(list(cores_novo - cores_original))\n",
    "    cores_removed.update(list(cores_original - cores_novo))\n",
    "    \n",
    "    materiais_original, materiais_novo = get_words(item[\"materiais_original\"], item[\"materiais_novo\"])\n",
    "    materiais_added.update(list(materiais_novo - materiais_original))\n",
    "    materiais_removed.update(list(materiais_original - materiais_novo))\n",
    "\n",
    "    tamanho_original, tamanho_novo = get_words(item[\"tamanho_original\"], item[\"tamanho_novo\"])\n",
    "    tamanho_added.update(list(tamanho_novo - tamanho_original))\n",
    "    tamanho_removed.update(list(tamanho_original - tamanho_novo))\n",
    "\n",
    "    tipo_quantidade_original, tipo_quantidade_novo = get_words(item[\"tipo_quantidade_original\"], item[\"tipo_quantidade_novo\"])\n",
    "    tipo_quantidade_added.update(list(tipo_quantidade_novo - tipo_quantidade_original))\n",
    "    tipo_quantidade_removed.update(list(tipo_quantidade_original - tipo_quantidade_novo))"
   ]
  },
  {
   "cell_type": "code",
   "execution_count": 392,
   "metadata": {},
   "outputs": [
    {
     "name": "stdout",
     "output_type": "stream",
     "text": [
      "galvanizada\n",
      "prazo\n",
      "qualidade\n",
      "prima\n",
      "posto\n",
      "contendo\n"
     ]
    }
   ],
   "source": [
    "for word in palavras_added:\n",
    "    print(word.strip(' '))"
   ]
  },
  {
   "cell_type": "code",
   "execution_count": 393,
   "metadata": {
    "scrolled": true
   },
   "outputs": [
    {
     "name": "stdout",
     "output_type": "stream",
     "text": [
      "\n",
      "feltro\n",
      "galvanizar\n",
      "primo\n",
      "algodao\n",
      "por\n",
      "seis\n",
      "dois\n",
      "transparente\n",
      "prazer\n",
      "noventa\n",
      "lt\n",
      "tecido\n",
      "mt\n",
      "papel\n",
      "rolo\n",
      "no25\n",
      "trinta\n",
      "borracha\n",
      "silicone\n",
      "contender\n"
     ]
    }
   ],
   "source": [
    "for word in palavras_removed:\n",
    "    print(word.strip(' '))"
   ]
  },
  {
   "cell_type": "code",
   "execution_count": 394,
   "metadata": {},
   "outputs": [
    {
     "name": "stdout",
     "output_type": "stream",
     "text": [
      "mt\n"
     ]
    }
   ],
   "source": [
    "for word in unidades_medida_added:\n",
    "    print(word.strip(' ').strip('\\n'))"
   ]
  },
  {
   "cell_type": "code",
   "execution_count": 395,
   "metadata": {},
   "outputs": [
    {
     "name": "stdout",
     "output_type": "stream",
     "text": [
      "v\n"
     ]
    }
   ],
   "source": [
    "for word in unidades_medida_removed:\n",
    "    print(word.strip(' '))"
   ]
  },
  {
   "cell_type": "code",
   "execution_count": 396,
   "metadata": {},
   "outputs": [
    {
     "name": "stdout",
     "output_type": "stream",
     "text": [
      "5\n",
      "12\n",
      "250\n",
      "75\n",
      "21\n",
      "1000\n",
      "100\n",
      "2000\n",
      "3510\n"
     ]
    }
   ],
   "source": [
    "for word in numeros_added:\n",
    "    print(word.strip(' '))"
   ]
  },
  {
   "cell_type": "code",
   "execution_count": 397,
   "metadata": {},
   "outputs": [
    {
     "name": "stdout",
     "output_type": "stream",
     "text": [
      "2005\n",
      "572\n",
      "1\n",
      "0100\n",
      "9\n",
      "000\n",
      "2\n",
      "2000\n",
      "0\n",
      "0250\n"
     ]
    }
   ],
   "source": [
    "for word in numeros_removed:\n",
    "    print(word.strip(' '))"
   ]
  },
  {
   "cell_type": "code",
   "execution_count": 398,
   "metadata": {},
   "outputs": [
    {
     "name": "stdout",
     "output_type": "stream",
     "text": [
      "transparente\n"
     ]
    }
   ],
   "source": [
    "for word in cores_added:\n",
    "    print(word.strip(' '))"
   ]
  },
  {
   "cell_type": "code",
   "execution_count": 399,
   "metadata": {},
   "outputs": [],
   "source": [
    "for word in cores_removed:\n",
    "    print(word.strip(' '))"
   ]
  },
  {
   "cell_type": "code",
   "execution_count": 400,
   "metadata": {},
   "outputs": [
    {
     "name": "stdout",
     "output_type": "stream",
     "text": [
      "tecido\n",
      "feltro\n",
      "acrilico\n",
      "resina\n",
      "algodao\n",
      "papel\n",
      "gesso\n"
     ]
    }
   ],
   "source": [
    "for word in materiais_added:\n",
    "    print(word.strip(' '))"
   ]
  },
  {
   "cell_type": "code",
   "execution_count": 401,
   "metadata": {},
   "outputs": [],
   "source": [
    "for word in materiais_removed:\n",
    "    print(word.strip(' '))"
   ]
  },
  {
   "cell_type": "code",
   "execution_count": 402,
   "metadata": {},
   "outputs": [],
   "source": [
    "for word in tamanho_added:\n",
    "    print(word.strip(' '))"
   ]
  },
  {
   "cell_type": "code",
   "execution_count": 403,
   "metadata": {},
   "outputs": [
    {
     "name": "stdout",
     "output_type": "stream",
     "text": [
      "pequeno\n"
     ]
    }
   ],
   "source": [
    "for word in tamanho_removed:\n",
    "    print(word.strip(' '))"
   ]
  },
  {
   "cell_type": "code",
   "execution_count": 381,
   "metadata": {},
   "outputs": [
    {
     "name": "stdout",
     "output_type": "stream",
     "text": [
      "rolo\n"
     ]
    }
   ],
   "source": [
    "for word in tipo_quantidade_added:\n",
    "    print(word.strip(' '))"
   ]
  },
  {
   "cell_type": "code",
   "execution_count": 382,
   "metadata": {},
   "outputs": [],
   "source": [
    "for word in tipo_quantidade_removed:\n",
    "    print(word.strip(' '))"
   ]
  },
  {
   "cell_type": "code",
   "execution_count": null,
   "metadata": {},
   "outputs": [],
   "source": []
  },
  {
   "cell_type": "code",
   "execution_count": 2,
   "metadata": {},
   "outputs": [],
   "source": [
    "unidades_medida_new = {'kva', 'mhz', 'mes', 'grs', 'gota', 'tb', 'nm', 'oc', 'gb', 'ghz', 'rpm', 'lpm', 'minuto', 'segundo', 'abs', 'wats', 'mb', 'abs'\n",
    ", 'mb', 'mhz', 'mes', 'gb', 'ghz', 'gr', 'segundo', 'nm', 'minuto', 'rpm', 'lpm', 'hz', 'mA', 'segundos', 'lt', 'wts', 'hz', 'mmol', 'Ma', 'mol'\n",
    ", 'dl', 'lt', '%', 'mt', 'ag', 'mes', 'cir', 'lts', 'gb', 'lt', 'ano', 'grs', 'tb', '%', 'hp', 'min', 'nm', 'quilo', 'lts', 'gb', 'btua', 'tb', 'lt', 'nm'}"
   ]
  },
  {
   "cell_type": "code",
   "execution_count": 5,
   "metadata": {},
   "outputs": [],
   "source": [
    "quantidade_new = {'ampola', 'cartela', 'frasco', 'frasco', 'bloco', 'po', 'bisnaga', 'injetavel', 'ampola', 'comprimido', 'frs', 'cp', 'bisnaga'\n",
    ", 'frasco', 'ampola', 'comprimido', 'cp', 'rolo', 'und', 'frasco', 'kit', 'seringa', 'comprimido', 'ampola', 'frasco', 'und', 'ampola', 'comprimido'}"
   ]
  },
  {
   "cell_type": "code",
   "execution_count": 7,
   "metadata": {},
   "outputs": [],
   "source": [
    "materiais_new = {'espuma', 'tecido', 'acrilico', 'celulose', 'resina', 'fibra', 'metalico', 'nylon', 'gesso', 'acrilico', 'resina', 'metalico'\n",
    ", 'cromocobalto', 'emborrachar', 'elastico', 'nylon', 'gesso', 'eucalipto', 'poliestireno', 'cortica', 'polimero', 'polietileno', 'alum', 'tecido'\n",
    ", 'couro', 'acrilico', 'resina', 'polipropileno', 'fibra', 'eucalipto', 'poliestireno', 'cortica', 'metalico', 'polimero', 'polietileno', 'mdf', 'alum'\n",
    ",'tecido', 'couro' , 'madeira', 'acrilico', 'carbono', 'polipropileno', 'tecido', 'acrilico', 'lona', 'poliamida', 'metalico', 'poliester', 'nylon', 'tecido'\n",
    ", 'feltro', 'acrilico', 'resina', 'gesso', 'poliester', 'resina', 'tungstenio', 'crepe', 'carbono', 'palha', 'cart', 'poliester', 'cera', 'nylon', 'ferro'\n",
    ", 'metalico', 'aco', 'policarbonato', 'plastico', 'polipropileno', 'aluminio', 'viscose', 'policarbonato', 'sucupira', 'carbono', 'poliester' , 'polipropileno'\n",
    ", 'nylon', 'angelim'}"
   ]
  },
  {
   "cell_type": "code",
   "execution_count": 3,
   "metadata": {},
   "outputs": [
    {
     "data": {
      "text/plain": [
       "37"
      ]
     },
     "execution_count": 3,
     "metadata": {},
     "output_type": "execute_result"
    }
   ],
   "source": [
    "len(unidades_medida_new)"
   ]
  },
  {
   "cell_type": "code",
   "execution_count": 8,
   "metadata": {},
   "outputs": [
    {
     "name": "stdout",
     "output_type": "stream",
     "text": [
      "espuma\n",
      "mdf\n",
      "aluminio\n",
      "cortica\n",
      "couro\n",
      "palha\n",
      "celulose\n",
      "polipropileno\n",
      "polimero\n",
      "aco\n",
      "ferro\n",
      "eucalipto\n",
      "fibra\n",
      "crepe\n",
      "emborrachar\n",
      "poliamida\n",
      "sucupira\n",
      "lona\n",
      "gesso\n",
      "tecido\n",
      "plastico\n",
      "madeira\n",
      "viscose\n",
      "nylon\n",
      "alum\n",
      "acrilico\n",
      "carbono\n",
      "feltro\n",
      "poliestireno\n",
      "tungstenio\n",
      "angelim\n",
      "poliester\n",
      "policarbonato\n",
      "metalico\n",
      "cart\n",
      "elastico\n",
      "resina\n",
      "cera\n",
      "cromocobalto\n",
      "polietileno\n"
     ]
    }
   ],
   "source": [
    "for word in materiais_new:\n",
    "    print(word)"
   ]
  },
  {
   "cell_type": "code",
   "execution_count": null,
   "metadata": {},
   "outputs": [],
   "source": []
  }
 ],
 "metadata": {
  "kernelspec": {
   "display_name": "Python 3",
   "language": "python",
   "name": "python3"
  },
  "language_info": {
   "codemirror_mode": {
    "name": "ipython",
    "version": 3
   },
   "file_extension": ".py",
   "mimetype": "text/x-python",
   "name": "python",
   "nbconvert_exporter": "python",
   "pygments_lexer": "ipython3",
   "version": "3.7.6"
  }
 },
 "nbformat": 4,
 "nbformat_minor": 4
}
