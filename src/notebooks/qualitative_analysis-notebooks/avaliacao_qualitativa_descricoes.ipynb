{
 "cells": [
  {
   "cell_type": "code",
   "execution_count": 1,
   "metadata": {},
   "outputs": [],
   "source": [
    "import pandas as pd\n",
    "import numpy as np\n",
    "import collections\n",
    "import copy\n",
    "import random\n",
    "import re\n",
    "import matplotlib.pyplot as plt\n",
    "from nlp.utils import (\n",
    "    plot_histogram,\n",
    "    get_completetext,\n",
    "    plot_wordcloud,\n",
    "    print_statistics,\n",
    "    groups_frequency_sort)\n",
    "from nlp.text_statistics import (\n",
    "    count_tokens,\n",
    "    unique_tokens\n",
    ")\n",
    "from utils.read_files import (\n",
    "    get_items)\n",
    "from item.item_list import (\n",
    "    ItemList,\n",
    "    Item\n",
    ")\n",
    "from item.utils import get_tokens_set\n",
    "import seaborn as sns\n",
    "from item.clustering.utils import (\n",
    "    load_clustering_results_pickle,\n",
    "    load_clustering_results,\n",
    "    get_clusters_dataframe,\n",
    "    get_items_dataframe,\n",
    "    add_first_token_column,\n",
    "    add_outlier_column\n",
    ")\n",
    "\n",
    "sns.set()"
   ]
  },
  {
   "cell_type": "markdown",
   "metadata": {},
   "source": [
    "# Load items"
   ]
  },
  {
   "cell_type": "code",
   "execution_count": 2,
   "metadata": {},
   "outputs": [],
   "source": [
    "# It gets the descriptions processed:\n",
    "itemlist = ItemList()\n",
    "itemlist.load_items_from_file('../data/items.csv.zip')"
   ]
  },
  {
   "cell_type": "code",
   "execution_count": 3,
   "metadata": {},
   "outputs": [
    {
     "data": {
      "text/plain": [
       "2149533"
      ]
     },
     "execution_count": 3,
     "metadata": {},
     "output_type": "execute_result"
    }
   ],
   "source": [
    "len(itemlist.items_df)"
   ]
  },
  {
   "cell_type": "markdown",
   "metadata": {},
   "source": [
    "# Load results"
   ]
  },
  {
   "cell_type": "code",
   "execution_count": 4,
   "metadata": {},
   "outputs": [],
   "source": [
    "results, outliers = load_clustering_results_pickle('/scratch/pedrobrum/masters/data/clustering/hdbscan_bert/')"
   ]
  },
  {
   "cell_type": "code",
   "execution_count": 5,
   "metadata": {},
   "outputs": [],
   "source": [
    "cluster_items_df = get_clusters_dataframe(results, baseline=True)"
   ]
  },
  {
   "cell_type": "code",
   "execution_count": 6,
   "metadata": {},
   "outputs": [
    {
     "data": {
      "text/html": [
       "<div>\n",
       "<style scoped>\n",
       "    .dataframe tbody tr th:only-of-type {\n",
       "        vertical-align: middle;\n",
       "    }\n",
       "\n",
       "    .dataframe tbody tr th {\n",
       "        vertical-align: top;\n",
       "    }\n",
       "\n",
       "    .dataframe thead th {\n",
       "        text-align: right;\n",
       "    }\n",
       "</style>\n",
       "<table border=\"1\" class=\"dataframe\">\n",
       "  <thead>\n",
       "    <tr style=\"text-align: right;\">\n",
       "      <th></th>\n",
       "      <th>item_id</th>\n",
       "      <th>grupo</th>\n",
       "      <th>grupo_ruido</th>\n",
       "      <th>item_ruido</th>\n",
       "    </tr>\n",
       "  </thead>\n",
       "  <tbody>\n",
       "    <tr>\n",
       "      <th>0</th>\n",
       "      <td>1504296</td>\n",
       "      <td>medendazol</td>\n",
       "      <td>1</td>\n",
       "      <td>1</td>\n",
       "    </tr>\n",
       "    <tr>\n",
       "      <th>1</th>\n",
       "      <td>1803013</td>\n",
       "      <td>medendazol</td>\n",
       "      <td>1</td>\n",
       "      <td>1</td>\n",
       "    </tr>\n",
       "    <tr>\n",
       "      <th>2</th>\n",
       "      <td>2010509</td>\n",
       "      <td>urupem</td>\n",
       "      <td>1</td>\n",
       "      <td>1</td>\n",
       "    </tr>\n",
       "    <tr>\n",
       "      <th>3</th>\n",
       "      <td>1187827</td>\n",
       "      <td>travaquedas</td>\n",
       "      <td>1</td>\n",
       "      <td>1</td>\n",
       "    </tr>\n",
       "    <tr>\n",
       "      <th>4</th>\n",
       "      <td>2036213</td>\n",
       "      <td>prednsolona</td>\n",
       "      <td>1</td>\n",
       "      <td>1</td>\n",
       "    </tr>\n",
       "  </tbody>\n",
       "</table>\n",
       "</div>"
      ],
      "text/plain": [
       "   item_id        grupo  grupo_ruido  item_ruido\n",
       "0  1504296   medendazol            1           1\n",
       "1  1803013   medendazol            1           1\n",
       "2  2010509       urupem            1           1\n",
       "3  1187827  travaquedas            1           1\n",
       "4  2036213  prednsolona            1           1"
      ]
     },
     "execution_count": 6,
     "metadata": {},
     "output_type": "execute_result"
    }
   ],
   "source": [
    "cluster_items_df.head()"
   ]
  },
  {
   "cell_type": "code",
   "execution_count": 7,
   "metadata": {},
   "outputs": [],
   "source": [
    "items_clusters_df = get_items_dataframe(itemlist.items_df, cluster_items_df)"
   ]
  },
  {
   "cell_type": "code",
   "execution_count": 8,
   "metadata": {},
   "outputs": [
    {
     "data": {
      "text/html": [
       "<div>\n",
       "<style scoped>\n",
       "    .dataframe tbody tr th:only-of-type {\n",
       "        vertical-align: middle;\n",
       "    }\n",
       "\n",
       "    .dataframe tbody tr th {\n",
       "        vertical-align: top;\n",
       "    }\n",
       "\n",
       "    .dataframe thead th {\n",
       "        text-align: right;\n",
       "    }\n",
       "</style>\n",
       "<table border=\"1\" class=\"dataframe\">\n",
       "  <thead>\n",
       "    <tr style=\"text-align: right;\">\n",
       "      <th></th>\n",
       "      <th>item_id</th>\n",
       "      <th>grupo</th>\n",
       "      <th>grupo_ruido</th>\n",
       "      <th>item_ruido</th>\n",
       "      <th>palavras</th>\n",
       "      <th>unidades_medida</th>\n",
       "      <th>numeros</th>\n",
       "      <th>cores</th>\n",
       "      <th>materiais</th>\n",
       "      <th>tamanho</th>\n",
       "      <th>quantidade</th>\n",
       "      <th>original_prep</th>\n",
       "      <th>primeiro_termo</th>\n",
       "    </tr>\n",
       "  </thead>\n",
       "  <tbody>\n",
       "    <tr>\n",
       "      <th>0</th>\n",
       "      <td>1504296</td>\n",
       "      <td>medendazol</td>\n",
       "      <td>1</td>\n",
       "      <td>1</td>\n",
       "      <td>['medendazol']</td>\n",
       "      <td>['mg']</td>\n",
       "      <td>['1.00e+02']</td>\n",
       "      <td>[]</td>\n",
       "      <td>[]</td>\n",
       "      <td>[]</td>\n",
       "      <td>['comprimido']</td>\n",
       "      <td>['medendazol', '1.00e+02', 'mg', 'comprimido']</td>\n",
       "      <td>medendazol</td>\n",
       "    </tr>\n",
       "    <tr>\n",
       "      <th>1</th>\n",
       "      <td>1803013</td>\n",
       "      <td>medendazol</td>\n",
       "      <td>1</td>\n",
       "      <td>1</td>\n",
       "      <td>['medendazol', 'suspensao', 'doador', 'frasco']</td>\n",
       "      <td>['mg', 'ml']</td>\n",
       "      <td>['2.00e+01', '3.00e+01']</td>\n",
       "      <td>[]</td>\n",
       "      <td>[]</td>\n",
       "      <td>[]</td>\n",
       "      <td>['frasco']</td>\n",
       "      <td>['medendazol', '2.00e+01', 'mg', 'ml', 'suspen...</td>\n",
       "      <td>medendazol</td>\n",
       "    </tr>\n",
       "    <tr>\n",
       "      <th>2</th>\n",
       "      <td>2010509</td>\n",
       "      <td>urupem</td>\n",
       "      <td>1</td>\n",
       "      <td>1</td>\n",
       "      <td>['urupem', 'disp', 'incontinencia', 'urinario']</td>\n",
       "      <td>['g', 'c']</td>\n",
       "      <td>['2.00e+00', '6.00e+00']</td>\n",
       "      <td>[]</td>\n",
       "      <td>[]</td>\n",
       "      <td>[]</td>\n",
       "      <td>[]</td>\n",
       "      <td>['urupem', 'g', 'c', '2.00e+00', 'disp', 'inco...</td>\n",
       "      <td>urupem</td>\n",
       "    </tr>\n",
       "    <tr>\n",
       "      <th>3</th>\n",
       "      <td>1187827</td>\n",
       "      <td>travaquedas</td>\n",
       "      <td>1</td>\n",
       "      <td>1</td>\n",
       "      <td>['travaquedas', 'para', 'corda', 'block', 'tra...</td>\n",
       "      <td>['mm']</td>\n",
       "      <td>['1.10e+01', '1.20e+01']</td>\n",
       "      <td>[]</td>\n",
       "      <td>[]</td>\n",
       "      <td>[]</td>\n",
       "      <td>[]</td>\n",
       "      <td>['travaquedas', 'para', 'corda', '1.10e+01', '...</td>\n",
       "      <td>travaquedas</td>\n",
       "    </tr>\n",
       "    <tr>\n",
       "      <th>4</th>\n",
       "      <td>2036213</td>\n",
       "      <td>prednsolona</td>\n",
       "      <td>1</td>\n",
       "      <td>1</td>\n",
       "      <td>['prednsolona', 'frasco']</td>\n",
       "      <td>['mg', 'ml']</td>\n",
       "      <td>['1.00e+00', '1.00e+02']</td>\n",
       "      <td>[]</td>\n",
       "      <td>[]</td>\n",
       "      <td>[]</td>\n",
       "      <td>['frasco']</td>\n",
       "      <td>['prednsolona', '1.00e+00', 'mg', 'ml', 'frasc...</td>\n",
       "      <td>prednsolona</td>\n",
       "    </tr>\n",
       "  </tbody>\n",
       "</table>\n",
       "</div>"
      ],
      "text/plain": [
       "   item_id        grupo  grupo_ruido  item_ruido  \\\n",
       "0  1504296   medendazol            1           1   \n",
       "1  1803013   medendazol            1           1   \n",
       "2  2010509       urupem            1           1   \n",
       "3  1187827  travaquedas            1           1   \n",
       "4  2036213  prednsolona            1           1   \n",
       "\n",
       "                                            palavras unidades_medida  \\\n",
       "0                                     ['medendazol']          ['mg']   \n",
       "1    ['medendazol', 'suspensao', 'doador', 'frasco']    ['mg', 'ml']   \n",
       "2    ['urupem', 'disp', 'incontinencia', 'urinario']      ['g', 'c']   \n",
       "3  ['travaquedas', 'para', 'corda', 'block', 'tra...          ['mm']   \n",
       "4                          ['prednsolona', 'frasco']    ['mg', 'ml']   \n",
       "\n",
       "                    numeros cores materiais tamanho      quantidade  \\\n",
       "0              ['1.00e+02']    []        []      []  ['comprimido']   \n",
       "1  ['2.00e+01', '3.00e+01']    []        []      []      ['frasco']   \n",
       "2  ['2.00e+00', '6.00e+00']    []        []      []              []   \n",
       "3  ['1.10e+01', '1.20e+01']    []        []      []              []   \n",
       "4  ['1.00e+00', '1.00e+02']    []        []      []      ['frasco']   \n",
       "\n",
       "                                       original_prep primeiro_termo  \n",
       "0     ['medendazol', '1.00e+02', 'mg', 'comprimido']     medendazol  \n",
       "1  ['medendazol', '2.00e+01', 'mg', 'ml', 'suspen...     medendazol  \n",
       "2  ['urupem', 'g', 'c', '2.00e+00', 'disp', 'inco...         urupem  \n",
       "3  ['travaquedas', 'para', 'corda', '1.10e+01', '...    travaquedas  \n",
       "4  ['prednsolona', '1.00e+00', 'mg', 'ml', 'frasc...    prednsolona  "
      ]
     },
     "execution_count": 8,
     "metadata": {},
     "output_type": "execute_result"
    }
   ],
   "source": [
    "items_clusters_df.head()"
   ]
  },
  {
   "cell_type": "code",
   "execution_count": 9,
   "metadata": {},
   "outputs": [],
   "source": [
    "def get_statistics_df(items_clusters_df):\n",
    "\n",
    "    group_by = ['grupo']\n",
    "    results_df = items_clusters_df[group_by]\n",
    "    results_df['n_items'] = results_df.groupby('grupo')['grupo'].transform('count')\n",
    "\n",
    "    return results_df"
   ]
  },
  {
   "cell_type": "code",
   "execution_count": 10,
   "metadata": {},
   "outputs": [
    {
     "data": {
      "text/plain": [
       "2050622"
      ]
     },
     "execution_count": 10,
     "metadata": {},
     "output_type": "execute_result"
    }
   ],
   "source": [
    "len(items_clusters_df)"
   ]
  },
  {
   "cell_type": "code",
   "execution_count": 11,
   "metadata": {},
   "outputs": [
    {
     "name": "stderr",
     "output_type": "stream",
     "text": [
      "/home/speed/pedrobrum/anaconda3/lib/python3.7/site-packages/ipykernel_launcher.py:5: SettingWithCopyWarning: \n",
      "A value is trying to be set on a copy of a slice from a DataFrame.\n",
      "Try using .loc[row_indexer,col_indexer] = value instead\n",
      "\n",
      "See the caveats in the documentation: https://pandas.pydata.org/pandas-docs/stable/user_guide/indexing.html#returning-a-view-versus-a-copy\n",
      "  \"\"\"\n"
     ]
    }
   ],
   "source": [
    "stats_df = get_statistics_df(items_clusters_df)"
   ]
  },
  {
   "cell_type": "code",
   "execution_count": 12,
   "metadata": {},
   "outputs": [
    {
     "data": {
      "text/html": [
       "<div>\n",
       "<style scoped>\n",
       "    .dataframe tbody tr th:only-of-type {\n",
       "        vertical-align: middle;\n",
       "    }\n",
       "\n",
       "    .dataframe tbody tr th {\n",
       "        vertical-align: top;\n",
       "    }\n",
       "\n",
       "    .dataframe thead th {\n",
       "        text-align: right;\n",
       "    }\n",
       "</style>\n",
       "<table border=\"1\" class=\"dataframe\">\n",
       "  <thead>\n",
       "    <tr style=\"text-align: right;\">\n",
       "      <th></th>\n",
       "      <th>grupo</th>\n",
       "      <th>n_items</th>\n",
       "    </tr>\n",
       "  </thead>\n",
       "  <tbody>\n",
       "    <tr>\n",
       "      <th>0</th>\n",
       "      <td>medendazol</td>\n",
       "      <td>2</td>\n",
       "    </tr>\n",
       "    <tr>\n",
       "      <th>1</th>\n",
       "      <td>medendazol</td>\n",
       "      <td>2</td>\n",
       "    </tr>\n",
       "    <tr>\n",
       "      <th>2</th>\n",
       "      <td>urupem</td>\n",
       "      <td>1</td>\n",
       "    </tr>\n",
       "    <tr>\n",
       "      <th>3</th>\n",
       "      <td>travaquedas</td>\n",
       "      <td>1</td>\n",
       "    </tr>\n",
       "    <tr>\n",
       "      <th>4</th>\n",
       "      <td>prednsolona</td>\n",
       "      <td>1</td>\n",
       "    </tr>\n",
       "  </tbody>\n",
       "</table>\n",
       "</div>"
      ],
      "text/plain": [
       "         grupo  n_items\n",
       "0   medendazol        2\n",
       "1   medendazol        2\n",
       "2       urupem        1\n",
       "3  travaquedas        1\n",
       "4  prednsolona        1"
      ]
     },
     "execution_count": 12,
     "metadata": {},
     "output_type": "execute_result"
    }
   ],
   "source": [
    "stats_df.head()"
   ]
  },
  {
   "cell_type": "code",
   "execution_count": 13,
   "metadata": {},
   "outputs": [
    {
     "name": "stderr",
     "output_type": "stream",
     "text": [
      "/scratch/pedrobrum/masters/src/item/clustering/utils.py:100: SettingWithCopyWarning: \n",
      "A value is trying to be set on a copy of a slice from a DataFrame.\n",
      "Try using .loc[row_indexer,col_indexer] = value instead\n",
      "\n",
      "See the caveats in the documentation: https://pandas.pydata.org/pandas-docs/stable/user_guide/indexing.html#returning-a-view-versus-a-copy\n",
      "  data['primeiro_termo'] = data['grupo'].str.split('_').str[0]\n"
     ]
    }
   ],
   "source": [
    "stats_df = add_first_token_column(stats_df)"
   ]
  },
  {
   "cell_type": "code",
   "execution_count": 14,
   "metadata": {},
   "outputs": [
    {
     "data": {
      "text/html": [
       "<div>\n",
       "<style scoped>\n",
       "    .dataframe tbody tr th:only-of-type {\n",
       "        vertical-align: middle;\n",
       "    }\n",
       "\n",
       "    .dataframe tbody tr th {\n",
       "        vertical-align: top;\n",
       "    }\n",
       "\n",
       "    .dataframe thead th {\n",
       "        text-align: right;\n",
       "    }\n",
       "</style>\n",
       "<table border=\"1\" class=\"dataframe\">\n",
       "  <thead>\n",
       "    <tr style=\"text-align: right;\">\n",
       "      <th></th>\n",
       "      <th>grupo</th>\n",
       "      <th>n_items</th>\n",
       "      <th>primeiro_termo</th>\n",
       "    </tr>\n",
       "  </thead>\n",
       "  <tbody>\n",
       "    <tr>\n",
       "      <th>0</th>\n",
       "      <td>medendazol</td>\n",
       "      <td>2</td>\n",
       "      <td>medendazol</td>\n",
       "    </tr>\n",
       "    <tr>\n",
       "      <th>1</th>\n",
       "      <td>medendazol</td>\n",
       "      <td>2</td>\n",
       "      <td>medendazol</td>\n",
       "    </tr>\n",
       "    <tr>\n",
       "      <th>2</th>\n",
       "      <td>urupem</td>\n",
       "      <td>1</td>\n",
       "      <td>urupem</td>\n",
       "    </tr>\n",
       "    <tr>\n",
       "      <th>3</th>\n",
       "      <td>travaquedas</td>\n",
       "      <td>1</td>\n",
       "      <td>travaquedas</td>\n",
       "    </tr>\n",
       "    <tr>\n",
       "      <th>4</th>\n",
       "      <td>prednsolona</td>\n",
       "      <td>1</td>\n",
       "      <td>prednsolona</td>\n",
       "    </tr>\n",
       "  </tbody>\n",
       "</table>\n",
       "</div>"
      ],
      "text/plain": [
       "         grupo  n_items primeiro_termo\n",
       "0   medendazol        2     medendazol\n",
       "1   medendazol        2     medendazol\n",
       "2       urupem        1         urupem\n",
       "3  travaquedas        1    travaquedas\n",
       "4  prednsolona        1    prednsolona"
      ]
     },
     "execution_count": 14,
     "metadata": {},
     "output_type": "execute_result"
    }
   ],
   "source": [
    "stats_df.head()"
   ]
  },
  {
   "cell_type": "code",
   "execution_count": 15,
   "metadata": {},
   "outputs": [
    {
     "data": {
      "text/html": [
       "<div>\n",
       "<style scoped>\n",
       "    .dataframe tbody tr th:only-of-type {\n",
       "        vertical-align: middle;\n",
       "    }\n",
       "\n",
       "    .dataframe tbody tr th {\n",
       "        vertical-align: top;\n",
       "    }\n",
       "\n",
       "    .dataframe thead th {\n",
       "        text-align: right;\n",
       "    }\n",
       "</style>\n",
       "<table border=\"1\" class=\"dataframe\">\n",
       "  <thead>\n",
       "    <tr style=\"text-align: right;\">\n",
       "      <th></th>\n",
       "      <th>grupo</th>\n",
       "      <th>n_items</th>\n",
       "      <th>primeiro_termo</th>\n",
       "    </tr>\n",
       "  </thead>\n",
       "  <tbody>\n",
       "    <tr>\n",
       "      <th>1798755</th>\n",
       "      <td>alcool_6</td>\n",
       "      <td>1194</td>\n",
       "      <td>alcool</td>\n",
       "    </tr>\n",
       "    <tr>\n",
       "      <th>1798756</th>\n",
       "      <td>alcool_6</td>\n",
       "      <td>1194</td>\n",
       "      <td>alcool</td>\n",
       "    </tr>\n",
       "    <tr>\n",
       "      <th>1798757</th>\n",
       "      <td>alcool_6</td>\n",
       "      <td>1194</td>\n",
       "      <td>alcool</td>\n",
       "    </tr>\n",
       "    <tr>\n",
       "      <th>1798758</th>\n",
       "      <td>alcool_6</td>\n",
       "      <td>1194</td>\n",
       "      <td>alcool</td>\n",
       "    </tr>\n",
       "    <tr>\n",
       "      <th>1798759</th>\n",
       "      <td>alcool_6</td>\n",
       "      <td>1194</td>\n",
       "      <td>alcool</td>\n",
       "    </tr>\n",
       "    <tr>\n",
       "      <th>...</th>\n",
       "      <td>...</td>\n",
       "      <td>...</td>\n",
       "      <td>...</td>\n",
       "    </tr>\n",
       "    <tr>\n",
       "      <th>1804129</th>\n",
       "      <td>alcool_4</td>\n",
       "      <td>62</td>\n",
       "      <td>alcool</td>\n",
       "    </tr>\n",
       "    <tr>\n",
       "      <th>1804130</th>\n",
       "      <td>alcool_4</td>\n",
       "      <td>62</td>\n",
       "      <td>alcool</td>\n",
       "    </tr>\n",
       "    <tr>\n",
       "      <th>1804131</th>\n",
       "      <td>alcool_4</td>\n",
       "      <td>62</td>\n",
       "      <td>alcool</td>\n",
       "    </tr>\n",
       "    <tr>\n",
       "      <th>1804132</th>\n",
       "      <td>alcool_4</td>\n",
       "      <td>62</td>\n",
       "      <td>alcool</td>\n",
       "    </tr>\n",
       "    <tr>\n",
       "      <th>1804133</th>\n",
       "      <td>alcool_4</td>\n",
       "      <td>62</td>\n",
       "      <td>alcool</td>\n",
       "    </tr>\n",
       "  </tbody>\n",
       "</table>\n",
       "<p>5379 rows × 3 columns</p>\n",
       "</div>"
      ],
      "text/plain": [
       "            grupo  n_items primeiro_termo\n",
       "1798755  alcool_6     1194         alcool\n",
       "1798756  alcool_6     1194         alcool\n",
       "1798757  alcool_6     1194         alcool\n",
       "1798758  alcool_6     1194         alcool\n",
       "1798759  alcool_6     1194         alcool\n",
       "...           ...      ...            ...\n",
       "1804129  alcool_4       62         alcool\n",
       "1804130  alcool_4       62         alcool\n",
       "1804131  alcool_4       62         alcool\n",
       "1804132  alcool_4       62         alcool\n",
       "1804133  alcool_4       62         alcool\n",
       "\n",
       "[5379 rows x 3 columns]"
      ]
     },
     "execution_count": 15,
     "metadata": {},
     "output_type": "execute_result"
    }
   ],
   "source": [
    "stats_df[stats_df.primeiro_termo == \"alcool\"]"
   ]
  },
  {
   "cell_type": "code",
   "execution_count": 16,
   "metadata": {},
   "outputs": [],
   "source": [
    "stats_df = stats_df.drop_duplicates(['grupo'])"
   ]
  },
  {
   "cell_type": "code",
   "execution_count": 17,
   "metadata": {},
   "outputs": [
    {
     "data": {
      "text/plain": [
       "36644"
      ]
     },
     "execution_count": 17,
     "metadata": {},
     "output_type": "execute_result"
    }
   ],
   "source": [
    "len(stats_df)"
   ]
  },
  {
   "cell_type": "code",
   "execution_count": 18,
   "metadata": {},
   "outputs": [],
   "source": [
    "stats_df = add_outlier_column(stats_df)"
   ]
  },
  {
   "cell_type": "code",
   "execution_count": 19,
   "metadata": {},
   "outputs": [],
   "source": [
    "stats_df = stats_df[stats_df.ruido != '-1']"
   ]
  },
  {
   "cell_type": "markdown",
   "metadata": {},
   "source": [
    "## Print clusters info"
   ]
  },
  {
   "cell_type": "code",
   "execution_count": 20,
   "metadata": {},
   "outputs": [],
   "source": [
    "def print_clusters_info(cluster_name, min_size=20, total_unit_metrics=5, total_clusters=5, total_items=5, total_words=20):\n",
    "\n",
    "    clusters = stats_df[stats_df.primeiro_termo == cluster_name][['grupo', 'n_items']]\n",
    "    clusters_ranking = clusters.sort_values(by='n_items', ascending=False)\n",
    "    \n",
    "    print(\"#itens:\", sum(list(clusters[\"n_items\"])))\n",
    "    print(\"#grupos:\", len(clusters_ranking))\n",
    "    print(\"Grupos com +20 itens:\", len(clusters_ranking[clusters_ranking.n_items >= min_size]))\n",
    "    print(\"#itens/#grupos: {:.2f}\".format(sum(list(clusters[\"n_items\"]))/len(clusters_ranking)))\n",
    "        \n",
    "    clusters_ranking = clusters_ranking[clusters_ranking.n_items >= min_size].head(total_clusters)\n",
    "    \n",
    "    for cluster_id in clusters_ranking.index.values:\n",
    "        cluster_info = clusters.loc[cluster_id]\n",
    "        cluster_items = items_clusters_df[(items_clusters_df.grupo == cluster_info['grupo'])].copy()\n",
    "        cluster_items[\"description_tokens\"] = cluster_items.original_prep.apply(lambda d: eval(d))\n",
    "        cluster_items[\"original\"] = cluster_items.description_tokens.apply(lambda d: ' '.join(d))\n",
    "        top_descriptions = cluster_items.groupby(\"original\").size().sort_values(ascending=False).head(total_items)\n",
    "        present_tokens = collections.Counter()\n",
    "        for tokens in cluster_items[\"description_tokens\"]:\n",
    "            present_tokens.update(tokens)\n",
    "\n",
    "        present_tokens = list(present_tokens.items())\n",
    "        present_tokens.sort(key= lambda x : x[1], reverse=True)\n",
    "        present_tokens = [token[0] for token in present_tokens][:total_words]\n",
    "\n",
    "        print(\"Cluster {}: \".format(cluster_info['grupo']))\n",
    "        print(\"Tamanho: {}\".format(len(cluster_items)))\n",
    "        print(\"Descrições únicas: {}\".format(len(set(cluster_items[\"original\"]))))\n",
    "        print(\"{} Termos mais frequentes: {}\".format(total_words, present_tokens))\n",
    "        print(\"Descrições mais frequentes:\")\n",
    "        for desc in top_descriptions.iteritems():\n",
    "            print(\"{} ({:.1f}%)\".format(desc[0], (desc[1]/len(cluster_items))*100))\n",
    "        print(\"\\n\")"
   ]
  },
  {
   "cell_type": "markdown",
   "metadata": {},
   "source": [
    "# Abobora"
   ]
  },
  {
   "cell_type": "code",
   "execution_count": 47,
   "metadata": {},
   "outputs": [
    {
     "name": "stdout",
     "output_type": "stream",
     "text": [
      "#itens: 78\n",
      "#grupos: 2\n",
      "Grupos com +20 itens: 2\n",
      "#itens/#grupos: 39.00\n",
      "Cluster abobora_0: \n",
      "Tamanho: 40\n",
      "Descrições únicas: 37\n",
      "20 Termos mais frequentes: ['abobora', 'com', 'kg', 'pesar', '2.00e+00', 'moranga', 'sem', 'japones', 'qualidade', 'apresentar', 'medio', 'firmar', 'cor', 'dano', 'tamanho', 'isentar', 'grau', 'produto', 'perfuracao', 'madurar']\n",
      "Descrições mais frequentes:\n",
      "abobora moranga kg produto fresco com grau maturacao completo apresentar cor polpa intensar odor agradavel conscistencia firmar isentar perfuracao machucado (7.5%)\n",
      "abobora japones bom qualidade dever apresentar dano origem fisica mecanico biologico afetar aparencia pesar medio unidade 1.00e+00 kg variacao total (5.0%)\n",
      "abobora tipo sergipano madurar com pesar minimo 2.00e+00 boi kg (2.5%)\n",
      "abobora japones com casca verde integro ain natura apresentar grau maturacao permitir suportar manipulacao dever apresentar dano origem mecanico biologico (2.5%)\n",
      "abobora japonesaabobora japones bem desenvolver compactar firmar apresentar coloracao uniforme tipico variedade permitir dano alterar conformacao aparecer rachadura corte perfuracao (2.5%)\n",
      "\n",
      "\n",
      "Cluster abobora_1: \n",
      "Tamanho: 38\n",
      "Descrições únicas: 38\n",
      "20 Termos mais frequentes: ['abobora', '1.00e+00', 'qualidade', 'kg', 'medio', 'moranga', 'firmar', 'pesar', 'livre', 'a', 'consistencia', 'casca', 'tamanho', 'com', 'fungo', 'japones', 'integro', 'uniforme', 'sem', 'fresco']\n",
      "Descrições mais frequentes:\n",
      "abobora tipo moranga hibrido 1.00e+00 qualidade fresco tamanho coloracao uniforme isentar enfermidade material terroso umidade externar sem dano fisico mecanico (2.6%)\n",
      "abobora japones 1.00e+00 qualidade moranga tamanho regular s corte produto fresco com grau maturacao intermediario dever apresentar odor agradavel consistencia (2.6%)\n",
      "abobora japonesatamanho regular 1.00e+00 qualidade sem corte produto fresco com grau maturacao intermediario dever apresentar odor agradavel consistencia firmar lesao (2.6%)\n",
      "abobora japones verde ain natura 1.00e+00 a qualidade tamanho coloracao uniforme polpa firmar isentar enfermidade material terroso umidade externar anormal (2.6%)\n",
      "abobora japones verde ain natura 1.00e+00 a qualidade com tamnaho coloracao uniforme polpa firmar isentar enfermidade material terroso umidade externar (2.6%)\n",
      "\n",
      "\n"
     ]
    }
   ],
   "source": [
    "print_clusters_info(\"abobora\")"
   ]
  },
  {
   "cell_type": "markdown",
   "metadata": {},
   "source": [
    "# Dipirona"
   ]
  },
  {
   "cell_type": "code",
   "execution_count": 29,
   "metadata": {
    "scrolled": false
   },
   "outputs": [
    {
     "name": "stdout",
     "output_type": "stream",
     "text": [
      "#itens: 3379\n",
      "#grupos: 321\n",
      "Grupos com +20 itens: 44\n",
      "#itens/#grupos: 10.53\n",
      "\n",
      "Unidades de medida mais frequentes:\n",
      "unidade (26.0%)\n",
      "frasco (23.4%)\n",
      "comprimido (19.1%)\n",
      "ampola (12.2%)\n",
      "amp (3.9%)\n",
      "\n",
      "Cluster dipirona_9 (comprimido): \n",
      "Tamanho: 327\n",
      "Descrições únicas: 22\n",
      "20 Termos mais frequentes: ['dipirona', '500', 'mg', 'comprimido', 'comp', 'compr', 'cpr', 'cp', '129', '8974', '4731', '345', '0017', '959', '9', 'un', '966', 'epp', 'medic', 'fracionar']\n",
      "Descrições mais frequentes:\n",
      "dipirona 500 mg (60.6%)\n",
      "dipirona 500 mg comprimido (15.0%)\n",
      "dipirona 500 mg comp (7.3%)\n",
      "dipirona 500 mg compr (3.1%)\n",
      "dipirona 500 mg cpr (2.1%)\n",
      "\n",
      "\n",
      "Cluster dipirona_2 (comprimido): \n",
      "Tamanho: 248\n",
      "Descrições únicas: 18\n",
      "20 Termos mais frequentes: ['dipirona', 'sodico', 'mg', '500', 'comprimido', 'comp', 'compr', 'cpr', 'cp', '9', '5', '250', 'com', 'ct', 'bl', 'al', 'plas', 'inc', 'x', '240']\n",
      "Descrições mais frequentes:\n",
      "dipirona sodico 500 mg (60.9%)\n",
      "dipirona sodico 500 mg comprimido (23.0%)\n",
      "dipirona sodico 500 mg comp (3.6%)\n",
      "dipirona sodico comprimido 500 mg (2.4%)\n",
      "dipirona sodico 500 mg compr (1.6%)\n",
      "\n",
      "\n",
      "Cluster dipirona_9 (unidade): \n",
      "Tamanho: 133\n",
      "Descrições únicas: 10\n",
      "20 Termos mais frequentes: ['dipirona', 'mg', '500', 'comprimido', 'comp', 'cpr', 'cp', 'cprs', 'sod', '50']\n",
      "Descrições mais frequentes:\n",
      "dipirona 500 mg comprimido (40.6%)\n",
      "dipirona 500 mg (21.1%)\n",
      "dipirona 500 mg comp (14.3%)\n",
      "dipirona comprimido 500 mg (8.3%)\n",
      "dipirona 500 mg cpr (6.8%)\n",
      "\n",
      "\n",
      "Cluster dipirona_2 (unidade): \n",
      "Tamanho: 112\n",
      "Descrições únicas: 13\n",
      "20 Termos mais frequentes: ['dipirona', 'sodico', '500', 'mg', 'comprimido', 'comp', 'cp', 'unid', 'comprar', 'cx', 'indet', 'cpr', 'injetavel']\n",
      "Descrições mais frequentes:\n",
      "dipirona sodico 500 mg comprimido (45.5%)\n",
      "dipirona sodico 500 mg (32.1%)\n",
      "dipirona sodico 500 mg comp (8.9%)\n",
      "dipirona sodico comprimido 500 mg (4.5%)\n",
      "dipirona sodico 500 mg cp (1.8%)\n",
      "\n",
      "\n",
      "Cluster dipirona_0 (frasco): \n",
      "Tamanho: 81\n",
      "Descrições únicas: 9\n",
      "20 Termos mais frequentes: ['dipirona', 'mg', 'ml', '500', 'gts', '20', 'frasco', 'com', 'injetavel', 'gostar', 'gotas500']\n",
      "Descrições mais frequentes:\n",
      "dipirona 500 mg ml (58.0%)\n",
      "dipirona 500 mg ml gts (21.0%)\n",
      "dipirona 500 mg ml frasco 20 (11.1%)\n",
      "dipirona 500 mg ml 20 (2.5%)\n",
      "dipirona 500 mg 20 ml frasco com (2.5%)\n",
      "\n",
      "\n"
     ]
    }
   ],
   "source": [
    "print_clusters_info(\"dipirona\")"
   ]
  },
  {
   "cell_type": "code",
   "execution_count": null,
   "metadata": {},
   "outputs": [],
   "source": [
    "dipirona = items_df[items_df.first_token == 'dipirona']"
   ]
  },
  {
   "cell_type": "code",
   "execution_count": null,
   "metadata": {},
   "outputs": [],
   "source": [
    "set(dipirona[(dipirona.cluster == 'dipirona_9') & (dipirona.dsc_unidade_medida == 'comprimido')]['description'])"
   ]
  },
  {
   "cell_type": "code",
   "execution_count": null,
   "metadata": {
    "scrolled": true
   },
   "outputs": [],
   "source": [
    "dipirona[(dipirona.cluster == 'dipirona_0') & (dipirona.dsc_unidade_medida == 'ampola')]"
   ]
  },
  {
   "cell_type": "markdown",
   "metadata": {},
   "source": [
    "# Pneu"
   ]
  },
  {
   "cell_type": "code",
   "execution_count": 15,
   "metadata": {},
   "outputs": [
    {
     "name": "stdout",
     "output_type": "stream",
     "text": [
      "#itens: 43417\n",
      "#grupos: 660\n",
      "Grupos com +20 itens: 338\n",
      "#itens/#grupos: 65.78\n",
      "\n",
      "Unidades de medida mais frequentes:\n",
      "unidade (95.0%)\n",
      "peca (2.9%)\n",
      "unidades (1.4%)\n",
      "serv (0.2%)\n",
      "pca (0.1%)\n",
      "\n",
      "Cluster pneu_46 (unidade): \n",
      "Tamanho: 11916\n",
      "Descrições únicas: 1997\n",
      "20 Termos mais frequentes: ['pneu', 'r', '70', '75', '16', '15', '5', '205', 'x', 'r15', 'r14', '185', '225', '17', '215', '80', '65', 'r16', '195', '20']\n",
      "Descrições mais frequentes:\n",
      "pneu 175 70 r14 (2.9%)\n",
      "pneu 215 75 r 17 5 (2.6%)\n",
      "pneu 215 75 17 5 (2.4%)\n",
      "pneu 205 70 r15 (1.9%)\n",
      "pneu 205 70 r 15 (1.9%)\n",
      "\n",
      "\n",
      "Cluster pneu_44 (unidade): \n",
      "Tamanho: 1868\n",
      "Descrições únicas: 286\n",
      "20 Termos mais frequentes: ['pneu', '14', 'r', '70', '175', '185', 'x', '65', 'c', '9', 'radial', 'lona', 't', '24', '28', '80', '8', '88', '20', '60']\n",
      "Descrições mais frequentes:\n",
      "pneu 175 70 r 14 (14.8%)\n",
      "pneu 175 70 14 (7.9%)\n",
      "pneu 185 r 14 (6.4%)\n",
      "pneu 185 70 r 14 (6.3%)\n",
      "pneu 175 65 r 14 (4.2%)\n",
      "\n",
      "\n",
      "Cluster pneu_188 (unidade): \n",
      "Tamanho: 1727\n",
      "Descrições únicas: 409\n",
      "20 Termos mais frequentes: ['pneu', 'liso', '20', 'x', '5', '1000', 'r', '16', '80', '275', '900', '75', '215', '17', 'radial', '22', 'lona', 'r22', '7', '50']\n",
      "Descrições mais frequentes:\n",
      "pneu 1000 x 20 liso (7.8%)\n",
      "pneu 900 x 20 liso (7.1%)\n",
      "pneu 900 20 liso (5.1%)\n",
      "pneu 275 80 r 22 5 liso (4.2%)\n",
      "pneu 215 75 r 17 5 liso (4.2%)\n",
      "\n",
      "\n",
      "Cluster pneu_103 (unidade): \n",
      "Tamanho: 1591\n",
      "Descrições únicas: 317\n",
      "20 Termos mais frequentes: ['pneu', 'borrachudo', '20', '5', 'x', '1000', '80', '275', 'r', '900', '16', '75', '22', 'radial', '215', '17', 'r22', 'lona', '50', '7']\n",
      "Descrições mais frequentes:\n",
      "pneu 1000 x 20 borrachudo (8.0%)\n",
      "pneu 900 x 20 borrachudo (7.9%)\n",
      "pneu 900 20 borrachudo (5.2%)\n",
      "pneu 1000 20 borrachudo (5.1%)\n",
      "pneu 275 80 r 22 5 borrachudo (4.7%)\n",
      "\n",
      "\n",
      "Cluster pneu_2 (unidade): \n",
      "Tamanho: 1187\n",
      "Descrições únicas: 247\n",
      "20 Termos mais frequentes: ['pneu', '12', '24', '5', 'lona', '4', 'x', '16', '1400', '19', 'l', '17', '25', '1300', 'nhs', 'agricola', '6', 'r', '8', 'n']\n",
      "Descrições mais frequentes:\n",
      "pneu 12 4 24 (15.8%)\n",
      "pneu 12 16 5 (9.1%)\n",
      "pneu 1400 x 24 12 lona (5.2%)\n",
      "pneu 12 x 16 5 (4.0%)\n",
      "pneu 12 4 x 24 (3.6%)\n",
      "\n",
      "\n"
     ]
    }
   ],
   "source": [
    "print_clusters_info(\"pneu\")"
   ]
  },
  {
   "cell_type": "code",
   "execution_count": null,
   "metadata": {},
   "outputs": [],
   "source": [
    "pneu = items_df[items_df.first_token == 'pneu']"
   ]
  },
  {
   "cell_type": "code",
   "execution_count": null,
   "metadata": {},
   "outputs": [],
   "source": [
    "set(pneu[(pneu.cluster == 'pneu_46') & (pneu.dsc_unidade_medida == 'unidade')]['description'])"
   ]
  },
  {
   "cell_type": "code",
   "execution_count": null,
   "metadata": {},
   "outputs": [],
   "source": [
    "pneu[(pneu.cluster == 'pneu_1') & (pneu.dsc_unidade_medida == 'unidade')]"
   ]
  },
  {
   "cell_type": "markdown",
   "metadata": {},
   "source": [
    "# Gasolina"
   ]
  },
  {
   "cell_type": "code",
   "execution_count": 21,
   "metadata": {},
   "outputs": [
    {
     "name": "stdout",
     "output_type": "stream",
     "text": [
      "#itens: 5448\n",
      "#grupos: 35\n",
      "Grupos com +20 itens: 17\n",
      "#itens/#grupos: 155.66\n",
      "\n",
      "Unidades de medida mais frequentes:\n",
      "litro (97.2%)\n",
      "unidade (2.3%)\n",
      "litro s (0.1%)\n",
      "21 (0.1%)\n",
      "gab pref (0.1%)\n",
      "\n",
      "Cluster gasolina_8 (litro): \n",
      "Tamanho: 3284\n",
      "Descrições únicas: 34\n",
      "20 Termos mais frequentes: ['gasolina', 'comum', 'automotivo', 'tipo', 'c', 'aditivado', 'aut', 'm', 'v', 'epp', 'r1', 'r', 'comumgasolina', 'combust', 'incolor', 'amarelar', 'social', 'amarelo', 'assist', 'r2']\n",
      "Descrições mais frequentes:\n",
      "gasolina comum (90.9%)\n",
      "gasolina automotivo comum (3.7%)\n",
      "gasolina automotivo tipo comum (1.1%)\n",
      "gasolina c comum (0.7%)\n",
      "gasolina comum automotivo (0.6%)\n",
      "\n",
      "\n",
      "Cluster gasolina_5 (litro): \n",
      "Tamanho: 945\n",
      "Descrições únicas: 20\n",
      "20 Termos mais frequentes: ['gasolina', 'aditivado', 'automotivo', 'comun', 'c', 'tipo', 'activada', 'comuma', 'cras', 'sec', 'prom', 'social', 'n', 'common', 'montalvania', 'adm', 'f', 'grid']\n",
      "Descrições mais frequentes:\n",
      "gasolina (61.0%)\n",
      "gasolina aditivado (19.2%)\n",
      "gasolina comun (6.9%)\n",
      "gasolina automotivo (6.2%)\n",
      "gasolina tipo c (2.3%)\n",
      "\n",
      "\n",
      "Cluster gasolina_13 (litro): \n",
      "Tamanho: 166\n",
      "Descrições únicas: 14\n",
      "20 Termos mais frequentes: ['gasolina', 'combustivel', 'comum', 'c', 'automotivo', 'regiao', 'i', 'aditivado', 'acordo', 'portaria', 'anp', 'abastecimento', 'ponto', 'volante', 'aba', 'veiculo', 'transito', 'conformar', 'norma', 'cnpq']\n",
      "Descrições mais frequentes:\n",
      "gasolina combustivel comum (69.3%)\n",
      "gasolina comum c combustivel (8.4%)\n",
      "gasolina comum combustivel (7.2%)\n",
      "gasolina comum combustivel automotivo (3.6%)\n",
      "gasolina combustivel comum regiao i (3.0%)\n",
      "\n",
      "\n",
      "Cluster gasolina_0 (litro): \n",
      "Tamanho: 149\n",
      "Descrições únicas: 8\n",
      "20 Termos mais frequentes: ['gasolina', 'para', 'veiculo', 'comum', 'abastecimento', 'aeg', 'saude', 'legislativo', 'aditivado', 'bomba', 'aquisicao', 'combustivel', 'atender', 'secretaria', 'educacao', 'automotivo', 'comun', 'uso', 'escolar', 'p']\n",
      "Descrições mais frequentes:\n",
      "gasolina para veiculo (90.6%)\n",
      "gasolina para abastecimento veiculo aeg (2.0%)\n",
      "gasolina comum para veiculo saude (2.0%)\n",
      "gasolina comum para veiculo legislativo (2.0%)\n",
      "gasolina aditivado para abastecimento bomba (1.3%)\n",
      "\n",
      "\n",
      "Cluster gasolina_15 (litro): \n",
      "Tamanho: 128\n",
      "Descrições únicas: 50\n",
      "20 Termos mais frequentes: ['gasolina', 'comum', 'educacao', 'para', 'ensino', 'policia', 'abastecimento', 'bom', 'combustivel', 'obra', 'fundamental', 'belo', 'horizonte', 'fornecimento', 'secretaria', 'agua', 'militar', 'meio', 'ambiente', 'projeto']\n",
      "Descrições mais frequentes:\n",
      "gasolina comum projeto jaiba (6.2%)\n",
      "gasolina comum povoado agua bom (5.5%)\n",
      "gasolina comum palmital carvalho (5.5%)\n",
      "gasolina policia militar (5.5%)\n",
      "gasolina obra (4.7%)\n",
      "\n",
      "\n"
     ]
    }
   ],
   "source": [
    "print_clusters_info(\"gasolina\")"
   ]
  },
  {
   "cell_type": "markdown",
   "metadata": {},
   "source": [
    "# Máscara"
   ]
  },
  {
   "cell_type": "code",
   "execution_count": 32,
   "metadata": {},
   "outputs": [
    {
     "name": "stdout",
     "output_type": "stream",
     "text": [
      "#itens: 8007\n",
      "#grupos: 349\n",
      "Grupos com +20 itens: 87\n",
      "#itens/#grupos: 22.94\n",
      "\n",
      "Unidades de medida mais frequentes:\n",
      "unidade (58.7%)\n",
      "caixa (29.2%)\n",
      "pacote (4.0%)\n",
      "peca (1.8%)\n",
      "kit (1.6%)\n",
      "\n",
      "Cluster mascara_26 (caixa): \n",
      "Tamanho: 1304\n",
      "Descrições únicas: 351\n",
      "20 Termos mais frequentes: ['mascara', 'descartavel', 'elastico', '50', 'c', 'com', 'cirurgico', 'unidade', 'caixa', 'cx', '100', 'desc', 'unid', 'branco', 'descartar', 'und', 'un', 'tnt', 'cor', 'descarar']\n",
      "Descrições mais frequentes:\n",
      "mascara descartavel (11.4%)\n",
      "mascara cirurgico descartavel (7.4%)\n",
      "mascara cirurgico (2.5%)\n",
      "mascara descartavel com elastico (2.5%)\n",
      "mascara descartavel c elastico (2.4%)\n",
      "\n",
      "\n",
      "Cluster mascara_26 (unidade): \n",
      "Tamanho: 925\n",
      "Descrições únicas: 312\n",
      "20 Termos mais frequentes: ['mascara', 'descartavel', 'com', 'cirurgico', 'elastico', '50', 'a95', 'n', '95', 'c', 'nebulizacao', 'unidade', 'pff', 'p', 'azul', 'respirador', 'respiratorio', 'caixa', 'facial', 'venturi']\n",
      "Descrições mais frequentes:\n",
      "mascara descartavel (9.2%)\n",
      "mascara a95 (5.3%)\n",
      "mascara (4.1%)\n",
      "mascara n 95 (3.6%)\n",
      "mascara descartavel azul (2.1%)\n",
      "\n",
      "\n",
      "Cluster mascara_20 (caixa): \n",
      "Tamanho: 318\n",
      "Descrições únicas: 143\n",
      "20 Termos mais frequentes: ['mascara', 'triplo', 'elastico', '50', 'descartavel', 'com', 'c', 'cirurgico', 'unidade', 'caixa', 'cx', 'branco', 'un', 'unid', 'desc', 'clips', '100', 'und', 'polipropileno', 'blast']\n",
      "Descrições mais frequentes:\n",
      "mascara descartavel triplo (4.4%)\n",
      "mascara triplo c clips (3.5%)\n",
      "mascara descartavel triplo com elastico (3.5%)\n",
      "mascara cirurgico descartavel triplo com elastico caixa 50 unidade (2.5%)\n",
      "mascara triplo com elastico cx c 50 (1.9%)\n",
      "\n",
      "\n",
      "Cluster mascara_19 (unidade): \n",
      "Tamanho: 200\n",
      "Descrições únicas: 47\n",
      "20 Termos mais frequentes: ['mascara', 'adulto', 'venturi', 'nebulizacao', 'p', 'kit', 'facial', 'tipo', 'venture', 'ventor', 'pvc', 'nebulizador', 'nebli', 'century', '07', '316', 'micronebulizacao', 'anatomico', 'sistema', 'oxigenioterapia']\n",
      "Descrições mais frequentes:\n",
      "mascara venturi adulto (26.0%)\n",
      "mascara p nebulizacao adulto (17.5%)\n",
      "mascara nebulizacao adulto (8.0%)\n",
      "mascara p nebulizacao adulto kit (4.0%)\n",
      "mascara ventor tipo adulto (3.0%)\n",
      "\n",
      "\n",
      "Cluster mascara_80 (unidade): \n",
      "Tamanho: 168\n",
      "Descrições únicas: 104\n",
      "20 Termos mais frequentes: ['mascara', 'com', 'para', 'transparente', 'elastico', 'atoxicar', 'material', 'flexivel', 'oxigenio', 'conector', 'adulto', 'tipo', 'venturi', 'facial', 'pvc', 'valvula', 'confeccionada', 'permitir', 'ajuste', 'maciar']\n",
      "Descrições mais frequentes:\n",
      "mascara laringeo material biocompativel atoxicar flexivel com punho plastico integrar dever ter valvula verificacao insuflacao numero (4.2%)\n",
      "mascara para traqueostomia confeccionada pvc flexivel transparente material atoxicar ajustavel diametro pescoco atraves tira elastico com adaptacao nao invasivo oxigenio permitir angulo giratorio (4.2%)\n",
      "mascara pff valvulado respirador purificador ar tipo peca hemifacial filtrante para particula com formato dobravel solda ultra sonico todo perimetro apresentar face interno cor azul lateral externar f (3.0%)\n",
      "mascara ffi valvulado respirador purificador ar tipo peca hemifacial filtrante para particula pff com formato dobravel solda ultrassonico todo perimetro apresentar face interno cor branco externar azul parte superio (2.4%)\n",
      "mascara laringeo referencia fabricante protec (1.8%)\n",
      "\n",
      "\n"
     ]
    }
   ],
   "source": [
    "print_clusters_info(\"mascara\")"
   ]
  },
  {
   "cell_type": "markdown",
   "metadata": {},
   "source": [
    "# Locação"
   ]
  },
  {
   "cell_type": "code",
   "execution_count": 34,
   "metadata": {
    "scrolled": false
   },
   "outputs": [
    {
     "name": "stdout",
     "output_type": "stream",
     "text": [
      "#itens: 10733\n",
      "#grupos: 1596\n",
      "Grupos com +20 itens: 122\n",
      "#itens/#grupos: 6.72\n",
      "\n",
      "Unidades de medida mais frequentes:\n",
      "unidade (38.1%)\n",
      "diaria (11.6%)\n",
      "hora (7.5%)\n",
      "sv (3.4%)\n",
      "mes (3.0%)\n",
      "\n",
      "Cluster locacao_38 (unidade): \n",
      "Tamanho: 207\n",
      "Descrições únicas: 18\n",
      "20 Termos mais frequentes: ['banheiro', 'quimico', 'locacao', 'unidade', 'individual', 'equipamento', '978', '3939', 'polietileno', 'portatil', 'para', 'p', 'n', 'adaptado', 'carnaval', 'unid', 'plastico', 'def', 'deficiente', '4183']\n",
      "Descrições mais frequentes:\n",
      "locacao banheiro quimico (76.8%)\n",
      "locacao banheiro quimico unidade (4.8%)\n",
      "locacao banheiro quimico individual (2.4%)\n",
      "locacao banheiro quimico 3939 (1.9%)\n",
      "locacao banheiro quimico 978 (1.9%)\n",
      "\n",
      "\n",
      "Cluster locacao_22 (unidade): \n",
      "Tamanho: 194\n",
      "Descrições únicas: 50\n",
      "20 Termos mais frequentes: ['locacao', 'tenda', 'x', '6', 'm', '4', '5', 'barraca', '8', 'piramidal', 'lona', 'unidade', 'tipo', 'mts', 'tamanho', 'i', 'tensionado', 'mx', 'matalon', 'medir']\n",
      "Descrições mais frequentes:\n",
      "locacao tenda (25.3%)\n",
      "locacao tenda 4 x (7.2%)\n",
      "locacao tenda 5 x (6.2%)\n",
      "locacao tenda 6 x m (5.7%)\n",
      "locacao tenda 6 x (5.2%)\n",
      "\n",
      "\n",
      "Cluster locacao_84 (unidade): \n",
      "Tamanho: 126\n",
      "Descrições únicas: 92\n",
      "20 Termos mais frequentes: ['locacao', 'sistema', 'software', 'gestao', 'para', 'publico', 'controle', 'tecnico', 'especificacao', 'contabilidade', 'folha', 'com', 'modulo', 'integrar', 'manutencao', 'licitacao', 'compra', 'almoxarifado', 'pagamento', 'administracao']\n",
      "Descrições mais frequentes:\n",
      "locacao sistema controle frota (3.2%)\n",
      "locacao software modulo controle interno (2.4%)\n",
      "locacao sistema contabilidade tesouraria (2.4%)\n",
      "locacao sistema rh folha (2.4%)\n",
      "locacao sistema patrimonio publico (2.4%)\n",
      "\n",
      "\n",
      "Cluster locacao_71 (unidade): \n",
      "Tamanho: 125\n",
      "Descrições únicas: 88\n",
      "20 Termos mais frequentes: ['locacao', '1', 'para', 'com', 'dia', 'm', 'x', 'evento', 'ser', 'quimico', 'mesa', '5', '4', '8', 'palco', 'equipamento', 'banheiro', 'lona', 'estrutura', '6']\n",
      "Descrições mais frequentes:\n",
      "locacao micro onibus 1 (4.0%)\n",
      "locacao banheiro quimico individual contender 1 vaso sanitario com reservatorio para quimico sanitario quimico portatil p (3.2%)\n",
      "locacao palco 8 m x 6 1 dia (2.4%)\n",
      "locacao suporte ventilatorio cpap automatico destinado correcao disturbio respiratorio apneia sono incluir 1 mascara gel go (2.4%)\n",
      "locacao barraca pipoca feito hora servido pessoal uniformizar carro com mesa aco inoxidavel cobertura lona incluir todo material necessario 1 pessoa servir periodo 5 hora dia (2.4%)\n",
      "\n",
      "\n",
      "Cluster locacao_28 (hora): \n",
      "Tamanho: 116\n",
      "Descrições únicas: 20\n",
      "20 Termos mais frequentes: ['locacao', 'retroescavadeira', 'motoniveladora', 'rolo', 'compactador', 'patrol', 'castelo', 'afi', 'maq', 'polir', 'zona', 'urbano', '1049', 'poten', 'vibratorio', 'c', 'ct', '120', 'b', '1051']\n",
      "Descrições mais frequentes:\n",
      "locacao retroescavadeira (35.3%)\n",
      "locacao motoniveladora (25.0%)\n",
      "locacao rolo compactador (13.8%)\n",
      "locacao afi retroescavadeira (3.4%)\n",
      "locacao castelo polir (3.4%)\n",
      "\n",
      "\n"
     ]
    }
   ],
   "source": [
    "print_clusters_info(\"locacao\")"
   ]
  },
  {
   "cell_type": "markdown",
   "metadata": {},
   "source": [
    "# Veículo"
   ]
  },
  {
   "cell_type": "code",
   "execution_count": 35,
   "metadata": {},
   "outputs": [
    {
     "name": "stdout",
     "output_type": "stream",
     "text": [
      "#itens: 3722\n",
      "#grupos: 180\n",
      "Grupos com +20 itens: 44\n",
      "#itens/#grupos: 20.68\n",
      "\n",
      "Unidades de medida mais frequentes:\n",
      "unidade (79.2%)\n",
      "sv (3.7%)\n",
      "km (3.5%)\n",
      "hora (2.1%)\n",
      "kilometro (2.0%)\n",
      "\n",
      "Cluster veiculo_35 (unidade): \n",
      "Tamanho: 1104\n",
      "Descrições únicas: 911\n",
      "20 Termos mais frequentes: ['veiculo', 'minimo', 'porta', 'ano', '1', '4', 'km', 'eletrico', '0', 'com', 'cor', '5', 'direcao', 'hidraulico', 'branco', 'modelo', 'motor', 'capacidade', 'ar', 'zero']\n",
      "Descrições mais frequentes:\n",
      "veiculo novo zero quilometro capacidade para cinco passageiro quatro porta cor branco motor 1 0 flex fabricacao 2014 2015 (1.0%)\n",
      "veiculo popular zero quilometro 4 quatro porta direcao hidraulico flex cor branco para programa bolsa familia (0.7%)\n",
      "veiculo automotor transporte passageiro com seguinte caracteristico ano 2013 modelo zero km 5 cinco lugar incluido motorista cor solido branco motor 1 0 refrigeracao agua 4 cilindro linha injecao eletronico potencia minimo 78 cv 8 oito valvula transmissao manual quatro marcha frente um re freio dianteiro disco traseiro tambor sistema hidraulico roda aco calota pneu radial 187 70 p 14 bicombustivel alcool gasolina ar condicionar direcao hidraulico vidro eletrico serie instrucao portugues todo acessorio atendar codigo nacional transito principalmente quanto seguranca (0.5%)\n",
      "veiculo tipo motocicleta zero quilmetros ano fabricacao modelo atual 2018 motor 4 quatro tempo refrigerar ar 2 valvula 1 cilindro minimo 150 cilindrar injecaoeletrnica carter umido transmissao 5 velocidade partida eletrico suspensao dianteiro garfo telescopio 180 mm curso suspensaotraseira balanca oscilante com freio discodianteiro 230 tambor ecnico traseiro altura solar minimo 235 capacidade tanque combustivel nominimo 16 litro pintura solido vermelho gasolina alcool flex roda tiporaiada (0.5%)\n",
      "veiculo tipo motocicleta zero quilmetros ano fabricacao modelo atual 2017 motor 4 quatro tempo refrigerar ar 2 valvula 1 cilindro minimo 150 cilindrar injecao eletrnica carter umido transmissao 5 velocidade partida eletrico suspensao dianteiro garfo telescopio 180 mm curso traseiro balanca oscilante com freio disco dianteiro 230 tambor ecnico altura solar minimo 235 capacidade tanque combustivel 16 litro pintura solido vermelho gasolina alcool flex roda raiar (0.4%)\n",
      "\n",
      "\n",
      "Cluster veiculo_30 (unidade): \n",
      "Tamanho: 245\n",
      "Descrições únicas: 190\n",
      "20 Termos mais frequentes: ['veiculo', 'km', '0', '1', '4', 'porta', 'flex', 'motor', 'minimo', 'zero', 'cor', '5', 'branco', 'tipo', 'com', 'direcao', 'hidraulico', 'capacidade', 'lugar', 'eletrico']\n",
      "Descrições mais frequentes:\n",
      "veiculo 1 0 4 porta km (2.9%)\n",
      "veiculo 0 km 4 porta (1.6%)\n",
      "veiculo 0 km 1 3 flex 4 port (1.6%)\n",
      "veiculo automotivo 1 0 km 4 porta alcool gasolina bicombustivel cor branco direcao hidraulico vidro eletrico ar condicionar freio disco desembacador traseiro air bag alarme trava com acionamento chave cambio mau (1.6%)\n",
      "veiculo 0 km 1 flex 4 port (1.6%)\n",
      "\n",
      "\n",
      "Cluster veiculo_0 (unidade): \n",
      "Tamanho: 168\n",
      "Descrições únicas: 41\n",
      "20 Termos mais frequentes: ['veiculo', 'tipo', 'pick', 'up', 'van', 'automotivo', 'usado', 'okm', 'furgoneta', 'com', 'trailler', 'adaptado', '4', 'pickup', 'especial', '0905', 'suv', 'c', '2017', 'medio']\n",
      "Descrições mais frequentes:\n",
      "veiculo (48.8%)\n",
      "veiculo tipo pick up (6.0%)\n",
      "veiculo pick up (5.4%)\n",
      "veiculo usado (3.6%)\n",
      "veiculo tipo van (3.6%)\n",
      "\n",
      "\n",
      "Cluster veiculo_11 (unidade): \n",
      "Tamanho: 131\n",
      "Descrições únicas: 121\n",
      "20 Termos mais frequentes: ['veiculo', 'ano', 'placa', 'modelo', 'cor', 'fiat', 'chassi', '9', 'branco', 'unir', 'bd', 'fabricacao', '2013', 'combustivel', 'diesel', 'onibus', 'fire', 'mille', 'gasolina', 'tipo']\n",
      "Descrições mais frequentes:\n",
      "veiculo ambulancia fiat ducato diesel ano modelo 2005 (1.5%)\n",
      "veiculo usado minibus diesel minimo 17 lugar 103 cv turbinado intercalado ano 2003 (1.5%)\n",
      "veiculo fiat fiorino fire ambulancia ano 2006 placa cmn 5170 chassi 9 bd (1.5%)\n",
      "veiculo mercedes benz 371 rs onibus ano 1989 placa gvi 9642 (1.5%)\n",
      "veiculo gm astra sedan elite automovel ano 2004 2005 placa abd 3001 (1.5%)\n",
      "\n",
      "\n",
      "Cluster veiculo_8 (unidade): \n",
      "Tamanho: 82\n",
      "Descrições únicas: 65\n",
      "20 Termos mais frequentes: ['veiculo', 'km', 'zero', 'tipo', '5', 'porta', 'passeio', 'minimo', '4', 'lugar', 'capacidade', 'novo', 'cv', 'cor', 'branco', 'com', 'motor', 'pick', 'up', 'pessoa']\n",
      "Descrições mais frequentes:\n",
      "veiculo tipo passeio mover gasolina alcool total flex zero km 4 porta motor minimo 999 cc cor branco com potencia minimo 75 cv g 82 pneu aro 13 superior compartimento carga capacidade par (4.9%)\n",
      "veiculo 5 lugar 00 km (3.7%)\n",
      "veiculo novo zero km (3.7%)\n",
      "veiculo novo zero km 2018 motorizacao minimo 70 cv tipo combustivel bicombustivel direcao hidraulico porta 4 ar condicionar possuir trio eletrico trava vidro alarme nao capacidade 5 lugar fr (2.4%)\n",
      "veiculo utilitario zero km tipo pick up bicombustivel 2 porta (2.4%)\n",
      "\n",
      "\n"
     ]
    }
   ],
   "source": [
    "print_clusters_info(\"veiculo\")"
   ]
  },
  {
   "cell_type": "markdown",
   "metadata": {},
   "source": [
    " "
   ]
  },
  {
   "cell_type": "code",
   "execution_count": 27,
   "metadata": {},
   "outputs": [
    {
     "name": "stdout",
     "output_type": "stream",
     "text": [
      "#itens: 15473\n",
      "#grupos: 33\n",
      "Grupos com +20 itens: 33\n",
      "#itens/#grupos: 468.88\n",
      "Cluster lampada_7: \n",
      "Tamanho: 1475\n",
      "Descrições únicas: 1472\n",
      "10 Termos mais frequentes: ['lampada', 'w', '1.27e+02', 'v', 'x', 'fluorescente', 'compactar', '4.00e+01', '1.00e+02', '3.40e+01']\n",
      "Descrições mais frequentes:\n",
      "lampada halogenar 1.00e+02 w 1.27e+02 v 2.02e+03 (0.2%)\n",
      "lampada compactar 3.40e+01 w x 1.27e+02 v 2.02e+03 (0.1%)\n",
      "lampada vela liso a27 4.00e+01 w 1.27e+02 v leitoso (0.1%)\n",
      "lampada eletronico espiral 1.27e+02 v 3.20e+01 w (0.1%)\n",
      "lampada eletronico compactar fluorescente 1.27e+02 v 3.00e+01 w (0.1%)\n",
      "\n",
      "\n",
      "Cluster lampada_22: \n",
      "Tamanho: 1376\n",
      "Descrições únicas: 1363\n",
      "10 Termos mais frequentes: ['lampada', '1.20e+01', 'v', 'w', 'polo', '1.00e+00', 'led', '1.10e+02', '2.00e+00', '2.01e+03']\n",
      "Descrições mais frequentes:\n",
      "lampada 1.14e+03 1.20e+01 v fiat unir 2.01e+03 (0.4%)\n",
      "lampada halogenar benon 2.00e+00 5.00e+00 v para rotoscopia fibra otica mini 3.00e+03 x 1.00e+00 8.80e+01 1.05e+02 dhl 2.50e+00 volt modelo (0.2%)\n",
      "lampada 1.00e+00 polo 1.20e+01 v placa pug 5.74e+03 (0.1%)\n",
      "lampada 2.00e+00 polo 1.20e+01 v vcw gol alf 4.03e+03 (0.1%)\n",
      "lampada 1.00e+00 polo 1.20e+01 v vcw gol alf 4.03e+03 (0.1%)\n",
      "\n",
      "\n",
      "Cluster lampada_24: \n",
      "Tamanho: 1311\n",
      "Descrições únicas: 1309\n",
      "10 Termos mais frequentes: ['lampada', 'w', '2.50e+02', 'v', '2.20e+02', '2.50e+01', 'misto', 'vapor', '2.40e+01', 'x']\n",
      "Descrições mais frequentes:\n",
      "lampada h15 2.40e+01 v placa alf 2.57e+03 (0.2%)\n",
      "lampada bh4 2.40e+01 v placa alf 2.57e+03 (0.2%)\n",
      "lampada fluorescente com 2.50e+01 w (0.1%)\n",
      "lampada fluorescente 2.50e+02 w 2.20e+02 v 1.00e+00 (0.1%)\n",
      "lampada fluorescente 2.60e+01 w fornecimento instalacao (0.1%)\n",
      "\n",
      "\n",
      "Cluster lampada_9: \n",
      "Tamanho: 1171\n",
      "Descrições únicas: 1153\n",
      "10 Termos mais frequentes: ['lampada', 'w', '1.50e+01', 'v', '1.27e+02', '1.50e+02', 'fluorescente', 'compactar', 'x', 'led']\n",
      "Descrições mais frequentes:\n",
      "lampada piscar doble 1.40e+00 ano 2.01e+03 (0.3%)\n",
      "lampada compactar economico 1.50e+01 w 2.02e+03 (0.3%)\n",
      "lampada fluorescente compactar com reator base a27 bulbo u espiral potencia 1.50e+01 watt tensao 1.27e+02 volt fluxo luminoso min 8.54e+02 (0.3%)\n",
      "lampada halogenar 1.50e+02 w 1.27e+02 v 2.02e+03 (0.3%)\n",
      "lampada fluorescente compactar 1.50e+01 w 1.27e+02 v reator eletronico integrar fluxo luminoso minimo 1.92e+03 alm eficiencia minimo 6.00e+01 temperatura cor (0.3%)\n",
      "\n",
      "\n",
      "Cluster lampada_12: \n",
      "Tamanho: 1079\n",
      "Descrições únicas: 1069\n",
      "10 Termos mais frequentes: ['lampada', 'w', '2.00e+01', '2.20e+02', 'v', 'fluorescente', 'led', 'x', '5.00e+02', '2.40e+01']\n",
      "Descrições mais frequentes:\n",
      "lampada compactar economico 2.00e+01 w 2.02e+03 (0.5%)\n",
      "lampada fluorescente led 2.00e+01 w 2.02e+03 (0.3%)\n",
      "lampada fluorescente compactar 4.50e+01 w 2.20e+02 2.40e+02 v economico com twister hig fumar output 6.50e+03 k conformidade norma abnt nbr (0.3%)\n",
      "lampada fluorescente 2.00e+01 w 2.02e+03 (0.2%)\n",
      "lampada lanterna 2.00e+00 polo 2.40e+01 v placa alf 2.57e+03 (0.2%)\n",
      "\n",
      "\n"
     ]
    }
   ],
   "source": [
    "print_clusters_info(\"lampada\", total_words=10)"
   ]
  },
  {
   "cell_type": "code",
   "execution_count": null,
   "metadata": {},
   "outputs": [],
   "source": []
  }
 ],
 "metadata": {
  "kernelspec": {
   "display_name": "Python 3",
   "language": "python",
   "name": "python3"
  },
  "language_info": {
   "codemirror_mode": {
    "name": "ipython",
    "version": 3
   },
   "file_extension": ".py",
   "mimetype": "text/x-python",
   "name": "python",
   "nbconvert_exporter": "python",
   "pygments_lexer": "ipython3",
   "version": "3.7.6"
  }
 },
 "nbformat": 4,
 "nbformat_minor": 4
}
