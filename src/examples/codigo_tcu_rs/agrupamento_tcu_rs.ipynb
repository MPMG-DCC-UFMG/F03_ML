{
 "cells": [
  {
   "cell_type": "code",
   "execution_count": 2,
   "metadata": {},
   "outputs": [],
   "source": [
    "import pandas as pd\n",
    "import numpy as np\n",
    "import collections\n",
    "import copy\n",
    "import random\n",
    "import matplotlib.pyplot as plt\n",
    "from nlp.preprocessing import (\n",
    "    clean_text,\n",
    "    preprocess,\n",
    "    tokenize,\n",
    "    preprocess_document,\n",
    "    tokenize_document,\n",
    "    get_stopwords, \n",
    "    lemmatization_document,\n",
    "    get_canonical_words)\n",
    "from nlp.utils import (\n",
    "    plot_histogram,\n",
    "    get_completetext,\n",
    "    plot_wordcloud,\n",
    "    print_statistics,\n",
    "    groups_frequency_sort)\n",
    "from nlp.text_statistics import (\n",
    "    count_tokens,\n",
    "    unique_tokens\n",
    ")\n",
    "from nlp.grouping import (\n",
    "    get_groups,\n",
    "    get_groups_size,\n",
    "    get_unigram_groups,\n",
    "    get_two_tokens_groups,\n",
    "    get_first_token_groups,\n",
    "    get_bigram_groups,\n",
    "    get_first_two_groups,\n",
    "    groups_frequency_sort\n",
    ")\n",
    "from utils.read_files import (\n",
    "    get_items)\n",
    "from item.item_list import (\n",
    "    ItemList,\n",
    "    Item\n",
    ")\n",
    "from item.spellcheckeropt import SpellcheckerOpt\n",
    "from item.utils import get_tokens_set\n",
    "from textpp_ptbr.preprocessing import TextPreProcessing as tpp\n",
    "from gensim.parsing.preprocessing import (\n",
    "    strip_multiple_whitespaces,\n",
    "    strip_non_alphanum,\n",
    "    strip_punctuation2,\n",
    "    strip_short)"
   ]
  },
  {
   "cell_type": "code",
   "execution_count": 7,
   "metadata": {},
   "outputs": [],
   "source": [
    "#-----------------INICIO DOS COMENTARIOS--------------------------------------"
   ]
  },
  {
   "cell_type": "markdown",
   "metadata": {},
   "source": [
    "file1 = '../dados/itens_pregao_pitem_saude.csv'\n",
    "print(file1)\n",
    "#items = get_items(file1)\n",
    "items = pd.read_csv(file1,sep=';')\n",
    "items.head()"
   ]
  },
  {
   "cell_type": "markdown",
   "metadata": {},
   "source": [
    "len(items)"
   ]
  },
  {
   "cell_type": "markdown",
   "metadata": {},
   "source": [
    "items[:10]"
   ]
  },
  {
   "cell_type": "markdown",
   "metadata": {},
   "source": [
    "items_descriptions = []\n",
    "stopwords_ = get_stopwords()\n",
    "canonical_form, word_class = get_canonical_words()\n",
    "\n",
    "for item in items:\n",
    "    description = item[0]\n",
    "    price = item[1]\n",
    "    dsc_unidade = item[2]\n",
    "    if type(dsc_unidade) == str:\n",
    "        dsc_unidade = tpp.remove_accents(dsc_unidade.lower())\n",
    "    doc = preprocess_document(description, remove_numbers=False)\n",
    "    doc = tokenize_document(doc, stopwords_)\n",
    "#     doc = lemmatization_document(doc, canonical_form)\n",
    "    items_descriptions.append((doc, price, dsc_unidade, description))"
   ]
  },
  {
   "cell_type": "markdown",
   "metadata": {},
   "source": [
    "count = 0\n",
    "stopwords_ = get_stopwords()\n",
    "not_str = 0\n",
    "\n",
    "for item in items_descriptions:\n",
    "    dsc_unidade = item[2]\n",
    "    if type(dsc_unidade) == str:\n",
    "        tokens = tokenize_document(dsc_unidade, stopwords_)\n",
    "        flag = False\n",
    "        for tok in tokens:\n",
    "            if tok == 'servico' or tok == 'prestacao':\n",
    "                flag = True\n",
    "                break\n",
    "        if flag:\n",
    "            count += 1\n",
    "    else:\n",
    "        not_str += 1\n",
    "\n",
    "count"
   ]
  },
  {
   "cell_type": "markdown",
   "metadata": {},
   "source": [
    "itemlist = ItemList()\n",
    "itemlist.load_items_from_list(items_descriptions)"
   ]
  },
  {
   "cell_type": "markdown",
   "metadata": {},
   "source": [
    "itemlist.save_items('../dados/items_preprocessed')"
   ]
  },
  {
   "cell_type": "code",
   "execution_count": null,
   "metadata": {},
   "outputs": [],
   "source": [
    "#---------------------------FIM DOS COMENTARIOS-----------------------------------"
   ]
  },
  {
   "cell_type": "code",
   "execution_count": 2,
   "metadata": {},
   "outputs": [],
   "source": [
    "itemlist = ItemList()\n",
    "itemlist.load_items_from_file('../dados/items_preprocessed.zip')"
   ]
  },
  {
   "cell_type": "markdown",
   "metadata": {},
   "source": [
    "servicos = ItemList()\n",
    "newitems = ItemList()\n",
    "\n",
    "for item in itemlist.items_list:\n",
    "    item_dict = item.get_item_dict()\n",
    "    flag = False\n",
    "    for tok in item_dict['palavras']:\n",
    "        if tok == 'servico' or tok == 'prestacao' or tok == 'servicos' or tok == 'prestacoes':\n",
    "            flag = True\n",
    "            break\n",
    "    if flag:\n",
    "        servicos.items_list.append(item)\n",
    "    else:\n",
    "        newitems.items_list.append(item)"
   ]
  },
  {
   "cell_type": "code",
   "execution_count": 8,
   "metadata": {},
   "outputs": [
    {
     "data": {
      "text/plain": [
       "21520"
      ]
     },
     "execution_count": 8,
     "metadata": {},
     "output_type": "execute_result"
    }
   ],
   "source": [
    "len(servicos.items_list)"
   ]
  },
  {
   "cell_type": "code",
   "execution_count": 9,
   "metadata": {},
   "outputs": [
    {
     "data": {
      "text/plain": [
       "1508992"
      ]
     },
     "execution_count": 9,
     "metadata": {},
     "output_type": "execute_result"
    }
   ],
   "source": [
    "len(newitems.items_list)"
   ]
  },
  {
   "cell_type": "code",
   "execution_count": 10,
   "metadata": {},
   "outputs": [],
   "source": [
    "servicos.save_items('../dados/items_preprocessed_servicos_wolemmatization')"
   ]
  },
  {
   "cell_type": "code",
   "execution_count": 11,
   "metadata": {},
   "outputs": [],
   "source": [
    "newitems.save_items('../dados/items_preprocessed_wolemmatization')"
   ]
  },
  {
   "cell_type": "code",
   "execution_count": null,
   "metadata": {},
   "outputs": [],
   "source": [
    "sample = random.sample(newitems.items_list, 200)"
   ]
  },
  {
   "cell_type": "code",
   "execution_count": null,
   "metadata": {},
   "outputs": [],
   "source": [
    "sample_items = ItemList()\n",
    "\n",
    "for item in sample:\n",
    "    sample_items.items_list.append(item)"
   ]
  },
  {
   "cell_type": "code",
   "execution_count": null,
   "metadata": {},
   "outputs": [],
   "source": [
    "sample_items.save_items('../dados/sample_200items')"
   ]
  },
  {
   "cell_type": "code",
   "execution_count": null,
   "metadata": {},
   "outputs": [],
   "source": [
    "len(itemlist.items_list)"
   ]
  },
  {
   "cell_type": "code",
   "execution_count": null,
   "metadata": {},
   "outputs": [],
   "source": [
    "items_list = itemlist.items_list"
   ]
  },
  {
   "cell_type": "code",
   "execution_count": null,
   "metadata": {},
   "outputs": [],
   "source": [
    "count = 0\n",
    "\n",
    "for item in items_list:\n",
    "    item_dict = item.get_item_dict()\n",
    "    if len(item_dict['quantidade']) != 0:\n",
    "        count += 1\n",
    "        \n",
    "count"
   ]
  },
  {
   "cell_type": "code",
   "execution_count": null,
   "metadata": {},
   "outputs": [],
   "source": [
    "count = 0\n",
    "\n",
    "for item in items_list:\n",
    "    item_dict = item.get_item_dict()\n",
    "    flag = False\n",
    "    for tok in item_dict['palavras']:\n",
    "        if tok == 'servico' or tok == 'prestacao':\n",
    "            flag = True\n",
    "            break\n",
    "            \n",
    "    if flag:\n",
    "        count += 1\n",
    "        \n",
    "count"
   ]
  },
  {
   "cell_type": "code",
   "execution_count": null,
   "metadata": {},
   "outputs": [],
   "source": [
    "len(items_list)"
   ]
  },
  {
   "cell_type": "code",
   "execution_count": null,
   "metadata": {},
   "outputs": [],
   "source": [
    "items_list[478432].print_item()"
   ]
  },
  {
   "cell_type": "code",
   "execution_count": 3,
   "metadata": {},
   "outputs": [],
   "source": [
    "first_token_groups = itemlist.get_first_token_groups()"
   ]
  },
  {
   "cell_type": "code",
   "execution_count": 4,
   "metadata": {},
   "outputs": [
    {
     "data": {
      "text/plain": [
       "18035"
      ]
     },
     "execution_count": 4,
     "metadata": {},
     "output_type": "execute_result"
    }
   ],
   "source": [
    "len(first_token_groups)"
   ]
  },
  {
   "cell_type": "code",
   "execution_count": 5,
   "metadata": {},
   "outputs": [],
   "source": [
    "groups = list(first_token_groups.keys())"
   ]
  },
  {
   "cell_type": "code",
   "execution_count": 6,
   "metadata": {},
   "outputs": [
    {
     "data": {
      "text/plain": [
       "['colagenase',\n",
       " 'campo',\n",
       " 'kit',\n",
       " 'tinta',\n",
       " 'termometro',\n",
       " 'diclofenaco',\n",
       " 'panfleto',\n",
       " 'bota',\n",
       " 'ciprofloxacino',\n",
       " 'dea']"
      ]
     },
     "execution_count": 6,
     "metadata": {},
     "output_type": "execute_result"
    }
   ],
   "source": [
    "groups[:10]"
   ]
  },
  {
   "cell_type": "code",
   "execution_count": 7,
   "metadata": {},
   "outputs": [],
   "source": [
    "firstt_groups_size = itemlist.get_groups_size(first_token_groups)"
   ]
  },
  {
   "cell_type": "code",
   "execution_count": 8,
   "metadata": {},
   "outputs": [],
   "source": [
    "items_group_size = []\n",
    "\n",
    "for group_size in firstt_groups_size:\n",
    "    for i in range(group_size):\n",
    "        items_group_size.append(group_size)"
   ]
  },
  {
   "cell_type": "code",
   "execution_count": 9,
   "metadata": {},
   "outputs": [
    {
     "data": {
      "image/png": "[encoded data removed]",
      "text/plain": [
       "<Figure size 720x576 with 1 Axes>"
      ]
     },
     "metadata": {
      "needs_background": "light"
     },
     "output_type": "display_data"
    },
    {
     "data": {
      "text/plain": [
       "<Figure size 432x288 with 0 Axes>"
      ]
     },
     "metadata": {},
     "output_type": "display_data"
    }
   ],
   "source": [
    "from statsmodels.distributions.empirical_distribution import ECDF\n",
    "\n",
    "# fit a cdf\n",
    "ecdf = ECDF(items_group_size)\n",
    "\n",
    "fig, (axis1) = plt.subplots(figsize=(10,8))\n",
    "x_label = 'Tamanho de grupo'\n",
    "y_label = 'Nº de itens (%)'\n",
    "\n",
    "\n",
    "# kwargs = {'cumulative': True}\n",
    "# sns.distplot(vlr_recurso, hist_kws=kwargs, kde_kws=kwargs)\n",
    "plt.plot(ecdf.x, ecdf.y)\n",
    "\n",
    "axis1.set_xticks([200, 5000, 10000, 15000, 20000, 25000])\n",
    "axis1.set_yticks([0.0, 0.1, 0.2, 0.3, 0.4, 0.5, 0.6, 0.7, 0.8, 0.9, 1.0])\n",
    "\n",
    "axis1.set_xlabel(x_label, fontsize=20, weight='bold')\n",
    "axis1.set_ylabel(y_label, fontsize=20, weight='bold')\n",
    "\n",
    "plt.grid(axis='both', linestyle=':', linewidth=1.0)\n",
    "# axis1.legend(loc='upper right')\n",
    "\n",
    "plt.yticks(fontsize=14)\n",
    "plt.xticks(fontsize=14)\n",
    "\n",
    "plt.show()\n",
    "plt.clf()"
   ]
  },
  {
   "cell_type": "code",
   "execution_count": 10,
   "metadata": {},
   "outputs": [
    {
     "name": "stdout",
     "output_type": "stream",
     "text": [
      "4.925666954527306\n"
     ]
    }
   ],
   "source": [
    "i = 0\n",
    "for v in ecdf.x:\n",
    "    if v >= 40.0:\n",
    "        print(100*ecdf.y[i])\n",
    "        break\n",
    "    i += 1"
   ]
  },
  {
   "cell_type": "code",
   "execution_count": 11,
   "metadata": {},
   "outputs": [
    {
     "data": {
      "text/plain": [
       "1507674"
      ]
     },
     "execution_count": 11,
     "metadata": {},
     "output_type": "execute_result"
    }
   ],
   "source": [
    "len(items_group_size)"
   ]
  },
  {
   "cell_type": "code",
   "execution_count": 12,
   "metadata": {},
   "outputs": [
    {
     "data": {
      "text/plain": [
       "6337"
      ]
     },
     "execution_count": 12,
     "metadata": {},
     "output_type": "execute_result"
    }
   ],
   "source": [
    "firstt_groups_size.count(1)"
   ]
  },
  {
   "cell_type": "code",
   "execution_count": 13,
   "metadata": {},
   "outputs": [],
   "source": [
    "firstt_groups_size.sort(reverse=True)"
   ]
  },
  {
   "cell_type": "code",
   "execution_count": 14,
   "metadata": {},
   "outputs": [
    {
     "data": {
      "text/plain": [
       "[26250, 23035, 21414, 21261, 20958, 20285, 16153, 14528, 14484, 12557]"
      ]
     },
     "execution_count": 14,
     "metadata": {},
     "output_type": "execute_result"
    }
   ],
   "source": [
    "firstt_groups_size[:10]"
   ]
  },
  {
   "cell_type": "code",
   "execution_count": 15,
   "metadata": {},
   "outputs": [
    {
     "data": {
      "text/plain": [
       "['kit',\n",
       " 'tinta',\n",
       " 'papel',\n",
       " 'pincel',\n",
       " 'filtro',\n",
       " 'cola',\n",
       " 'fio',\n",
       " 'mascara',\n",
       " 'oleo',\n",
       " 'broca']"
      ]
     },
     "execution_count": 15,
     "metadata": {},
     "output_type": "execute_result"
    }
   ],
   "source": [
    "group_sample = []\n",
    "\n",
    "for group, items in first_token_groups.items():\n",
    "    size = len(items)\n",
    "    if size > 5000:\n",
    "        group_sample.append(group)\n",
    "\n",
    "group_sample[:10]"
   ]
  },
  {
   "cell_type": "code",
   "execution_count": 16,
   "metadata": {},
   "outputs": [],
   "source": [
    "firstt_groups_names_size = groups_frequency_sort(first_token_groups)"
   ]
  },
  {
   "cell_type": "code",
   "execution_count": 17,
   "metadata": {},
   "outputs": [
    {
     "data": {
      "text/plain": [
       "[('jta', [1508526]),\n",
       " ('antestreptolisina', [1508229]),\n",
       " ('restaur', [1508127]),\n",
       " ('desloratadina0', [1508044]),\n",
       " ('prednisilona', [1507974]),\n",
       " ('cabanagem', [1507813]),\n",
       " ('transferido', [1506232]),\n",
       " ('beserol', [1504793]),\n",
       " ('multiestacao', [1504658]),\n",
       " ('tramela', [1504585])]"
      ]
     },
     "execution_count": 17,
     "metadata": {},
     "output_type": "execute_result"
    }
   ],
   "source": [
    "firstt_groups_names_size[:10]"
   ]
  },
  {
   "cell_type": "code",
   "execution_count": 18,
   "metadata": {},
   "outputs": [
    {
     "name": "stdout",
     "output_type": "stream",
     "text": [
      "Mean: 83.59711671749376\n",
      "First quartile: 1.0\n",
      "Median: 2.0\n",
      "Third quartile: 9.0\n",
      "Std: 626.0059554066606\n",
      "Var: 391883.4562046059\n",
      "Max: 26250\n",
      "Min: 1.0\n"
     ]
    }
   ],
   "source": [
    "print_statistics(firstt_groups_size)"
   ]
  },
  {
   "cell_type": "code",
   "execution_count": 19,
   "metadata": {},
   "outputs": [
    {
     "data": {
      "image/png": "[encoded data removed]",
      "text/plain": [
       "<Figure size 720x576 with 1 Axes>"
      ]
     },
     "metadata": {
      "needs_background": "light"
     },
     "output_type": "display_data"
    },
    {
     "data": {
      "text/plain": [
       "<Figure size 432x288 with 0 Axes>"
      ]
     },
     "metadata": {},
     "output_type": "display_data"
    }
   ],
   "source": [
    "plot_histogram(firstt_groups_size, 100, 'Nº de objetos', 'Nº de grupos', log=True)"
   ]
  },
  {
   "cell_type": "code",
   "execution_count": 20,
   "metadata": {},
   "outputs": [],
   "source": [
    "count_interval = {}\n",
    "count_interval['1'] = 0\n",
    "count_interval['(1,5]'] = 0\n",
    "count_interval['(5,10]'] = 0\n",
    "count_interval['(10,100]'] = 0\n",
    "count_interval['(100,1000]'] = 0\n",
    "count_interval['(1000,5000]'] = 0\n",
    "count_interval['(5000,10000]'] = 0\n",
    "count_interval['>10000'] = 0"
   ]
  },
  {
   "cell_type": "code",
   "execution_count": 21,
   "metadata": {},
   "outputs": [],
   "source": [
    "for p in firstt_groups_size:\n",
    "\n",
    "    if p == 1:\n",
    "        count_interval['1'] += 1\n",
    "    elif p > 1 and p <= 5:\n",
    "        count_interval['(1,5]'] += 1\n",
    "    elif p > 5 and p <= 10:\n",
    "        count_interval['(5,10]'] += 1\n",
    "    elif p > 10 and p <= 100:\n",
    "        count_interval['(10,100]'] += 1\n",
    "    elif p > 100 and p <= 1000:\n",
    "        count_interval['(100,1000]'] += 1\n",
    "    elif p > 1000 and p <= 5000:\n",
    "        count_interval['(1000,5000]'] += 1\n",
    "    elif p > 5000 and p <= 10000:\n",
    "        count_interval['(5000,10000]'] += 1\n",
    "    else:\n",
    "        count_interval['>10000'] += 1"
   ]
  },
  {
   "cell_type": "code",
   "execution_count": 22,
   "metadata": {},
   "outputs": [
    {
     "name": "stdout",
     "output_type": "stream",
     "text": [
      "1 : 6337\n",
      "(1,5] : 6031\n",
      "(5,10] : 1489\n",
      "(10,100] : 2714\n",
      "(100,1000] : 1141\n",
      "(1000,5000] : 280\n",
      "(5000,10000] : 31\n",
      ">10000 : 12\n"
     ]
    }
   ],
   "source": [
    "total = 0\n",
    "lines = []\n",
    "aux = 0\n",
    "for interval, value in count_interval.items():\n",
    "    print(interval, ':', value)\n",
    "    for i in range(0, value):\n",
    "        lines.append([interval])\n",
    "        aux += 1\n",
    "    total += value"
   ]
  },
  {
   "cell_type": "code",
   "execution_count": 23,
   "metadata": {},
   "outputs": [
    {
     "name": "stdout",
     "output_type": "stream",
     "text": [
      "<class 'pandas.core.frame.DataFrame'>\n",
      "RangeIndex: 18035 entries, 0 to 18034\n",
      "Data columns (total 1 columns):\n",
      " #   Column  Non-Null Count  Dtype \n",
      "---  ------  --------------  ----- \n",
      " 0   Preço   18035 non-null  object\n",
      "dtypes: object(1)\n",
      "memory usage: 141.0+ KB\n"
     ]
    }
   ],
   "source": [
    "intervals_df = pd.DataFrame(lines, columns=[\"Preço\"])\n",
    "intervals_df.info()"
   ]
  },
  {
   "cell_type": "code",
   "execution_count": 24,
   "metadata": {},
   "outputs": [
    {
     "data": {
      "image/png": "[encoded data removed]",
      "text/plain": [
       "<Figure size 864x576 with 1 Axes>"
      ]
     },
     "metadata": {},
     "output_type": "display_data"
    },
    {
     "data": {
      "text/plain": [
       "<Figure size 432x288 with 0 Axes>"
      ]
     },
     "metadata": {},
     "output_type": "display_data"
    }
   ],
   "source": [
    "import seaborn as sns\n",
    "sns.set_style(\"white\")\n",
    "\n",
    "fig, (axis1) = plt.subplots(figsize=(12,8))\n",
    "\n",
    "sns.countplot(y=\"Preço\", data=intervals_df, color='dodgerblue')\n",
    "\n",
    "axis1.set_xlabel(\"Nº de grupos\", fontsize=20, weight='bold')\n",
    "axis1.set_ylabel(\"Nº de objetos\", fontsize=20, weight='bold')\n",
    "plt.grid(False)\n",
    "\n",
    "total = len(intervals_df)\n",
    "for p in axis1.patches:\n",
    "    width = p.get_width()\n",
    "    axis1.text(width, p.get_y()+0.7, '(%d)'%(width), fontsize=15)\n",
    "    axis1.text(width, p.get_y()+0.4, '%.2f%%'%(100*float(width)/total), fontsize=15)\n",
    "\n",
    "plt.yticks(fontsize=16)\n",
    "plt.xticks(fontsize=16)\n",
    "\n",
    "plt.show()\n",
    "plt.clf()"
   ]
  },
  {
   "cell_type": "code",
   "execution_count": null,
   "metadata": {},
   "outputs": [],
   "source": [
    "words = get_tokens_set('../dados/palavras/words_cbras_preprocess.txt')\n",
    "\n",
    "groups_names = [group for group, items in first_token_groups.items()]"
   ]
  },
  {
   "cell_type": "code",
   "execution_count": null,
   "metadata": {},
   "outputs": [],
   "source": [
    "spellchecker = SpellcheckerOpt()\n",
    "spellchecker.load_words(groups_names)"
   ]
  },
  {
   "cell_type": "code",
   "execution_count": null,
   "metadata": {},
   "outputs": [],
   "source": [
    "words_checked = 0\n",
    "similar_words = {}\n",
    "distance = 2\n",
    "verbose = True\n",
    "\n",
    "for word in groups_names:\n",
    "    words_list = spellchecker.search(word, distance)\n",
    "    words_list.sort(key=lambda x:(x[1], x[0]))\n",
    "    similar_words[word] = words_list\n",
    "    words_checked += 1\n",
    "    if verbose and words_checked%1000 == 0:\n",
    "        print('%d words checked' % (words_checked))"
   ]
  },
  {
   "cell_type": "code",
   "execution_count": null,
   "metadata": {},
   "outputs": [],
   "source": [
    "similar_words['filtro']"
   ]
  },
  {
   "cell_type": "code",
   "execution_count": null,
   "metadata": {},
   "outputs": [],
   "source": [
    "count = 0\n",
    "regrouped = 0\n",
    "\n",
    "count_one = 0\n",
    "regrouped_one = 0\n",
    "\n",
    "for group, items in first_token_groups.items():\n",
    "    if group not in words:\n",
    "        count += 1\n",
    "        new_group = None\n",
    "        for word, dist in similar_words[group]:\n",
    "            if word in words:\n",
    "                new_group = word\n",
    "                break\n",
    "        if new_group != None and new_group != group:\n",
    "            regrouped += 1\n",
    "            first_token_groups[new_group] += items\n",
    "            first_token_groups[group] = []\n",
    "\n",
    "print(count)\n",
    "print(regrouped)"
   ]
  },
  {
   "cell_type": "code",
   "execution_count": null,
   "metadata": {},
   "outputs": [],
   "source": [
    "len(first_token_groups)"
   ]
  },
  {
   "cell_type": "code",
   "execution_count": null,
   "metadata": {},
   "outputs": [],
   "source": [
    "new_groups = {}\n",
    "for group, items in first_token_groups.items():\n",
    "    if len(items) > 0:\n",
    "        new_groups[group] = items"
   ]
  },
  {
   "cell_type": "code",
   "execution_count": null,
   "metadata": {},
   "outputs": [],
   "source": [
    "len(new_groups)"
   ]
  },
  {
   "cell_type": "code",
   "execution_count": null,
   "metadata": {},
   "outputs": [],
   "source": [
    "new_groups_sizes = []\n",
    "\n",
    "for group, items in new_groups.items():\n",
    "    new_groups_sizes.append(len(items))"
   ]
  },
  {
   "cell_type": "code",
   "execution_count": null,
   "metadata": {},
   "outputs": [],
   "source": [
    "new_groups_sizes.count(1)"
   ]
  },
  {
   "cell_type": "code",
   "execution_count": null,
   "metadata": {},
   "outputs": [],
   "source": [
    "groups = itemlist.regroup_first_token_groups(first_token_groups, verbose=True)"
   ]
  },
  {
   "cell_type": "code",
   "execution_count": null,
   "metadata": {},
   "outputs": [],
   "source": [
    "len(groups)"
   ]
  },
  {
   "cell_type": "code",
   "execution_count": null,
   "metadata": {},
   "outputs": [],
   "source": [
    "firstt_groups_size = itemlist.get_groups_size(groups)"
   ]
  },
  {
   "cell_type": "code",
   "execution_count": null,
   "metadata": {},
   "outputs": [],
   "source": [
    "firstt_groups_size.count(1)"
   ]
  },
  {
   "cell_type": "code",
   "execution_count": null,
   "metadata": {},
   "outputs": [],
   "source": [
    "firstt_groups_size.sort(reverse=True)"
   ]
  },
  {
   "cell_type": "code",
   "execution_count": null,
   "metadata": {},
   "outputs": [],
   "source": [
    "firstt_groups_size[:10]"
   ]
  },
  {
   "cell_type": "code",
   "execution_count": null,
   "metadata": {},
   "outputs": [],
   "source": [
    "group_sample = []\n",
    "\n",
    "for group, items in groups.items():\n",
    "    size = len(items)\n",
    "    if size > 5000:\n",
    "        group_sample.append(group)\n",
    "\n",
    "group_sample[:10]"
   ]
  },
  {
   "cell_type": "code",
   "execution_count": null,
   "metadata": {},
   "outputs": [],
   "source": [
    "print_statistics(firstt_groups_size)"
   ]
  },
  {
   "cell_type": "code",
   "execution_count": null,
   "metadata": {},
   "outputs": [],
   "source": [
    "plot_histogram(firstt_groups_size, 100, 'Nº de objetos', 'Nº de grupos', log=True)"
   ]
  },
  {
   "cell_type": "code",
   "execution_count": null,
   "metadata": {},
   "outputs": [],
   "source": [
    "count_interval = {}\n",
    "count_interval['1'] = 0\n",
    "count_interval['(1,5]'] = 0\n",
    "count_interval['(5,10]'] = 0\n",
    "count_interval['(10,100]'] = 0\n",
    "count_interval['(100,1000]'] = 0\n",
    "count_interval['(1000,5000]'] = 0\n",
    "count_interval['(5000,10000]'] = 0\n",
    "count_interval['>10000'] = 0"
   ]
  },
  {
   "cell_type": "code",
   "execution_count": null,
   "metadata": {},
   "outputs": [],
   "source": [
    "for p in firstt_groups_size:\n",
    "\n",
    "    if p == 1:\n",
    "        count_interval['1'] += 1\n",
    "    elif p > 1 and p <= 5:\n",
    "        count_interval['(1,5]'] += 1\n",
    "    elif p > 5 and p <= 10:\n",
    "        count_interval['(5,10]'] += 1\n",
    "    elif p > 10 and p <= 100:\n",
    "        count_interval['(10,100]'] += 1\n",
    "    elif p > 100 and p <= 1000:\n",
    "        count_interval['(100,1000]'] += 1\n",
    "    elif p > 1000 and p <= 5000:\n",
    "        count_interval['(1000,5000]'] += 1\n",
    "    elif p > 5000 and p <= 10000:\n",
    "        count_interval['(5000,10000]'] += 1\n",
    "    else:\n",
    "        count_interval['>10000'] += 1"
   ]
  },
  {
   "cell_type": "code",
   "execution_count": null,
   "metadata": {},
   "outputs": [],
   "source": [
    "total = 0\n",
    "lines = []\n",
    "aux = 0\n",
    "for interval, value in count_interval.items():\n",
    "    print(interval, ':', value)\n",
    "    for i in range(0, value):\n",
    "        lines.append([interval])\n",
    "        aux += 1\n",
    "    total += value"
   ]
  },
  {
   "cell_type": "code",
   "execution_count": null,
   "metadata": {},
   "outputs": [],
   "source": [
    "intervals_df = pd.DataFrame(lines, columns=[\"Preço\"])\n",
    "intervals_df.info()"
   ]
  },
  {
   "cell_type": "code",
   "execution_count": null,
   "metadata": {},
   "outputs": [],
   "source": [
    "import seaborn as sns\n",
    "sns.set_style(\"white\")\n",
    "\n",
    "fig, (axis1) = plt.subplots(figsize=(12,8))\n",
    "\n",
    "sns.countplot(y=\"Preço\", data=intervals_df, color='dodgerblue')\n",
    "\n",
    "axis1.set_xlabel(\"Nº de grupos\", fontsize=20, weight='bold')\n",
    "axis1.set_ylabel(\"Nº de objetos\", fontsize=20, weight='bold')\n",
    "plt.grid(False)\n",
    "\n",
    "total = len(intervals_df)\n",
    "for p in axis1.patches:\n",
    "    width = p.get_width()\n",
    "    axis1.text(width, p.get_y()+0.7, '(%d)'%(width), fontsize=15)\n",
    "    axis1.text(width, p.get_y()+0.4, '%.2f%%'%(100*float(width)/total), fontsize=15)\n",
    "\n",
    "plt.yticks(fontsize=16)\n",
    "plt.xticks(fontsize=16)\n",
    "\n",
    "plt.show()\n",
    "plt.clf()"
   ]
  },
  {
   "cell_type": "code",
   "execution_count": null,
   "metadata": {},
   "outputs": [],
   "source": [
    "maxi = 0\n",
    "maxi_group = None\n",
    "\n",
    "for group, ids in groups.items():\n",
    "    if len(ids) > maxi:\n",
    "        maxi = len(ids)\n",
    "        maxi_group = group"
   ]
  },
  {
   "cell_type": "code",
   "execution_count": null,
   "metadata": {},
   "outputs": [],
   "source": [
    "maxi_group"
   ]
  },
  {
   "cell_type": "code",
   "execution_count": null,
   "metadata": {},
   "outputs": [],
   "source": [
    "len(groups[maxi_group])"
   ]
  },
  {
   "cell_type": "code",
   "execution_count": null,
   "metadata": {},
   "outputs": [],
   "source": [
    "groups[maxi_group][:10]"
   ]
  },
  {
   "cell_type": "code",
   "execution_count": null,
   "metadata": {},
   "outputs": [],
   "source": [
    "itemlist.unique_words[:100]"
   ]
  },
  {
   "cell_type": "markdown",
   "metadata": {},
   "source": [
    "similar_words = itemlist.get_similar_words(verbose=True)"
   ]
  },
  {
   "cell_type": "markdown",
   "metadata": {},
   "source": [
    "len(similar_words)"
   ]
  },
  {
   "cell_type": "markdown",
   "metadata": {},
   "source": [
    "itemlist.save_similar_words(similar_words, '../dados/similar_words')"
   ]
  },
  {
   "cell_type": "code",
   "execution_count": null,
   "metadata": {},
   "outputs": [],
   "source": [
    "similar_words = itemlist.load_similar_words('../dados/similar_words.zip')"
   ]
  },
  {
   "cell_type": "code",
   "execution_count": null,
   "metadata": {},
   "outputs": [],
   "source": [
    "group_test = 'servico'"
   ]
  },
  {
   "cell_type": "code",
   "execution_count": null,
   "metadata": {},
   "outputs": [],
   "source": [
    "len(groups[group_test])"
   ]
  },
  {
   "cell_type": "code",
   "execution_count": null,
   "metadata": {},
   "outputs": [],
   "source": [
    "items_distance = itemlist.get_items_distance(groups[group_test], similar_words, rank_size=10, verbose=True)"
   ]
  },
  {
   "cell_type": "code",
   "execution_count": null,
   "metadata": {},
   "outputs": [],
   "source": [
    "len(items_distance)"
   ]
  },
  {
   "cell_type": "code",
   "execution_count": null,
   "metadata": {},
   "outputs": [],
   "source": [
    "groups[group_test]"
   ]
  },
  {
   "cell_type": "code",
   "execution_count": null,
   "metadata": {},
   "outputs": [],
   "source": [
    "items_sample = itemlist.get_group_items(groups[group_test])"
   ]
  },
  {
   "cell_type": "code",
   "execution_count": null,
   "metadata": {},
   "outputs": [],
   "source": [
    "items_sample"
   ]
  },
  {
   "cell_type": "code",
   "execution_count": null,
   "metadata": {},
   "outputs": [],
   "source": [
    "ventiladores_pulmonares = []\n",
    "\n",
    "for i in range(0, len(items_sample)):\n",
    "    item = items_sample[i]\n",
    "    words = item.words\n",
    "    if len(words) > 2 and words[0] == 'ventilador' and words[1] == 'pulmonar':\n",
    "        ventiladores_pulmonares.append(groups['ventilador'][i])"
   ]
  },
  {
   "cell_type": "code",
   "execution_count": null,
   "metadata": {},
   "outputs": [],
   "source": [
    "items_sample_words = itemlist.get_items_words(items_sample)"
   ]
  },
  {
   "cell_type": "code",
   "execution_count": null,
   "metadata": {},
   "outputs": [],
   "source": [
    "items_sample_words"
   ]
  },
  {
   "cell_type": "code",
   "execution_count": null,
   "metadata": {},
   "outputs": [],
   "source": [
    "# random_item = random.choice(groups[group_test])\n",
    "random_item = 105\n",
    "exemp = itemlist.get_item(random_item)\n",
    "print(random_item)\n",
    "item_dict = exemp.get_item_dict()\n",
    "print(' '.join(item_dict['palavras']))"
   ]
  },
  {
   "cell_type": "code",
   "execution_count": null,
   "metadata": {},
   "outputs": [],
   "source": [
    "items = itemlist.get_similar_items(random_item, items_distance, rank_size=10)"
   ]
  },
  {
   "cell_type": "code",
   "execution_count": null,
   "metadata": {
    "scrolled": true
   },
   "outputs": [],
   "source": [
    "for item in items:\n",
    "    item_dict = item.get_item_dict()\n",
    "    print(item_dict)\n",
    "#     print(item_dict['preço'])\n",
    "#     print(' '.join(item_dict['palavras']))"
   ]
  },
  {
   "cell_type": "code",
   "execution_count": null,
   "metadata": {},
   "outputs": [],
   "source": [
    "result = itemlist.get_item_reference_price(random_item, items_distance, rank_size=10)"
   ]
  },
  {
   "cell_type": "code",
   "execution_count": null,
   "metadata": {},
   "outputs": [],
   "source": [
    "result"
   ]
  },
  {
   "cell_type": "code",
   "execution_count": null,
   "metadata": {},
   "outputs": [],
   "source": []
  },
  {
   "cell_type": "code",
   "execution_count": null,
   "metadata": {
    "scrolled": true
   },
   "outputs": [],
   "source": [
    "items_reference_prices = itemlist.get_items_referece_prices(grouping_type='first_token', verbose=True)"
   ]
  },
  {
   "cell_type": "code",
   "execution_count": null,
   "metadata": {},
   "outputs": [],
   "source": [
    "len(items_reference_prices)"
   ]
  },
  {
   "cell_type": "code",
   "execution_count": null,
   "metadata": {},
   "outputs": [],
   "source": [
    "itemlist.save_reference_prices(items_reference_prices, \"items_reference_prices.csv\")"
   ]
  },
  {
   "cell_type": "code",
   "execution_count": null,
   "metadata": {},
   "outputs": [],
   "source": []
  }
 ],
 "metadata": {
  "kernelspec": {
   "display_name": "Python 3",
   "language": "python",
   "name": "python3"
  },
  "language_info": {
   "codemirror_mode": {
    "name": "ipython",
    "version": 3
   },
   "file_extension": ".py",
   "mimetype": "text/x-python",
   "name": "python",
   "nbconvert_exporter": "python",
   "pygments_lexer": "ipython3",
   "version": "3.7.6"
  }
 },
 "nbformat": 4,
 "nbformat_minor": 2
}
