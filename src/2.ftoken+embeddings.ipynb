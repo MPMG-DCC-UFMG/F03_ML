{
 "cells": [
  {
   "cell_type": "code",
   "execution_count": 1,
   "metadata": {},
   "outputs": [],
   "source": [
    "import pandas as pd\n",
    "import numpy as np\n",
    "import collections\n",
    "import copy\n",
    "import random\n",
    "import matplotlib.pyplot as plt\n",
    "import time\n",
    "import multiprocessing\n",
    "import nltk\n",
    "import pickle\n",
    "import json\n",
    "from item.item_list import (\n",
    "    ItemList\n",
    ")\n",
    "from nlp.word_embeddings import (\n",
    "    load_word_embeddings,\n",
    "    get_items_embeddings\n",
    ")\n",
    "from nlp.pos_tagging import (\n",
    "    get_tokens_tags\n",
    ")\n",
    "from item.clustering.item_representation import (\n",
    "    get_group_embeddings_matrix,\n",
    "    get_group_embeddings_from_dict,\n",
    "    save_items_embeddings,\n",
    "    load_items_embeddings,\n",
    "    normalize\n",
    ")\n",
    "from item.utils import (\n",
    "    get_tokens_set,\n",
    "    translate_id_to_descriptions\n",
    ")\n",
    "from item.clustering.utils import (\n",
    "    save_clustering_results_pickle,\n",
    "    save_models_pickle\n",
    ")\n",
    "from item.clustering.clustering import run_baseline_clustering"
   ]
  },
  {
   "cell_type": "code",
   "execution_count": 3,
   "metadata": {},
   "outputs": [],
   "source": [
    "# It gets the descriptions processed:\n",
    "itemlist = ItemList()\n",
    "itemlist.load_items_from_file('items_preprocessed_complete_test_druid.csv.zip')"
   ]
  },
  {
   "cell_type": "code",
   "execution_count": null,
   "metadata": {},
   "outputs": [],
   "source": [
    "itemlist.items_df.head(10)"
   ]
  },
  {
   "cell_type": "code",
   "execution_count": null,
   "metadata": {},
   "outputs": [],
   "source": [
    "len(itemlist.items_df)"
   ]
  },
  {
   "cell_type": "code",
   "execution_count": null,
   "metadata": {},
   "outputs": [],
   "source": [
    "set(itemlist.items_df['ano'])"
   ]
  },
  {
   "cell_type": "code",
   "execution_count": null,
   "metadata": {},
   "outputs": [],
   "source": [
    "# word embeddings file, each line contains a word embedding\n",
    "word_embeddings_file = '../dados/embeddings/fasttext/skip_s100.txt'"
   ]
  },
  {
   "cell_type": "code",
   "execution_count": null,
   "metadata": {},
   "outputs": [],
   "source": [
    "# read word embeddings from file and store them in a map\n",
    "word_embeddings = load_word_embeddings(word_embeddings_file, itemlist.unique_words)"
   ]
  },
  {
   "cell_type": "code",
   "execution_count": null,
   "metadata": {},
   "outputs": [],
   "source": [
    "# Get the tags of tokens descriptions\n",
    "word_class = get_tokens_tags(itemlist.unique_words)"
   ]
  },
  {
   "cell_type": "code",
   "execution_count": null,
   "metadata": {},
   "outputs": [],
   "source": [
    "clusters, outliers, items_vec, clustering_model, \\\n",
    "reducer_model = run_baseline_clustering(itemlist, word_embeddings, word_class, algorithm='hdbscan', \\\n",
    "                                        categories=['unidades_medida', 'numeros'], embedding_type=['N', 'MED'], \\\n",
    "                                        operation='concatenate', n_threads=6)"
   ]
  },
  {
   "cell_type": "code",
   "execution_count": null,
   "metadata": {},
   "outputs": [],
   "source": [
    "save_clustering_results_pickle(clusters, outliers, '../dados/precificacao/fasttext_skip100/v3/baseline+embeddings/SUB+MED+unit+num_concat_pca_hdbscan_euclidean_test/')"
   ]
  },
  {
   "cell_type": "code",
   "execution_count": null,
   "metadata": {},
   "outputs": [],
   "source": [
    "save_models_pickle(clustering_model, reducer_model, '../dados/precificacao/fasttext_skip100/v3/baseline+embeddings/SUB+MED+unit+num_concat_pca_hdbscan_euclidean_test/')"
   ]
  },
  {
   "cell_type": "code",
   "execution_count": null,
   "metadata": {},
   "outputs": [],
   "source": [
    "save_items_embeddings(items_vec, '../dados/precificacao/fasttext_skip100/v3/baseline+embeddings/SUB+MED+unit+num_concat_pca_hdbscan_euclidean_test/embeddings.json')"
   ]
  },
  {
   "cell_type": "code",
   "execution_count": null,
   "metadata": {},
   "outputs": [],
   "source": []
  }
 ],
 "metadata": {
  "kernelspec": {
   "display_name": "Python 3",
   "language": "python",
   "name": "python3"
  },
  "language_info": {
   "codemirror_mode": {
    "name": "ipython",
    "version": 3
   },
   "file_extension": ".py",
   "mimetype": "text/x-python",
   "name": "python",
   "nbconvert_exporter": "python",
   "pygments_lexer": "ipython3",
   "version": "3.7.6"
  }
 },
 "nbformat": 4,
 "nbformat_minor": 2
}
