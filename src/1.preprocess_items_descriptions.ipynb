{
 "cells": [
  {
   "cell_type": "code",
   "execution_count": 1,
   "metadata": {},
   "outputs": [],
   "source": [
    "import pandas as pd\n",
    "import numpy as np\n",
    "import json\n",
    "import collections\n",
    "import copy\n",
    "import random\n",
    "import math\n",
    "import matplotlib.pyplot as plt\n",
    "from nlp.preprocessing import PreprocessingText\n",
    "from nlp.utils import (\n",
    "    read_json_file)\n",
    "from utils.read_files import (\n",
    "    get_items\n",
    ")\n",
    "from item.item_list import (\n",
    "    ItemList,\n",
    "    Item\n",
    ")"
   ]
  },
  {
   "cell_type": "code",
   "execution_count": 2,
   "metadata": {},
   "outputs": [],
   "source": [
    "# file = '../dados/dataset_item_druid.csv'\n",
    "file = '../dados/items_sample.csv.zip'\n",
    "items = get_items(file, recurso_limit=0.0, area=None)"
   ]
  },
  {
   "cell_type": "code",
   "execution_count": 3,
   "metadata": {
    "scrolled": true
   },
   "outputs": [
    {
     "data": {
      "text/plain": [
       "[['CONTRATACAO DE EMPRESA ESPECILALIZADA EM CONTROLE AMBIENTAL DE VETORES(DESINSETIZACAO,DESRATIZACAO) E LIMPEZA NAS CAIXAS D AGUA.PROGRAMA CURUMIM.  01 CXS D AGUA - 13 COMODOS',\n",
       "  '20786277',\n",
       "  '634130',\n",
       "  705.0,\n",
       "  'UNIDADE',\n",
       "  2019],\n",
       " ['PARAFUSO SEXTAVADO ROSCA SOBERBA GALVANIZADO 1/4  X 50',\n",
       "  '21890012',\n",
       "  '666513',\n",
       "  0.8,\n",
       "  'UNIDADE',\n",
       "  2020],\n",
       " ['TALHA DE BARRO PARA AGUA', '6930604', '205746', 132.4967, 'UNIDADE', 2017],\n",
       " ['ANTICONGELANTE PARA MELHORAMENTO NO FLUXO EM BAIXA TEMPERATURA, PRODUTO USADO NO TANQUE DE COMBUSTIVEL, EMBALAGEM COM NO MINIMO 05 LITROS.',\n",
       "  '16750119',\n",
       "  '515057',\n",
       "  106.28,\n",
       "  'UNIDADE',\n",
       "  2017],\n",
       " ['CABO PP FLEXIVEL 3,4MM', '6137315', '184584', 6.1, 'MT', 2017]]"
      ]
     },
     "execution_count": 3,
     "metadata": {},
     "output_type": "execute_result"
    }
   ],
   "source": [
    "items[:5]"
   ]
  },
  {
   "cell_type": "raw",
   "metadata": {},
   "source": [
    "file = '../dados/dataset_item_druid.csv'\n",
    "items_df = pd.read_csv(file, sep=';', low_memory=False)"
   ]
  },
  {
   "cell_type": "raw",
   "metadata": {},
   "source": [
    "items_df = items_df.sample(1000)"
   ]
  },
  {
   "cell_type": "raw",
   "metadata": {},
   "source": [
    "len(items_df)"
   ]
  },
  {
   "cell_type": "raw",
   "metadata": {},
   "source": [
    "items_df.to_csv('../dados/items_sample.csv.zip', sep=';', index=False)"
   ]
  },
  {
   "cell_type": "code",
   "execution_count": 4,
   "metadata": {},
   "outputs": [
    {
     "data": {
      "text/plain": [
       "1000"
      ]
     },
     "execution_count": 4,
     "metadata": {},
     "output_type": "execute_result"
    }
   ],
   "source": [
    "len(items)"
   ]
  },
  {
   "cell_type": "code",
   "execution_count": 5,
   "metadata": {},
   "outputs": [],
   "source": [
    "preprocessing = PreprocessingText()"
   ]
  },
  {
   "cell_type": "code",
   "execution_count": 7,
   "metadata": {},
   "outputs": [
    {
     "name": "stdout",
     "output_type": "stream",
     "text": [
      "Read ranges\n",
      "[[0], [999]]\n"
     ]
    }
   ],
   "source": [
    "# Preprocessing items descriptions\n",
    "items_descriptions = preprocessing.preprocess_items(items, n_process=1)"
   ]
  },
  {
   "cell_type": "code",
   "execution_count": 8,
   "metadata": {},
   "outputs": [
    {
     "data": {
      "text/plain": [
       "1000"
      ]
     },
     "execution_count": 8,
     "metadata": {},
     "output_type": "execute_result"
    }
   ],
   "source": [
    "len(items_descriptions)"
   ]
  },
  {
   "cell_type": "code",
   "execution_count": null,
   "metadata": {},
   "outputs": [],
   "source": [
    "itemlist = ItemList()\n",
    "itemlist.structure_items(items_descriptions)"
   ]
  },
  {
   "cell_type": "code",
   "execution_count": null,
   "metadata": {},
   "outputs": [],
   "source": [
    "len(itemlist.items_list)"
   ]
  },
  {
   "cell_type": "code",
   "execution_count": null,
   "metadata": {},
   "outputs": [],
   "source": [
    "# Split products-services\n",
    "products, services = itemlist.products_services_split('items_preprocessed_complete_druid', 'items_preprocessed_complete_servicos_druid')"
   ]
  },
  {
   "cell_type": "code",
   "execution_count": null,
   "metadata": {},
   "outputs": [],
   "source": [
    "itemlist.items_list = products"
   ]
  },
  {
   "cell_type": "code",
   "execution_count": null,
   "metadata": {},
   "outputs": [],
   "source": [
    "# Split train-test set\n",
    "train, test = itemlist.train_test_split('items_preprocessed_complete_train_druid', 'items_preprocessed_complete_test_druid')"
   ]
  },
  {
   "cell_type": "code",
   "execution_count": null,
   "metadata": {},
   "outputs": [],
   "source": [
    "len(test)"
   ]
  },
  {
   "cell_type": "markdown",
   "metadata": {},
   "source": [
    "# Testing"
   ]
  },
  {
   "cell_type": "code",
   "execution_count": null,
   "metadata": {},
   "outputs": [],
   "source": [
    "itemlist = ItemList()\n",
    "itemlist.load_items_from_file('items_preprocessed_sp=0_lm=0_complete.csv.zip')"
   ]
  },
  {
   "cell_type": "code",
   "execution_count": null,
   "metadata": {},
   "outputs": [],
   "source": [
    "itemlist.items_df.info()"
   ]
  },
  {
   "cell_type": "code",
   "execution_count": null,
   "metadata": {},
   "outputs": [],
   "source": [
    "itemlist.items_df.head(10)"
   ]
  },
  {
   "cell_type": "code",
   "execution_count": null,
   "metadata": {},
   "outputs": [],
   "source": [
    "items_df = itemlist.items_df"
   ]
  },
  {
   "cell_type": "code",
   "execution_count": null,
   "metadata": {},
   "outputs": [],
   "source": [
    "items_df.loc[0].to_dict()"
   ]
  },
  {
   "cell_type": "code",
   "execution_count": null,
   "metadata": {},
   "outputs": [],
   "source": [
    "items_df = items_df[['palavras', 'unidades_medida', 'numeros', 'cores', 'materiais', 'tamanho', 'quantidade', 'original_prep']]"
   ]
  },
  {
   "cell_type": "code",
   "execution_count": null,
   "metadata": {},
   "outputs": [],
   "source": [
    "items_df.loc[0].to_dict()"
   ]
  },
  {
   "cell_type": "code",
   "execution_count": null,
   "metadata": {},
   "outputs": [],
   "source": []
  }
 ],
 "metadata": {
  "kernelspec": {
   "display_name": "Python 3",
   "language": "python",
   "name": "python3"
  },
  "language_info": {
   "codemirror_mode": {
    "name": "ipython",
    "version": 3
   },
   "file_extension": ".py",
   "mimetype": "text/x-python",
   "name": "python",
   "nbconvert_exporter": "python",
   "pygments_lexer": "ipython3",
   "version": "3.7.6"
  }
 },
 "nbformat": 4,
 "nbformat_minor": 4
}
