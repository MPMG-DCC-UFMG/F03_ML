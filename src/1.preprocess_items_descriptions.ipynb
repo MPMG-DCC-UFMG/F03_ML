{
 "cells": [
  {
   "cell_type": "code",
   "execution_count": 6,
   "metadata": {},
   "outputs": [],
   "source": [
    "import pandas as pd\n",
    "import numpy as np\n",
    "import json\n",
    "import collections\n",
    "import copy\n",
    "import random\n",
    "import math\n",
    "import matplotlib.pyplot as plt\n",
    "from nlp.preprocessing import PreprocessingText\n",
    "from nlp.utils import (\n",
    "    read_json_file)\n",
    "from utils.read_files import (\n",
    "    get_items\n",
    ")\n",
    "from item.item_list import (\n",
    "    ItemList,\n",
    "    Item\n",
    ")\n",
    "from nlp.preprocess_units import group_dsc_unidade_medida"
   ]
  },
  {
   "cell_type": "code",
   "execution_count": 7,
   "metadata": {},
   "outputs": [],
   "source": [
    "file = '../data/dataset_item_druid_v2.csv'\n",
    "# file = '../data/items_sample.csv.zip'\n",
    "items = get_items(file)"
   ]
  },
  {
   "cell_type": "code",
   "execution_count": 8,
   "metadata": {
    "scrolled": true
   },
   "outputs": [
    {
     "data": {
      "text/plain": [
       "[['RECARGA  IMPRESSORA HP LASER JET 1020',\n",
       "  12926861,\n",
       "  406351,\n",
       "  48.1667,\n",
       "  'PRESTACAO DE SERVICOS',\n",
       "  2018,\n",
       "  2,\n",
       "  '2018-01-03',\n",
       "  'DIVINOLANDIA DE MINAS',\n",
       "  'PREFEITURA MUNICIPAL DE DIVINOLANDIA DE MINAS'],\n",
       " ['FILTRO DE OLEO COMBUSTIVEL - FILTRO DE OLEO COMBUSTIVEL',\n",
       "  20809865,\n",
       "  634788,\n",
       "  19.3667,\n",
       "  'UN',\n",
       "  2020,\n",
       "  1,\n",
       "  '2019-11-18',\n",
       "  'SAO LOURENCO',\n",
       "  'SERVICO AUTONOMO DE AGUA E ESGOTO'],\n",
       " ['BANNER EM LONA COM BASTAO E/OU ILHOS E CORDINHA INCLUSOS  TAMANHO 5,0X3,0 IMPRESSAO 4 X 0  COR A BANNER EM LONA COM BASTAO E/OU ILHOS E CORDINHA INCLUSOS  TAMANHO 5,0X3,0 IMPRESSAO 4 X 0  COR A ESPECIFICAR  ARTE REALIZADA PELA EMPRESA  CONFORME MODELO APRESENTADO PELA PREFEITURA',\n",
       "  3413343,\n",
       "  97069,\n",
       "  933.75,\n",
       "  'UNIDADE',\n",
       "  2016,\n",
       "  8,\n",
       "  '2016-08-22',\n",
       "  'GONZAGA',\n",
       "  'PREFEITURA MUNICIPAL DE GONZAGA'],\n",
       " ['POLIESTIRENOSSULFONATO DE CALICO 30G',\n",
       "  5444323,\n",
       "  158866,\n",
       "  7.37,\n",
       "  'ENV',\n",
       "  2016,\n",
       "  7,\n",
       "  '2016-06-03',\n",
       "  'CARATINGA',\n",
       "  'PREFEITURA DE CARATINGA'],\n",
       " ['BANHEIROS QUIMICOS DE FIBRA EM CONDICOES DE USO',\n",
       "  12021285,\n",
       "  373784,\n",
       "  11.37,\n",
       "  'UNITARIO',\n",
       "  2017,\n",
       "  7,\n",
       "  '2017-06-20',\n",
       "  'SACRAMENTO',\n",
       "  'PREFEITURA MUNICIPAL DE SACRAMENTO']]"
      ]
     },
     "execution_count": 8,
     "metadata": {},
     "output_type": "execute_result"
    }
   ],
   "source": [
    "items[:5]"
   ]
  },
  {
   "cell_type": "raw",
   "metadata": {},
   "source": [
    "file = '../data/dataset_item_druid_v2.csv'\n",
    "items_df = pd.read_csv(file, sep=';', low_memory=False)"
   ]
  },
  {
   "cell_type": "markdown",
   "metadata": {},
   "source": [
    "# Sample items"
   ]
  },
  {
   "cell_type": "raw",
   "metadata": {},
   "source": [
    "items_df = items_df.sample(500000)"
   ]
  },
  {
   "cell_type": "raw",
   "metadata": {},
   "source": [
    "len(items_df)"
   ]
  },
  {
   "cell_type": "raw",
   "metadata": {},
   "source": [
    "items_df.to_csv('../data/items_sample.csv.zip', sep=';', index=False)"
   ]
  },
  {
   "cell_type": "code",
   "execution_count": 9,
   "metadata": {},
   "outputs": [
    {
     "data": {
      "text/plain": [
       "500000"
      ]
     },
     "execution_count": 9,
     "metadata": {},
     "output_type": "execute_result"
    }
   ],
   "source": [
    "len(items)"
   ]
  },
  {
   "cell_type": "markdown",
   "metadata": {},
   "source": [
    "# Preprocessing"
   ]
  },
  {
   "cell_type": "code",
   "execution_count": 10,
   "metadata": {},
   "outputs": [],
   "source": [
    "preprocessing = PreprocessingText()"
   ]
  },
  {
   "cell_type": "code",
   "execution_count": 11,
   "metadata": {},
   "outputs": [
    {
     "name": "stdout",
     "output_type": "stream",
     "text": [
      "Read ranges\n",
      "([0, 50001, 100002, 150002, 200003, 250003, 300004, 350004, 400005, 450005], [50000, 100001, 150001, 200002, 250002, 300003, 350003, 400004, 450004, 499999])\n"
     ]
    }
   ],
   "source": [
    "# Preprocessing items descriptions\n",
    "items_descriptions = preprocessing.preprocess_items(items, n_process=10)"
   ]
  },
  {
   "cell_type": "code",
   "execution_count": 12,
   "metadata": {},
   "outputs": [
    {
     "data": {
      "text/plain": [
       "500000"
      ]
     },
     "execution_count": 12,
     "metadata": {},
     "output_type": "execute_result"
    }
   ],
   "source": [
    "len(items_descriptions)"
   ]
  },
  {
   "cell_type": "code",
   "execution_count": 13,
   "metadata": {},
   "outputs": [],
   "source": [
    "itemlist = ItemList()\n",
    "itemlist.structure_items(items_descriptions)"
   ]
  },
  {
   "cell_type": "code",
   "execution_count": 14,
   "metadata": {},
   "outputs": [
    {
     "data": {
      "text/plain": [
       "499963"
      ]
     },
     "execution_count": 14,
     "metadata": {},
     "output_type": "execute_result"
    }
   ],
   "source": [
    "len(itemlist.items_list)"
   ]
  },
  {
   "cell_type": "code",
   "execution_count": 15,
   "metadata": {},
   "outputs": [],
   "source": [
    "items_df = itemlist.to_dataframe()\n",
    "group_dsc_unidade_medida(items_df)\n",
    "itemlist.save_items_in_dataframe('../data/items_preprocessed_complete_druid.csv.zip', items_df)"
   ]
  },
  {
   "cell_type": "markdown",
   "metadata": {},
   "source": [
    "## Split products-services"
   ]
  },
  {
   "cell_type": "code",
   "execution_count": null,
   "metadata": {},
   "outputs": [],
   "source": [
    "products, services = itemlist.products_services_split('../data/items_preprocessed_sample_druid.csv.zip', '../data/items_preprocessed_sample_servicos_druid.csv.zip')"
   ]
  },
  {
   "cell_type": "code",
   "execution_count": null,
   "metadata": {},
   "outputs": [],
   "source": [
    "itemlist.items_list = products"
   ]
  },
  {
   "cell_type": "markdown",
   "metadata": {},
   "source": [
    "## Split train-test set"
   ]
  },
  {
   "cell_type": "code",
   "execution_count": null,
   "metadata": {},
   "outputs": [],
   "source": [
    "train, test = itemlist.train_test_split('../data/items_preprocessed_sample_train_druid.csv.zip', '../data/items_preprocessed_sample_test_druid.csv.zip')"
   ]
  },
  {
   "cell_type": "code",
   "execution_count": null,
   "metadata": {},
   "outputs": [],
   "source": [
    "len(test)"
   ]
  },
  {
   "cell_type": "code",
   "execution_count": null,
   "metadata": {},
   "outputs": [],
   "source": []
  }
 ],
 "metadata": {
  "kernelspec": {
   "display_name": "Python 3",
   "language": "python",
   "name": "python3"
  },
  "language_info": {
   "codemirror_mode": {
    "name": "ipython",
    "version": 3
   },
   "file_extension": ".py",
   "mimetype": "text/x-python",
   "name": "python",
   "nbconvert_exporter": "python",
   "pygments_lexer": "ipython3",
   "version": "3.7.6"
  }
 },
 "nbformat": 4,
 "nbformat_minor": 4
}
