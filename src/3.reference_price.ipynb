{
 "cells": [
  {
   "cell_type": "code",
   "execution_count": 1,
   "metadata": {},
   "outputs": [],
   "source": [
    "import pickle\n",
    "import numpy as np\n",
    "import matplotlib.pyplot as plt\n",
    "import pandas as pd\n",
    "import random\n",
    "import math\n",
    "import multiprocessing\n",
    "import collections\n",
    "from item.item_list import (\n",
    "    ItemList,\n",
    "    Item\n",
    ")\n",
    "from nlp.grouping import (\n",
    "    groups_frequency_sort\n",
    ")\n",
    "from nlp.utils import (\n",
    "    read_json_file,\n",
    "    plot_histogram,\n",
    "    get_completetext,\n",
    "    plot_wordcloud,\n",
    "    print_statistics)\n",
    "from nlp.pos_tagging import *\n",
    "from nlp.word_embeddings import *\n",
    "from item.clustering.evaluate import *\n",
    "from item.clustering.utils import *\n",
    "from item.clustering.item_representation import *\n",
    "from item.clustering.clustering import *\n",
    "from item.pricing.utils import *\n",
    "from item.pricing.pricing import *"
   ]
  },
  {
   "cell_type": "markdown",
   "metadata": {},
   "source": [
    "# Find clusters of the items in the test set"
   ]
  },
  {
   "cell_type": "code",
   "execution_count": null,
   "metadata": {},
   "outputs": [],
   "source": [
    "clustering_model, reducer_model = load_models_pickle('../dados/output/druid/')"
   ]
  },
  {
   "cell_type": "code",
   "execution_count": null,
   "metadata": {},
   "outputs": [],
   "source": [
    "results_train, outliers_train, prices_train = load_clustering_results_pickle('../dados/output/druid/')"
   ]
  },
  {
   "cell_type": "code",
   "execution_count": null,
   "metadata": {},
   "outputs": [],
   "source": [
    "count = 0\n",
    "total = 0\n",
    "\n",
    "for cluster, items in results_train.items():\n",
    "    if '_' not in cluster:\n",
    "        count += len(items)\n",
    "    total += len(items)\n",
    "\n",
    "count"
   ]
  },
  {
   "cell_type": "code",
   "execution_count": null,
   "metadata": {},
   "outputs": [],
   "source": [
    "total"
   ]
  },
  {
   "cell_type": "code",
   "execution_count": null,
   "metadata": {},
   "outputs": [],
   "source": [
    "results_train['gasolina_0']"
   ]
  },
  {
   "cell_type": "code",
   "execution_count": null,
   "metadata": {},
   "outputs": [],
   "source": [
    "# It gets the descriptions processed:\n",
    "itemlist = ItemList()\n",
    "itemlist.load_items_from_file('items_preprocessed_complete.csv.zip')"
   ]
  },
  {
   "cell_type": "code",
   "execution_count": null,
   "metadata": {},
   "outputs": [],
   "source": [
    "# Get the tags of tokens descriptions\n",
    "word_class = get_tokens_tags(itemlist.unique_words)"
   ]
  },
  {
   "cell_type": "code",
   "execution_count": null,
   "metadata": {},
   "outputs": [],
   "source": [
    "# word embeddings file, each line contains a word embedding\n",
    "word_embeddings_file = '../dados/embeddings/fasttext/skip_s100.txt'\n",
    "# word_embeddings_file = '../dados/embeddings/word2vec/cbow_s50.txt'"
   ]
  },
  {
   "cell_type": "code",
   "execution_count": null,
   "metadata": {},
   "outputs": [],
   "source": [
    "# read word embeddings from file and store them in a map\n",
    "# word_embeddings = load_word_embeddings(word_embeddings_file, itemlist.unique_words)\n",
    "word_embeddings = load_word_embeddings(word_embeddings_file)"
   ]
  },
  {
   "cell_type": "raw",
   "metadata": {},
   "source": [
    "word_embeddings = remove_new_tokens_from_embeddings(itemlist, itemlist_train, word_embeddings)"
   ]
  },
  {
   "cell_type": "code",
   "execution_count": null,
   "metadata": {},
   "outputs": [],
   "source": [
    "len(itemlist.items_df)"
   ]
  },
  {
   "cell_type": "code",
   "execution_count": null,
   "metadata": {},
   "outputs": [],
   "source": [
    "group_dsc_unidade_medida(itemlist.items_df)"
   ]
  },
  {
   "cell_type": "code",
   "execution_count": null,
   "metadata": {
    "scrolled": true
   },
   "outputs": [],
   "source": [
    "results = predict_items_clusters(itemlist, word_embeddings, word_class, reducer_model, \\\n",
    "                                 clustering_model, categories=['unidades_medida', 'numeros'], \\\n",
    "                                 embedding_type=['N', 'MED'], operation='concatenate', n_process=3)"
   ]
  },
  {
   "cell_type": "code",
   "execution_count": null,
   "metadata": {},
   "outputs": [],
   "source": [
    "results"
   ]
  },
  {
   "cell_type": "code",
   "execution_count": null,
   "metadata": {},
   "outputs": [],
   "source": [
    "len(results)"
   ]
  },
  {
   "cell_type": "code",
   "execution_count": null,
   "metadata": {},
   "outputs": [],
   "source": [
    "len(itemlist.items_df) - len(results)"
   ]
  },
  {
   "cell_type": "code",
   "execution_count": null,
   "metadata": {},
   "outputs": [],
   "source": [
    "count = 0\n",
    "\n",
    "for r in results:\n",
    "    if r['cluster'] == '-2':\n",
    "        count += 1\n",
    "\n",
    "count"
   ]
  },
  {
   "cell_type": "code",
   "execution_count": null,
   "metadata": {},
   "outputs": [],
   "source": [
    "100*(count/len(results))"
   ]
  },
  {
   "cell_type": "code",
   "execution_count": null,
   "metadata": {},
   "outputs": [],
   "source": [
    "clusters_probs = []\n",
    "\n",
    "for result in results:\n",
    "    clusters_probs.append(result['cluster_prob'])"
   ]
  },
  {
   "cell_type": "code",
   "execution_count": null,
   "metadata": {},
   "outputs": [],
   "source": [
    "del word_embeddings\n",
    "del word_class\n",
    "del reducer_model\n",
    "del clustering_model\n",
    "del itemlist"
   ]
  },
  {
   "cell_type": "code",
   "execution_count": null,
   "metadata": {},
   "outputs": [],
   "source": [
    "from statsmodels.distributions.empirical_distribution import ECDF\n",
    "from matplotlib.pyplot import yticks\n",
    "\n",
    "# fit a cdf\n",
    "ecdf = ECDF(clusters_probs)\n",
    "\n",
    "fig, (axis1) = plt.subplots(figsize=(10,8))\n",
    "x_label = 'Cluster score'\n",
    "y_label = 'Nº de itens (%)'\n",
    "\n",
    "plt.plot(ecdf.x, ecdf.y)\n",
    "\n",
    "axis1.set_yticks([0.0, 0.1, 0.2, 0.3, 0.4, 0.5, 0.6, 0.7, 0.8, 0.9, 1.0])\n",
    "locs, labels = yticks()\n",
    "yticks([0.0, 0.1, 0.2, 0.3, 0.4, 0.5, 0.6, 0.7, 0.8, 0.9, 1.0], \n",
    "       [0, 10, 20, 30, 40, 50, 60, 70, 80, 90, 100])\n",
    "\n",
    "axis1.set_xlabel(x_label, fontsize=20, weight='bold')\n",
    "axis1.set_ylabel(y_label, fontsize=20, weight='bold')\n",
    "\n",
    "plt.grid(axis='both', linestyle=':', linewidth=1.0)\n",
    "\n",
    "plt.yticks(fontsize=14)\n",
    "plt.xticks(fontsize=14)\n",
    "\n",
    "plt.show()\n",
    "plt.clf()"
   ]
  },
  {
   "cell_type": "code",
   "execution_count": null,
   "metadata": {},
   "outputs": [],
   "source": [
    "print('mean: %s' % np.mean(clusters_probs))\n",
    "print('median: %s' % np.median(clusters_probs))\n",
    "print('std: %s' % np.std(clusters_probs))"
   ]
  },
  {
   "cell_type": "markdown",
   "metadata": {},
   "source": [
    "# PRICING: get the statistics for each cluster finded in the train set"
   ]
  },
  {
   "cell_type": "code",
   "execution_count": null,
   "metadata": {},
   "outputs": [],
   "source": [
    "# It gets the descriptions processed [TRAINING]:\n",
    "itemlist_train = ItemList()\n",
    "itemlist_train.load_items_from_file('items_preprocessed_complete_druid.csv.zip')"
   ]
  },
  {
   "cell_type": "code",
   "execution_count": null,
   "metadata": {},
   "outputs": [],
   "source": [
    "len(itemlist_train.items_df)"
   ]
  },
  {
   "cell_type": "code",
   "execution_count": null,
   "metadata": {},
   "outputs": [],
   "source": [
    "cluster_prices = get_clusters_prices(itemlist_train, results_train)"
   ]
  },
  {
   "cell_type": "raw",
   "metadata": {},
   "source": [
    "with open(\"./precificacao/word2vec_cbow50/v3/SUB+MED+unit+num_concat_umap_hdbscan_euclidean/cluster_prices.pkl\", \"wb\") as PFile:\n",
    "    pickle.dump(cluster_prices, PFile)\n",
    "PFile.close()"
   ]
  },
  {
   "cell_type": "code",
   "execution_count": null,
   "metadata": {},
   "outputs": [],
   "source": [
    "cluster_prices_statistics, cluster_prices_statistics_year, items_clusters_wo_outliers = pricing(itemlist_train, results_train, cluster_prices, remove_outliers=True, threshold=0.5, dsc_unidade=True, year=True)"
   ]
  },
  {
   "cell_type": "code",
   "execution_count": null,
   "metadata": {},
   "outputs": [],
   "source": [
    "cluster_prices_statistics.info()"
   ]
  },
  {
   "cell_type": "code",
   "execution_count": null,
   "metadata": {},
   "outputs": [],
   "source": [
    "cluster_prices_statistics.to_csv(\"../data/output/druid/cluster_prices_statistics.csv.zip\", sep=';', index=False, compression='zip')"
   ]
  },
  {
   "cell_type": "code",
   "execution_count": null,
   "metadata": {},
   "outputs": [],
   "source": [
    "cluster_prices_statistics_year.to_csv(\"../data/output/druid/cluster_prices_statistics_year.csv.zip\", sep=';', index=False, compression='zip')"
   ]
  },
  {
   "cell_type": "code",
   "execution_count": null,
   "metadata": {},
   "outputs": [],
   "source": [
    "items_clusters_wo_outliers.to_csv(\"../data/output/druid/items_clusters_train_wo_out.csv.zip\", sep=';', index=False, compression='zip')"
   ]
  },
  {
   "cell_type": "code",
   "execution_count": null,
   "metadata": {},
   "outputs": [],
   "source": [
    "items_clusters_df = get_items_dataframe(itemlist_train, results_train)"
   ]
  },
  {
   "cell_type": "code",
   "execution_count": null,
   "metadata": {},
   "outputs": [],
   "source": [
    "items_clusters_df.head(20)"
   ]
  },
  {
   "cell_type": "code",
   "execution_count": null,
   "metadata": {},
   "outputs": [],
   "source": [
    "items_clusters_df.info()"
   ]
  },
  {
   "cell_type": "code",
   "execution_count": null,
   "metadata": {},
   "outputs": [],
   "source": [
    "items_clusters_df.to_csv(\"../data/output/druid/items_clusters_train.csv.zip\", sep=';', index=False, compression='zip')"
   ]
  },
  {
   "cell_type": "code",
   "execution_count": 8,
   "metadata": {},
   "outputs": [],
   "source": [
    "cluster_prices_statistics = pd.read_csv(\"../data/output/druid_fasttext/cluster_prices_statistics.csv.zip\", sep=';')"
   ]
  },
  {
   "cell_type": "code",
   "execution_count": 10,
   "metadata": {},
   "outputs": [
    {
     "data": {
      "text/html": [
       "<div>\n",
       "<style scoped>\n",
       "    .dataframe tbody tr th:only-of-type {\n",
       "        vertical-align: middle;\n",
       "    }\n",
       "\n",
       "    .dataframe tbody tr th {\n",
       "        vertical-align: top;\n",
       "    }\n",
       "\n",
       "    .dataframe thead th {\n",
       "        text-align: right;\n",
       "    }\n",
       "</style>\n",
       "<table border=\"1\" class=\"dataframe\">\n",
       "  <thead>\n",
       "    <tr style=\"text-align: right;\">\n",
       "      <th></th>\n",
       "      <th>cluster</th>\n",
       "      <th>dsc_unidade_medida</th>\n",
       "      <th>mean</th>\n",
       "      <th>count</th>\n",
       "      <th>max</th>\n",
       "      <th>min</th>\n",
       "      <th>median</th>\n",
       "      <th>std</th>\n",
       "      <th>var</th>\n",
       "      <th>quantile_1</th>\n",
       "      <th>quantile_3</th>\n",
       "      <th>first_token</th>\n",
       "      <th>outlier</th>\n",
       "    </tr>\n",
       "  </thead>\n",
       "  <tbody>\n",
       "    <tr>\n",
       "      <th>0</th>\n",
       "      <td>000uicomprevx4</td>\n",
       "      <td>unidade</td>\n",
       "      <td>57.445000</td>\n",
       "      <td>1</td>\n",
       "      <td>57.4450</td>\n",
       "      <td>57.4450</td>\n",
       "      <td>57.4450</td>\n",
       "      <td>NaN</td>\n",
       "      <td>NaN</td>\n",
       "      <td>57.4450</td>\n",
       "      <td>57.4450</td>\n",
       "      <td>000uicomprevx4</td>\n",
       "      <td>1</td>\n",
       "    </tr>\n",
       "    <tr>\n",
       "      <th>1</th>\n",
       "      <td>00i</td>\n",
       "      <td>caixa</td>\n",
       "      <td>50.850000</td>\n",
       "      <td>1</td>\n",
       "      <td>50.8500</td>\n",
       "      <td>50.8500</td>\n",
       "      <td>50.8500</td>\n",
       "      <td>NaN</td>\n",
       "      <td>NaN</td>\n",
       "      <td>50.8500</td>\n",
       "      <td>50.8500</td>\n",
       "      <td>00i</td>\n",
       "      <td>1</td>\n",
       "    </tr>\n",
       "    <tr>\n",
       "      <th>2</th>\n",
       "      <td>00i</td>\n",
       "      <td>pacote</td>\n",
       "      <td>23.945000</td>\n",
       "      <td>2</td>\n",
       "      <td>38.1400</td>\n",
       "      <td>9.7500</td>\n",
       "      <td>23.9450</td>\n",
       "      <td>20.074762</td>\n",
       "      <td>402.996050</td>\n",
       "      <td>16.8475</td>\n",
       "      <td>31.0425</td>\n",
       "      <td>00i</td>\n",
       "      <td>1</td>\n",
       "    </tr>\n",
       "    <tr>\n",
       "      <th>3</th>\n",
       "      <td>00i</td>\n",
       "      <td>unidade</td>\n",
       "      <td>1.335455</td>\n",
       "      <td>11</td>\n",
       "      <td>2.5600</td>\n",
       "      <td>0.2200</td>\n",
       "      <td>1.2900</td>\n",
       "      <td>0.920938</td>\n",
       "      <td>0.848127</td>\n",
       "      <td>0.4600</td>\n",
       "      <td>2.0550</td>\n",
       "      <td>00i</td>\n",
       "      <td>1</td>\n",
       "    </tr>\n",
       "    <tr>\n",
       "      <th>4</th>\n",
       "      <td>00m</td>\n",
       "      <td>caixa</td>\n",
       "      <td>142.800000</td>\n",
       "      <td>1</td>\n",
       "      <td>142.8000</td>\n",
       "      <td>142.8000</td>\n",
       "      <td>142.8000</td>\n",
       "      <td>NaN</td>\n",
       "      <td>NaN</td>\n",
       "      <td>142.8000</td>\n",
       "      <td>142.8000</td>\n",
       "      <td>00m</td>\n",
       "      <td>1</td>\n",
       "    </tr>\n",
       "    <tr>\n",
       "      <th>5</th>\n",
       "      <td>00m</td>\n",
       "      <td>metro</td>\n",
       "      <td>7.597500</td>\n",
       "      <td>8</td>\n",
       "      <td>9.6700</td>\n",
       "      <td>5.9700</td>\n",
       "      <td>7.3700</td>\n",
       "      <td>1.467610</td>\n",
       "      <td>2.153879</td>\n",
       "      <td>6.3025</td>\n",
       "      <td>8.7825</td>\n",
       "      <td>00m</td>\n",
       "      <td>1</td>\n",
       "    </tr>\n",
       "    <tr>\n",
       "      <th>6</th>\n",
       "      <td>00m</td>\n",
       "      <td>rolo</td>\n",
       "      <td>569.500000</td>\n",
       "      <td>2</td>\n",
       "      <td>617.3300</td>\n",
       "      <td>521.6700</td>\n",
       "      <td>569.5000</td>\n",
       "      <td>67.641835</td>\n",
       "      <td>4575.417800</td>\n",
       "      <td>545.5850</td>\n",
       "      <td>593.4150</td>\n",
       "      <td>00m</td>\n",
       "      <td>1</td>\n",
       "    </tr>\n",
       "    <tr>\n",
       "      <th>7</th>\n",
       "      <td>00m</td>\n",
       "      <td>unidade</td>\n",
       "      <td>0.600000</td>\n",
       "      <td>3</td>\n",
       "      <td>0.6200</td>\n",
       "      <td>0.5800</td>\n",
       "      <td>0.6000</td>\n",
       "      <td>0.020000</td>\n",
       "      <td>0.000400</td>\n",
       "      <td>0.5900</td>\n",
       "      <td>0.6100</td>\n",
       "      <td>00m</td>\n",
       "      <td>1</td>\n",
       "    </tr>\n",
       "    <tr>\n",
       "      <th>8</th>\n",
       "      <td>00p20</td>\n",
       "      <td>unidade</td>\n",
       "      <td>1451.375000</td>\n",
       "      <td>2</td>\n",
       "      <td>1467.7500</td>\n",
       "      <td>1435.0000</td>\n",
       "      <td>1451.3750</td>\n",
       "      <td>23.157747</td>\n",
       "      <td>536.281250</td>\n",
       "      <td>1443.1875</td>\n",
       "      <td>1459.5625</td>\n",
       "      <td>00p20</td>\n",
       "      <td>1</td>\n",
       "    </tr>\n",
       "    <tr>\n",
       "      <th>9</th>\n",
       "      <td>00r20</td>\n",
       "      <td>unidade</td>\n",
       "      <td>1232.650000</td>\n",
       "      <td>1</td>\n",
       "      <td>1232.6500</td>\n",
       "      <td>1232.6500</td>\n",
       "      <td>1232.6500</td>\n",
       "      <td>NaN</td>\n",
       "      <td>NaN</td>\n",
       "      <td>1232.6500</td>\n",
       "      <td>1232.6500</td>\n",
       "      <td>00r20</td>\n",
       "      <td>1</td>\n",
       "    </tr>\n",
       "    <tr>\n",
       "      <th>10</th>\n",
       "      <td>00xr20</td>\n",
       "      <td>unidade</td>\n",
       "      <td>999.000000</td>\n",
       "      <td>1</td>\n",
       "      <td>999.0000</td>\n",
       "      <td>999.0000</td>\n",
       "      <td>999.0000</td>\n",
       "      <td>NaN</td>\n",
       "      <td>NaN</td>\n",
       "      <td>999.0000</td>\n",
       "      <td>999.0000</td>\n",
       "      <td>00xr20</td>\n",
       "      <td>1</td>\n",
       "    </tr>\n",
       "    <tr>\n",
       "      <th>11</th>\n",
       "      <td>00xr20dian</td>\n",
       "      <td>unidade</td>\n",
       "      <td>1154.333300</td>\n",
       "      <td>1</td>\n",
       "      <td>1154.3333</td>\n",
       "      <td>1154.3333</td>\n",
       "      <td>1154.3333</td>\n",
       "      <td>NaN</td>\n",
       "      <td>NaN</td>\n",
       "      <td>1154.3333</td>\n",
       "      <td>1154.3333</td>\n",
       "      <td>00xr20dian</td>\n",
       "      <td>1</td>\n",
       "    </tr>\n",
       "    <tr>\n",
       "      <th>12</th>\n",
       "      <td>0a1</td>\n",
       "      <td>unidade</td>\n",
       "      <td>53.500000</td>\n",
       "      <td>2</td>\n",
       "      <td>59.0000</td>\n",
       "      <td>48.0000</td>\n",
       "      <td>53.5000</td>\n",
       "      <td>7.778175</td>\n",
       "      <td>60.500000</td>\n",
       "      <td>50.7500</td>\n",
       "      <td>56.2500</td>\n",
       "      <td>0a1</td>\n",
       "      <td>1</td>\n",
       "    </tr>\n",
       "    <tr>\n",
       "      <th>13</th>\n",
       "      <td>0a2</td>\n",
       "      <td>unidade</td>\n",
       "      <td>56.641429</td>\n",
       "      <td>7</td>\n",
       "      <td>64.6000</td>\n",
       "      <td>40.3500</td>\n",
       "      <td>58.1400</td>\n",
       "      <td>7.755072</td>\n",
       "      <td>60.141148</td>\n",
       "      <td>56.5100</td>\n",
       "      <td>60.1900</td>\n",
       "      <td>0a2</td>\n",
       "      <td>1</td>\n",
       "    </tr>\n",
       "    <tr>\n",
       "      <th>14</th>\n",
       "      <td>0a3</td>\n",
       "      <td>unidade</td>\n",
       "      <td>39.726186</td>\n",
       "      <td>7</td>\n",
       "      <td>70.4333</td>\n",
       "      <td>1.0000</td>\n",
       "      <td>40.3500</td>\n",
       "      <td>24.872702</td>\n",
       "      <td>618.651305</td>\n",
       "      <td>23.8900</td>\n",
       "      <td>59.2600</td>\n",
       "      <td>0a3</td>\n",
       "      <td>1</td>\n",
       "    </tr>\n",
       "    <tr>\n",
       "      <th>15</th>\n",
       "      <td>0b2</td>\n",
       "      <td>unidade</td>\n",
       "      <td>13.800000</td>\n",
       "      <td>1</td>\n",
       "      <td>13.8000</td>\n",
       "      <td>13.8000</td>\n",
       "      <td>13.8000</td>\n",
       "      <td>NaN</td>\n",
       "      <td>NaN</td>\n",
       "      <td>13.8000</td>\n",
       "      <td>13.8000</td>\n",
       "      <td>0b2</td>\n",
       "      <td>1</td>\n",
       "    </tr>\n",
       "    <tr>\n",
       "      <th>16</th>\n",
       "      <td>0dx</td>\n",
       "      <td>pacote</td>\n",
       "      <td>2.730000</td>\n",
       "      <td>1</td>\n",
       "      <td>2.7300</td>\n",
       "      <td>2.7300</td>\n",
       "      <td>2.7300</td>\n",
       "      <td>NaN</td>\n",
       "      <td>NaN</td>\n",
       "      <td>2.7300</td>\n",
       "      <td>2.7300</td>\n",
       "      <td>0dx</td>\n",
       "      <td>1</td>\n",
       "    </tr>\n",
       "    <tr>\n",
       "      <th>17</th>\n",
       "      <td>0m1237</td>\n",
       "      <td>unidade</td>\n",
       "      <td>4.750000</td>\n",
       "      <td>1</td>\n",
       "      <td>4.7500</td>\n",
       "      <td>4.7500</td>\n",
       "      <td>4.7500</td>\n",
       "      <td>NaN</td>\n",
       "      <td>NaN</td>\n",
       "      <td>4.7500</td>\n",
       "      <td>4.7500</td>\n",
       "      <td>0m1237</td>\n",
       "      <td>1</td>\n",
       "    </tr>\n",
       "    <tr>\n",
       "      <th>18</th>\n",
       "      <td>0mm</td>\n",
       "      <td>unidade</td>\n",
       "      <td>13.973654</td>\n",
       "      <td>13</td>\n",
       "      <td>40.8400</td>\n",
       "      <td>0.2275</td>\n",
       "      <td>4.7300</td>\n",
       "      <td>15.023929</td>\n",
       "      <td>225.718436</td>\n",
       "      <td>3.6500</td>\n",
       "      <td>24.5000</td>\n",
       "      <td>0mm</td>\n",
       "      <td>1</td>\n",
       "    </tr>\n",
       "    <tr>\n",
       "      <th>19</th>\n",
       "      <td>0to</td>\n",
       "      <td>peca</td>\n",
       "      <td>1.000000</td>\n",
       "      <td>1</td>\n",
       "      <td>1.0000</td>\n",
       "      <td>1.0000</td>\n",
       "      <td>1.0000</td>\n",
       "      <td>NaN</td>\n",
       "      <td>NaN</td>\n",
       "      <td>1.0000</td>\n",
       "      <td>1.0000</td>\n",
       "      <td>0to</td>\n",
       "      <td>1</td>\n",
       "    </tr>\n",
       "  </tbody>\n",
       "</table>\n",
       "</div>"
      ],
      "text/plain": [
       "           cluster dsc_unidade_medida         mean  count        max  \\\n",
       "0   000uicomprevx4            unidade    57.445000      1    57.4450   \n",
       "1              00i              caixa    50.850000      1    50.8500   \n",
       "2              00i             pacote    23.945000      2    38.1400   \n",
       "3              00i            unidade     1.335455     11     2.5600   \n",
       "4              00m              caixa   142.800000      1   142.8000   \n",
       "5              00m              metro     7.597500      8     9.6700   \n",
       "6              00m               rolo   569.500000      2   617.3300   \n",
       "7              00m            unidade     0.600000      3     0.6200   \n",
       "8            00p20            unidade  1451.375000      2  1467.7500   \n",
       "9            00r20            unidade  1232.650000      1  1232.6500   \n",
       "10          00xr20            unidade   999.000000      1   999.0000   \n",
       "11      00xr20dian            unidade  1154.333300      1  1154.3333   \n",
       "12             0a1            unidade    53.500000      2    59.0000   \n",
       "13             0a2            unidade    56.641429      7    64.6000   \n",
       "14             0a3            unidade    39.726186      7    70.4333   \n",
       "15             0b2            unidade    13.800000      1    13.8000   \n",
       "16             0dx             pacote     2.730000      1     2.7300   \n",
       "17          0m1237            unidade     4.750000      1     4.7500   \n",
       "18             0mm            unidade    13.973654     13    40.8400   \n",
       "19             0to               peca     1.000000      1     1.0000   \n",
       "\n",
       "          min     median        std          var  quantile_1  quantile_3  \\\n",
       "0     57.4450    57.4450        NaN          NaN     57.4450     57.4450   \n",
       "1     50.8500    50.8500        NaN          NaN     50.8500     50.8500   \n",
       "2      9.7500    23.9450  20.074762   402.996050     16.8475     31.0425   \n",
       "3      0.2200     1.2900   0.920938     0.848127      0.4600      2.0550   \n",
       "4    142.8000   142.8000        NaN          NaN    142.8000    142.8000   \n",
       "5      5.9700     7.3700   1.467610     2.153879      6.3025      8.7825   \n",
       "6    521.6700   569.5000  67.641835  4575.417800    545.5850    593.4150   \n",
       "7      0.5800     0.6000   0.020000     0.000400      0.5900      0.6100   \n",
       "8   1435.0000  1451.3750  23.157747   536.281250   1443.1875   1459.5625   \n",
       "9   1232.6500  1232.6500        NaN          NaN   1232.6500   1232.6500   \n",
       "10   999.0000   999.0000        NaN          NaN    999.0000    999.0000   \n",
       "11  1154.3333  1154.3333        NaN          NaN   1154.3333   1154.3333   \n",
       "12    48.0000    53.5000   7.778175    60.500000     50.7500     56.2500   \n",
       "13    40.3500    58.1400   7.755072    60.141148     56.5100     60.1900   \n",
       "14     1.0000    40.3500  24.872702   618.651305     23.8900     59.2600   \n",
       "15    13.8000    13.8000        NaN          NaN     13.8000     13.8000   \n",
       "16     2.7300     2.7300        NaN          NaN      2.7300      2.7300   \n",
       "17     4.7500     4.7500        NaN          NaN      4.7500      4.7500   \n",
       "18     0.2275     4.7300  15.023929   225.718436      3.6500     24.5000   \n",
       "19     1.0000     1.0000        NaN          NaN      1.0000      1.0000   \n",
       "\n",
       "       first_token  outlier  \n",
       "0   000uicomprevx4        1  \n",
       "1              00i        1  \n",
       "2              00i        1  \n",
       "3              00i        1  \n",
       "4              00m        1  \n",
       "5              00m        1  \n",
       "6              00m        1  \n",
       "7              00m        1  \n",
       "8            00p20        1  \n",
       "9            00r20        1  \n",
       "10          00xr20        1  \n",
       "11      00xr20dian        1  \n",
       "12             0a1        1  \n",
       "13             0a2        1  \n",
       "14             0a3        1  \n",
       "15             0b2        1  \n",
       "16             0dx        1  \n",
       "17          0m1237        1  \n",
       "18             0mm        1  \n",
       "19             0to        1  "
      ]
     },
     "execution_count": 10,
     "metadata": {},
     "output_type": "execute_result"
    }
   ],
   "source": [
    "cluster_prices_statistics.head(20)"
   ]
  },
  {
   "cell_type": "code",
   "execution_count": 2,
   "metadata": {},
   "outputs": [],
   "source": [
    "items_clusters_df = pd.read_csv(\"../data/output/druid_fasttext/items_clusters_train.csv.zip\", sep=';', low_memory=False)"
   ]
  },
  {
   "cell_type": "code",
   "execution_count": 11,
   "metadata": {},
   "outputs": [
    {
     "data": {
      "text/html": [
       "<div>\n",
       "<style scoped>\n",
       "    .dataframe tbody tr th:only-of-type {\n",
       "        vertical-align: middle;\n",
       "    }\n",
       "\n",
       "    .dataframe tbody tr th {\n",
       "        vertical-align: top;\n",
       "    }\n",
       "\n",
       "    .dataframe thead th {\n",
       "        text-align: right;\n",
       "    }\n",
       "</style>\n",
       "<table border=\"1\" class=\"dataframe\">\n",
       "  <thead>\n",
       "    <tr style=\"text-align: right;\">\n",
       "      <th></th>\n",
       "      <th>item_id</th>\n",
       "      <th>seq_dim_licitacao</th>\n",
       "      <th>outlier</th>\n",
       "      <th>cluster</th>\n",
       "      <th>dsc_unidade_medida</th>\n",
       "      <th>ano</th>\n",
       "      <th>description</th>\n",
       "      <th>original</th>\n",
       "      <th>areas</th>\n",
       "      <th>price</th>\n",
       "      <th>first_token</th>\n",
       "    </tr>\n",
       "  </thead>\n",
       "  <tbody>\n",
       "    <tr>\n",
       "      <th>1983431</th>\n",
       "      <td>9428898</td>\n",
       "      <td>533911</td>\n",
       "      <td>1</td>\n",
       "      <td>000uicomprevx4</td>\n",
       "      <td>unidade</td>\n",
       "      <td>2019</td>\n",
       "      <td>000uicomprevx4 ativus dprev50</td>\n",
       "      <td>DPREV50.000UICOMPREVX4/ATIVUS.</td>\n",
       "      <td>NaN</td>\n",
       "      <td>57.445</td>\n",
       "      <td>000uicomprevx4</td>\n",
       "    </tr>\n",
       "  </tbody>\n",
       "</table>\n",
       "</div>"
      ],
      "text/plain": [
       "         item_id seq_dim_licitacao  outlier         cluster  \\\n",
       "1983431  9428898            533911        1  000uicomprevx4   \n",
       "\n",
       "        dsc_unidade_medida   ano                    description  \\\n",
       "1983431            unidade  2019  000uicomprevx4 ativus dprev50   \n",
       "\n",
       "                               original  areas   price     first_token  \n",
       "1983431  DPREV50.000UICOMPREVX4/ATIVUS.    NaN  57.445  000uicomprevx4  "
      ]
     },
     "execution_count": 11,
     "metadata": {},
     "output_type": "execute_result"
    }
   ],
   "source": [
    "items_clusters_df[items_clusters_df.cluster == \"000uicomprevx4\"]"
   ]
  },
  {
   "cell_type": "code",
   "execution_count": 3,
   "metadata": {},
   "outputs": [
    {
     "data": {
      "text/html": [
       "<div>\n",
       "<style scoped>\n",
       "    .dataframe tbody tr th:only-of-type {\n",
       "        vertical-align: middle;\n",
       "    }\n",
       "\n",
       "    .dataframe tbody tr th {\n",
       "        vertical-align: top;\n",
       "    }\n",
       "\n",
       "    .dataframe thead th {\n",
       "        text-align: right;\n",
       "    }\n",
       "</style>\n",
       "<table border=\"1\" class=\"dataframe\">\n",
       "  <thead>\n",
       "    <tr style=\"text-align: right;\">\n",
       "      <th></th>\n",
       "      <th>item_id</th>\n",
       "      <th>seq_dim_licitacao</th>\n",
       "      <th>outlier</th>\n",
       "      <th>cluster</th>\n",
       "      <th>dsc_unidade_medida</th>\n",
       "      <th>ano</th>\n",
       "      <th>description</th>\n",
       "      <th>original</th>\n",
       "      <th>areas</th>\n",
       "      <th>price</th>\n",
       "      <th>first_token</th>\n",
       "    </tr>\n",
       "  </thead>\n",
       "  <tbody>\n",
       "    <tr>\n",
       "      <th>0</th>\n",
       "      <td>171782</td>\n",
       "      <td>242872</td>\n",
       "      <td>1</td>\n",
       "      <td>fosa</td>\n",
       "      <td>unidade</td>\n",
       "      <td>2014</td>\n",
       "      <td>fosa septico alvenaria tijolo ceramico macico ...</td>\n",
       "      <td>FOSA SEPTICA EM ALVENARIA DE TIJOLO CERAMICO M...</td>\n",
       "      <td>NaN</td>\n",
       "      <td>1021.87</td>\n",
       "      <td>fosa</td>\n",
       "    </tr>\n",
       "    <tr>\n",
       "      <th>1</th>\n",
       "      <td>64082</td>\n",
       "      <td>189529</td>\n",
       "      <td>1</td>\n",
       "      <td>carlota_-1</td>\n",
       "      <td>unidade</td>\n",
       "      <td>2014</td>\n",
       "      <td>carlota lote5</td>\n",
       "      <td>LOTE5-CARLOTA</td>\n",
       "      <td>NaN</td>\n",
       "      <td>25.00</td>\n",
       "      <td>carlota</td>\n",
       "    </tr>\n",
       "    <tr>\n",
       "      <th>2</th>\n",
       "      <td>121806</td>\n",
       "      <td>189529</td>\n",
       "      <td>1</td>\n",
       "      <td>carlota_-1</td>\n",
       "      <td>unidade</td>\n",
       "      <td>2014</td>\n",
       "      <td>carlota lote7</td>\n",
       "      <td>LOTE7-CARLOTA</td>\n",
       "      <td>NaN</td>\n",
       "      <td>25.00</td>\n",
       "      <td>carlota</td>\n",
       "    </tr>\n",
       "    <tr>\n",
       "      <th>3</th>\n",
       "      <td>189177</td>\n",
       "      <td>189550</td>\n",
       "      <td>1</td>\n",
       "      <td>carlota_-1</td>\n",
       "      <td>unidade</td>\n",
       "      <td>2014</td>\n",
       "      <td>carlota lote6</td>\n",
       "      <td>LOTE6-CARLOTA</td>\n",
       "      <td>NaN</td>\n",
       "      <td>30.00</td>\n",
       "      <td>carlota</td>\n",
       "    </tr>\n",
       "    <tr>\n",
       "      <th>4</th>\n",
       "      <td>208588</td>\n",
       "      <td>189529</td>\n",
       "      <td>1</td>\n",
       "      <td>carlota_-1</td>\n",
       "      <td>unidade</td>\n",
       "      <td>2014</td>\n",
       "      <td>carlota lote6</td>\n",
       "      <td>LOTE6-CARLOTA</td>\n",
       "      <td>NaN</td>\n",
       "      <td>25.00</td>\n",
       "      <td>carlota</td>\n",
       "    </tr>\n",
       "  </tbody>\n",
       "</table>\n",
       "</div>"
      ],
      "text/plain": [
       "   item_id seq_dim_licitacao  outlier     cluster dsc_unidade_medida   ano  \\\n",
       "0   171782            242872        1        fosa            unidade  2014   \n",
       "1    64082            189529        1  carlota_-1            unidade  2014   \n",
       "2   121806            189529        1  carlota_-1            unidade  2014   \n",
       "3   189177            189550        1  carlota_-1            unidade  2014   \n",
       "4   208588            189529        1  carlota_-1            unidade  2014   \n",
       "\n",
       "                                         description  \\\n",
       "0  fosa septico alvenaria tijolo ceramico macico ...   \n",
       "1                                      carlota lote5   \n",
       "2                                      carlota lote7   \n",
       "3                                      carlota lote6   \n",
       "4                                      carlota lote6   \n",
       "\n",
       "                                            original  areas    price  \\\n",
       "0  FOSA SEPTICA EM ALVENARIA DE TIJOLO CERAMICO M...    NaN  1021.87   \n",
       "1                                      LOTE5-CARLOTA    NaN    25.00   \n",
       "2                                      LOTE7-CARLOTA    NaN    25.00   \n",
       "3                                      LOTE6-CARLOTA    NaN    30.00   \n",
       "4                                      LOTE6-CARLOTA    NaN    25.00   \n",
       "\n",
       "  first_token  \n",
       "0        fosa  \n",
       "1     carlota  \n",
       "2     carlota  \n",
       "3     carlota  \n",
       "4     carlota  "
      ]
     },
     "execution_count": 3,
     "metadata": {},
     "output_type": "execute_result"
    }
   ],
   "source": [
    "items_clusters_df.head()"
   ]
  },
  {
   "cell_type": "code",
   "execution_count": 4,
   "metadata": {},
   "outputs": [
    {
     "name": "stdout",
     "output_type": "stream",
     "text": [
      "<class 'pandas.core.frame.DataFrame'>\n",
      "RangeIndex: 10560288 entries, 0 to 10560287\n",
      "Data columns (total 11 columns):\n",
      " #   Column              Dtype  \n",
      "---  ------              -----  \n",
      " 0   item_id             int64  \n",
      " 1   seq_dim_licitacao   object \n",
      " 2   outlier             int64  \n",
      " 3   cluster             object \n",
      " 4   dsc_unidade_medida  object \n",
      " 5   ano                 int64  \n",
      " 6   description         object \n",
      " 7   original            object \n",
      " 8   areas               float64\n",
      " 9   price               float64\n",
      " 10  first_token         object \n",
      "dtypes: float64(2), int64(3), object(6)\n",
      "memory usage: 886.3+ MB\n"
     ]
    }
   ],
   "source": [
    "items_cluspters_df.info()"
   ]
  },
  {
   "cell_type": "raw",
   "metadata": {},
   "source": []
  },
  {
   "cell_type": "markdown",
   "metadata": {},
   "source": [
    "# Get reference prices for the items in the test set"
   ]
  },
  {
   "cell_type": "code",
   "execution_count": null,
   "metadata": {},
   "outputs": [],
   "source": [
    "items_test_df = get_reference_prices(results, cluster_prices_statistics, dsc_unidade=True)"
   ]
  },
  {
   "cell_type": "code",
   "execution_count": null,
   "metadata": {},
   "outputs": [],
   "source": [
    "items_test_df.head(10)"
   ]
  },
  {
   "cell_type": "code",
   "execution_count": null,
   "metadata": {},
   "outputs": [],
   "source": [
    "len(items_test_df)"
   ]
  },
  {
   "cell_type": "code",
   "execution_count": null,
   "metadata": {},
   "outputs": [],
   "source": [
    "len(items_test_df[items_test_df['cluster'] == '-2'])"
   ]
  },
  {
   "cell_type": "code",
   "execution_count": null,
   "metadata": {},
   "outputs": [],
   "source": [
    "items_test_df.to_csv(\"../dados/precificacao/fasttext_skip100/complete/baseline+embeddings/SUB+MED+unit+num_concat_umap_hdbscan_euclidean/items_clusters_test.csv.zip\", sep=';', index=False, compression='zip')"
   ]
  },
  {
   "cell_type": "markdown",
   "metadata": {},
   "source": [
    "# Get reference price for an arbitray item"
   ]
  },
  {
   "cell_type": "code",
   "execution_count": null,
   "metadata": {},
   "outputs": [],
   "source": [
    "from nlp.preprocessing import PreprocessingText"
   ]
  },
  {
   "cell_type": "code",
   "execution_count": null,
   "metadata": {},
   "outputs": [],
   "source": [
    "preprocessing = PreprocessingText()"
   ]
  },
  {
   "cell_type": "code",
   "execution_count": null,
   "metadata": {},
   "outputs": [],
   "source": [
    "def get_item_vec(_item, word_embeddings, word_class, categories=None, embedding_type=None,\n",
    "                 norm=True, operation='mean'):\n",
    "    \n",
    "    if operation == 'mean':\n",
    "        item_vec = get_item_embedding(_item.get_item_dict(), word_embeddings, word_class, \\\n",
    "                    categories=categories, embedding_type=embedding_type)\n",
    "    elif operation == 'weighted':\n",
    "        item_vec = get_item_embedding_weighted(_item.get_item_dict(), word_embeddings, word_class, \\\n",
    "                    categories=categories, embedding_type=embedding_type)\n",
    "    elif operation == 'concatenate':\n",
    "        item_vec = get_words_plus_categories_embeddings(_item.get_item_dict(), word_embeddings, word_class, \\\n",
    "                    categories=categories, embedding_type=embedding_type)\n",
    "        \n",
    "    if norm:\n",
    "        item_vec = normalize(item_vec.reshape(1, -1))\n",
    "\n",
    "    return item_vec"
   ]
  },
  {
   "cell_type": "code",
   "execution_count": null,
   "metadata": {},
   "outputs": [],
   "source": [
    "from item.pricing.pricing import get_prices_statistics_df\n",
    "\n",
    "def pricing_item(description, word_embeddings, word_class, preprocessing, reducer_model,\n",
    "                 clustering_model, items_clusters_df, categories=[], embedding_type=['N', 'MED'],\n",
    "                 operation='mean', dsc_unidade=None, year=None):\n",
    "\n",
    "    doc = preprocessing.preprocess_document(description)\n",
    "    \n",
    "    item = Item()\n",
    "    itemslist = ItemList()\n",
    "    item.extract_entities(doc, None, None, None, None, description, None, None, itemslist.set_unit_metrics,\n",
    "                          itemslist.set_colors, itemslist.set_materials, itemslist.set_sizes,\n",
    "                          itemslist.set_quantities, itemslist.set_qualifiers, itemslist.set_numbers)\n",
    "    \n",
    "    embedding_size = len(list(word_embeddings.values())[0])\n",
    "    item_emb = get_item_vec(item, word_embeddings, word_class, categories=categories,\n",
    "                            embedding_type=embedding_type, operation=operation)\n",
    "\n",
    "    item_dict = item.get_item_dict()\n",
    "    group = item_dict['palavras'][0]\n",
    "    \n",
    "    # It gets the reduced vector for the item\n",
    "    item_emb_red = reducer_model[group].transform(item_emb)\n",
    "    # It gets the item cluster\n",
    "    cluster = approximate_predict(clustering_model[group], item_emb_red)\n",
    "    cluster = group + '_' + str(cluster[0][0])\n",
    "\n",
    "    if dsc_unidade != None and year != None:\n",
    "        items_clusters_df = items_clusters_df[(items_clusters_df.cluster == cluster) & \\\n",
    "                                          (items_clusters_df.dsc_unidade_medida == dsc_unidade) &\n",
    "                                          (items_clusters_df.ano == year)]\n",
    "    elif dsc_unidade != None:\n",
    "        items_clusters_df = items_clusters_df[(items_clusters_df.cluster == cluster) & \\\n",
    "                                          (items_clusters_df.dsc_unidade_medida == dsc_unidade)]\n",
    "    elif year != None:\n",
    "        items_clusters_df = items_clusters_df[(items_clusters_df.cluster == cluster) & \\\n",
    "                                          (items_clusters_df.ano == year)]\n",
    "    else:\n",
    "        items_clusters_df = items_clusters_df[(items_clusters_df.cluster == cluster)]\n",
    "\n",
    "    if len(items_clusters_df) == 0:\n",
    "        statistics = {\n",
    "            'cluster': cluster,\n",
    "            'mean': -1,\n",
    "            'median': -1,\n",
    "            'var': -1,\n",
    "            'std': -1\n",
    "        }\n",
    "        return statistics\n",
    "\n",
    "    dsc_unidade = True if dsc_unidade != None else False\n",
    "    year = True if year != None else False\n",
    "    cluster_statistics = get_prices_statistics_df(items_clusters_df, dsc_unidade, year)\n",
    "    statistics = cluster_statistics.iloc[0].to_dict()\n",
    "\n",
    "    return statistics"
   ]
  },
  {
   "cell_type": "code",
   "execution_count": null,
   "metadata": {},
   "outputs": [],
   "source": [
    "item = \"MASCARA DE NEBULIZACAO ADULTO COMPLETO\"\n",
    "dsc_unidade_medida = 'unidade'\n",
    "year_obj = 2018"
   ]
  },
  {
   "cell_type": "code",
   "execution_count": null,
   "metadata": {},
   "outputs": [],
   "source": [
    "pricing_item(item, word_embeddings, preprocessing.word_class, preprocessing, reducer_model,\n",
    "             clustering_model, items_clusters_df, categories=['unidades_medida', 'numeros'],\n",
    "             embedding_type=['N', 'MED'], operation='concatenate', dsc_unidade=dsc_unidade_medida,\n",
    "             year=year_obj)"
   ]
  },
  {
   "cell_type": "code",
   "execution_count": null,
   "metadata": {},
   "outputs": [],
   "source": [
    "itemlist_train.items_df[itemlist_train.items_df.cluster == 'dipirona_20']"
   ]
  },
  {
   "cell_type": "code",
   "execution_count": null,
   "metadata": {},
   "outputs": [],
   "source": []
  }
 ],
 "metadata": {
  "kernelspec": {
   "display_name": "Python 3",
   "language": "python",
   "name": "python3"
  },
  "language_info": {
   "codemirror_mode": {
    "name": "ipython",
    "version": 3
   },
   "file_extension": ".py",
   "mimetype": "text/x-python",
   "name": "python",
   "nbconvert_exporter": "python",
   "pygments_lexer": "ipython3",
   "version": "3.7.6"
  }
 },
 "nbformat": 4,
 "nbformat_minor": 4
}
